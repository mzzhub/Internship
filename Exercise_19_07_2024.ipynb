{
  "cells": [
    {
      "cell_type": "markdown",
      "metadata": {
        "id": "pg_2SxnMTSTc"
      },
      "source": [
        "# 1. Write a program that prints \"Hello, How are You ? \" on the console."
      ]
    },
    {
      "cell_type": "code",
      "execution_count": 107,
      "metadata": {
        "colab": {
          "base_uri": "https://localhost:8080/"
        },
        "id": "Gye7d_MnS1-n",
        "outputId": "6935213f-d153-491d-ad48-5fa839d1847a"
      },
      "outputs": [
        {
          "output_type": "stream",
          "name": "stdout",
          "text": [
            "Hello, How are You?\n"
          ]
        }
      ],
      "source": [
        "print(\"Hello, How are You?\")"
      ]
    },
    {
      "cell_type": "markdown",
      "metadata": {
        "id": "G22R0NsbTiRV"
      },
      "source": [
        "# 2. Write a program that take the user 's name and then prints a greeting message with their name."
      ]
    },
    {
      "cell_type": "code",
      "execution_count": 89,
      "metadata": {
        "colab": {
          "base_uri": "https://localhost:8080/"
        },
        "id": "r5pS9SCiTdnC",
        "outputId": "fec6655e-896a-41cc-e164-1fabdfba97a8"
      },
      "outputs": [
        {
          "output_type": "stream",
          "name": "stdout",
          "text": [
            "Enter your name: Peter Parker\n",
            "\n",
            "Hello Peter Parker, Welcome aboard.\n"
          ]
        }
      ],
      "source": [
        "name = input(\"Enter your name: \")\n",
        "print(\"\\nHello\",name+\",\",\"Welcome aboard.\")"
      ]
    },
    {
      "cell_type": "markdown",
      "metadata": {
        "id": "jcg5S2Q-UaCA"
      },
      "source": [
        "# 3. Write a program that takes two numbers as input and prints their sum."
      ]
    },
    {
      "cell_type": "code",
      "execution_count": 90,
      "metadata": {
        "colab": {
          "base_uri": "https://localhost:8080/"
        },
        "id": "zEeOoM12T7_t",
        "outputId": "9b0074bf-7a26-497d-da3b-23b721f171a1"
      },
      "outputs": [
        {
          "output_type": "stream",
          "name": "stdout",
          "text": [
            "Enter a number: 32\n",
            "One more: 12\n",
            "\n",
            "The sum of 32.0 and 12.0 is: 44.0\n"
          ]
        }
      ],
      "source": [
        "a = float(input(\"Enter a number: \"))\n",
        "b = float(input(\"One more: \"))\n",
        "sum = a + b\n",
        "print(\"\\nThe sum of\",a,\"and\",b,\"is:\",sum)"
      ]
    },
    {
      "cell_type": "markdown",
      "metadata": {
        "id": "ltD3Xrg1VdWL"
      },
      "source": [
        "# 4. Write a program that takes a string as input and prints its length."
      ]
    },
    {
      "cell_type": "code",
      "execution_count": 91,
      "metadata": {
        "colab": {
          "base_uri": "https://localhost:8080/"
        },
        "id": "rs6m00idUvlo",
        "outputId": "b04f4313-d541-4f9f-a366-c423027c7985"
      },
      "outputs": [
        {
          "output_type": "stream",
          "name": "stdout",
          "text": [
            "Enter a word/sentence/paragraph:\n",
            "All The Dreams Like Twinkle Stars\n",
            "\n",
            "The length is: 33\n"
          ]
        }
      ],
      "source": [
        "string1 = input(\"Enter a word/sentence/paragraph:\\n\")\n",
        "print(\"\\nThe length is:\",len(string1))"
      ]
    },
    {
      "cell_type": "markdown",
      "metadata": {
        "id": "sOOZG62eWDZ7"
      },
      "source": [
        "# 5. Write a program that takes a sentence and then prints the number of words in that sentence."
      ]
    },
    {
      "cell_type": "code",
      "execution_count": 92,
      "metadata": {
        "colab": {
          "base_uri": "https://localhost:8080/"
        },
        "id": "mVHFV8CFVuCu",
        "outputId": "b9dd06cf-77a9-4730-c0bc-78c7498572d7"
      },
      "outputs": [
        {
          "output_type": "stream",
          "name": "stdout",
          "text": [
            "Enter a sentence:\n",
            "I got your six\n",
            "\n",
            "The inputed sentence has 4 words.\n"
          ]
        }
      ],
      "source": [
        "string2 = input(\"Enter a sentence:\\n\")\n",
        "words = string2.strip().split(\" \")\n",
        "print(\"\\nThe inputed sentence has\",len(words),\"words.\")"
      ]
    },
    {
      "cell_type": "markdown",
      "metadata": {
        "id": "u5V7VVGxX7DB"
      },
      "source": [
        "# 6. Write a program that takes a string as input and counts the number of uppercase letters in the string."
      ]
    },
    {
      "cell_type": "code",
      "source": [
        "string10 = input(\"Enter a word/sentence/paragraph:\\n\")\n",
        "count = 0\n",
        "for i in string10:\n",
        "  if i.isupper():\n",
        "    count = count + 1\n",
        "\n",
        "print(\"\\nThe given sentence has\",count,\"upper-case letters.\")"
      ],
      "metadata": {
        "colab": {
          "base_uri": "https://localhost:8080/"
        },
        "id": "LkmQCmcOdar3",
        "outputId": "cc57b68a-e56e-4772-a3bd-79c96170a8a5"
      },
      "execution_count": 106,
      "outputs": [
        {
          "output_type": "stream",
          "name": "stdout",
          "text": [
            "Enter a word/sentence/paragraph:\n",
            "Abbott and Costello were an American comedy duo composed of comedians Bud Abbott and Lou Costello, whose work in radio, film, and television made them the most popular comedy team of the 1940s and 1950s, and the highest-paid entertainers in the world during the Second World War.\n",
            "\n",
            "The given sentence has 10 upper-case letters.\n"
          ]
        }
      ]
    },
    {
      "cell_type": "code",
      "execution_count": 93,
      "metadata": {
        "id": "H5AkYBJdWnyo",
        "colab": {
          "base_uri": "https://localhost:8080/"
        },
        "outputId": "e6257d03-2e81-43a3-c82a-ec528c40346b"
      },
      "outputs": [
        {
          "output_type": "stream",
          "name": "stdout",
          "text": [
            "Enter a word/sentence/paragraph:\n",
            "Abbott and Costello were an American comedy duo composed of comedians Bud Abbott and Lou Costello, whose work in radio, film, and television made them the most popular comedy team of the 1940s and 1950s, and the highest-paid entertainers in the world during the Second World War.\n",
            "\n",
            "The given sentence has 10 upper-case letters.\n"
          ]
        }
      ],
      "source": [
        "string3 = input(\"Enter a word/sentence/paragraph:\\n\")\n",
        "count = 0\n",
        "alpha = [\"Q\",\"W\",\"E\",\"R\",\"T\",\"Y\",\"U\",\"I\",\"O\",\"P\",\"A\",\"S\",\"D\",\"F\",\"G\",\"H\",\"J\",\"K\",\"L\",\"Z\",\"X\",\"C\",\"V\",\"B\",\"N\",\"M\"]\n",
        "for i in range(len(string3)):\n",
        "    if string3[i] in alpha:\n",
        "      count = count + 1\n",
        "print(\"\\nThe given sentence has\",count,\"upper-case letters.\")"
      ]
    },
    {
      "cell_type": "markdown",
      "metadata": {
        "id": "dwDt_jkcYKLS"
      },
      "source": [
        "# 7. Write a program that takes a sentence and then converts all the characters to uppercase."
      ]
    },
    {
      "cell_type": "code",
      "execution_count": 94,
      "metadata": {
        "colab": {
          "base_uri": "https://localhost:8080/"
        },
        "id": "eAizGb8QYMYW",
        "outputId": "2ce1fd42-5f4f-4956-ef25-51ce1dfab4ef"
      },
      "outputs": [
        {
          "output_type": "stream",
          "name": "stdout",
          "text": [
            "Enter a sentence:\n",
            "Sell me this pen\n",
            "\n",
            "SELL ME THIS PEN\n"
          ]
        }
      ],
      "source": [
        "string4 = input(\"Enter a sentence:\\n\")\n",
        "print(\"\\n\"+string4.upper())"
      ]
    },
    {
      "cell_type": "markdown",
      "metadata": {
        "id": "5bmyhOAmYnPx"
      },
      "source": [
        "# 8. Write a program that takes a string as input and replaces all occurrences of the letter 'a' with the letter 'e'."
      ]
    },
    {
      "cell_type": "code",
      "execution_count": 95,
      "metadata": {
        "colab": {
          "base_uri": "https://localhost:8080/"
        },
        "id": "kr9NljnoYa9f",
        "outputId": "57a447f2-1713-4b70-b288-eac076783150"
      },
      "outputs": [
        {
          "output_type": "stream",
          "name": "stdout",
          "text": [
            "Enter a word/sentence/paragraph:\n",
            "Jonas, Martha, Bartosh, Marcus\n",
            "\n",
            "Jones, Merthe, Bertosh, Mercus\n"
          ]
        }
      ],
      "source": [
        "string5 = input(\"Enter a word/sentence/paragraph:\\n\")\n",
        "print(\"\\n\"+string5.replace(\"a\",\"e\"))"
      ]
    },
    {
      "cell_type": "markdown",
      "metadata": {
        "id": "DOPAcIofZeyN"
      },
      "source": [
        "# 9. Create a program that checks if a given string is a palindrome."
      ]
    },
    {
      "cell_type": "code",
      "execution_count": 102,
      "metadata": {
        "colab": {
          "base_uri": "https://localhost:8080/"
        },
        "id": "VIf0E5U_ZCyc",
        "outputId": "51aedd70-9af7-4049-b5d9-6f006a8c4dbb"
      },
      "outputs": [
        {
          "output_type": "stream",
          "name": "stdout",
          "text": [
            "Enter a sentence:\n",
            "Eva, can I see bees in a cave?\n",
            "\n",
            "The given sentence is a palindrome.\n"
          ]
        }
      ],
      "source": [
        "string6 = input(\"Enter a sentence:\\n\")\n",
        "temp = []\n",
        "for i in string6.lower():\n",
        "  temp.append(i)\n",
        "\n",
        "for j in range(10000):\n",
        "  for i in temp:\n",
        "    if i == \" \":\n",
        "      temp.remove(\" \")\n",
        "    if i == \",\":\n",
        "      temp.remove(\",\")\n",
        "    if i == \".\":\n",
        "      temp.remove(\".\")\n",
        "    if i == \"'\":\n",
        "      temp.remove(\"'\")\n",
        "    if i == \"?\":\n",
        "      temp.remove(\"?\")\n",
        "\n",
        "if temp == temp[::-1]:\n",
        "  print(\"\\nThe given sentence is a palindrome.\")\n",
        "else:\n",
        "  print(\"\\nThe given sentence is not a palindrome.\")"
      ]
    },
    {
      "cell_type": "markdown",
      "source": [
        "# 10. Create a program that checks if a substring is present in a given string."
      ],
      "metadata": {
        "id": "cT8YYJACGx9x"
      }
    },
    {
      "cell_type": "code",
      "execution_count": 103,
      "metadata": {
        "id": "oNS-XdUvZ20I",
        "colab": {
          "base_uri": "https://localhost:8080/"
        },
        "outputId": "abef25f2-7adb-4ad6-b92a-8a902dbe0270"
      },
      "outputs": [
        {
          "output_type": "stream",
          "name": "stdout",
          "text": [
            "Enter a word/sentence/paragraph:\n",
            "Jack and Jill\n",
            "\n",
            "Enter another string:\n",
            "Jack\n",
            "\n",
            "Second string is present in the first string.\n"
          ]
        }
      ],
      "source": [
        "string7 = input(\"Enter a word/sentence/paragraph:\\n\")\n",
        "substring = input(\"\\nEnter another string:\\n\")\n",
        "\n",
        "if substring in string7:\n",
        "  print(\"\\nSecond string is present in the first string.\")\n",
        "else:\n",
        "  print(\"\\nSecond string is not present in the first string.\")"
      ]
    },
    {
      "cell_type": "markdown",
      "source": [
        "# 11. Write a program that reverses the order of words in a given sentence."
      ],
      "metadata": {
        "id": "maDt7lJAInUX"
      }
    },
    {
      "cell_type": "code",
      "source": [
        "string8 = input(\"Enter a word/sentence/paragraph:\\n\")\n",
        "print(string8[::-1])"
      ],
      "metadata": {
        "colab": {
          "base_uri": "https://localhost:8080/"
        },
        "id": "gp3JxUR_Hk4j",
        "outputId": "e4a485ea-9eb6-481d-87fe-48f6e5cc1892"
      },
      "execution_count": 104,
      "outputs": [
        {
          "output_type": "stream",
          "name": "stdout",
          "text": [
            "Enter a word/sentence/paragraph:\n",
            "Lets hope for the best.\n",
            ".tseb eht rof epoh steL\n"
          ]
        }
      ]
    },
    {
      "cell_type": "markdown",
      "source": [
        "# 12. Write a program that finds the longest word in a given sentence."
      ],
      "metadata": {
        "id": "wMPGevgsIpxW"
      }
    },
    {
      "cell_type": "code",
      "source": [
        "string9 = input(\"Enter a word/sentence/paragraph:\\n\")\n",
        "words = string9.split(\" \")\n",
        "longest = [words[0]]\n",
        "\n",
        "for i in range(1,len(words)):\n",
        "  if len(words[i]) > len(longest[0]):\n",
        "    del longest[0]\n",
        "    longest = [words[i]]\n",
        "  elif len(words[i]) == len(longest[0]):\n",
        "    longest.append(words[i])\n",
        "\n",
        "if len(longest) == 1:\n",
        "  print(\"\\nThe longest word is:\",longest[0])\n",
        "else:\n",
        "  print('\\nThe longest words are:', \", \".join(longest))"
      ],
      "metadata": {
        "colab": {
          "base_uri": "https://localhost:8080/"
        },
        "id": "29U8c-xwMBsy",
        "outputId": "cbef67c6-b3b9-4d46-f855-667c687be9fd"
      },
      "execution_count": 105,
      "outputs": [
        {
          "output_type": "stream",
          "name": "stdout",
          "text": [
            "Enter a word/sentence/paragraph:\n",
            "Abbott and Costello were an American comedy duo composed of comedians Bud Abbott and Lou Costello, whose work in radio, film, and television made them the most popular comedy team of the 1940s and 1950s, and the highest-paid entertainers in the world during the Second World War. Their patter routine \"Who's on First?\" is considered one of the greatest comedy routines of all time,[1] a version of which appears in their 1945 film The Naughty Nineties.\n",
            "\n",
            "The longest words are: highest-paid, entertainers\n"
          ]
        }
      ]
    }
  ],
  "metadata": {
    "colab": {
      "provenance": []
    },
    "kernelspec": {
      "display_name": "Python 3",
      "name": "python3"
    },
    "language_info": {
      "name": "python"
    }
  },
  "nbformat": 4,
  "nbformat_minor": 0
}