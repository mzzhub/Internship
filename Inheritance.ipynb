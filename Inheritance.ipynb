{
  "nbformat": 4,
  "nbformat_minor": 0,
  "metadata": {
    "colab": {
      "provenance": []
    },
    "kernelspec": {
      "name": "python3",
      "display_name": "Python 3"
    },
    "language_info": {
      "name": "python"
    }
  },
  "cells": [
    {
      "cell_type": "markdown",
      "source": [
        "# Inheritence\n",
        "* Inheritance allows us to define a class that inherits all the methods and\n",
        "properties from another class.\n",
        "\n",
        "* Parent is the class being inherited from, also called base class.\n",
        "\n",
        "* ChiId class is the class that inherits from another\n",
        "class, also called derived class.\n",
        "* Advantages.\n",
        "    * Reuse of code.\n",
        "    * Add extra functionality to\n",
        "existing class\n",
        "parent = base class"
      ],
      "metadata": {
        "id": "190FiammD2As"
      }
    },
    {
      "cell_type": "markdown",
      "source": [
        "## Single Inheritance.\n",
        "* Single inheritance allows a derivate class to inherit properties of one parent class"
      ],
      "metadata": {
        "id": "OJTt4hc3Iwdb"
      }
    },
    {
      "cell_type": "code",
      "source": [
        "# creating a base class.\n",
        "class A:\n",
        "    def toprinta(self):\n",
        "        print(\"Inside class A.\")\n",
        "# creating a derived class.\n",
        "class B(A):\n",
        "    def toprintb(self):\n",
        "        print(\"Inside class B.\")"
      ],
      "metadata": {
        "id": "UEXlgx94D4oN"
      },
      "execution_count": 1,
      "outputs": []
    },
    {
      "cell_type": "code",
      "source": [
        "# Creating an instance for class B\n",
        "obj1= B()"
      ],
      "metadata": {
        "id": "Rbc-J4qhG7Fj"
      },
      "execution_count": 2,
      "outputs": []
    },
    {
      "cell_type": "code",
      "source": [
        "# it can acess a method in class B\n",
        "obj1.toprintb()"
      ],
      "metadata": {
        "colab": {
          "base_uri": "https://localhost:8080/"
        },
        "id": "GYD1qsbJHB6h",
        "outputId": "4c4f494f-71d6-4b99-b84f-e4080985aed3"
      },
      "execution_count": 3,
      "outputs": [
        {
          "output_type": "stream",
          "name": "stdout",
          "text": [
            "Inside class B.\n"
          ]
        }
      ]
    },
    {
      "cell_type": "code",
      "source": [
        "# also the method defined in class A is also acessible.\n",
        "obj1.toprinta()"
      ],
      "metadata": {
        "colab": {
          "base_uri": "https://localhost:8080/"
        },
        "id": "xQPsI2PEHIxw",
        "outputId": "c060c94e-8160-4ba0-9da1-a85c6e2d1947"
      },
      "execution_count": 4,
      "outputs": [
        {
          "output_type": "stream",
          "name": "stdout",
          "text": [
            "Inside class A.\n"
          ]
        }
      ]
    },
    {
      "cell_type": "code",
      "source": [
        "class Person:\n",
        "    def __init__(self,name):\n",
        "        name = input(\"Enter Name: \")\n",
        "        self.name = name\n",
        "    def new1(self):\n",
        "        print(self.name)\n",
        "class Person2(Person):\n",
        "    def __init__(self,name,age):\n",
        "        Person.__init__(self,name)\n",
        "        age = int(input(\"Enter age: \"))\n",
        "        self.age = age\n",
        "    def new2(self):\n",
        "        print(self.name)\n",
        "        print(self.age)"
      ],
      "metadata": {
        "id": "B-Fu9pcyOR1g"
      },
      "execution_count": 5,
      "outputs": []
    },
    {
      "cell_type": "code",
      "source": [
        "man = Person(\"Jim\")"
      ],
      "metadata": {
        "colab": {
          "base_uri": "https://localhost:8080/"
        },
        "id": "zVBjtMpGL9QB",
        "outputId": "0b1e18cf-6411-421e-fc2b-d80a16531b91"
      },
      "execution_count": 6,
      "outputs": [
        {
          "name": "stdout",
          "output_type": "stream",
          "text": [
            "Enter Name: Sancho\n"
          ]
        }
      ]
    },
    {
      "cell_type": "code",
      "source": [
        "man.new1()"
      ],
      "metadata": {
        "colab": {
          "base_uri": "https://localhost:8080/"
        },
        "id": "imAuIR4AMAnq",
        "outputId": "d8b8b148-5f05-4e57-aa46-0147a7ba3594"
      },
      "execution_count": 7,
      "outputs": [
        {
          "output_type": "stream",
          "name": "stdout",
          "text": [
            "Sancho\n"
          ]
        }
      ]
    },
    {
      "cell_type": "code",
      "source": [
        "man2 = Person2(\"Rose\",3)"
      ],
      "metadata": {
        "colab": {
          "base_uri": "https://localhost:8080/"
        },
        "id": "U0r8qKzfMHCC",
        "outputId": "9a0b089f-898a-4c9b-8054-9f112b624c99"
      },
      "execution_count": 8,
      "outputs": [
        {
          "name": "stdout",
          "output_type": "stream",
          "text": [
            "Enter Name: Saka\n",
            "Enter age: 24\n"
          ]
        }
      ]
    },
    {
      "cell_type": "code",
      "source": [
        "man2.new2()"
      ],
      "metadata": {
        "colab": {
          "base_uri": "https://localhost:8080/"
        },
        "id": "ESK9zH61MMLZ",
        "outputId": "7c5d99b4-4309-4ec1-af28-9767547e30ca"
      },
      "execution_count": 9,
      "outputs": [
        {
          "output_type": "stream",
          "name": "stdout",
          "text": [
            "Saka\n",
            "24\n"
          ]
        }
      ]
    },
    {
      "cell_type": "markdown",
      "source": [
        "# Multiple Inheritance\n",
        "* If a class is able to be created from multiple base classes, this kind of Inheritance is\n",
        "known as multiple Inheritance.\n",
        "* When there is muultiple Inheritance, each of the attributes that are present in\n",
        "the classes of the base has been passed on to the class that is derived from it."
      ],
      "metadata": {
        "id": "dH3__FPkN4GV"
      }
    },
    {
      "cell_type": "code",
      "source": [
        "class A:\n",
        "    def printa(self):\n",
        "        print(\"Inside class A\")\n",
        "class B:\n",
        "    def printb(self):\n",
        "        print(\"Inside class B\")\n",
        "class C(A,B):\n",
        "    def printc(self):\n",
        "        print(\"Inside class C\")"
      ],
      "metadata": {
        "id": "0pz2t6jVMO9Z"
      },
      "execution_count": 10,
      "outputs": []
    },
    {
      "cell_type": "code",
      "source": [
        "item = C()"
      ],
      "metadata": {
        "id": "LHCzh8smQIij"
      },
      "execution_count": 11,
      "outputs": []
    },
    {
      "cell_type": "code",
      "source": [
        "item.printa()\n",
        "item.printb()\n",
        "item.printc()"
      ],
      "metadata": {
        "colab": {
          "base_uri": "https://localhost:8080/"
        },
        "id": "efjwba2sQKhO",
        "outputId": "eb632139-eb29-4daf-9de0-eb67bece270b"
      },
      "execution_count": 12,
      "outputs": [
        {
          "output_type": "stream",
          "name": "stdout",
          "text": [
            "Inside class A\n",
            "Inside class B\n",
            "Inside class C\n"
          ]
        }
      ]
    },
    {
      "cell_type": "markdown",
      "source": [
        "# Multi - Level Inheritance\n",
        "* The features that are part of the original class, as well as the class that is derived from it, are passed on to the new class.\n",
        "* It is similar to a relationship involving grandparents and children."
      ],
      "metadata": {
        "id": "g-H9ZCRHQ35M"
      }
    },
    {
      "cell_type": "code",
      "source": [
        "class A:\n",
        "    def printa(self):\n",
        "        print(\"Inside class A.\")\n",
        "class B(A):\n",
        "    def printb(self):\n",
        "        print(\"Inside class B.\")\n",
        "class C(B):\n",
        "    def printc(self):\n",
        "        print(\"Inside class C.\")"
      ],
      "metadata": {
        "id": "FZLYdBBSQNet"
      },
      "execution_count": 13,
      "outputs": []
    },
    {
      "cell_type": "code",
      "source": [
        "item = C()"
      ],
      "metadata": {
        "id": "Q4kOSTLgSfGA"
      },
      "execution_count": 14,
      "outputs": []
    },
    {
      "cell_type": "code",
      "source": [
        "item.printa()\n",
        "item.printb()\n",
        "item.printc()"
      ],
      "metadata": {
        "colab": {
          "base_uri": "https://localhost:8080/"
        },
        "id": "aiMSUVBaSgeu",
        "outputId": "e59c0ab4-b521-417b-d6b8-32b410e32e0b"
      },
      "execution_count": 15,
      "outputs": [
        {
          "output_type": "stream",
          "name": "stdout",
          "text": [
            "Inside class A.\n",
            "Inside class B.\n",
            "Inside class C.\n"
          ]
        }
      ]
    },
    {
      "cell_type": "markdown",
      "source": [
        "# Polymorphism\n",
        "* The word polymorphism means having many forms.\n",
        "* Polymorphism means same function name being uses for different types\n",
        "* Types of Polymorphism\n",
        "    1. Over-loading : more than one method name in a single class.\n",
        "        1. Function Overloading : not supported in python\n",
        "        2. Operator Overloading\n",
        "        \n",
        "    2. Over-riding"
      ],
      "metadata": {
        "id": "aNlhmiz3TYgF"
      }
    },
    {
      "cell_type": "code",
      "source": [
        "# Function Overloading.\n",
        "class new:\n",
        "    def hello(self,a,b):\n",
        "        #return(a+b)\n",
        "        print(a+b)\n",
        "    def hello(self,a,b,c):\n",
        "        #return(a+b+c)\n",
        "        print(a+b+c)"
      ],
      "metadata": {
        "id": "t2EX4s-NUgko"
      },
      "execution_count": 16,
      "outputs": []
    },
    {
      "cell_type": "code",
      "source": [
        "num = new()"
      ],
      "metadata": {
        "id": "ncKPIPpaVpJ-"
      },
      "execution_count": 17,
      "outputs": []
    },
    {
      "cell_type": "code",
      "source": [
        "num.hello(2,4,6)"
      ],
      "metadata": {
        "colab": {
          "base_uri": "https://localhost:8080/"
        },
        "id": "ny1bvSMtVr__",
        "outputId": "590d46c6-d627-45ff-8aa6-70a4f4832247"
      },
      "execution_count": 18,
      "outputs": [
        {
          "output_type": "stream",
          "name": "stdout",
          "text": [
            "12\n"
          ]
        }
      ]
    },
    {
      "cell_type": "code",
      "source": [
        "num.hello(3,1)"
      ],
      "metadata": {
        "colab": {
          "base_uri": "https://localhost:8080/",
          "height": 141
        },
        "id": "cgJJQWUiVulc",
        "outputId": "ec68f431-c979-40b3-8081-b03531729438"
      },
      "execution_count": 19,
      "outputs": [
        {
          "output_type": "error",
          "ename": "TypeError",
          "evalue": "new.hello() missing 1 required positional argument: 'c'",
          "traceback": [
            "\u001b[0;31m---------------------------------------------------------------------------\u001b[0m",
            "\u001b[0;31mTypeError\u001b[0m                                 Traceback (most recent call last)",
            "\u001b[0;32m<ipython-input-19-1c652fb6c390>\u001b[0m in \u001b[0;36m<cell line: 1>\u001b[0;34m()\u001b[0m\n\u001b[0;32m----> 1\u001b[0;31m \u001b[0mnum\u001b[0m\u001b[0;34m.\u001b[0m\u001b[0mhello\u001b[0m\u001b[0;34m(\u001b[0m\u001b[0;36m3\u001b[0m\u001b[0;34m,\u001b[0m\u001b[0;36m1\u001b[0m\u001b[0;34m)\u001b[0m\u001b[0;34m\u001b[0m\u001b[0;34m\u001b[0m\u001b[0m\n\u001b[0m",
            "\u001b[0;31mTypeError\u001b[0m: new.hello() missing 1 required positional argument: 'c'"
          ]
        }
      ]
    },
    {
      "cell_type": "code",
      "source": [
        "class K:\n",
        "    def myadd(self,a,b):\n",
        "        self.a = a\n",
        "        eslf.b = b\n",
        "\n",
        "    def myadd(self,x = None, y = None , z = None):\n",
        "        self.x = x\n",
        "        self.y = y\n",
        "        self.z = z\n",
        "\n",
        "        s = 0\n",
        "        if x!=None and y!=None and z!=None:\n",
        "            s = x+y+z\n",
        "        elif x!=None and y!=None:\n",
        "            s = x+y\n",
        "        else:\n",
        "            s = x\n",
        "        return s"
      ],
      "metadata": {
        "id": "RfwLilKqV6lP"
      },
      "execution_count": 20,
      "outputs": []
    },
    {
      "cell_type": "code",
      "source": [
        "tic = K()"
      ],
      "metadata": {
        "id": "vjvMX2OXYxq8"
      },
      "execution_count": 21,
      "outputs": []
    },
    {
      "cell_type": "code",
      "source": [
        "tic.myadd(2)"
      ],
      "metadata": {
        "colab": {
          "base_uri": "https://localhost:8080/"
        },
        "id": "kZTIRDx5Y6N2",
        "outputId": "2897bb5b-8e31-4378-ad44-a8f85cfaa6b6"
      },
      "execution_count": 22,
      "outputs": [
        {
          "output_type": "execute_result",
          "data": {
            "text/plain": [
              "2"
            ]
          },
          "metadata": {},
          "execution_count": 22
        }
      ]
    },
    {
      "cell_type": "code",
      "source": [
        "tic.myadd(5,3)"
      ],
      "metadata": {
        "colab": {
          "base_uri": "https://localhost:8080/"
        },
        "id": "Aqa_0U4uY8vI",
        "outputId": "5dc41274-0526-4cd3-d0dc-76e16cb607cb"
      },
      "execution_count": 23,
      "outputs": [
        {
          "output_type": "execute_result",
          "data": {
            "text/plain": [
              "8"
            ]
          },
          "metadata": {},
          "execution_count": 23
        }
      ]
    },
    {
      "cell_type": "code",
      "source": [
        "tic.myadd(12,5,6)"
      ],
      "metadata": {
        "colab": {
          "base_uri": "https://localhost:8080/"
        },
        "id": "O7Pc0uCdZF86",
        "outputId": "ac600b8c-9921-4b07-f6bc-4f728f52d7a4"
      },
      "execution_count": 24,
      "outputs": [
        {
          "output_type": "execute_result",
          "data": {
            "text/plain": [
              "23"
            ]
          },
          "metadata": {},
          "execution_count": 24
        }
      ]
    }
  ]
}