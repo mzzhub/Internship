{
  "nbformat": 4,
  "nbformat_minor": 0,
  "metadata": {
    "colab": {
      "provenance": []
    },
    "kernelspec": {
      "name": "python3",
      "display_name": "Python 3"
    },
    "language_info": {
      "name": "python"
    }
  },
  "cells": [
    {
      "cell_type": "markdown",
      "source": [
        "# 1. Write a Python program to check if two sets have any common elements."
      ],
      "metadata": {
        "id": "WO_Ug75Pp2Yq"
      }
    },
    {
      "cell_type": "code",
      "execution_count": 1,
      "metadata": {
        "id": "UxWYBBe7ppul"
      },
      "outputs": [],
      "source": [
        "# function recieves two sets.\n",
        "def commonInSet(set1,set2):\n",
        "    # converting those sets to list for indexing.\n",
        "    list1 = list(set1)\n",
        "    list2 = list(set2)\n",
        "    # checking for common elements\n",
        "    for i in list1:\n",
        "        for j in list2:\n",
        "            if i == j:\n",
        "                print(\"They have common elements.\")\n",
        "                return True\n",
        "            else:\n",
        "                pass\n",
        "    print(\"They have no common elements.\")\n",
        "    return False"
      ]
    },
    {
      "cell_type": "code",
      "source": [
        "s1 = {23,45,3,10,4}\n",
        "s2 = {12,13,44,15,90,100}\n",
        "commonInSet(s1,s2)"
      ],
      "metadata": {
        "colab": {
          "base_uri": "https://localhost:8080/"
        },
        "id": "q8ZY7Fs6qb0T",
        "outputId": "a35de41d-5b60-409c-b6ce-25076683ac7a"
      },
      "execution_count": 2,
      "outputs": [
        {
          "output_type": "stream",
          "name": "stdout",
          "text": [
            "They have no common elements.\n"
          ]
        },
        {
          "output_type": "execute_result",
          "data": {
            "text/plain": [
              "False"
            ]
          },
          "metadata": {},
          "execution_count": 2
        }
      ]
    },
    {
      "cell_type": "code",
      "source": [
        "s3 = {23,45,13,10,44}\n",
        "s4 = {12,13,44,15,90,100}\n",
        "commonInSet(s3,s4)"
      ],
      "metadata": {
        "colab": {
          "base_uri": "https://localhost:8080/"
        },
        "id": "dNxVbdJ4q5T-",
        "outputId": "a17be49c-ba85-4d73-ec88-8be4656da2df"
      },
      "execution_count": 3,
      "outputs": [
        {
          "output_type": "stream",
          "name": "stdout",
          "text": [
            "They have common elements.\n"
          ]
        },
        {
          "output_type": "execute_result",
          "data": {
            "text/plain": [
              "True"
            ]
          },
          "metadata": {},
          "execution_count": 3
        }
      ]
    },
    {
      "cell_type": "markdown",
      "source": [
        "# 2. Write a Python program to find the difference between two sets."
      ],
      "metadata": {
        "id": "qPOOHdoesZGP"
      }
    },
    {
      "cell_type": "code",
      "source": [
        "# function recieves two sets.\n",
        "def differenceSet(set1,set2):\n",
        "    # converting those sets to list for indexing.\n",
        "    list1 = list(set1)\n",
        "    list2 = list(set2)\n",
        "    # creating a set which will be the result.\n",
        "    dif = set()\n",
        "    for i in list1:\n",
        "        if i in list2:\n",
        "            continue\n",
        "        else:\n",
        "            dif.add(i)\n",
        "    return dif"
      ],
      "metadata": {
        "id": "b_KM1exbsSWQ"
      },
      "execution_count": 4,
      "outputs": []
    },
    {
      "cell_type": "code",
      "source": [
        "print(s3,s4)"
      ],
      "metadata": {
        "colab": {
          "base_uri": "https://localhost:8080/"
        },
        "id": "qVAEFvKr0mU-",
        "outputId": "362c3e0f-c2b5-41be-d326-df8299eea6a4"
      },
      "execution_count": 5,
      "outputs": [
        {
          "output_type": "stream",
          "name": "stdout",
          "text": [
            "{13, 23, 10, 44, 45} {100, 90, 12, 13, 44, 15}\n"
          ]
        }
      ]
    },
    {
      "cell_type": "code",
      "source": [
        "differenceSet(s3,s4)"
      ],
      "metadata": {
        "colab": {
          "base_uri": "https://localhost:8080/"
        },
        "id": "ZJamKZZWEZkM",
        "outputId": "909a0abe-86d9-4feb-d9dd-2de5972a7365"
      },
      "execution_count": 6,
      "outputs": [
        {
          "output_type": "execute_result",
          "data": {
            "text/plain": [
              "{10, 23, 45}"
            ]
          },
          "metadata": {},
          "execution_count": 6
        }
      ]
    },
    {
      "cell_type": "markdown",
      "source": [
        "# 3. Write a Python program to find the symmetric difference between two sets."
      ],
      "metadata": {
        "id": "WzdcnbivsyFv"
      }
    },
    {
      "cell_type": "code",
      "source": [
        "def symmetricDifference(set1,set2):\n",
        "    # converting those sets to list for indexing.\n",
        "    list1 = list(set1)\n",
        "    list2 = list(set2)\n",
        "    # creating a union list\n",
        "    unionList = []\n",
        "    for i in list1:\n",
        "        unionList.append(i)\n",
        "    for i in list2:\n",
        "        unionList.append(i)\n",
        "    # castinf the unionList to class set\n",
        "    unionSet = set(unionList)\n",
        "    # creating an intersection set from list1 and list2\n",
        "    intersectionList = []\n",
        "    for i in list1:\n",
        "        for j in list2:\n",
        "            if i == j:\n",
        "                intersectionList.append(i)\n",
        "    # casting intersectionList to class set\n",
        "    intersectionSet = set(intersectionList)\n",
        "    # difference of intersectionSet from unionSet\n",
        "    sd = differenceSet(unionSet,intersectionSet)\n",
        "    print(\"The symmetric difference between\",set1,\"and\",set2,\"is:\")\n",
        "    return sd"
      ],
      "metadata": {
        "id": "inMEYSsPs4Kk"
      },
      "execution_count": 7,
      "outputs": []
    },
    {
      "cell_type": "code",
      "source": [
        "print(s3,s4)"
      ],
      "metadata": {
        "colab": {
          "base_uri": "https://localhost:8080/"
        },
        "id": "qqHugn864cvG",
        "outputId": "6a12becc-2d15-42a6-865b-669fb02d818b"
      },
      "execution_count": 10,
      "outputs": [
        {
          "output_type": "stream",
          "name": "stdout",
          "text": [
            "{13, 23, 10, 44, 45} {100, 90, 12, 13, 44, 15}\n"
          ]
        }
      ]
    },
    {
      "cell_type": "code",
      "source": [
        "symmetricDifference(s3,s4)"
      ],
      "metadata": {
        "colab": {
          "base_uri": "https://localhost:8080/"
        },
        "id": "Zx7QeVeF4Xnf",
        "outputId": "b54a27ff-531f-4365-8486-0121c9a4b821"
      },
      "execution_count": 11,
      "outputs": [
        {
          "output_type": "stream",
          "name": "stdout",
          "text": [
            "The symmetric difference between {13, 23, 10, 44, 45} and {100, 90, 12, 13, 44, 15} is:\n"
          ]
        },
        {
          "output_type": "execute_result",
          "data": {
            "text/plain": [
              "{10, 12, 15, 23, 45, 90, 100}"
            ]
          },
          "metadata": {},
          "execution_count": 11
        }
      ]
    },
    {
      "cell_type": "code",
      "source": [
        "w = {'apple','banana','cherry'}\n",
        "v = {'banana','cherry','date','fig'}\n",
        "symmetricDifference(w,v)"
      ],
      "metadata": {
        "colab": {
          "base_uri": "https://localhost:8080/"
        },
        "id": "f6xyUjVSJNnK",
        "outputId": "f87aca60-9a1e-459f-e382-33d58ee6e8cb"
      },
      "execution_count": 12,
      "outputs": [
        {
          "output_type": "stream",
          "name": "stdout",
          "text": [
            "The symmetric difference between {'banana', 'apple', 'cherry'} and {'banana', 'date', 'cherry', 'fig'} is:\n"
          ]
        },
        {
          "output_type": "execute_result",
          "data": {
            "text/plain": [
              "{'apple', 'date', 'fig'}"
            ]
          },
          "metadata": {},
          "execution_count": 12
        }
      ]
    },
    {
      "cell_type": "markdown",
      "source": [
        "# 4. Write a Python program to create a set from a given list and remove the duplicates."
      ],
      "metadata": {
        "id": "MbY33NTes2gt"
      }
    },
    {
      "cell_type": "code",
      "source": [
        "# function will take a list.\n",
        "def setFromList(L):\n",
        "    # creating a list wich will actually will be a set\n",
        "    setIs = []\n",
        "    for i in L:\n",
        "        if i in setIs:\n",
        "            continue\n",
        "        setIs.append(i)\n",
        "    # now the list setIs actually a set that we want. However, to print it as a set\n",
        "    setIs = set(setIs)\n",
        "    print(setIs)"
      ],
      "metadata": {
        "id": "Wx8ibbr6sm_-"
      },
      "execution_count": 13,
      "outputs": []
    },
    {
      "cell_type": "code",
      "source": [
        "setFromList([20,20,22,22,22,24,26])"
      ],
      "metadata": {
        "colab": {
          "base_uri": "https://localhost:8080/"
        },
        "id": "QWcqh-p-K-Ts",
        "outputId": "5bba5980-b1ce-42ba-fa49-3704589aa35a"
      },
      "execution_count": 14,
      "outputs": [
        {
          "output_type": "stream",
          "name": "stdout",
          "text": [
            "{24, 26, 20, 22}\n"
          ]
        }
      ]
    },
    {
      "cell_type": "code",
      "source": [
        "setFromList([\"rose\",\"tulip\",\"rose\",\"lily\",\"daisy\",\"lily\",\"sunflower\"])"
      ],
      "metadata": {
        "colab": {
          "base_uri": "https://localhost:8080/"
        },
        "id": "6AZxAB5TL3q3",
        "outputId": "b95e6bf4-dfcf-471f-a0d0-d54fe2bd1c90"
      },
      "execution_count": 15,
      "outputs": [
        {
          "output_type": "stream",
          "name": "stdout",
          "text": [
            "{'rose', 'daisy', 'sunflower', 'lily', 'tulip'}\n"
          ]
        }
      ]
    },
    {
      "cell_type": "markdown",
      "source": [
        "# 5. Write a Python program to create a new set with all the elements from two sets, but exclude the common ones."
      ],
      "metadata": {
        "id": "ScKfEobNs44W"
      }
    },
    {
      "cell_type": "code",
      "source": [
        "# It is same as question number 3"
      ],
      "metadata": {
        "id": "xj94O3dvteor"
      },
      "execution_count": 29,
      "outputs": []
    },
    {
      "cell_type": "markdown",
      "source": [
        "# 6. Write a Python program to check if a set is a subset of another set."
      ],
      "metadata": {
        "id": "JXcLUOr_teGC"
      }
    },
    {
      "cell_type": "code",
      "source": [
        "# checking set2 is a subset of set1\n",
        "def checkIfSubset(set1,set2):\n",
        "    list1 = list(set1)\n",
        "    list2 = list(set2)\n",
        "    for i in list2:\n",
        "        if i in list1:\n",
        "            pass\n",
        "        else:\n",
        "            return False\n",
        "    return True"
      ],
      "metadata": {
        "id": "nLVKTXFatUcu"
      },
      "execution_count": 17,
      "outputs": []
    },
    {
      "cell_type": "code",
      "source": [
        "s5 = {7,5,5,9,10}\n",
        "s6 = {5,7,9}\n",
        "checkIfSubset(s5,s6)"
      ],
      "metadata": {
        "colab": {
          "base_uri": "https://localhost:8080/"
        },
        "id": "hrY8iwf0RsXj",
        "outputId": "c8283e2f-7b52-42ca-cf1d-435a0948d64a"
      },
      "execution_count": 18,
      "outputs": [
        {
          "output_type": "execute_result",
          "data": {
            "text/plain": [
              "True"
            ]
          },
          "metadata": {},
          "execution_count": 18
        }
      ]
    },
    {
      "cell_type": "code",
      "source": [
        "s5 = {7,3,51,23,3}\n",
        "s6 = {}\n",
        "checkIfSubset(s5,s6)"
      ],
      "metadata": {
        "colab": {
          "base_uri": "https://localhost:8080/"
        },
        "id": "r0uS2V8ES-Jl",
        "outputId": "6d915681-2b72-4f58-a33f-2054c9410835"
      },
      "execution_count": 19,
      "outputs": [
        {
          "output_type": "execute_result",
          "data": {
            "text/plain": [
              "True"
            ]
          },
          "metadata": {},
          "execution_count": 19
        }
      ]
    },
    {
      "cell_type": "code",
      "source": [
        "s5 = {1,2,3,6}\n",
        "s6 = {1,2,3,4,5}\n",
        "checkIfSubset(s5,s6)"
      ],
      "metadata": {
        "colab": {
          "base_uri": "https://localhost:8080/"
        },
        "id": "jAik_wFLWirS",
        "outputId": "2fe4a183-1e0e-460c-fbd0-5764ffcc5782"
      },
      "execution_count": 20,
      "outputs": [
        {
          "output_type": "execute_result",
          "data": {
            "text/plain": [
              "False"
            ]
          },
          "metadata": {},
          "execution_count": 20
        }
      ]
    },
    {
      "cell_type": "markdown",
      "source": [
        "# 7. Write a Python program to find the maximum and minimum values in a set."
      ],
      "metadata": {
        "id": "715bZn04tiu2"
      }
    },
    {
      "cell_type": "code",
      "source": [
        "# function recieves a set s\n",
        "def maxAndMinOfSet(s):\n",
        "    # converting that set to list for indexing.\n",
        "    l = list(s)\n",
        "    # sorting that list in acending order\n",
        "    l.sort()\n",
        "    print(\"The maximum value of the set is:\",l[len(l)-1],\"\\nThe minimum value of the set is:\",l[0])"
      ],
      "metadata": {
        "id": "3caPmCaotnzz"
      },
      "execution_count": 21,
      "outputs": []
    },
    {
      "cell_type": "code",
      "source": [
        "maxAndMinOfSet({23,45,11,0,-4,100})"
      ],
      "metadata": {
        "colab": {
          "base_uri": "https://localhost:8080/"
        },
        "id": "DvPf0ExzUaST",
        "outputId": "f35b1159-5d86-48e2-e14d-2c638a4b3bfa"
      },
      "execution_count": 22,
      "outputs": [
        {
          "output_type": "stream",
          "name": "stdout",
          "text": [
            "The maximum value of the set is: 100 \n",
            "The minimum value of the set is: -4\n"
          ]
        }
      ]
    },
    {
      "cell_type": "code",
      "source": [
        "maxAndMinOfSet({0,0,0,0,0,0})"
      ],
      "metadata": {
        "colab": {
          "base_uri": "https://localhost:8080/"
        },
        "id": "Ko0TVDjVW0_N",
        "outputId": "93e0f384-65ba-4f11-c5c9-0734abf2c0ed"
      },
      "execution_count": 23,
      "outputs": [
        {
          "output_type": "stream",
          "name": "stdout",
          "text": [
            "The maximum value of the set is: 0 \n",
            "The minimum value of the set is: 0\n"
          ]
        }
      ]
    },
    {
      "cell_type": "code",
      "source": [
        "maxAndMinOfSet({-10,-5,-1,0,1,5,10})"
      ],
      "metadata": {
        "colab": {
          "base_uri": "https://localhost:8080/"
        },
        "id": "W6d0syrXW7ix",
        "outputId": "b1158dd1-1372-40f5-8400-75e515b612ab"
      },
      "execution_count": 25,
      "outputs": [
        {
          "output_type": "stream",
          "name": "stdout",
          "text": [
            "The maximum value of the set is: 10 \n",
            "The minimum value of the set is: -10\n"
          ]
        }
      ]
    },
    {
      "cell_type": "code",
      "source": [
        "maxAndMinOfSet({3.14,1.59,2.71,1.41})"
      ],
      "metadata": {
        "colab": {
          "base_uri": "https://localhost:8080/"
        },
        "id": "6iwuzaSXXIpU",
        "outputId": "f1580b3e-ffe8-4939-d509-ef225373a409"
      },
      "execution_count": 26,
      "outputs": [
        {
          "output_type": "stream",
          "name": "stdout",
          "text": [
            "The maximum value of the set is: 3.14 \n",
            "The minimum value of the set is: 1.41\n"
          ]
        }
      ]
    },
    {
      "cell_type": "markdown",
      "source": [
        "# 8. Write a Python program to remove all the elements from a set."
      ],
      "metadata": {
        "id": "2l-rYRKHtq-7"
      }
    },
    {
      "cell_type": "code",
      "source": [
        "def removeSetElements(s):\n",
        "    # function recieves a set s\n",
        "    for i in range(len(s)):\n",
        "        s.pop()\n",
        "    return s"
      ],
      "metadata": {
        "id": "_OrHS79ttrvB"
      },
      "execution_count": 27,
      "outputs": []
    },
    {
      "cell_type": "code",
      "source": [
        "removeSetElements(s6)"
      ],
      "metadata": {
        "colab": {
          "base_uri": "https://localhost:8080/"
        },
        "id": "oOO0vPOHV8ba",
        "outputId": "e66c6a59-9a6d-47ba-a3e5-2318c050d029"
      },
      "execution_count": 28,
      "outputs": [
        {
          "output_type": "execute_result",
          "data": {
            "text/plain": [
              "set()"
            ]
          },
          "metadata": {},
          "execution_count": 28
        }
      ]
    }
  ]
}