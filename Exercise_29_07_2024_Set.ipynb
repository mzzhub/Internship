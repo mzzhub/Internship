{
  "nbformat": 4,
  "nbformat_minor": 0,
  "metadata": {
    "colab": {
      "provenance": []
    },
    "kernelspec": {
      "name": "python3",
      "display_name": "Python 3"
    },
    "language_info": {
      "name": "python"
    }
  },
  "cells": [
    {
      "cell_type": "markdown",
      "source": [
        "# 1. Write a Python program to check if two sets have any common elements."
      ],
      "metadata": {
        "id": "WO_Ug75Pp2Yq"
      }
    },
    {
      "cell_type": "code",
      "execution_count": 1,
      "metadata": {
        "id": "UxWYBBe7ppul"
      },
      "outputs": [],
      "source": [
        "# function recieves two sets.\n",
        "def commonInSet(set1,set2):\n",
        "    # converting those sets to list for indexing.\n",
        "    list1 = list(set1)\n",
        "    list2 = list(set2)\n",
        "    # checking for common elements\n",
        "    for i in list1:\n",
        "        for j in list2:\n",
        "            if i == j:\n",
        "                print(\"They have common elements.\")\n",
        "                return True\n",
        "            else:\n",
        "                pass\n",
        "    print(\"They have no common elements.\")\n",
        "    return False"
      ]
    },
    {
      "cell_type": "code",
      "source": [
        "s1 = {23,45,3,10,4}\n",
        "s2 = {12,13,44,15,90,100}\n",
        "commonInSet(s1,s2)"
      ],
      "metadata": {
        "colab": {
          "base_uri": "https://localhost:8080/"
        },
        "id": "q8ZY7Fs6qb0T",
        "outputId": "b0f2c9a0-fa2c-42ed-c142-ea7b77bab220"
      },
      "execution_count": 2,
      "outputs": [
        {
          "output_type": "stream",
          "name": "stdout",
          "text": [
            "They have no common elements.\n"
          ]
        },
        {
          "output_type": "execute_result",
          "data": {
            "text/plain": [
              "False"
            ]
          },
          "metadata": {},
          "execution_count": 2
        }
      ]
    },
    {
      "cell_type": "code",
      "source": [
        "s3 = {23,45,13,10,44}\n",
        "s4 = {12,13,44,15,90,100}\n",
        "commonInSet(s3,s4)"
      ],
      "metadata": {
        "colab": {
          "base_uri": "https://localhost:8080/"
        },
        "id": "dNxVbdJ4q5T-",
        "outputId": "a121ab40-3df8-45aa-8409-059d6b337798"
      },
      "execution_count": 3,
      "outputs": [
        {
          "output_type": "stream",
          "name": "stdout",
          "text": [
            "They have common elements.\n"
          ]
        },
        {
          "output_type": "execute_result",
          "data": {
            "text/plain": [
              "True"
            ]
          },
          "metadata": {},
          "execution_count": 3
        }
      ]
    },
    {
      "cell_type": "markdown",
      "source": [
        "# 2. Write a Python program to find the difference between two sets."
      ],
      "metadata": {
        "id": "qPOOHdoesZGP"
      }
    },
    {
      "cell_type": "code",
      "source": [
        "# function recieves two sets.\n",
        "def differenceSet(set1,set2):\n",
        "    # converting those sets to list for indexing.\n",
        "    list1 = list(set1)\n",
        "    list2 = list(set2)\n",
        "    # creating a set which will be the result.\n",
        "    dif = set()\n",
        "    for i in list1:\n",
        "        if i in list2:\n",
        "            continue\n",
        "        else:\n",
        "            dif.add(i)\n",
        "    return dif"
      ],
      "metadata": {
        "id": "b_KM1exbsSWQ"
      },
      "execution_count": 4,
      "outputs": []
    },
    {
      "cell_type": "code",
      "source": [
        "print(s3,s4)"
      ],
      "metadata": {
        "colab": {
          "base_uri": "https://localhost:8080/"
        },
        "id": "qVAEFvKr0mU-",
        "outputId": "37db9dd9-0054-42fe-9a21-1e4c4e1c0614"
      },
      "execution_count": 5,
      "outputs": [
        {
          "output_type": "stream",
          "name": "stdout",
          "text": [
            "{13, 23, 10, 44, 45} {100, 90, 12, 13, 44, 15}\n"
          ]
        }
      ]
    },
    {
      "cell_type": "code",
      "source": [
        "differenceSet(s3,s4)"
      ],
      "metadata": {
        "colab": {
          "base_uri": "https://localhost:8080/"
        },
        "id": "ZJamKZZWEZkM",
        "outputId": "34cf590c-bb77-41a6-f29d-188f506ae046"
      },
      "execution_count": 6,
      "outputs": [
        {
          "output_type": "execute_result",
          "data": {
            "text/plain": [
              "{10, 23, 45}"
            ]
          },
          "metadata": {},
          "execution_count": 6
        }
      ]
    },
    {
      "cell_type": "markdown",
      "source": [
        "# 3. Write a Python program to find the symmetric difference between two sets."
      ],
      "metadata": {
        "id": "WzdcnbivsyFv"
      }
    },
    {
      "cell_type": "code",
      "source": [
        "def symmetricDifference(set1,set2):\n",
        "    # converting those sets to list for indexing.\n",
        "    list1 = list(set1)\n",
        "    list2 = list(set2)\n",
        "    # creating a union list\n",
        "    unionList = []\n",
        "    for i in list1:\n",
        "        unionList.append(i)\n",
        "    for i in list2:\n",
        "        unionList.append(i)\n",
        "    # castinf the unionList to class set\n",
        "    unionSet = set(unionList)\n",
        "    # creating an intersection set from list1 and list2\n",
        "    intersectionList = []\n",
        "    for i in list1:\n",
        "        for j in list2:\n",
        "            if i == j:\n",
        "                intersectionList.append(i)\n",
        "    # casting intersectionList to class set\n",
        "    intersectionSet = set(intersectionList)\n",
        "    # difference of intersectionSet from unionSet\n",
        "    sd = differenceSet(unionSet,intersectionSet)\n",
        "    print(\"The symmetric difference between\",set1,\"and\",set2,\"is:\")\n",
        "    return sd"
      ],
      "metadata": {
        "id": "inMEYSsPs4Kk"
      },
      "execution_count": 7,
      "outputs": []
    },
    {
      "cell_type": "code",
      "source": [
        "print(s3,s4)"
      ],
      "metadata": {
        "colab": {
          "base_uri": "https://localhost:8080/"
        },
        "id": "qqHugn864cvG",
        "outputId": "989d7209-3e89-42b0-94d4-251171970c28"
      },
      "execution_count": 8,
      "outputs": [
        {
          "output_type": "stream",
          "name": "stdout",
          "text": [
            "{13, 23, 10, 44, 45} {100, 90, 12, 13, 44, 15}\n"
          ]
        }
      ]
    },
    {
      "cell_type": "code",
      "source": [
        "symmetricDifference(s3,s4)"
      ],
      "metadata": {
        "colab": {
          "base_uri": "https://localhost:8080/"
        },
        "id": "Zx7QeVeF4Xnf",
        "outputId": "aff6916d-871c-43cf-bb16-60e0b410e02a"
      },
      "execution_count": 9,
      "outputs": [
        {
          "output_type": "stream",
          "name": "stdout",
          "text": [
            "The symmetric difference between {13, 23, 10, 44, 45} and {100, 90, 12, 13, 44, 15} is:\n"
          ]
        },
        {
          "output_type": "execute_result",
          "data": {
            "text/plain": [
              "{10, 12, 15, 23, 45, 90, 100}"
            ]
          },
          "metadata": {},
          "execution_count": 9
        }
      ]
    },
    {
      "cell_type": "code",
      "source": [
        "w = {'apple','banana','cherry'}\n",
        "v = {'banana','cherry','date','fig'}\n",
        "symmetricDifference(w,v)"
      ],
      "metadata": {
        "colab": {
          "base_uri": "https://localhost:8080/"
        },
        "id": "f6xyUjVSJNnK",
        "outputId": "15324e31-3b8c-440b-eb81-2f3c16b0a175"
      },
      "execution_count": 10,
      "outputs": [
        {
          "output_type": "stream",
          "name": "stdout",
          "text": [
            "The symmetric difference between {'apple', 'cherry', 'banana'} and {'date', 'fig', 'cherry', 'banana'} is:\n"
          ]
        },
        {
          "output_type": "execute_result",
          "data": {
            "text/plain": [
              "{'apple', 'date', 'fig'}"
            ]
          },
          "metadata": {},
          "execution_count": 10
        }
      ]
    },
    {
      "cell_type": "markdown",
      "source": [
        "# 4. Write a Python program to create a set from a given list and remove the duplicates."
      ],
      "metadata": {
        "id": "MbY33NTes2gt"
      }
    },
    {
      "cell_type": "code",
      "source": [
        "# function will take a list.\n",
        "def setFromList(L):\n",
        "    # creating a list wich will actually will be a set\n",
        "    setIs = []\n",
        "    for i in L:\n",
        "        if i in setIs:\n",
        "            continue\n",
        "        setIs.append(i)\n",
        "    # now the list setIs actually a set that we want. However, to print it as a set\n",
        "    setIs = set(setIs)\n",
        "    print(setIs)"
      ],
      "metadata": {
        "id": "Wx8ibbr6sm_-"
      },
      "execution_count": 11,
      "outputs": []
    },
    {
      "cell_type": "code",
      "source": [
        "setFromList([20,20,22,22,22,24,26])"
      ],
      "metadata": {
        "colab": {
          "base_uri": "https://localhost:8080/"
        },
        "id": "QWcqh-p-K-Ts",
        "outputId": "80c95403-ee90-4782-d5e3-352a4a34c398"
      },
      "execution_count": 12,
      "outputs": [
        {
          "output_type": "stream",
          "name": "stdout",
          "text": [
            "{24, 26, 20, 22}\n"
          ]
        }
      ]
    },
    {
      "cell_type": "code",
      "source": [
        "setFromList([\"rose\",\"tulip\",\"rose\",\"lily\",\"daisy\",\"lily\",\"sunflower\"])"
      ],
      "metadata": {
        "colab": {
          "base_uri": "https://localhost:8080/"
        },
        "id": "6AZxAB5TL3q3",
        "outputId": "2e169545-de80-4d12-ab56-2de1d7a1bb51"
      },
      "execution_count": 13,
      "outputs": [
        {
          "output_type": "stream",
          "name": "stdout",
          "text": [
            "{'sunflower', 'daisy', 'tulip', 'rose', 'lily'}\n"
          ]
        }
      ]
    },
    {
      "cell_type": "markdown",
      "source": [
        "# 5. Write a Python program to create a new set with all the elements from two sets, but exclude the common ones."
      ],
      "metadata": {
        "id": "ScKfEobNs44W"
      }
    },
    {
      "cell_type": "code",
      "source": [
        "# It is same as question number 3"
      ],
      "metadata": {
        "id": "xj94O3dvteor"
      },
      "execution_count": 14,
      "outputs": []
    },
    {
      "cell_type": "markdown",
      "source": [
        "# 6. Write a Python program to check if a set is a subset of another set."
      ],
      "metadata": {
        "id": "JXcLUOr_teGC"
      }
    },
    {
      "cell_type": "code",
      "source": [
        "# checking set2 is a subset of set1\n",
        "def checkIfSubset(set1,set2):\n",
        "    list1 = list(set1)\n",
        "    list2 = list(set2)\n",
        "    for i in list2:\n",
        "        if i in list1:\n",
        "            pass\n",
        "        else:\n",
        "            return False\n",
        "    return True"
      ],
      "metadata": {
        "id": "nLVKTXFatUcu"
      },
      "execution_count": 15,
      "outputs": []
    },
    {
      "cell_type": "code",
      "source": [
        "s5 = {7,5,5,9,10}\n",
        "s6 = {5,7,9}\n",
        "checkIfSubset(s5,s6)"
      ],
      "metadata": {
        "colab": {
          "base_uri": "https://localhost:8080/"
        },
        "id": "hrY8iwf0RsXj",
        "outputId": "be76fe80-c2ff-43d1-8be7-dddfac3f8991"
      },
      "execution_count": 16,
      "outputs": [
        {
          "output_type": "execute_result",
          "data": {
            "text/plain": [
              "True"
            ]
          },
          "metadata": {},
          "execution_count": 16
        }
      ]
    },
    {
      "cell_type": "code",
      "source": [
        "s5 = {7,3,51,23,3}\n",
        "s6 = {}\n",
        "checkIfSubset(s5,s6)"
      ],
      "metadata": {
        "colab": {
          "base_uri": "https://localhost:8080/"
        },
        "id": "r0uS2V8ES-Jl",
        "outputId": "f3d9d0cc-5fff-4627-e5ba-c376ed58189a"
      },
      "execution_count": 17,
      "outputs": [
        {
          "output_type": "execute_result",
          "data": {
            "text/plain": [
              "True"
            ]
          },
          "metadata": {},
          "execution_count": 17
        }
      ]
    },
    {
      "cell_type": "code",
      "source": [
        "s5 = {1,2,3,6}\n",
        "s6 = {1,2,3,4,5}\n",
        "checkIfSubset(s5,s6)"
      ],
      "metadata": {
        "colab": {
          "base_uri": "https://localhost:8080/"
        },
        "id": "jAik_wFLWirS",
        "outputId": "1be36ce0-cd7b-4188-eaa2-68ee54f83cf1"
      },
      "execution_count": 18,
      "outputs": [
        {
          "output_type": "execute_result",
          "data": {
            "text/plain": [
              "False"
            ]
          },
          "metadata": {},
          "execution_count": 18
        }
      ]
    },
    {
      "cell_type": "markdown",
      "source": [
        "# 7. Write a Python program to find the maximum and minimum values in a set."
      ],
      "metadata": {
        "id": "715bZn04tiu2"
      }
    },
    {
      "cell_type": "code",
      "source": [
        "# function recieves a set s\n",
        "def maxAndMinOfSet(s):\n",
        "    # converting that set to list for indexing.\n",
        "    l = list(s)\n",
        "    # sorting that list in acending order\n",
        "    l.sort()\n",
        "    print(\"The maximum value of the set is:\",l[len(l)-1],\"\\nThe minimum value of the set is:\",l[0])"
      ],
      "metadata": {
        "id": "3caPmCaotnzz"
      },
      "execution_count": 19,
      "outputs": []
    },
    {
      "cell_type": "code",
      "source": [
        "maxAndMinOfSet({23,45,11,0,-4,100})"
      ],
      "metadata": {
        "colab": {
          "base_uri": "https://localhost:8080/"
        },
        "id": "DvPf0ExzUaST",
        "outputId": "21da3616-1b08-496e-c65c-2aa7c1848da2"
      },
      "execution_count": 20,
      "outputs": [
        {
          "output_type": "stream",
          "name": "stdout",
          "text": [
            "The maximum value of the set is: 100 \n",
            "The minimum value of the set is: -4\n"
          ]
        }
      ]
    },
    {
      "cell_type": "code",
      "source": [
        "maxAndMinOfSet({0,0,0,0,0,0})"
      ],
      "metadata": {
        "colab": {
          "base_uri": "https://localhost:8080/"
        },
        "id": "Ko0TVDjVW0_N",
        "outputId": "742bbe68-6e7b-4053-8628-8b5741d066ea"
      },
      "execution_count": 21,
      "outputs": [
        {
          "output_type": "stream",
          "name": "stdout",
          "text": [
            "The maximum value of the set is: 0 \n",
            "The minimum value of the set is: 0\n"
          ]
        }
      ]
    },
    {
      "cell_type": "code",
      "source": [
        "maxAndMinOfSet({-10,-5,-1,0,1,5,10})"
      ],
      "metadata": {
        "colab": {
          "base_uri": "https://localhost:8080/"
        },
        "id": "W6d0syrXW7ix",
        "outputId": "9ff51011-d58a-4fdc-d92b-cbeffbff89de"
      },
      "execution_count": 22,
      "outputs": [
        {
          "output_type": "stream",
          "name": "stdout",
          "text": [
            "The maximum value of the set is: 10 \n",
            "The minimum value of the set is: -10\n"
          ]
        }
      ]
    },
    {
      "cell_type": "code",
      "source": [
        "maxAndMinOfSet({3.14,1.59,2.71,1.41})"
      ],
      "metadata": {
        "colab": {
          "base_uri": "https://localhost:8080/"
        },
        "id": "6iwuzaSXXIpU",
        "outputId": "e2372435-a2b2-476d-a606-87e81b7cb391"
      },
      "execution_count": 23,
      "outputs": [
        {
          "output_type": "stream",
          "name": "stdout",
          "text": [
            "The maximum value of the set is: 3.14 \n",
            "The minimum value of the set is: 1.41\n"
          ]
        }
      ]
    },
    {
      "cell_type": "markdown",
      "source": [
        "# 8. Write a Python program to remove all the elements from a set."
      ],
      "metadata": {
        "id": "2l-rYRKHtq-7"
      }
    },
    {
      "cell_type": "code",
      "source": [
        "def removeSetElements(s):\n",
        "    # function recieves a set s\n",
        "    for i in range(len(s)):\n",
        "        s.pop()\n",
        "    return s"
      ],
      "metadata": {
        "id": "_OrHS79ttrvB"
      },
      "execution_count": 24,
      "outputs": []
    },
    {
      "cell_type": "code",
      "source": [
        "removeSetElements(s6)"
      ],
      "metadata": {
        "colab": {
          "base_uri": "https://localhost:8080/"
        },
        "id": "oOO0vPOHV8ba",
        "outputId": "552d4225-8cfb-448d-b459-7eed44ab9f98"
      },
      "execution_count": 25,
      "outputs": [
        {
          "output_type": "execute_result",
          "data": {
            "text/plain": [
              "set()"
            ]
          },
          "metadata": {},
          "execution_count": 25
        }
      ]
    },
    {
      "cell_type": "markdown",
      "source": [
        "# 9. Write a Python program to update a set with the union of itself and another set."
      ],
      "metadata": {
        "id": "A2AY8zO-YeGa"
      }
    },
    {
      "cell_type": "code",
      "source": [
        "# function will take two sets\n",
        "def updateSetWithUnion(set1,set2):\n",
        "    # converting those sets to list for indexing.\n",
        "    list1 = list(set1)\n",
        "    list2 = list(set2)\n",
        "    # list1 is actually set1\n",
        "    # appending the elements of list2 which is not already in list1, to list1. (union)\n",
        "    for i in list2:\n",
        "        if i in list1:\n",
        "            continue\n",
        "        else:\n",
        "            list1.append(i)\n",
        "    # casting back list1 to set1\n",
        "    set1 = set(list1)\n",
        "    print(set1)"
      ],
      "metadata": {
        "id": "ooC1TFt1YfNj"
      },
      "execution_count": 26,
      "outputs": []
    },
    {
      "cell_type": "code",
      "source": [
        "s7 = {1,2,3}\n",
        "s8 = {3,4,5}\n",
        "updateSetWithUnion(s7,s8)"
      ],
      "metadata": {
        "colab": {
          "base_uri": "https://localhost:8080/"
        },
        "id": "HbXATtqXaAml",
        "outputId": "8718759c-ec15-4bb6-f4fa-fdcf1d57a6db"
      },
      "execution_count": 27,
      "outputs": [
        {
          "output_type": "stream",
          "name": "stdout",
          "text": [
            "{1, 2, 3, 4, 5}\n"
          ]
        }
      ]
    },
    {
      "cell_type": "code",
      "source": [
        "s7 = {10,20}\n",
        "s8 = {20,30,40}\n",
        "updateSetWithUnion(s7,s8)"
      ],
      "metadata": {
        "colab": {
          "base_uri": "https://localhost:8080/"
        },
        "id": "TrpMrWLqaXpT",
        "outputId": "92417c10-eb38-40f2-87d2-b706e2982aeb"
      },
      "execution_count": 28,
      "outputs": [
        {
          "output_type": "stream",
          "name": "stdout",
          "text": [
            "{40, 10, 20, 30}\n"
          ]
        }
      ]
    },
    {
      "cell_type": "code",
      "source": [
        "s7 = {1,2,3}\n",
        "s8 = {1,2,3}\n",
        "updateSetWithUnion(s7,s8)"
      ],
      "metadata": {
        "colab": {
          "base_uri": "https://localhost:8080/"
        },
        "id": "0O1MXlfJahuE",
        "outputId": "be52fa5f-5b3e-4b24-eec8-6292cf3aadc4"
      },
      "execution_count": 29,
      "outputs": [
        {
          "output_type": "stream",
          "name": "stdout",
          "text": [
            "{1, 2, 3}\n"
          ]
        }
      ]
    },
    {
      "cell_type": "code",
      "source": [
        "s7 = {}\n",
        "s8 = {1000,2050}\n",
        "updateSetWithUnion(s7,s8)"
      ],
      "metadata": {
        "colab": {
          "base_uri": "https://localhost:8080/"
        },
        "id": "pD3zRxyOal00",
        "outputId": "c38b01a7-45e7-4bfb-e642-0ae1a42d7e94"
      },
      "execution_count": 30,
      "outputs": [
        {
          "output_type": "stream",
          "name": "stdout",
          "text": [
            "{1000, 2050}\n"
          ]
        }
      ]
    },
    {
      "cell_type": "markdown",
      "source": [
        "# 10. Write a Python program to find the sum of all the elements in a set."
      ],
      "metadata": {
        "id": "dwf1k9JuYfxd"
      }
    },
    {
      "cell_type": "code",
      "source": [
        "# the function will take a set s\n",
        "def sumOfElementsInSet(s):\n",
        "    # converting those sets to list for indexing.\n",
        "    list1 = list(s)\n",
        "    # adding all elements of that list\n",
        "    sum = 0\n",
        "    for i in list1:\n",
        "        sum = sum + i\n",
        "    print(sum)"
      ],
      "metadata": {
        "id": "2VXnOXDOaH4Y"
      },
      "execution_count": 31,
      "outputs": []
    },
    {
      "cell_type": "code",
      "source": [
        "s9 = {1,2,3,4,5}\n",
        "sumOfElementsInSet(s9)"
      ],
      "metadata": {
        "colab": {
          "base_uri": "https://localhost:8080/"
        },
        "id": "mzwSO3lXbVfT",
        "outputId": "dec9721a-2271-4517-a1d8-bf16de6832c0"
      },
      "execution_count": 32,
      "outputs": [
        {
          "output_type": "stream",
          "name": "stdout",
          "text": [
            "15\n"
          ]
        }
      ]
    },
    {
      "cell_type": "code",
      "source": [
        "s9 = {10,20,30}\n",
        "sumOfElementsInSet(s9)"
      ],
      "metadata": {
        "colab": {
          "base_uri": "https://localhost:8080/"
        },
        "id": "KuhwVLAObkVK",
        "outputId": "0ed6be0b-a220-4ca4-fd43-56cb87c1249e"
      },
      "execution_count": 33,
      "outputs": [
        {
          "output_type": "stream",
          "name": "stdout",
          "text": [
            "60\n"
          ]
        }
      ]
    },
    {
      "cell_type": "code",
      "source": [
        "s9 = {-1,-2,-3}\n",
        "sumOfElementsInSet(s9)"
      ],
      "metadata": {
        "colab": {
          "base_uri": "https://localhost:8080/"
        },
        "id": "YErbkCd0br6x",
        "outputId": "544cf3cc-f2ae-4efa-e3f4-a2714ef80b4f"
      },
      "execution_count": 34,
      "outputs": [
        {
          "output_type": "stream",
          "name": "stdout",
          "text": [
            "-6\n"
          ]
        }
      ]
    },
    {
      "cell_type": "code",
      "source": [
        "s9 = {0,0,0,0}\n",
        "sumOfElementsInSet(s9)"
      ],
      "metadata": {
        "colab": {
          "base_uri": "https://localhost:8080/"
        },
        "id": "zRabPa1fbvP1",
        "outputId": "ef640ca9-ee3b-4d51-b51f-ae169690448d"
      },
      "execution_count": 35,
      "outputs": [
        {
          "output_type": "stream",
          "name": "stdout",
          "text": [
            "0\n"
          ]
        }
      ]
    },
    {
      "cell_type": "code",
      "source": [
        "s9 = {1.5,2.5,3.5}\n",
        "sumOfElementsInSet(s9)"
      ],
      "metadata": {
        "colab": {
          "base_uri": "https://localhost:8080/"
        },
        "id": "OQxQMNagby3f",
        "outputId": "f692d73e-cc93-4ca7-84b8-bd4045fa2b01"
      },
      "execution_count": 36,
      "outputs": [
        {
          "output_type": "stream",
          "name": "stdout",
          "text": [
            "7.5\n"
          ]
        }
      ]
    }
  ]
}