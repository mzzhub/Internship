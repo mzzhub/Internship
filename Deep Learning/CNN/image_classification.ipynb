{
  "nbformat": 4,
  "nbformat_minor": 0,
  "metadata": {
    "colab": {
      "provenance": [],
      "toc_visible": true,
      "gpuType": "T4"
    },
    "kernelspec": {
      "name": "python3",
      "display_name": "Python 3"
    },
    "language_info": {
      "name": "python"
    },
    "accelerator": "GPU"
  },
  "cells": [
    {
      "cell_type": "markdown",
      "source": [
        "# **Loading CIFAR-10 data**"
      ],
      "metadata": {
        "id": "5ZZZlSH0P8gv"
      }
    },
    {
      "cell_type": "code",
      "execution_count": 1,
      "metadata": {
        "colab": {
          "base_uri": "https://localhost:8080/"
        },
        "id": "6OdP09zVITNI",
        "outputId": "c4e0af4f-02ad-464c-fc58-73f31a2b1c35"
      },
      "outputs": [
        {
          "output_type": "stream",
          "name": "stdout",
          "text": [
            "Downloading data from https://www.cs.toronto.edu/~kriz/cifar-10-python.tar.gz\n",
            "\u001b[1m170498071/170498071\u001b[0m \u001b[32m━━━━━━━━━━━━━━━━━━━━\u001b[0m\u001b[37m\u001b[0m \u001b[1m4s\u001b[0m 0us/step\n"
          ]
        }
      ],
      "source": [
        "from tensorflow.keras.datasets import cifar10\n",
        "(x_train, y_train), (x_test, y_test) = cifar10.load_data()"
      ]
    },
    {
      "cell_type": "markdown",
      "source": [
        "# **Preprocess the data**"
      ],
      "metadata": {
        "id": "3P5Zd9RTQCUD"
      }
    },
    {
      "cell_type": "code",
      "source": [
        "x_train = x_train.astype(\"float32\") / 255.0 # Normalize pixel values to 0-1\n",
        "x_test = x_test.astype(\"float32\") / 255.0   # Normalize pixel values to 0-1\n",
        "\n",
        "from tensorflow.keras.utils import to_categorical\n",
        "y_train = to_categorical(y_train, 10)       # One-hot encode labels\n",
        "y_test = to_categorical(y_test, 10)         # One-hot encode labels"
      ],
      "metadata": {
        "id": "IjtMmsgpIhQC"
      },
      "execution_count": 2,
      "outputs": []
    },
    {
      "cell_type": "markdown",
      "source": [
        "# **Build the CNN model**"
      ],
      "metadata": {
        "id": "do0lljDbQFgv"
      }
    },
    {
      "cell_type": "code",
      "source": [
        "from tensorflow.keras import Sequential\n",
        "from tensorflow.keras.layers import Conv2D, MaxPooling2D, Flatten, Dense, Dropout\n",
        "\n",
        "model = Sequential([\n",
        "    Conv2D(32, (3, 3), activation = \"relu\", input_shape = (32, 32, 3)), # Convolutional layer\n",
        "    MaxPooling2D((2, 2)),                                               # MaxPooling layer\n",
        "    Conv2D(64, (3, 3), activation = \"relu\" ),                           # Second convolutional layer\n",
        "    MaxPooling2D((2, 2)),                                               # Second pooling layer\n",
        "    Conv2D(128, (3, 3), activation = \"relu\" ),                          # Third convolutional layer\n",
        "    Flatten(),                                                          # Flatten layer\n",
        "    Dense(128, activation = \"relu\"),                                    # Fully connected layer\n",
        "    Dropout(0.5),                                                       # Dropout for regulaization\n",
        "    Dense(10, activation = \"softmax\")                                   # output layer (10 classes)\n",
        "])"
      ],
      "metadata": {
        "colab": {
          "base_uri": "https://localhost:8080/"
        },
        "id": "RnDCZKHWJy6d",
        "outputId": "393f5c67-ba3a-4ef3-a269-b3462a280fb0"
      },
      "execution_count": 3,
      "outputs": [
        {
          "output_type": "stream",
          "name": "stderr",
          "text": [
            "/usr/local/lib/python3.10/dist-packages/keras/src/layers/convolutional/base_conv.py:107: UserWarning: Do not pass an `input_shape`/`input_dim` argument to a layer. When using Sequential models, prefer using an `Input(shape)` object as the first layer in the model instead.\n",
            "  super().__init__(activity_regularizer=activity_regularizer, **kwargs)\n"
          ]
        }
      ]
    },
    {
      "cell_type": "markdown",
      "source": [
        "# **Compile the model**"
      ],
      "metadata": {
        "id": "gbJG7XUfQQN4"
      }
    },
    {
      "cell_type": "code",
      "source": [
        "model.compile(optimizer = \"adam\",\n",
        "              loss = \"categorical_crossentropy\",\n",
        "              metrics = [\"accuracy\"])"
      ],
      "metadata": {
        "id": "gvd_a0zML1Ve"
      },
      "execution_count": 4,
      "outputs": []
    },
    {
      "cell_type": "markdown",
      "source": [
        "# **Train the model**"
      ],
      "metadata": {
        "id": "MA078ni1QTT9"
      }
    },
    {
      "cell_type": "code",
      "source": [
        "model.fit(x_train, y_train, epochs = 10, batch_size = 64, validation_split = 0.2)"
      ],
      "metadata": {
        "colab": {
          "base_uri": "https://localhost:8080/"
        },
        "id": "6K3tfxS4O69i",
        "outputId": "40cbc538-4df4-4e4f-d1e6-7c7790d77094"
      },
      "execution_count": 5,
      "outputs": [
        {
          "output_type": "stream",
          "name": "stdout",
          "text": [
            "Epoch 1/10\n",
            "\u001b[1m625/625\u001b[0m \u001b[32m━━━━━━━━━━━━━━━━━━━━\u001b[0m\u001b[37m\u001b[0m \u001b[1m9s\u001b[0m 6ms/step - accuracy: 0.2843 - loss: 1.9268 - val_accuracy: 0.5177 - val_loss: 1.3423\n",
            "Epoch 2/10\n",
            "\u001b[1m625/625\u001b[0m \u001b[32m━━━━━━━━━━━━━━━━━━━━\u001b[0m\u001b[37m\u001b[0m \u001b[1m2s\u001b[0m 3ms/step - accuracy: 0.4976 - loss: 1.4007 - val_accuracy: 0.5827 - val_loss: 1.1875\n",
            "Epoch 3/10\n",
            "\u001b[1m625/625\u001b[0m \u001b[32m━━━━━━━━━━━━━━━━━━━━\u001b[0m\u001b[37m\u001b[0m \u001b[1m2s\u001b[0m 4ms/step - accuracy: 0.5690 - loss: 1.2214 - val_accuracy: 0.6337 - val_loss: 1.0530\n",
            "Epoch 4/10\n",
            "\u001b[1m625/625\u001b[0m \u001b[32m━━━━━━━━━━━━━━━━━━━━\u001b[0m\u001b[37m\u001b[0m \u001b[1m3s\u001b[0m 4ms/step - accuracy: 0.6163 - loss: 1.1027 - val_accuracy: 0.6478 - val_loss: 1.0003\n",
            "Epoch 5/10\n",
            "\u001b[1m625/625\u001b[0m \u001b[32m━━━━━━━━━━━━━━━━━━━━\u001b[0m\u001b[37m\u001b[0m \u001b[1m5s\u001b[0m 4ms/step - accuracy: 0.6533 - loss: 0.9947 - val_accuracy: 0.6622 - val_loss: 0.9450\n",
            "Epoch 6/10\n",
            "\u001b[1m625/625\u001b[0m \u001b[32m━━━━━━━━━━━━━━━━━━━━\u001b[0m\u001b[37m\u001b[0m \u001b[1m2s\u001b[0m 4ms/step - accuracy: 0.6787 - loss: 0.9277 - val_accuracy: 0.6855 - val_loss: 0.9053\n",
            "Epoch 7/10\n",
            "\u001b[1m625/625\u001b[0m \u001b[32m━━━━━━━━━━━━━━━━━━━━\u001b[0m\u001b[37m\u001b[0m \u001b[1m3s\u001b[0m 4ms/step - accuracy: 0.7029 - loss: 0.8581 - val_accuracy: 0.6689 - val_loss: 0.9498\n",
            "Epoch 8/10\n",
            "\u001b[1m625/625\u001b[0m \u001b[32m━━━━━━━━━━━━━━━━━━━━\u001b[0m\u001b[37m\u001b[0m \u001b[1m3s\u001b[0m 5ms/step - accuracy: 0.7177 - loss: 0.8136 - val_accuracy: 0.7043 - val_loss: 0.8582\n",
            "Epoch 9/10\n",
            "\u001b[1m625/625\u001b[0m \u001b[32m━━━━━━━━━━━━━━━━━━━━\u001b[0m\u001b[37m\u001b[0m \u001b[1m2s\u001b[0m 4ms/step - accuracy: 0.7403 - loss: 0.7528 - val_accuracy: 0.7093 - val_loss: 0.8297\n",
            "Epoch 10/10\n",
            "\u001b[1m625/625\u001b[0m \u001b[32m━━━━━━━━━━━━━━━━━━━━\u001b[0m\u001b[37m\u001b[0m \u001b[1m2s\u001b[0m 4ms/step - accuracy: 0.7504 - loss: 0.7106 - val_accuracy: 0.7139 - val_loss: 0.8295\n"
          ]
        },
        {
          "output_type": "execute_result",
          "data": {
            "text/plain": [
              "<keras.src.callbacks.history.History at 0x7e41894507c0>"
            ]
          },
          "metadata": {},
          "execution_count": 5
        }
      ]
    },
    {
      "cell_type": "markdown",
      "source": [
        "# **Evaluate the model**"
      ],
      "metadata": {
        "id": "mPyYGFqkQa2p"
      }
    },
    {
      "cell_type": "code",
      "source": [
        "test_loss, test_accuracy = model.evaluate(x_test, y_test, verbose = 2)\n",
        "print(f\"Test Accuracy : {test_accuracy:.2f}\")\n",
        "print(f\"Test Loss : {test_loss:.2f}\")"
      ],
      "metadata": {
        "colab": {
          "base_uri": "https://localhost:8080/"
        },
        "id": "kBrC0P-GPI9s",
        "outputId": "af8f9f9e-5e1e-4c9e-aa92-2e289515669e"
      },
      "execution_count": 6,
      "outputs": [
        {
          "output_type": "stream",
          "name": "stdout",
          "text": [
            "313/313 - 1s - 3ms/step - accuracy: 0.7139 - loss: 0.8452\n",
            "Test Accuracy : 0.71\n",
            "Test Loss : 0.85\n"
          ]
        }
      ]
    },
    {
      "cell_type": "markdown",
      "source": [
        "# **Predict on a Sample**"
      ],
      "metadata": {
        "id": "Js6-zq5GQdxZ"
      }
    },
    {
      "cell_type": "code",
      "source": [
        "# Choosing a sample image from the test set\n",
        "\n",
        "import matplotlib.pyplot as plt\n",
        "\n",
        "sample_image = x_test[0]\n",
        "plt.imshow(sample_image)\n",
        "plt.title(\"Sample Image\")\n",
        "plt.show()"
      ],
      "metadata": {
        "colab": {
          "base_uri": "https://localhost:8080/",
          "height": 452
        },
        "id": "lSnHrPrWPric",
        "outputId": "19976286-9f1f-4db1-c264-71292c773dd5"
      },
      "execution_count": 7,
      "outputs": [
        {
          "output_type": "display_data",
          "data": {
            "text/plain": [
              "<Figure size 640x480 with 1 Axes>"
            ],
            "image/png": "[encoded data removed]"
          },
          "metadata": {}
        }
      ]
    },
    {
      "cell_type": "code",
      "source": [
        "# Make a prediction\n",
        "\n",
        "import numpy as np\n",
        "\n",
        "prediction = model.predict(np.expand_dims(sample_image, axis = 0))\n",
        "classes = [\"airplane\", \"automobile\", \"bird\", \"cat\", \"deer\", \"dog\", \"frog\", \"horse\", \"ship\", \"truck\"]\n",
        "predicted_class = classes[np.argmax(prediction)]\n",
        "print(f\"Predicted Class : {predicted_class}\")"
      ],
      "metadata": {
        "colab": {
          "base_uri": "https://localhost:8080/"
        },
        "id": "CZAxHaGzQzP3",
        "outputId": "54c9cc04-4c51-4e9c-ceac-6e4bd8897c43"
      },
      "execution_count": 8,
      "outputs": [
        {
          "output_type": "stream",
          "name": "stdout",
          "text": [
            "\u001b[1m1/1\u001b[0m \u001b[32m━━━━━━━━━━━━━━━━━━━━\u001b[0m\u001b[37m\u001b[0m \u001b[1m0s\u001b[0m 477ms/step\n",
            "Predicted Class : cat\n"
          ]
        }
      ]
    },
    {
      "cell_type": "markdown",
      "source": [
        "# **More Predctions**"
      ],
      "metadata": {
        "id": "0XNNxxpvZG0c"
      }
    },
    {
      "cell_type": "code",
      "source": [
        "x_test.shape"
      ],
      "metadata": {
        "colab": {
          "base_uri": "https://localhost:8080/"
        },
        "id": "TIrPYQccZgd2",
        "outputId": "35f26bc2-1543-437d-a4f0-214cc951d13c"
      },
      "execution_count": 9,
      "outputs": [
        {
          "output_type": "execute_result",
          "data": {
            "text/plain": [
              "(10000, 32, 32, 3)"
            ]
          },
          "metadata": {},
          "execution_count": 9
        }
      ]
    },
    {
      "cell_type": "markdown",
      "source": [
        "## 01"
      ],
      "metadata": {
        "id": "yvUpFmsmZNpc"
      }
    },
    {
      "cell_type": "code",
      "source": [
        "# Choosing a sample image from the test set\n",
        "\n",
        "import matplotlib.pyplot as plt\n",
        "\n",
        "sample_image = x_test[1000]\n",
        "plt.imshow(sample_image)\n",
        "plt.title(\"Sample Image\")\n",
        "plt.show()"
      ],
      "metadata": {
        "colab": {
          "base_uri": "https://localhost:8080/",
          "height": 452
        },
        "outputId": "2da4658f-b749-40b2-ea19-8356f947f1e9",
        "id": "ZIKGG01ZZLLt"
      },
      "execution_count": 10,
      "outputs": [
        {
          "output_type": "display_data",
          "data": {
            "text/plain": [
              "<Figure size 640x480 with 1 Axes>"
            ],
            "image/png": "[encoded data removed]"
          },
          "metadata": {}
        }
      ]
    },
    {
      "cell_type": "code",
      "source": [
        "# Make a prediction\n",
        "\n",
        "import numpy as np\n",
        "\n",
        "prediction = model.predict(np.expand_dims(sample_image, axis = 0))\n",
        "classes = [\"airplane\", \"automobile\", \"bird\", \"cat\", \"deer\", \"dog\", \"frog\", \"horse\", \"ship\", \"truck\"]\n",
        "predicted_class = classes[np.argmax(prediction)]\n",
        "print(f\"Predicted Class : {predicted_class}\")"
      ],
      "metadata": {
        "colab": {
          "base_uri": "https://localhost:8080/"
        },
        "outputId": "f88d4a72-3987-4cbe-8d6a-307a1f761b28",
        "id": "YURYx_uiZLLu"
      },
      "execution_count": 11,
      "outputs": [
        {
          "output_type": "stream",
          "name": "stdout",
          "text": [
            "\u001b[1m1/1\u001b[0m \u001b[32m━━━━━━━━━━━━━━━━━━━━\u001b[0m\u001b[37m\u001b[0m \u001b[1m0s\u001b[0m 17ms/step\n",
            "Predicted Class : dog\n"
          ]
        }
      ]
    },
    {
      "cell_type": "markdown",
      "source": [
        "## 02"
      ],
      "metadata": {
        "id": "viX0t8ymZP08"
      }
    },
    {
      "cell_type": "code",
      "source": [
        "# Choosing a sample image from the test set\n",
        "\n",
        "import matplotlib.pyplot as plt\n",
        "\n",
        "sample_image = x_test[2000]\n",
        "plt.imshow(sample_image)\n",
        "plt.title(\"Sample Image\")\n",
        "plt.show()"
      ],
      "metadata": {
        "colab": {
          "base_uri": "https://localhost:8080/",
          "height": 452
        },
        "outputId": "4b8adcc9-83a2-48bf-e87b-6c265bcba4f1",
        "id": "HzObQ_foZQ2T"
      },
      "execution_count": 12,
      "outputs": [
        {
          "output_type": "display_data",
          "data": {
            "text/plain": [
              "<Figure size 640x480 with 1 Axes>"
            ],
            "image/png": "[encoded data removed]"
          },
          "metadata": {}
        }
      ]
    },
    {
      "cell_type": "code",
      "source": [
        "# Make a prediction\n",
        "\n",
        "import numpy as np\n",
        "\n",
        "prediction = model.predict(np.expand_dims(sample_image, axis = 0))\n",
        "classes = [\"airplane\", \"automobile\", \"bird\", \"cat\", \"deer\", \"dog\", \"frog\", \"horse\", \"ship\", \"truck\"]\n",
        "predicted_class = classes[np.argmax(prediction)]\n",
        "print(f\"Predicted Class : {predicted_class}\")"
      ],
      "metadata": {
        "colab": {
          "base_uri": "https://localhost:8080/"
        },
        "outputId": "e8affaff-bea5-4164-902c-5b1b46ffe041",
        "id": "qctTtDS5ZQ2V"
      },
      "execution_count": 13,
      "outputs": [
        {
          "output_type": "stream",
          "name": "stdout",
          "text": [
            "\u001b[1m1/1\u001b[0m \u001b[32m━━━━━━━━━━━━━━━━━━━━\u001b[0m\u001b[37m\u001b[0m \u001b[1m0s\u001b[0m 20ms/step\n",
            "Predicted Class : frog\n"
          ]
        }
      ]
    },
    {
      "cell_type": "markdown",
      "source": [
        "## 03"
      ],
      "metadata": {
        "id": "W7niB5UhZSe9"
      }
    },
    {
      "cell_type": "code",
      "source": [
        "# Choosing a sample image from the test set\n",
        "\n",
        "import matplotlib.pyplot as plt\n",
        "\n",
        "sample_image = x_test[3000]\n",
        "plt.imshow(sample_image)\n",
        "plt.title(\"Sample Image\")\n",
        "plt.show()"
      ],
      "metadata": {
        "colab": {
          "base_uri": "https://localhost:8080/",
          "height": 452
        },
        "outputId": "4db1ef19-97cc-4d93-f58c-f6607a2ea019",
        "id": "comkdQFwZT9w"
      },
      "execution_count": 14,
      "outputs": [
        {
          "output_type": "display_data",
          "data": {
            "text/plain": [
              "<Figure size 640x480 with 1 Axes>"
            ],
            "image/png": "[encoded data removed]"
          },
          "metadata": {}
        }
      ]
    },
    {
      "cell_type": "code",
      "source": [
        "# Make a prediction\n",
        "\n",
        "import numpy as np\n",
        "\n",
        "prediction = model.predict(np.expand_dims(sample_image, axis = 0))\n",
        "classes = [\"airplane\", \"automobile\", \"bird\", \"cat\", \"deer\", \"dog\", \"frog\", \"horse\", \"ship\", \"truck\"]\n",
        "predicted_class = classes[np.argmax(prediction)]\n",
        "print(f\"Predicted Class : {predicted_class}\")"
      ],
      "metadata": {
        "colab": {
          "base_uri": "https://localhost:8080/"
        },
        "outputId": "5bd4e6f6-af82-4e17-d982-971f6c3a02ce",
        "id": "BfS99pBxZT9x"
      },
      "execution_count": 15,
      "outputs": [
        {
          "output_type": "stream",
          "name": "stdout",
          "text": [
            "\u001b[1m1/1\u001b[0m \u001b[32m━━━━━━━━━━━━━━━━━━━━\u001b[0m\u001b[37m\u001b[0m \u001b[1m0s\u001b[0m 17ms/step\n",
            "Predicted Class : dog\n"
          ]
        }
      ]
    },
    {
      "cell_type": "markdown",
      "source": [
        "## 04"
      ],
      "metadata": {
        "id": "Dji6KLt0ZWko"
      }
    },
    {
      "cell_type": "code",
      "source": [
        "# Choosing a sample image from the test set\n",
        "\n",
        "import matplotlib.pyplot as plt\n",
        "\n",
        "sample_image = x_test[4000]\n",
        "plt.imshow(sample_image)\n",
        "plt.title(\"Sample Image\")\n",
        "plt.show()"
      ],
      "metadata": {
        "colab": {
          "base_uri": "https://localhost:8080/",
          "height": 452
        },
        "outputId": "726836b5-0ae4-44d7-b8a1-7e2559e0ae5a",
        "id": "1g8QLgZSZWko"
      },
      "execution_count": 16,
      "outputs": [
        {
          "output_type": "display_data",
          "data": {
            "text/plain": [
              "<Figure size 640x480 with 1 Axes>"
            ],
            "image/png": "[encoded data removed]"
          },
          "metadata": {}
        }
      ]
    },
    {
      "cell_type": "code",
      "source": [
        "# Make a prediction\n",
        "\n",
        "import numpy as np\n",
        "\n",
        "prediction = model.predict(np.expand_dims(sample_image, axis = 0))\n",
        "classes = [\"airplane\", \"automobile\", \"bird\", \"cat\", \"deer\", \"dog\", \"frog\", \"horse\", \"ship\", \"truck\"]\n",
        "predicted_class = classes[np.argmax(prediction)]\n",
        "print(f\"Predicted Class : {predicted_class}\")"
      ],
      "metadata": {
        "colab": {
          "base_uri": "https://localhost:8080/"
        },
        "outputId": "db6b6137-138f-4db5-86f6-084cab65575e",
        "id": "CM2xt2SPZWko"
      },
      "execution_count": 17,
      "outputs": [
        {
          "output_type": "stream",
          "name": "stdout",
          "text": [
            "\u001b[1m1/1\u001b[0m \u001b[32m━━━━━━━━━━━━━━━━━━━━\u001b[0m\u001b[37m\u001b[0m \u001b[1m0s\u001b[0m 16ms/step\n",
            "Predicted Class : deer\n"
          ]
        }
      ]
    },
    {
      "cell_type": "markdown",
      "source": [
        "## 05"
      ],
      "metadata": {
        "id": "AiyIF50mZWtr"
      }
    },
    {
      "cell_type": "code",
      "source": [
        "# Choosing a sample image from the test set\n",
        "\n",
        "import matplotlib.pyplot as plt\n",
        "\n",
        "sample_image = x_test[5000]\n",
        "plt.imshow(sample_image)\n",
        "plt.title(\"Sample Image\")\n",
        "plt.show()"
      ],
      "metadata": {
        "colab": {
          "base_uri": "https://localhost:8080/",
          "height": 452
        },
        "outputId": "2595afaf-8989-4a99-f916-83ce323ef59f",
        "id": "yRPMCwUqZWtr"
      },
      "execution_count": 18,
      "outputs": [
        {
          "output_type": "display_data",
          "data": {
            "text/plain": [
              "<Figure size 640x480 with 1 Axes>"
            ],
            "image/png": "[encoded data removed]"
          },
          "metadata": {}
        }
      ]
    },
    {
      "cell_type": "code",
      "source": [
        "# Make a prediction\n",
        "\n",
        "import numpy as np\n",
        "\n",
        "prediction = model.predict(np.expand_dims(sample_image, axis = 0))\n",
        "classes = [\"airplane\", \"automobile\", \"bird\", \"cat\", \"deer\", \"dog\", \"frog\", \"horse\", \"ship\", \"truck\"]\n",
        "predicted_class = classes[np.argmax(prediction)]\n",
        "print(f\"Predicted Class : {predicted_class}\")"
      ],
      "metadata": {
        "colab": {
          "base_uri": "https://localhost:8080/"
        },
        "outputId": "19e159bd-7c7e-4607-ba56-2a2dbb580303",
        "id": "sYg0InNuZWts"
      },
      "execution_count": 19,
      "outputs": [
        {
          "output_type": "stream",
          "name": "stdout",
          "text": [
            "\u001b[1m1/1\u001b[0m \u001b[32m━━━━━━━━━━━━━━━━━━━━\u001b[0m\u001b[37m\u001b[0m \u001b[1m0s\u001b[0m 16ms/step\n",
            "Predicted Class : horse\n"
          ]
        }
      ]
    }
  ]
}