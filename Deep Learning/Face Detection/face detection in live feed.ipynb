{
 "cells": [
  {
   "cell_type": "markdown",
   "id": "08c1e206-bd66-4b0d-9620-c6108622819f",
   "metadata": {
    "id": "08c1e206-bd66-4b0d-9620-c6108622819f"
   },
   "source": [
    "# 1. Installation"
   ]
  },
  {
   "cell_type": "code",
   "execution_count": 15,
   "id": "b44838a2-37df-4ecc-bbef-6fbccd80bcdd",
   "metadata": {
    "id": "b44838a2-37df-4ecc-bbef-6fbccd80bcdd",
    "outputId": "67a42cc8-b26e-4f06-a746-d85af79ce2e3"
   },
   "outputs": [
    {
     "name": "stdout",
     "output_type": "stream",
     "text": [
      "Requirement already satisfied: opencv-python in c:\\users\\famil\\anaconda3\\lib\\site-packages (4.10.0.84)\n",
      "Requirement already satisfied: numpy>=1.21.2 in c:\\users\\famil\\anaconda3\\lib\\site-packages (from opencv-python) (1.26.4)\n",
      "Note: you may need to restart the kernel to use updated packages.\n"
     ]
    }
   ],
   "source": [
    "pip install opencv-python"
   ]
  },
  {
   "cell_type": "markdown",
   "id": "1fda8c22-8b7d-42a3-bccc-d317374215e7",
   "metadata": {
    "id": "1fda8c22-8b7d-42a3-bccc-d317374215e7"
   },
   "source": [
    "# 2. Reading and Displaying an Image"
   ]
  },
  {
   "cell_type": "code",
   "execution_count": 17,
   "id": "2c8dcba5-1504-47d2-b3ec-235a147e2d70",
   "metadata": {
    "id": "2c8dcba5-1504-47d2-b3ec-235a147e2d70"
   },
   "outputs": [],
   "source": [
    "import cv2\n",
    "img = cv2.imread('animals.jpg')\n",
    "cv2.imshow('Image', img)\n",
    "cv2.waitKey(20000)\n",
    "cv2.destroyAllWindows()"
   ]
  },
  {
   "cell_type": "markdown",
   "id": "f8bc2b6a-f526-4720-bab8-e606a8356602",
   "metadata": {
    "id": "f8bc2b6a-f526-4720-bab8-e606a8356602"
   },
   "source": [
    "## 3.Accessing Image Properties"
   ]
  },
  {
   "cell_type": "code",
   "execution_count": 19,
   "id": "8144b87d-455f-400c-8ee3-442eaaeb8794",
   "metadata": {
    "id": "8144b87d-455f-400c-8ee3-442eaaeb8794",
    "outputId": "475eb2bb-a177-420a-86b7-ab675415c016"
   },
   "outputs": [
    {
     "name": "stdout",
     "output_type": "stream",
     "text": [
      "Dimensions: (240, 434, 3)\n",
      "RGB value at (50, 50): [255 255 255]\n"
     ]
    }
   ],
   "source": [
    "print(f\"Dimensions: {img.shape}\")\n",
    "print(f\"RGB value at (50, 50): {img[50, 50]}\")"
   ]
  },
  {
   "cell_type": "markdown",
   "id": "a2e7a040-af7a-4358-8fd4-9118664a4a20",
   "metadata": {
    "id": "a2e7a040-af7a-4358-8fd4-9118664a4a20"
   },
   "source": [
    "# 4. Converting to Grayscale and Edge Detection"
   ]
  },
  {
   "cell_type": "code",
   "execution_count": 21,
   "id": "6d9bc5ba-ee33-4772-8dae-fea79e10ea9c",
   "metadata": {
    "id": "6d9bc5ba-ee33-4772-8dae-fea79e10ea9c",
    "outputId": "ed1da2fd-5e72-4f07-c4f3-aec4ea8635e2"
   },
   "outputs": [
    {
     "data": {
      "text/plain": [
       "-1"
      ]
     },
     "execution_count": 21,
     "metadata": {},
     "output_type": "execute_result"
    }
   ],
   "source": [
    "gray_img = cv2.cvtColor(img, cv2.COLOR_BGR2GRAY)\n",
    "edges = cv2.Canny(gray_img, 100, 200)\n",
    "cv2.imshow('Edges', edges)\n",
    "cv2.waitKey(20000)"
   ]
  },
  {
   "cell_type": "markdown",
   "id": "c1f72dab-b7d6-4d59-98ea-759bc25ecaa1",
   "metadata": {
    "id": "c1f72dab-b7d6-4d59-98ea-759bc25ecaa1"
   },
   "source": [
    "# 5. Using Video Capture and Face Detection:"
   ]
  },
  {
   "cell_type": "code",
   "execution_count": null,
   "id": "69b115ec-151b-41f1-9c34-a5a1f6c41367",
   "metadata": {
    "id": "69b115ec-151b-41f1-9c34-a5a1f6c41367",
    "scrolled": true
   },
   "outputs": [],
   "source": [
    "face_cascade = cv2.CascadeClassifier(cv2.data.haarcascades + 'haarcascade_frontalface_default.xml')\n",
    "cap = cv2.VideoCapture(0)\n",
    "\n",
    "while True:\n",
    "    ret, frame = cap.read()\n",
    "    gray_frame = cv2.cvtColor(frame, cv2.COLOR_BGR2GRAY)\n",
    "    faces = face_cascade.detectMultiScale(gray_frame, scaleFactor=1.1, minNeighbors=5)\n",
    "\n",
    "    for (x, y, w, h) in faces:\n",
    "        cv2.rectangle(frame, (x, y), (x+w, y+h), (255, 0, 0), 2)\n",
    "        roi = frame[y:y+h, x:x+w]  # Region of interest (ROI)\n",
    "\n",
    "    cv2.imshow('Video Feed', frame)\n",
    "    if cv2.waitKey(1) & 0xFF == ord('q'):\n",
    "        break\n",
    "\n",
    "cap.release()\n",
    "cv2.destroyAllWindows()"
   ]
  }
 ],
 "metadata": {
  "colab": {
   "provenance": []
  },
  "kernelspec": {
   "display_name": "Python 3 (ipykernel)",
   "language": "python",
   "name": "python3"
  },
  "language_info": {
   "codemirror_mode": {
    "name": "ipython",
    "version": 3
   },
   "file_extension": ".py",
   "mimetype": "text/x-python",
   "name": "python",
   "nbconvert_exporter": "python",
   "pygments_lexer": "ipython3",
   "version": "3.11.7"
  }
 },
 "nbformat": 4,
 "nbformat_minor": 5
}
