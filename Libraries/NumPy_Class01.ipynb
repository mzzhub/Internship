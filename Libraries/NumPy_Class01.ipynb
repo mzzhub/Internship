{
  "nbformat": 4,
  "nbformat_minor": 0,
  "metadata": {
    "colab": {
      "provenance": []
    },
    "kernelspec": {
      "name": "python3",
      "display_name": "Python 3"
    },
    "language_info": {
      "name": "python"
    }
  },
  "cells": [
    {
      "cell_type": "markdown",
      "source": [
        "* Class name of NumPy is ndarray.\n",
        "* NumPy is a Python library used for working with arrays.\n",
        "* In Python, we have lists, that serves the purpose Of arrays. But they are slow to process.\n",
        "* NumPy aims to provide an array object that is up to faster than\n",
        "traditional Python lists.\n",
        "* The array object in NumPy is called ndarray. It provides a lot of supporting functions that make working with ndarray very easy.\n",
        "* Arrays are very frequently used in data science. Where speed and resources are very important.\n",
        "* Collection of homogenous data.\n",
        "* It does not support hetrogenous data."
      ],
      "metadata": {
        "id": "6Z0sF1FwCmjm"
      }
    },
    {
      "cell_type": "code",
      "execution_count": null,
      "metadata": {
        "colab": {
          "base_uri": "https://localhost:8080/"
        },
        "id": "7nA8aHLH_YdW",
        "outputId": "8a7345e9-0fa0-491c-ccd4-070b7f7d55bc"
      },
      "outputs": [
        {
          "output_type": "stream",
          "name": "stdout",
          "text": [
            "[[[-0.25 -0.5   0.   -0.25]\n",
            "  [ 0.25 -0.5   0.5  -0.25]]\n",
            "\n",
            " [[ 0.25  0.    0.5   0.25]\n",
            "  [ 0.25  0.5   0.    0.25]]\n",
            "\n",
            " [[-0.25  0.5  -0.5   0.25]\n",
            "  [-0.25  0.   -0.5  -0.25]]]\n"
          ]
        }
      ],
      "source": [
        "import numpy as np\n",
        "x = np.ndarray([3,2,4])\n",
        "print(x)"
      ]
    },
    {
      "cell_type": "code",
      "source": [
        "x = np.array([9,4,7])\n",
        "print(x)"
      ],
      "metadata": {
        "colab": {
          "base_uri": "https://localhost:8080/"
        },
        "id": "QMIBJZN6E45O",
        "outputId": "4ffad4d6-02ff-422b-9ec8-d328cb9d145d"
      },
      "execution_count": null,
      "outputs": [
        {
          "output_type": "stream",
          "name": "stdout",
          "text": [
            "[9 4 7]\n"
          ]
        }
      ]
    },
    {
      "cell_type": "code",
      "source": [
        "type(x)"
      ],
      "metadata": {
        "colab": {
          "base_uri": "https://localhost:8080/"
        },
        "id": "o-eTsBYpEEsY",
        "outputId": "da838cd8-9e02-4e38-9250-1f8a10c4c7c6"
      },
      "execution_count": null,
      "outputs": [
        {
          "output_type": "execute_result",
          "data": {
            "text/plain": [
              "numpy.ndarray"
            ]
          },
          "metadata": {},
          "execution_count": 15
        }
      ]
    },
    {
      "cell_type": "code",
      "source": [
        "# dimention of x\n",
        "x.ndim"
      ],
      "metadata": {
        "colab": {
          "base_uri": "https://localhost:8080/"
        },
        "id": "JLfT11brEZDO",
        "outputId": "51fa5410-bb4d-4d8b-e7a2-c021960709c6"
      },
      "execution_count": null,
      "outputs": [
        {
          "output_type": "execute_result",
          "data": {
            "text/plain": [
              "1"
            ]
          },
          "metadata": {},
          "execution_count": 16
        }
      ]
    },
    {
      "cell_type": "code",
      "source": [
        "# shape of x\n",
        "x.shape"
      ],
      "metadata": {
        "colab": {
          "base_uri": "https://localhost:8080/"
        },
        "id": "4sx8CSoxEcTf",
        "outputId": "e2c9ae87-f632-4777-d7fa-0c4bf0e653cb"
      },
      "execution_count": null,
      "outputs": [
        {
          "output_type": "execute_result",
          "data": {
            "text/plain": [
              "(3,)"
            ]
          },
          "metadata": {},
          "execution_count": 18
        }
      ]
    },
    {
      "cell_type": "code",
      "source": [
        "# 2D array\n",
        "a = np.array([[2,4,5,6],[9,8,7,6]])\n",
        "print(a)"
      ],
      "metadata": {
        "colab": {
          "base_uri": "https://localhost:8080/"
        },
        "id": "c3_I5hzNEnDo",
        "outputId": "0c43074c-8c66-47f3-d836-a218fd1c0a40"
      },
      "execution_count": null,
      "outputs": [
        {
          "output_type": "stream",
          "name": "stdout",
          "text": [
            "[[2 4 5 6]\n",
            " [9 8 7 6]]\n"
          ]
        }
      ]
    },
    {
      "cell_type": "code",
      "source": [
        "# of shape (4,5)\n",
        "b = np.array([[44,33,22,11,55],[10,20,30,40,50],[94,56,90,11,90],[-1,-2,-3,-4,0]])\n",
        "print(b)\n",
        "print(np.shape(b))"
      ],
      "metadata": {
        "colab": {
          "base_uri": "https://localhost:8080/"
        },
        "id": "slJZJXreFlY8",
        "outputId": "6cda344d-3478-4891-d671-7a59aaf01512"
      },
      "execution_count": null,
      "outputs": [
        {
          "output_type": "stream",
          "name": "stdout",
          "text": [
            "[[44 33 22 11 55]\n",
            " [10 20 30 40 50]\n",
            " [94 56 90 11 90]\n",
            " [-1 -2 -3 -4  0]]\n",
            "(4, 5)\n"
          ]
        }
      ]
    },
    {
      "cell_type": "code",
      "source": [
        "# of shape (2,6)\n",
        "c = np.array([[6,12,18,24,30,36],[5,10,15,20,25,30]])\n",
        "print(c)\n",
        "print(np.shape(c))"
      ],
      "metadata": {
        "colab": {
          "base_uri": "https://localhost:8080/"
        },
        "id": "JeA6rPioGIkF",
        "outputId": "20c684f0-fd44-449b-aa68-7c84432f5cbf"
      },
      "execution_count": null,
      "outputs": [
        {
          "output_type": "stream",
          "name": "stdout",
          "text": [
            "[[ 6 12 18 24 30 36]\n",
            " [ 5 10 15 20 25 30]]\n",
            "(2, 6)\n"
          ]
        }
      ]
    },
    {
      "cell_type": "code",
      "source": [
        "d = np.array([[[2,4,5],[7,17,30]],[[2,4,5],[7,17,30]]])\n",
        "print(d)\n",
        "print(np.shape(d))\n",
        "print(np.ndim(d))"
      ],
      "metadata": {
        "colab": {
          "base_uri": "https://localhost:8080/"
        },
        "id": "SjJPlPHOG2vu",
        "outputId": "2d94c713-940b-48c1-9a35-6b73ce0be12c"
      },
      "execution_count": null,
      "outputs": [
        {
          "output_type": "stream",
          "name": "stdout",
          "text": [
            "[[[ 2  4  5]\n",
            "  [ 7 17 30]]\n",
            "\n",
            " [[ 2  4  5]\n",
            "  [ 7 17 30]]]\n",
            "(2, 2, 3)\n",
            "3\n"
          ]
        }
      ]
    },
    {
      "cell_type": "code",
      "source": [
        "# (2,4,2)\n",
        "e = np.array([[[1,2],[2,4],[3,6],[4,8]],[[5,10],[6,12],[7,14],[8,16]]])\n",
        "print(np.ndim(e))\n",
        "print(np.shape(e),\"\\n\")\n",
        "\n",
        "# (3,2,3)\n",
        "f = np.array([[[1,2,3],[2,3,4]],[[3,4,5],[4,5,6]],[[5,6,7],[6,7,8]]])\n",
        "print(np.ndim(f))\n",
        "print(np.shape(f),\"\\n\")\n",
        "\n",
        "# (4,2,2)\n",
        "g = np.array([[[100,50],[90,45]],[[1000,500],[32,16]],[[50,25],[12,6]],[[3,1.5],[8,4]]])\n",
        "print(np.ndim(g))\n",
        "print(np.shape(g))"
      ],
      "metadata": {
        "colab": {
          "base_uri": "https://localhost:8080/"
        },
        "id": "HXIUKH5OJQ-L",
        "outputId": "e9c74b76-88c0-4c18-b07b-b7a73a1b4501"
      },
      "execution_count": null,
      "outputs": [
        {
          "output_type": "stream",
          "name": "stdout",
          "text": [
            "3\n",
            "(2, 4, 2) \n",
            "\n",
            "3\n",
            "(3, 2, 3) \n",
            "\n",
            "3\n",
            "(4, 2, 2)\n"
          ]
        }
      ]
    },
    {
      "cell_type": "code",
      "source": [
        "print(np.zeros((2,3,4)))"
      ],
      "metadata": {
        "colab": {
          "base_uri": "https://localhost:8080/"
        },
        "id": "UYNhC2v_KzLx",
        "outputId": "f748b103-79df-4623-f900-c82536523a55"
      },
      "execution_count": null,
      "outputs": [
        {
          "output_type": "stream",
          "name": "stdout",
          "text": [
            "[[[0. 0. 0. 0.]\n",
            "  [0. 0. 0. 0.]\n",
            "  [0. 0. 0. 0.]]\n",
            "\n",
            " [[0. 0. 0. 0.]\n",
            "  [0. 0. 0. 0.]\n",
            "  [0. 0. 0. 0.]]]\n"
          ]
        }
      ]
    },
    {
      "cell_type": "code",
      "source": [
        "print(np.zeros((2,3,4),dtype = int))"
      ],
      "metadata": {
        "colab": {
          "base_uri": "https://localhost:8080/"
        },
        "id": "mJnY-sGAOGLa",
        "outputId": "8a56508d-b5c7-490a-b45d-a2a21b746089"
      },
      "execution_count": null,
      "outputs": [
        {
          "output_type": "stream",
          "name": "stdout",
          "text": [
            "[[[0 0 0 0]\n",
            "  [0 0 0 0]\n",
            "  [0 0 0 0]]\n",
            "\n",
            " [[0 0 0 0]\n",
            "  [0 0 0 0]\n",
            "  [0 0 0 0]]]\n"
          ]
        }
      ]
    },
    {
      "cell_type": "code",
      "source": [
        "print(np.ones((3,2,8),dtype = int))"
      ],
      "metadata": {
        "colab": {
          "base_uri": "https://localhost:8080/"
        },
        "id": "cIjVGrAlOT63",
        "outputId": "e42e1935-64ba-49e0-cd29-678e70eec24c"
      },
      "execution_count": null,
      "outputs": [
        {
          "output_type": "stream",
          "name": "stdout",
          "text": [
            "[[[1 1 1 1 1 1 1 1]\n",
            "  [1 1 1 1 1 1 1 1]]\n",
            "\n",
            " [[1 1 1 1 1 1 1 1]\n",
            "  [1 1 1 1 1 1 1 1]]\n",
            "\n",
            " [[1 1 1 1 1 1 1 1]\n",
            "  [1 1 1 1 1 1 1 1]]]\n"
          ]
        }
      ]
    },
    {
      "cell_type": "code",
      "source": [
        "print(np.linspace(0,10,3))\n",
        "np.linspace?"
      ],
      "metadata": {
        "colab": {
          "base_uri": "https://localhost:8080/"
        },
        "id": "r-kD1WKTOcz7",
        "outputId": "8a8ff851-753f-4d83-a57a-fd0b1f7f6f4d"
      },
      "execution_count": null,
      "outputs": [
        {
          "output_type": "stream",
          "name": "stdout",
          "text": [
            "[ 0.  5. 10.]\n"
          ]
        }
      ]
    },
    {
      "cell_type": "code",
      "source": [
        "np.linspace(0,80)"
      ],
      "metadata": {
        "colab": {
          "base_uri": "https://localhost:8080/"
        },
        "id": "4SwrMI7sO-8x",
        "outputId": "5f50493e-01af-496a-d1ed-d092d06efa4e"
      },
      "execution_count": null,
      "outputs": [
        {
          "output_type": "execute_result",
          "data": {
            "text/plain": [
              "array([ 0.        ,  1.63265306,  3.26530612,  4.89795918,  6.53061224,\n",
              "        8.16326531,  9.79591837, 11.42857143, 13.06122449, 14.69387755,\n",
              "       16.32653061, 17.95918367, 19.59183673, 21.2244898 , 22.85714286,\n",
              "       24.48979592, 26.12244898, 27.75510204, 29.3877551 , 31.02040816,\n",
              "       32.65306122, 34.28571429, 35.91836735, 37.55102041, 39.18367347,\n",
              "       40.81632653, 42.44897959, 44.08163265, 45.71428571, 47.34693878,\n",
              "       48.97959184, 50.6122449 , 52.24489796, 53.87755102, 55.51020408,\n",
              "       57.14285714, 58.7755102 , 60.40816327, 62.04081633, 63.67346939,\n",
              "       65.30612245, 66.93877551, 68.57142857, 70.20408163, 71.83673469,\n",
              "       73.46938776, 75.10204082, 76.73469388, 78.36734694, 80.        ])"
            ]
          },
          "metadata": {},
          "execution_count": 64
        }
      ]
    },
    {
      "cell_type": "code",
      "source": [
        "print(np.full((3,4),77,float))"
      ],
      "metadata": {
        "colab": {
          "base_uri": "https://localhost:8080/"
        },
        "id": "B-I6WwCZQQEy",
        "outputId": "bb65e1d8-a0e3-4af3-adcd-fb23c4f62ce2"
      },
      "execution_count": null,
      "outputs": [
        {
          "output_type": "stream",
          "name": "stdout",
          "text": [
            "[[77. 77. 77. 77.]\n",
            " [77. 77. 77. 77.]\n",
            " [77. 77. 77. 77.]]\n"
          ]
        }
      ]
    },
    {
      "cell_type": "code",
      "source": [
        "print(np.eye(2,2))"
      ],
      "metadata": {
        "colab": {
          "base_uri": "https://localhost:8080/"
        },
        "id": "ryZak6cLS_MM",
        "outputId": "a229c474-4e30-4620-ac34-91e3c8fdd954"
      },
      "execution_count": null,
      "outputs": [
        {
          "output_type": "stream",
          "name": "stdout",
          "text": [
            "[[1. 0.]\n",
            " [0. 1.]]\n"
          ]
        }
      ]
    },
    {
      "cell_type": "code",
      "source": [
        "np.random.random?\n",
        "print(np.random.random((3,2,2)))"
      ],
      "metadata": {
        "colab": {
          "base_uri": "https://localhost:8080/"
        },
        "id": "6ChutWvXTtNW",
        "outputId": "0995203f-7628-4e56-cf3e-89c849da1236"
      },
      "execution_count": null,
      "outputs": [
        {
          "output_type": "stream",
          "name": "stdout",
          "text": [
            "[[[0.87104695 0.56542479]\n",
            "  [0.6400181  0.46221048]]\n",
            "\n",
            " [[0.32452034 0.15460187]\n",
            "  [0.05206981 0.91338029]]\n",
            "\n",
            " [[0.18746858 0.40930428]\n",
            "  [0.56682442 0.92162982]]]\n"
          ]
        }
      ]
    },
    {
      "cell_type": "code",
      "source": [
        "np.random.randint?\n",
        "print(np.random.randint(20,50,(2,2)))"
      ],
      "metadata": {
        "colab": {
          "base_uri": "https://localhost:8080/"
        },
        "id": "d_oyzgw0UODl",
        "outputId": "72a1be02-93f9-41d2-8be0-c2ec214c5857"
      },
      "execution_count": null,
      "outputs": [
        {
          "output_type": "stream",
          "name": "stdout",
          "text": [
            "[[42 32]\n",
            " [36 43]]\n"
          ]
        }
      ]
    },
    {
      "cell_type": "code",
      "source": [
        "print(np.random.randint(20,30,(3,2)))"
      ],
      "metadata": {
        "colab": {
          "base_uri": "https://localhost:8080/"
        },
        "id": "p5EEwupwVBz-",
        "outputId": "1f89e99e-8634-487e-a5c7-ef6e23e57a28"
      },
      "execution_count": null,
      "outputs": [
        {
          "output_type": "stream",
          "name": "stdout",
          "text": [
            "[[24 22]\n",
            " [22 27]\n",
            " [29 21]]\n"
          ]
        }
      ]
    },
    {
      "cell_type": "code",
      "source": [
        "a = np.array([[4,3,2],[1,5,7]])\n",
        "b = np.array([[8,1,3],[1,4,2]])\n",
        "print(a,\"\\n\\n\",b)"
      ],
      "metadata": {
        "colab": {
          "base_uri": "https://localhost:8080/"
        },
        "id": "rEEbfOz1Rf_X",
        "outputId": "8fce97e2-6c5b-4593-c17b-04e631aa5a38"
      },
      "execution_count": null,
      "outputs": [
        {
          "output_type": "stream",
          "name": "stdout",
          "text": [
            "[[4 3 2]\n",
            " [1 5 7]] \n",
            "\n",
            " [[8 1 3]\n",
            " [1 4 2]]\n"
          ]
        }
      ]
    },
    {
      "cell_type": "code",
      "source": [
        "print(np.add(a,b))"
      ],
      "metadata": {
        "colab": {
          "base_uri": "https://localhost:8080/"
        },
        "id": "kybOXJISSP7l",
        "outputId": "d42dcce3-8a1f-4ccc-c0d8-536e3f0a3db9"
      },
      "execution_count": null,
      "outputs": [
        {
          "output_type": "stream",
          "name": "stdout",
          "text": [
            "[[12  4  5]\n",
            " [ 2  9  9]]\n"
          ]
        }
      ]
    },
    {
      "cell_type": "code",
      "source": [
        "print(np.subtract(b,a))"
      ],
      "metadata": {
        "colab": {
          "base_uri": "https://localhost:8080/"
        },
        "id": "FsJQNaDUSeVs",
        "outputId": "fb30ac1a-4bb8-45bc-aa3d-63147f018b87"
      },
      "execution_count": null,
      "outputs": [
        {
          "output_type": "stream",
          "name": "stdout",
          "text": [
            "[[ 4 -2  1]\n",
            " [ 0 -1 -5]]\n"
          ]
        }
      ]
    },
    {
      "cell_type": "code",
      "source": [
        "print(np.multiply(a,b))"
      ],
      "metadata": {
        "colab": {
          "base_uri": "https://localhost:8080/"
        },
        "id": "VDunIAcQSlEJ",
        "outputId": "1492cd03-4729-45ef-a2b8-ec12fb3d4f27"
      },
      "execution_count": null,
      "outputs": [
        {
          "output_type": "stream",
          "name": "stdout",
          "text": [
            "[[32  3  6]\n",
            " [ 1 20 14]]\n"
          ]
        }
      ]
    },
    {
      "cell_type": "code",
      "source": [
        "print(np.divide(a,b))"
      ],
      "metadata": {
        "colab": {
          "base_uri": "https://localhost:8080/"
        },
        "id": "x_9ImmX9StVg",
        "outputId": "cba97443-700b-4911-f26b-783493bb48f3"
      },
      "execution_count": null,
      "outputs": [
        {
          "output_type": "stream",
          "name": "stdout",
          "text": [
            "[[0.5        3.         0.66666667]\n",
            " [1.         1.25       3.5       ]]\n"
          ]
        }
      ]
    },
    {
      "cell_type": "code",
      "source": [
        "print(np.power(a,b))"
      ],
      "metadata": {
        "colab": {
          "base_uri": "https://localhost:8080/"
        },
        "id": "lmJcZyuLS044",
        "outputId": "2692093c-5bc4-4929-be4b-aeb9fa7cf033"
      },
      "execution_count": null,
      "outputs": [
        {
          "output_type": "stream",
          "name": "stdout",
          "text": [
            "[[65536     3     8]\n",
            " [    1   625    49]]\n"
          ]
        }
      ]
    }
  ]
}