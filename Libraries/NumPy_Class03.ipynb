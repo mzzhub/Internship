{
  "nbformat": 4,
  "nbformat_minor": 0,
  "metadata": {
    "colab": {
      "provenance": []
    },
    "kernelspec": {
      "name": "python3",
      "display_name": "Python 3"
    },
    "language_info": {
      "name": "python"
    }
  },
  "cells": [
    {
      "cell_type": "markdown",
      "source": [
        "# Sorting"
      ],
      "metadata": {
        "id": "Tv7CoVvcG69m"
      }
    },
    {
      "cell_type": "markdown",
      "source": [
        "## One Dimentional Sorting\n"
      ],
      "metadata": {
        "id": "Dv0bhYTyaK7S"
      }
    },
    {
      "cell_type": "code",
      "source": [
        "a = np.array([3,1,5,10,0])\n",
        "print(a)"
      ],
      "metadata": {
        "colab": {
          "base_uri": "https://localhost:8080/"
        },
        "id": "i2e0DYoEC94C",
        "outputId": "988a8e1b-6ea3-4171-cca2-1e908d3f1b50"
      },
      "execution_count": null,
      "outputs": [
        {
          "output_type": "stream",
          "name": "stdout",
          "text": [
            "[ 3  1  5 10  0]\n"
          ]
        }
      ]
    },
    {
      "cell_type": "code",
      "source": [
        "a.sort()\n",
        "print(a)"
      ],
      "metadata": {
        "colab": {
          "base_uri": "https://localhost:8080/"
        },
        "id": "nG1GCORkGLOM",
        "outputId": "8457764a-6eeb-4065-bc3e-ac93b38119f8"
      },
      "execution_count": null,
      "outputs": [
        {
          "output_type": "stream",
          "name": "stdout",
          "text": [
            "[ 0  1  3  5 10]\n"
          ]
        }
      ]
    },
    {
      "cell_type": "code",
      "source": [
        "b = np.array([3,1,5,10,0])\n",
        "print(b)"
      ],
      "metadata": {
        "colab": {
          "base_uri": "https://localhost:8080/"
        },
        "id": "86hpA9ehHHri",
        "outputId": "82d90afc-e726-4608-aa50-fc15ad0d7a19"
      },
      "execution_count": null,
      "outputs": [
        {
          "output_type": "stream",
          "name": "stdout",
          "text": [
            "[ 3  1  5 10  0]\n"
          ]
        }
      ]
    },
    {
      "cell_type": "code",
      "source": [
        "B = np.sort(b)[::-1]\n",
        "print(B)"
      ],
      "metadata": {
        "colab": {
          "base_uri": "https://localhost:8080/"
        },
        "id": "XaBTAZMKHWi0",
        "outputId": "3a19b1cc-b9f8-40db-c813-92379d4c196f"
      },
      "execution_count": null,
      "outputs": [
        {
          "output_type": "stream",
          "name": "stdout",
          "text": [
            "[10  5  3  1  0]\n"
          ]
        }
      ]
    },
    {
      "cell_type": "markdown",
      "source": [
        "## Two Dimentional Sorting\n"
      ],
      "metadata": {
        "id": "kMk26u_waOzQ"
      }
    },
    {
      "cell_type": "code",
      "source": [
        "c = np.array([[3,1,5,10,0],[10,30,3,20,5]])\n",
        "print(c)"
      ],
      "metadata": {
        "colab": {
          "base_uri": "https://localhost:8080/"
        },
        "id": "n3TPa1QaHib5",
        "outputId": "96732e3c-0393-43e5-8f34-7af06196f48e"
      },
      "execution_count": null,
      "outputs": [
        {
          "output_type": "stream",
          "name": "stdout",
          "text": [
            "[[ 3  1  5 10  0]\n",
            " [10 30  3 20  5]]\n"
          ]
        }
      ]
    },
    {
      "cell_type": "code",
      "source": [
        "c.sort()\n",
        "print(c)    # sorted column wise."
      ],
      "metadata": {
        "colab": {
          "base_uri": "https://localhost:8080/"
        },
        "id": "Bt8V638jH4Cj",
        "outputId": "ed7e845a-f3e7-4dbb-d0bf-0bcc8dbd6177"
      },
      "execution_count": null,
      "outputs": [
        {
          "output_type": "stream",
          "name": "stdout",
          "text": [
            "[[ 0  1  3  5 10]\n",
            " [ 3  5 10 20 30]]\n"
          ]
        }
      ]
    },
    {
      "cell_type": "code",
      "source": [
        "d = np.array([[3,1,5,10,0],[2,4,1,3,2]])\n",
        "print(d)"
      ],
      "metadata": {
        "colab": {
          "base_uri": "https://localhost:8080/"
        },
        "id": "za5kTTh5H6Nl",
        "outputId": "752a207e-b5d0-4c0a-ffbe-a928bd785fac"
      },
      "execution_count": null,
      "outputs": [
        {
          "output_type": "stream",
          "name": "stdout",
          "text": [
            "[[ 3  1  5 10  0]\n",
            " [ 2  4  1  3  2]]\n"
          ]
        }
      ]
    },
    {
      "cell_type": "code",
      "source": [
        "d.sort(axis=0)\n",
        "print(d)    # sorted row wise"
      ],
      "metadata": {
        "colab": {
          "base_uri": "https://localhost:8080/"
        },
        "id": "A62mIbjpIJbJ",
        "outputId": "39c28b4d-0656-4362-c966-f1b5a52bf222"
      },
      "execution_count": null,
      "outputs": [
        {
          "output_type": "stream",
          "name": "stdout",
          "text": [
            "[[ 2  1  1  3  0]\n",
            " [ 3  4  5 10  2]]\n"
          ]
        }
      ]
    },
    {
      "cell_type": "code",
      "source": [
        "e = np.array([[3,1,5,10,0],[10,30,3,20,5]])\n",
        "print(e)"
      ],
      "metadata": {
        "colab": {
          "base_uri": "https://localhost:8080/"
        },
        "id": "zUpgUzDMIOt5",
        "outputId": "346c5b3f-ccc2-4539-fc83-1376bd69c920"
      },
      "execution_count": null,
      "outputs": [
        {
          "output_type": "stream",
          "name": "stdout",
          "text": [
            "[[ 3  1  5 10  0]\n",
            " [10 30  3 20  5]]\n"
          ]
        }
      ]
    },
    {
      "cell_type": "code",
      "source": [
        "e.sort(axis=1)\n",
        "print(e)"
      ],
      "metadata": {
        "colab": {
          "base_uri": "https://localhost:8080/"
        },
        "id": "1m5jmPOYI4Cr",
        "outputId": "0f020504-87a6-4758-887a-1e3fd509b11f"
      },
      "execution_count": null,
      "outputs": [
        {
          "output_type": "stream",
          "name": "stdout",
          "text": [
            "[[ 0  1  3  5 10]\n",
            " [ 3  5 10 20 30]]\n"
          ]
        }
      ]
    },
    {
      "cell_type": "markdown",
      "source": [
        "## Three Dimentional Sorting"
      ],
      "metadata": {
        "id": "2BmO2-dmaTYU"
      }
    },
    {
      "cell_type": "code",
      "source": [
        "import numpy as np\n",
        "f = np.array([[[23,14,78,90],[54,78,12,91]],[[55,66,77,88],[9,35,2,77]]])\n",
        "print(f)"
      ],
      "metadata": {
        "colab": {
          "base_uri": "https://localhost:8080/"
        },
        "id": "Uy_1uQ25aVfz",
        "outputId": "7557409c-1ab9-4c42-d5ae-4cc35cdf8f47"
      },
      "execution_count": null,
      "outputs": [
        {
          "output_type": "stream",
          "name": "stdout",
          "text": [
            "[[[23 14 78 90]\n",
            "  [54 78 12 91]]\n",
            "\n",
            " [[55 66 77 88]\n",
            "  [ 9 35  2 77]]]\n"
          ]
        }
      ]
    },
    {
      "cell_type": "code",
      "source": [
        "f = np.sort(f,axis=0)   # Sort between layers\n",
        "print(f)"
      ],
      "metadata": {
        "colab": {
          "base_uri": "https://localhost:8080/"
        },
        "id": "62cmE7kOaqA2",
        "outputId": "85bd6510-df50-42d5-ff6c-ac46dda3da56"
      },
      "execution_count": null,
      "outputs": [
        {
          "output_type": "stream",
          "name": "stdout",
          "text": [
            "[[[23 14 77 88]\n",
            "  [ 9 35  2 77]]\n",
            "\n",
            " [[55 66 78 90]\n",
            "  [54 78 12 91]]]\n"
          ]
        }
      ]
    },
    {
      "cell_type": "code",
      "source": [
        "f = np.array([[[23,14,78,90],[54,78,12,91]],[[55,66,77,88],[9,35,2,77]]])\n",
        "print(f)"
      ],
      "metadata": {
        "colab": {
          "base_uri": "https://localhost:8080/"
        },
        "id": "Ym2YH7pEa6zH",
        "outputId": "b48388c8-b2e9-4597-fb90-6d3d43388f90"
      },
      "execution_count": null,
      "outputs": [
        {
          "output_type": "stream",
          "name": "stdout",
          "text": [
            "[[[23 14 78 90]\n",
            "  [54 78 12 91]]\n",
            "\n",
            " [[55 66 77 88]\n",
            "  [ 9 35  2 77]]]\n"
          ]
        }
      ]
    },
    {
      "cell_type": "code",
      "source": [
        "f = np.sort(f,axis=1)   # sort between rows in each layer\n",
        "print(f)"
      ],
      "metadata": {
        "colab": {
          "base_uri": "https://localhost:8080/"
        },
        "id": "ApkH7rO2bFrZ",
        "outputId": "7d6a34a7-ba24-43b1-97e3-5b952cc48ac1"
      },
      "execution_count": null,
      "outputs": [
        {
          "output_type": "stream",
          "name": "stdout",
          "text": [
            "[[[23 14 12 90]\n",
            "  [54 78 78 91]]\n",
            "\n",
            " [[ 9 35  2 77]\n",
            "  [55 66 77 88]]]\n"
          ]
        }
      ]
    },
    {
      "cell_type": "markdown",
      "source": [
        "# Copy and View"
      ],
      "metadata": {
        "id": "95SOonxAcJJ7"
      }
    },
    {
      "cell_type": "code",
      "source": [
        "# Creating a simple 1D array\n",
        "g = np.array([33,44,55,66,77])\n",
        "print(g)"
      ],
      "metadata": {
        "colab": {
          "base_uri": "https://localhost:8080/"
        },
        "id": "55tvSwbCbG3_",
        "outputId": "56ff61ca-12fd-4f6d-af8f-256f008c7b18"
      },
      "execution_count": null,
      "outputs": [
        {
          "output_type": "stream",
          "name": "stdout",
          "text": [
            "[33 44 55 66 77]\n"
          ]
        }
      ]
    },
    {
      "cell_type": "code",
      "source": [
        "# Creating some copies of that array\n",
        "x = g\n",
        "y = g.view()    # shallow copy\n",
        "z = g.copy()    # deep copy"
      ],
      "metadata": {
        "id": "za-zyZyhcVuO"
      },
      "execution_count": null,
      "outputs": []
    },
    {
      "cell_type": "code",
      "source": [
        "print(x)\n",
        "print(y)\n",
        "print(z)"
      ],
      "metadata": {
        "colab": {
          "base_uri": "https://localhost:8080/"
        },
        "id": "akPJFBE4cr3_",
        "outputId": "b4d4b1d5-f508-47bf-f587-7722bed56cd6"
      },
      "execution_count": null,
      "outputs": [
        {
          "output_type": "stream",
          "name": "stdout",
          "text": [
            "[33 44 55 66 77]\n",
            "[33 44 55 66 77]\n",
            "[33 44 55 66 77]\n"
          ]
        }
      ]
    },
    {
      "cell_type": "code",
      "source": [
        "# Changing a value of the main array\n",
        "g[1] = 100"
      ],
      "metadata": {
        "id": "esyczYzScvur"
      },
      "execution_count": null,
      "outputs": []
    },
    {
      "cell_type": "code",
      "source": [
        "print(x)\n",
        "print(y)\n",
        "print(z)"
      ],
      "metadata": {
        "colab": {
          "base_uri": "https://localhost:8080/"
        },
        "id": "OjgiWAGUc0Ns",
        "outputId": "5ef61ed6-1e4f-4df8-f860-d028e3658133"
      },
      "execution_count": null,
      "outputs": [
        {
          "output_type": "stream",
          "name": "stdout",
          "text": [
            "[ 33 100  55  66  77]\n",
            "[ 33 100  55  66  77]\n",
            "[33 44 55 66 77]\n"
          ]
        }
      ]
    },
    {
      "cell_type": "markdown",
      "source": [
        "# Reshape and Resize"
      ],
      "metadata": {
        "id": "p19vrvPMe7BB"
      }
    },
    {
      "cell_type": "code",
      "source": [
        "a = np.arange(16)\n",
        "print(a)"
      ],
      "metadata": {
        "colab": {
          "base_uri": "https://localhost:8080/"
        },
        "id": "UfQKi1Wwc1lN",
        "outputId": "b5dab134-f5aa-40ec-adf9-b102b638caab"
      },
      "execution_count": null,
      "outputs": [
        {
          "output_type": "stream",
          "name": "stdout",
          "text": [
            "[ 0  1  2  3  4  5  6  7  8  9 10 11 12 13 14 15]\n"
          ]
        }
      ]
    },
    {
      "cell_type": "code",
      "source": [
        "print(a.shape)"
      ],
      "metadata": {
        "colab": {
          "base_uri": "https://localhost:8080/"
        },
        "id": "Adx9dqTyfAmM",
        "outputId": "462e6e44-3cd5-4dc5-def5-49c5b7be755a"
      },
      "execution_count": null,
      "outputs": [
        {
          "output_type": "stream",
          "name": "stdout",
          "text": [
            "(16,)\n"
          ]
        }
      ]
    },
    {
      "cell_type": "code",
      "source": [
        "b = a.reshape(2,8)\n",
        "print(b)"
      ],
      "metadata": {
        "colab": {
          "base_uri": "https://localhost:8080/"
        },
        "id": "vurTaPzJfFu3",
        "outputId": "d2bca2e2-6849-4f35-e077-a0c950e0ca21"
      },
      "execution_count": null,
      "outputs": [
        {
          "output_type": "stream",
          "name": "stdout",
          "text": [
            "[[ 0  1  2  3  4  5  6  7]\n",
            " [ 8  9 10 11 12 13 14 15]]\n"
          ]
        }
      ]
    },
    {
      "cell_type": "code",
      "source": [
        "c = a.reshape(8,2)\n",
        "print(c)"
      ],
      "metadata": {
        "colab": {
          "base_uri": "https://localhost:8080/"
        },
        "id": "9zjqfQR8fJu5",
        "outputId": "8504c0df-0a1b-4245-bc4e-a0646ce755bc"
      },
      "execution_count": null,
      "outputs": [
        {
          "output_type": "stream",
          "name": "stdout",
          "text": [
            "[[ 0  1]\n",
            " [ 2  3]\n",
            " [ 4  5]\n",
            " [ 6  7]\n",
            " [ 8  9]\n",
            " [10 11]\n",
            " [12 13]\n",
            " [14 15]]\n"
          ]
        }
      ]
    },
    {
      "cell_type": "code",
      "source": [
        "d = a.reshape(4,4)\n",
        "print(d)"
      ],
      "metadata": {
        "colab": {
          "base_uri": "https://localhost:8080/"
        },
        "id": "H0ssf924fPE5",
        "outputId": "e785574c-31d1-47d1-e370-a9df026c30e3"
      },
      "execution_count": null,
      "outputs": [
        {
          "output_type": "stream",
          "name": "stdout",
          "text": [
            "[[ 0  1  2  3]\n",
            " [ 4  5  6  7]\n",
            " [ 8  9 10 11]\n",
            " [12 13 14 15]]\n"
          ]
        }
      ]
    },
    {
      "cell_type": "code",
      "source": [
        "e = a.reshape(4,5)"
      ],
      "metadata": {
        "colab": {
          "base_uri": "https://localhost:8080/",
          "height": 141
        },
        "id": "8qwu2pgsfXC5",
        "outputId": "cc869d0e-e9b7-426b-f044-c6a0dcd88be9"
      },
      "execution_count": null,
      "outputs": [
        {
          "output_type": "error",
          "ename": "ValueError",
          "evalue": "cannot reshape array of size 16 into shape (4,5)",
          "traceback": [
            "\u001b[0;31m---------------------------------------------------------------------------\u001b[0m",
            "\u001b[0;31mValueError\u001b[0m                                Traceback (most recent call last)",
            "\u001b[0;32m<ipython-input-38-d6a3446f1017>\u001b[0m in \u001b[0;36m<cell line: 1>\u001b[0;34m()\u001b[0m\n\u001b[0;32m----> 1\u001b[0;31m \u001b[0me\u001b[0m \u001b[0;34m=\u001b[0m \u001b[0ma\u001b[0m\u001b[0;34m.\u001b[0m\u001b[0mreshape\u001b[0m\u001b[0;34m(\u001b[0m\u001b[0;36m4\u001b[0m\u001b[0;34m,\u001b[0m\u001b[0;36m5\u001b[0m\u001b[0;34m)\u001b[0m\u001b[0;34m\u001b[0m\u001b[0;34m\u001b[0m\u001b[0m\n\u001b[0m",
            "\u001b[0;31mValueError\u001b[0m: cannot reshape array of size 16 into shape (4,5)"
          ]
        }
      ]
    },
    {
      "cell_type": "code",
      "source": [
        "# but\n",
        "a = np.arange(16)\n",
        "a.resize(4,10)\n",
        "print(a)"
      ],
      "metadata": {
        "colab": {
          "base_uri": "https://localhost:8080/"
        },
        "id": "htLEg6h_fa07",
        "outputId": "606a1dc1-64b4-4452-e765-50ed4943605b"
      },
      "execution_count": null,
      "outputs": [
        {
          "output_type": "stream",
          "name": "stdout",
          "text": [
            "[[ 0  1  2  3  4  5  6  7  8  9]\n",
            " [10 11 12 13 14 15  0  0  0  0]\n",
            " [ 0  0  0  0  0  0  0  0  0  0]\n",
            " [ 0  0  0  0  0  0  0  0  0  0]]\n"
          ]
        }
      ]
    },
    {
      "cell_type": "markdown",
      "source": [
        "# Flatten"
      ],
      "metadata": {
        "id": "yGODDCpPhMqI"
      }
    },
    {
      "cell_type": "code",
      "source": [
        "a = np.array([[10,20,30],[15,25,35]])\n",
        "print(a)"
      ],
      "metadata": {
        "colab": {
          "base_uri": "https://localhost:8080/"
        },
        "id": "D39CF-X5fh8T",
        "outputId": "07b9a94c-c9ff-4084-a762-7ef1d2885484"
      },
      "execution_count": null,
      "outputs": [
        {
          "output_type": "stream",
          "name": "stdout",
          "text": [
            "[[10 20 30]\n",
            " [15 25 35]]\n"
          ]
        }
      ]
    },
    {
      "cell_type": "code",
      "source": [
        "b = a.flatten()\n",
        "print(b)"
      ],
      "metadata": {
        "colab": {
          "base_uri": "https://localhost:8080/"
        },
        "id": "VGDuvsBThVSC",
        "outputId": "294c39a7-5c98-439a-91c2-fb24fad8858b"
      },
      "execution_count": null,
      "outputs": [
        {
          "output_type": "stream",
          "name": "stdout",
          "text": [
            "[10 20 30 15 25 35]\n"
          ]
        }
      ]
    },
    {
      "cell_type": "markdown",
      "source": [
        "# Dot Product"
      ],
      "metadata": {
        "id": "dZHYuP8eih8z"
      }
    },
    {
      "cell_type": "markdown",
      "source": [
        "## In Two Dimention"
      ],
      "metadata": {
        "id": "jLGeqVBCmkAM"
      }
    },
    {
      "cell_type": "code",
      "source": [
        "a = np.array([[2,3,4],[5,6,7]])\n",
        "b = np.array([[10,20,30],[8,7,6],[3,2,1]])"
      ],
      "metadata": {
        "id": "q6glPByLhYt4"
      },
      "execution_count": null,
      "outputs": []
    },
    {
      "cell_type": "code",
      "source": [
        "ab = np.dot(a,b)"
      ],
      "metadata": {
        "id": "bA0CLAnvixw-"
      },
      "execution_count": null,
      "outputs": []
    },
    {
      "cell_type": "code",
      "source": [
        "print(\"a =\\n\",a)\n",
        "print(\"\\nb =\\n\",b)\n",
        "print(\"\\nab =\\n\",ab)"
      ],
      "metadata": {
        "colab": {
          "base_uri": "https://localhost:8080/"
        },
        "id": "BqtkZxjgi6cL",
        "outputId": "022ffe07-92ac-45aa-9e9c-a13e6935ee64"
      },
      "execution_count": null,
      "outputs": [
        {
          "output_type": "stream",
          "name": "stdout",
          "text": [
            "a =\n",
            " [[2 3 4]\n",
            " [5 6 7]]\n",
            "\n",
            "b =\n",
            " [[10 20 30]\n",
            " [ 8  7  6]\n",
            " [ 3  2  1]]\n",
            "\n",
            "ab =\n",
            " [[ 56  69  82]\n",
            " [119 156 193]]\n"
          ]
        }
      ]
    },
    {
      "cell_type": "markdown",
      "source": [
        "## In Three Dimentional"
      ],
      "metadata": {
        "id": "DgFbBkiQkfbl"
      }
    },
    {
      "cell_type": "code",
      "source": [
        "c = np.array([[[2,1,3],[4,5,3]],[[3,8,2],[5,6,4]]])\n",
        "d = np.array([[[5,1,9],[3,3,4],[9,0,1]],[[6,3,4],[8,1,2],[0,7,6]]])"
      ],
      "metadata": {
        "id": "q8Z2th4TkV6R"
      },
      "execution_count": null,
      "outputs": []
    },
    {
      "cell_type": "code",
      "source": [
        "cd = np.dot(c,d)"
      ],
      "metadata": {
        "id": "m-kpKCEsk-ko"
      },
      "execution_count": null,
      "outputs": []
    },
    {
      "cell_type": "code",
      "source": [
        "print(\"c =\\n\",c)\n",
        "print(\"\\nd =\\n\",d)\n",
        "print(\"\\ncd =\\n\",cd)"
      ],
      "metadata": {
        "colab": {
          "base_uri": "https://localhost:8080/"
        },
        "id": "hqAl9syKlAcp",
        "outputId": "8055b5e5-3beb-4f84-85ed-fe2e429f8c82"
      },
      "execution_count": null,
      "outputs": [
        {
          "output_type": "stream",
          "name": "stdout",
          "text": [
            "c =\n",
            " [[[2 1 3]\n",
            "  [4 5 3]]\n",
            "\n",
            " [[3 8 2]\n",
            "  [5 6 4]]]\n",
            "\n",
            "d =\n",
            " [[[5 1 9]\n",
            "  [3 3 4]\n",
            "  [9 0 1]]\n",
            "\n",
            " [[6 3 4]\n",
            "  [8 1 2]\n",
            "  [0 7 6]]]\n",
            "\n",
            "cd =\n",
            " [[[[40  5 25]\n",
            "   [20 28 28]]\n",
            "\n",
            "  [[62 19 59]\n",
            "   [64 38 44]]]\n",
            "\n",
            "\n",
            " [[[57 27 61]\n",
            "   [82 31 40]]\n",
            "\n",
            "  [[79 23 73]\n",
            "   [78 49 56]]]]\n"
          ]
        }
      ]
    },
    {
      "cell_type": "markdown",
      "source": [
        "# Sorting in Axis 0,1,2"
      ],
      "metadata": {
        "id": "cnrTmQlcmm6l"
      }
    },
    {
      "cell_type": "markdown",
      "source": [
        "## Minimum"
      ],
      "metadata": {
        "id": "HSkTMvYNoUP3"
      }
    },
    {
      "cell_type": "code",
      "source": [
        "a = np.array([[[2,3,4],[6,1,3]],[[5,8,3],[5,3,1]]])\n",
        "print(np.min(a))    # This will display the minimum from the all elements."
      ],
      "metadata": {
        "colab": {
          "base_uri": "https://localhost:8080/"
        },
        "id": "d8WtJ0g8lGPR",
        "outputId": "c2689c9f-d24a-4756-ec58-8644a6ae13bb"
      },
      "execution_count": null,
      "outputs": [
        {
          "output_type": "stream",
          "name": "stdout",
          "text": [
            "1\n"
          ]
        }
      ]
    },
    {
      "cell_type": "code",
      "source": [
        "a = np.array([[[2,3,4],[6,1,3]],[[5,8,3],[5,3,1]]])\n",
        "print(a,\"\\n\\n\")\n",
        "print(\"Sorted\\n\",np.min(a,axis=0)) # Layer wise sorting."
      ],
      "metadata": {
        "colab": {
          "base_uri": "https://localhost:8080/"
        },
        "id": "ky-4uSjdm6H0",
        "outputId": "a6b4f3a5-e3f2-486f-8bb4-a5c949e9a1a8"
      },
      "execution_count": null,
      "outputs": [
        {
          "output_type": "stream",
          "name": "stdout",
          "text": [
            "[[[2 3 4]\n",
            "  [6 1 3]]\n",
            "\n",
            " [[5 8 3]\n",
            "  [5 3 1]]] \n",
            "\n",
            "\n",
            "Sorted\n",
            " [[2 3 3]\n",
            " [5 1 1]]\n"
          ]
        }
      ]
    },
    {
      "cell_type": "code",
      "source": [
        "a = np.array([[[2,3,4],[6,1,3]],[[5,8,3],[5,3,1]]])\n",
        "print(a,\"\\n\\n\")\n",
        "print(\"Sorted\\n\",np.min(a,axis=1)) # Column wise sorting."
      ],
      "metadata": {
        "colab": {
          "base_uri": "https://localhost:8080/"
        },
        "id": "xkYRAet9n3cn",
        "outputId": "720398c5-e074-4739-8f7a-7704cc1d1e10"
      },
      "execution_count": null,
      "outputs": [
        {
          "output_type": "stream",
          "name": "stdout",
          "text": [
            "[[[2 3 4]\n",
            "  [6 1 3]]\n",
            "\n",
            " [[5 8 3]\n",
            "  [5 3 1]]] \n",
            "\n",
            "\n",
            "Sorted\n",
            " [[2 1 3]\n",
            " [5 3 1]]\n"
          ]
        }
      ]
    },
    {
      "cell_type": "code",
      "source": [
        "a = np.array([[[2,3,4],[6,1,3]],[[5,8,3],[5,3,1]]])\n",
        "print(a,\"\\n\\n\")\n",
        "print(\"Sorted\\n\",np.min(a,axis=2)) # Row wise sorting."
      ],
      "metadata": {
        "colab": {
          "base_uri": "https://localhost:8080/"
        },
        "id": "Yzdr3E5Yn9v-",
        "outputId": "2248178a-759a-4a6f-d50c-dcd74ef3b36e"
      },
      "execution_count": null,
      "outputs": [
        {
          "output_type": "stream",
          "name": "stdout",
          "text": [
            "[[[2 3 4]\n",
            "  [6 1 3]]\n",
            "\n",
            " [[5 8 3]\n",
            "  [5 3 1]]] \n",
            "\n",
            "\n",
            "Sorted\n",
            " [[2 1]\n",
            " [3 1]]\n"
          ]
        }
      ]
    },
    {
      "cell_type": "markdown",
      "source": [
        "## Maximum"
      ],
      "metadata": {
        "id": "xBzFHyJ9oWdz"
      }
    },
    {
      "cell_type": "code",
      "source": [
        "a = np.array([[[2,3,4],[6,1,3]],[[5,8,3],[5,3,1]]])\n",
        "print(np.max(a))    # This will display the maximum from the all elements."
      ],
      "metadata": {
        "colab": {
          "base_uri": "https://localhost:8080/"
        },
        "outputId": "16eea8e2-8835-47ad-ce51-a969474af2a0",
        "id": "qFsoYCyGpGk3"
      },
      "execution_count": null,
      "outputs": [
        {
          "output_type": "stream",
          "name": "stdout",
          "text": [
            "8\n"
          ]
        }
      ]
    },
    {
      "cell_type": "code",
      "source": [
        "a = np.array([[[2,3,4],[6,1,3]],[[5,8,3],[5,3,1]]])\n",
        "print(a,\"\\n\\n\")\n",
        "print(\"Sorted\\n\",np.max(a,axis=0)) # Layer wise sorting."
      ],
      "metadata": {
        "colab": {
          "base_uri": "https://localhost:8080/"
        },
        "outputId": "012b4e05-3ea9-40b8-a6e5-be1745cf5b88",
        "id": "c89YvGc1pGk4"
      },
      "execution_count": null,
      "outputs": [
        {
          "output_type": "stream",
          "name": "stdout",
          "text": [
            "[[[2 3 4]\n",
            "  [6 1 3]]\n",
            "\n",
            " [[5 8 3]\n",
            "  [5 3 1]]] \n",
            "\n",
            "\n",
            "Sorted\n",
            " [[5 8 4]\n",
            " [6 3 3]]\n"
          ]
        }
      ]
    },
    {
      "cell_type": "code",
      "source": [
        "a = np.array([[[2,3,4],[6,1,3]],[[5,8,3],[5,3,1]]])\n",
        "print(a,\"\\n\\n\")\n",
        "print(\"Sorted\\n\",np.max(a,axis=1)) # Column wise sorting."
      ],
      "metadata": {
        "colab": {
          "base_uri": "https://localhost:8080/"
        },
        "outputId": "00665d04-7bbd-4e01-cf1c-59707c96309a",
        "id": "yZ9O-5nepGk4"
      },
      "execution_count": null,
      "outputs": [
        {
          "output_type": "stream",
          "name": "stdout",
          "text": [
            "[[[2 3 4]\n",
            "  [6 1 3]]\n",
            "\n",
            " [[5 8 3]\n",
            "  [5 3 1]]] \n",
            "\n",
            "\n",
            "Sorted\n",
            " [[6 3 4]\n",
            " [5 8 3]]\n"
          ]
        }
      ]
    },
    {
      "cell_type": "code",
      "source": [
        "a = np.array([[[2,3,4],[6,1,3]],[[5,8,3],[5,3,1]]])\n",
        "print(a,\"\\n\\n\")\n",
        "print(\"Sorted\\n\",np.max(a,axis=2)) # Row wise sorting."
      ],
      "metadata": {
        "colab": {
          "base_uri": "https://localhost:8080/"
        },
        "outputId": "64b6192f-8220-44f9-84f0-b7061e61ac76",
        "id": "TzELEPvXpGk5"
      },
      "execution_count": null,
      "outputs": [
        {
          "output_type": "stream",
          "name": "stdout",
          "text": [
            "[[[2 3 4]\n",
            "  [6 1 3]]\n",
            "\n",
            " [[5 8 3]\n",
            "  [5 3 1]]] \n",
            "\n",
            "\n",
            "Sorted\n",
            " [[4 6]\n",
            " [8 5]]\n"
          ]
        }
      ]
    },
    {
      "cell_type": "markdown",
      "source": [
        "## Median"
      ],
      "metadata": {
        "id": "EHdjp0QTqLeE"
      }
    },
    {
      "cell_type": "code",
      "source": [
        "a = np.array([[[2,3,4],[6,1,3]],[[5,8,3],[5,3,1]]])\n",
        "print(np.median(a))    # This will display the median from the all elements."
      ],
      "metadata": {
        "colab": {
          "base_uri": "https://localhost:8080/"
        },
        "outputId": "a474118f-4a69-491d-d4cf-baed1c4e6b87",
        "id": "WYLe8yysqQZk"
      },
      "execution_count": null,
      "outputs": [
        {
          "output_type": "stream",
          "name": "stdout",
          "text": [
            "3.0\n"
          ]
        }
      ]
    },
    {
      "cell_type": "code",
      "source": [
        "a = np.array([[[2,3,4],[6,1,3]],[[5,8,3],[5,3,1]]])\n",
        "print(a,\"\\n\\n\")\n",
        "print(\"Sorted\\n\",np.median(a,axis=0)) # Layer wise median calculation."
      ],
      "metadata": {
        "colab": {
          "base_uri": "https://localhost:8080/"
        },
        "outputId": "7ad50a04-5f25-4cb7-a010-5eb2313ac980",
        "id": "ZFUTH-9fqQZ-"
      },
      "execution_count": null,
      "outputs": [
        {
          "output_type": "stream",
          "name": "stdout",
          "text": [
            "[[[2 3 4]\n",
            "  [6 1 3]]\n",
            "\n",
            " [[5 8 3]\n",
            "  [5 3 1]]] \n",
            "\n",
            "\n",
            "Sorted\n",
            " [[3.5 5.5 3.5]\n",
            " [5.5 2.  2. ]]\n"
          ]
        }
      ]
    },
    {
      "cell_type": "code",
      "source": [
        "a = np.array([[[2,3,4],[6,1,3]],[[5,8,3],[5,3,1]]])\n",
        "print(a,\"\\n\\n\")\n",
        "print(\"Sorted\\n\",np.median(a,axis=1)) # Column wise median calculation."
      ],
      "metadata": {
        "colab": {
          "base_uri": "https://localhost:8080/"
        },
        "outputId": "1eb6265f-6edd-4264-c6d2-d2bf04721634",
        "id": "HF9H6jlhqQZ_"
      },
      "execution_count": null,
      "outputs": [
        {
          "output_type": "stream",
          "name": "stdout",
          "text": [
            "[[[2 3 4]\n",
            "  [6 1 3]]\n",
            "\n",
            " [[5 8 3]\n",
            "  [5 3 1]]] \n",
            "\n",
            "\n",
            "Sorted\n",
            " [[4.  2.  3.5]\n",
            " [5.  5.5 2. ]]\n"
          ]
        }
      ]
    },
    {
      "cell_type": "code",
      "source": [
        "a = np.array([[[2,3,4],[6,1,3]],[[5,8,3],[5,3,1]]])\n",
        "print(a,\"\\n\\n\")\n",
        "print(\"Sorted\\n\",np.median(a,axis=2)) # Row wise median calculation."
      ],
      "metadata": {
        "colab": {
          "base_uri": "https://localhost:8080/"
        },
        "outputId": "a1c2c539-fbde-4163-d591-17194512900c",
        "id": "rFN__YeWqQaA"
      },
      "execution_count": null,
      "outputs": [
        {
          "output_type": "stream",
          "name": "stdout",
          "text": [
            "[[[2 3 4]\n",
            "  [6 1 3]]\n",
            "\n",
            " [[5 8 3]\n",
            "  [5 3 1]]] \n",
            "\n",
            "\n",
            "Sorted\n",
            " [[3. 3.]\n",
            " [5. 3.]]\n"
          ]
        }
      ]
    },
    {
      "cell_type": "code",
      "source": [],
      "metadata": {
        "id": "7MPZyak4qY_g"
      },
      "execution_count": null,
      "outputs": []
    }
  ]
}