{
  "nbformat": 4,
  "nbformat_minor": 0,
  "metadata": {
    "colab": {
      "provenance": []
    },
    "kernelspec": {
      "name": "python3",
      "display_name": "Python 3"
    },
    "language_info": {
      "name": "python"
    }
  },
  "cells": [
    {
      "cell_type": "markdown",
      "source": [
        "# Create a DataFrame:\n",
        "Create a DataFrame df from a dictionary containing the following data:\n",
        "\n",
        "`data = {`<br>`'Name': ['Alice', 'Bob', 'Charlie', 'David', 'Eva'],`\n",
        " <br>`'Age': [25, 30, 35, 40, 45],\n",
        " `<br>`'Salary': [50000, 60000, 70000, 80000, 90000]\n",
        "`<br>`}`\n",
        "\n",
        "Basic DataFrame Operations <br>\n",
        "1. Display the first 3 rows of the DataFrame.<br>\n",
        "2. Display the summary statistics for numerical columns.<br>\n",
        "3. Retrieve the 'Age' column as a Series.<br>\n",
        "4. Calculate the average salary."
      ],
      "metadata": {
        "id": "zi8JU8M98ZVQ"
      }
    },
    {
      "cell_type": "code",
      "execution_count": null,
      "metadata": {
        "id": "vnDlbVl87G62"
      },
      "outputs": [],
      "source": [
        "data = {\n",
        "    \"Name\" : [\"Alice\", \"Bob\", \"Charlie\", \"David\", \"Eva\"],\n",
        "    \"age\" : [20,30,35,40,45],\n",
        "    \"Salary\" : [50000, 60000, 70000, 80000, 90000]\n",
        "}"
      ]
    },
    {
      "cell_type": "code",
      "source": [
        "import pandas as pd\n",
        "df = pd.DataFrame(data)\n",
        "print(df)"
      ],
      "metadata": {
        "colab": {
          "base_uri": "https://localhost:8080/"
        },
        "id": "HJYglXcR87dA",
        "outputId": "4ba022e7-59b2-46cb-a0dc-568cf3e18fd1"
      },
      "execution_count": null,
      "outputs": [
        {
          "output_type": "stream",
          "name": "stdout",
          "text": [
            "      Name  age  Salary\n",
            "0    Alice   20   50000\n",
            "1      Bob   30   60000\n",
            "2  Charlie   35   70000\n",
            "3    David   40   80000\n",
            "4      Eva   45   90000\n"
          ]
        }
      ]
    },
    {
      "cell_type": "code",
      "source": [
        "# 1. Display the first 3 rows of the DataFrame.\n",
        "print(df[:3])"
      ],
      "metadata": {
        "colab": {
          "base_uri": "https://localhost:8080/"
        },
        "id": "0DlGbbwnAdnM",
        "outputId": "296f32d4-d001-4a2e-bcaa-5bc36c80cbb1"
      },
      "execution_count": null,
      "outputs": [
        {
          "output_type": "stream",
          "name": "stdout",
          "text": [
            "      Name  age  Salary\n",
            "0    Alice   20   50000\n",
            "1      Bob   30   60000\n",
            "2  Charlie   35   70000\n"
          ]
        }
      ]
    },
    {
      "cell_type": "code",
      "source": [
        "# 2. Display the summary statistics for numerical columns.\n",
        "print(df.describe())"
      ],
      "metadata": {
        "colab": {
          "base_uri": "https://localhost:8080/"
        },
        "id": "6Rp6f65EA3Sl",
        "outputId": "9b7e45bb-9a6f-4300-a6a1-5f77d90586a2"
      },
      "execution_count": null,
      "outputs": [
        {
          "output_type": "stream",
          "name": "stdout",
          "text": [
            "             age        Salary\n",
            "count   5.000000      5.000000\n",
            "mean   34.000000  70000.000000\n",
            "std     9.617692  15811.388301\n",
            "min    20.000000  50000.000000\n",
            "25%    30.000000  60000.000000\n",
            "50%    35.000000  70000.000000\n",
            "75%    40.000000  80000.000000\n",
            "max    45.000000  90000.000000\n"
          ]
        }
      ]
    },
    {
      "cell_type": "code",
      "source": [
        "# 3. Retrieve the 'Age' column as a Series\n",
        "age_series = pd.Series(df[\"age\"])\n",
        "print(age_series)"
      ],
      "metadata": {
        "colab": {
          "base_uri": "https://localhost:8080/"
        },
        "id": "5bxRS5aeBGcG",
        "outputId": "0098b90b-a4b3-4eac-c1cd-4f25e9b00ebd"
      },
      "execution_count": null,
      "outputs": [
        {
          "output_type": "stream",
          "name": "stdout",
          "text": [
            "0    20\n",
            "1    30\n",
            "2    35\n",
            "3    40\n",
            "4    45\n",
            "Name: age, dtype: int64\n"
          ]
        }
      ]
    },
    {
      "cell_type": "code",
      "source": [
        "# 4. Calculate the average salary.\n",
        "import numpy as np\n",
        "print(np.mean(df[\"Salary\"]))"
      ],
      "metadata": {
        "colab": {
          "base_uri": "https://localhost:8080/"
        },
        "id": "jT2hwO8bBfRm",
        "outputId": "2ae606bf-99e9-4edc-eb76-3ce95f3be336"
      },
      "execution_count": null,
      "outputs": [
        {
          "output_type": "stream",
          "name": "stdout",
          "text": [
            "70000.0\n"
          ]
        }
      ]
    }
  ]
}