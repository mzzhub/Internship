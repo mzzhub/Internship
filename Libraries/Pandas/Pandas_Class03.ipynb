{
  "nbformat": 4,
  "nbformat_minor": 0,
  "metadata": {
    "colab": {
      "provenance": []
    },
    "kernelspec": {
      "name": "python3",
      "display_name": "Python 3"
    },
    "language_info": {
      "name": "python"
    }
  },
  "cells": [
    {
      "cell_type": "markdown",
      "source": [
        "# Slicing"
      ],
      "metadata": {
        "id": "juTp08qYHxML"
      }
    },
    {
      "cell_type": "markdown",
      "source": [
        "## iloc[ ]"
      ],
      "metadata": {
        "id": "W0rI_4PFI2Hr"
      }
    },
    {
      "cell_type": "code",
      "source": [
        "import pandas as pd\n",
        "import numpy as np"
      ],
      "metadata": {
        "id": "L3aeZ_gFFp2_"
      },
      "execution_count": null,
      "outputs": []
    },
    {
      "cell_type": "code",
      "source": [
        "data1 = [[\"raju\",40,60,40,40,60,12,4,6,40],[\"ramu\",60,30,90,40,60,40],[\"dolu\",40,50,12,40,60,40]]\n",
        "data2 = {\"Name\":[\"raju\",\"ramu\",\"sarang\",\"raju\",\"ramu\",\"sarang\",\"raju\",\"ramu\",\"sarang\"],\"che\":[40,60,40,40,40,60,40,40,60],\"mat\":[40,60,40,40,60,40,60,40,20],\"phy\":[40,30,50,20,80,50,60,10,30]}\n",
        "df = pd.DataFrame(data2)\n",
        "df[\"bio\"] = [60,48,50,60,48,50,60,48,50]\n",
        "df[\"total mark\"] = df[\"che\"] + df[\"mat\"] + df[\"phy\"] + df[\"bio\"]\n",
        "print(df)"
      ],
      "metadata": {
        "colab": {
          "base_uri": "https://localhost:8080/"
        },
        "id": "q7NCtAj0FtxZ",
        "outputId": "8591be1d-9062-4642-b89e-3b7771efb8a7"
      },
      "execution_count": null,
      "outputs": [
        {
          "output_type": "stream",
          "name": "stdout",
          "text": [
            "     Name  che  mat  phy  bio  total mark\n",
            "0    raju   40   40   40   60         180\n",
            "1    ramu   60   60   30   48         198\n",
            "2  sarang   40   40   50   50         180\n",
            "3    raju   40   40   20   60         160\n",
            "4    ramu   40   60   80   48         228\n",
            "5  sarang   60   40   50   50         200\n",
            "6    raju   40   60   60   60         220\n",
            "7    ramu   40   40   10   48         138\n",
            "8  sarang   60   20   30   50         160\n"
          ]
        }
      ]
    },
    {
      "cell_type": "code",
      "source": [
        "print(df.iloc[2:6,:4])"
      ],
      "metadata": {
        "colab": {
          "base_uri": "https://localhost:8080/"
        },
        "id": "nFpf71dJG7Gk",
        "outputId": "b3ebfad4-e162-416d-812d-85bcaa3c623a"
      },
      "execution_count": null,
      "outputs": [
        {
          "output_type": "stream",
          "name": "stdout",
          "text": [
            "     Name  che  mat  phy\n",
            "2  sarang   40   40   50\n",
            "3    raju   40   40   20\n",
            "4    ramu   40   60   80\n",
            "5  sarang   60   40   50\n"
          ]
        }
      ]
    },
    {
      "cell_type": "markdown",
      "source": [
        "## loc[ ]"
      ],
      "metadata": {
        "id": "XoWWjeRqI4cw"
      }
    },
    {
      "cell_type": "code",
      "source": [
        "print(df.loc[0:6,:\"bio\"])"
      ],
      "metadata": {
        "colab": {
          "base_uri": "https://localhost:8080/"
        },
        "id": "hJa-cuwyIG44",
        "outputId": "f7f19146-194f-4e09-c7b4-05984d4982ab"
      },
      "execution_count": null,
      "outputs": [
        {
          "output_type": "stream",
          "name": "stdout",
          "text": [
            "     Name  che  mat  phy  bio\n",
            "0    raju   40   40   40   60\n",
            "1    ramu   60   60   30   48\n",
            "2  sarang   40   40   50   50\n",
            "3    raju   40   40   20   60\n",
            "4    ramu   40   60   80   48\n",
            "5  sarang   60   40   50   50\n",
            "6    raju   40   60   60   60\n"
          ]
        }
      ]
    },
    {
      "cell_type": "markdown",
      "source": [
        "# Acessing values"
      ],
      "metadata": {
        "id": "bkIQ4sNsJ5vc"
      }
    },
    {
      "cell_type": "markdown",
      "source": [
        "## iat[ ]"
      ],
      "metadata": {
        "id": "R-3XtxkaJ8lH"
      }
    },
    {
      "cell_type": "code",
      "source": [
        "print(df.iat[7,4])"
      ],
      "metadata": {
        "colab": {
          "base_uri": "https://localhost:8080/"
        },
        "id": "uqlDL_YuJC6q",
        "outputId": "b6b96ae0-6c11-4f9b-fbda-f0c4762d7bcf"
      },
      "execution_count": null,
      "outputs": [
        {
          "output_type": "stream",
          "name": "stdout",
          "text": [
            "48\n"
          ]
        }
      ]
    },
    {
      "cell_type": "markdown",
      "source": [
        "## at[ ]"
      ],
      "metadata": {
        "id": "gk07FRSAKNtY"
      }
    },
    {
      "cell_type": "code",
      "source": [
        "print(df.at[8,\"mat\"])"
      ],
      "metadata": {
        "colab": {
          "base_uri": "https://localhost:8080/"
        },
        "id": "58rUxslJKMZN",
        "outputId": "54b06084-f201-4d0f-a17e-9aa2bb3e77b1"
      },
      "execution_count": null,
      "outputs": [
        {
          "output_type": "stream",
          "name": "stdout",
          "text": [
            "20\n"
          ]
        }
      ]
    },
    {
      "cell_type": "markdown",
      "source": [
        "# pipe( )"
      ],
      "metadata": {
        "id": "el0lBnhqLP8I"
      }
    },
    {
      "cell_type": "code",
      "source": [
        "data = [[30,10,45,67,33,90],[70,63,78,13,9,38],[14,74,86,90,11,4]]\n",
        "df = pd.DataFrame(data)\n",
        "print(df)"
      ],
      "metadata": {
        "colab": {
          "base_uri": "https://localhost:8080/"
        },
        "id": "B7_1MQs5KXHP",
        "outputId": "b005b535-7122-4be3-a377-83dad318895a"
      },
      "execution_count": null,
      "outputs": [
        {
          "output_type": "stream",
          "name": "stdout",
          "text": [
            "    0   1   2   3   4   5\n",
            "0  30  10  45  67  33  90\n",
            "1  70  63  78  13   9  38\n",
            "2  14  74  86  90  11   4\n"
          ]
        }
      ]
    },
    {
      "cell_type": "code",
      "source": [
        "def adder(a,b):\n",
        "    return a+b"
      ],
      "metadata": {
        "id": "ClWRoTQCNkWG"
      },
      "execution_count": null,
      "outputs": []
    },
    {
      "cell_type": "code",
      "source": [
        "print(df.pipe(adder,2))"
      ],
      "metadata": {
        "colab": {
          "base_uri": "https://localhost:8080/"
        },
        "id": "fyEnyJdpLqTA",
        "outputId": "fa7ebec9-52b7-479e-c9c4-2e9efc81fb0d"
      },
      "execution_count": null,
      "outputs": [
        {
          "output_type": "stream",
          "name": "stdout",
          "text": [
            "    0   1   2   3   4   5\n",
            "0  32  12  47  69  35  92\n",
            "1  72  65  80  15  11  40\n",
            "2  16  76  88  92  13   6\n"
          ]
        }
      ]
    },
    {
      "cell_type": "code",
      "source": [
        "data = [[30,10,45,67,33,90],[70,63,78,13,9,38],[14,74,86,90,11,4]]\n",
        "df = pd.DataFrame(data)\n",
        "print(df)"
      ],
      "metadata": {
        "colab": {
          "base_uri": "https://localhost:8080/"
        },
        "id": "-ySW10FfOHwi",
        "outputId": "8bbb866a-f18f-497d-8ebe-d851c1b12c40"
      },
      "execution_count": null,
      "outputs": [
        {
          "output_type": "stream",
          "name": "stdout",
          "text": [
            "    0   1   2   3   4   5\n",
            "0  30  10  45  67  33  90\n",
            "1  70  63  78  13   9  38\n",
            "2  14  74  86  90  11   4\n"
          ]
        }
      ]
    },
    {
      "cell_type": "code",
      "source": [
        "def square(a):\n",
        "    return a**2"
      ],
      "metadata": {
        "id": "oYcXkgtYMriW"
      },
      "execution_count": null,
      "outputs": []
    },
    {
      "cell_type": "code",
      "source": [
        "print(df.apply(square, axis = 0))   # column wise"
      ],
      "metadata": {
        "colab": {
          "base_uri": "https://localhost:8080/"
        },
        "id": "oDi4-JEzNrT6",
        "outputId": "d46c866e-c410-4235-a9b7-650be3ec83c3"
      },
      "execution_count": null,
      "outputs": [
        {
          "output_type": "stream",
          "name": "stdout",
          "text": [
            "      0     1     2     3     4     5\n",
            "0   900   100  2025  4489  1089  8100\n",
            "1  4900  3969  6084   169    81  1444\n",
            "2   196  5476  7396  8100   121    16\n"
          ]
        }
      ]
    },
    {
      "cell_type": "code",
      "source": [
        "print(df.apply(square, axis = 1))   # row wise"
      ],
      "metadata": {
        "colab": {
          "base_uri": "https://localhost:8080/"
        },
        "id": "TzHSV2qmNzwS",
        "outputId": "98f17f97-33b5-47e8-9d01-af56393dda85"
      },
      "execution_count": null,
      "outputs": [
        {
          "output_type": "stream",
          "name": "stdout",
          "text": [
            "      0     1     2     3     4     5\n",
            "0   900   100  2025  4489  1089  8100\n",
            "1  4900  3969  6084   169    81  1444\n",
            "2   196  5476  7396  8100   121    16\n"
          ]
        }
      ]
    },
    {
      "cell_type": "code",
      "source": [
        "data = [[30,10,45,67,33,90],[70,63,78,13,9,38],[14,74,86,90,11,4]]\n",
        "df = pd.DataFrame(data)\n",
        "print(df)"
      ],
      "metadata": {
        "colab": {
          "base_uri": "https://localhost:8080/"
        },
        "id": "L95G6Hx6OTZ2",
        "outputId": "76914cc1-04fb-466d-c4fc-de8602a5c64b"
      },
      "execution_count": null,
      "outputs": [
        {
          "output_type": "stream",
          "name": "stdout",
          "text": [
            "    0   1   2   3   4   5\n",
            "0  30  10  45  67  33  90\n",
            "1  70  63  78  13   9  38\n",
            "2  14  74  86  90  11   4\n"
          ]
        }
      ]
    },
    {
      "cell_type": "code",
      "source": [
        "print(df.apply(np.mean, axis = 0))  # column wise"
      ],
      "metadata": {
        "colab": {
          "base_uri": "https://localhost:8080/"
        },
        "id": "qF249HG7O6sa",
        "outputId": "3ff9c680-0066-4943-9e65-f6081337d269"
      },
      "execution_count": null,
      "outputs": [
        {
          "output_type": "stream",
          "name": "stdout",
          "text": [
            "0    38.000000\n",
            "1    49.000000\n",
            "2    69.666667\n",
            "3    56.666667\n",
            "4    17.666667\n",
            "5    44.000000\n",
            "dtype: float64\n"
          ]
        }
      ]
    },
    {
      "cell_type": "code",
      "source": [
        "print(df.apply(np.mean, axis = 1))  # row wise, default is 0"
      ],
      "metadata": {
        "colab": {
          "base_uri": "https://localhost:8080/"
        },
        "id": "XT1LkUiwPQs0",
        "outputId": "a773271a-54ab-4f4b-a909-b4e1b3af5b64"
      },
      "execution_count": null,
      "outputs": [
        {
          "output_type": "stream",
          "name": "stdout",
          "text": [
            "0    45.833333\n",
            "1    45.166667\n",
            "2    46.500000\n",
            "dtype: float64\n"
          ]
        }
      ]
    },
    {
      "cell_type": "code",
      "source": [
        "data = [[30,10,45,67,33,90],[70,63,78,13,9,38],[14,74,86,90,11,4]]\n",
        "df = pd.DataFrame(data)\n",
        "print(df)"
      ],
      "metadata": {
        "colab": {
          "base_uri": "https://localhost:8080/"
        },
        "id": "IO_6VQcJPXco",
        "outputId": "f9ba9fb7-61b7-498b-e6c4-4a77bc15e6c7"
      },
      "execution_count": null,
      "outputs": [
        {
          "output_type": "stream",
          "name": "stdout",
          "text": [
            "    0   1   2   3   4   5\n",
            "0  30  10  45  67  33  90\n",
            "1  70  63  78  13   9  38\n",
            "2  14  74  86  90  11   4\n"
          ]
        }
      ]
    },
    {
      "cell_type": "code",
      "source": [
        "print(df.apply(np.sum)) # column wise"
      ],
      "metadata": {
        "colab": {
          "base_uri": "https://localhost:8080/"
        },
        "id": "MItbKN0DQbGz",
        "outputId": "64aa599c-8640-4b2a-b730-b55391d6922a"
      },
      "execution_count": null,
      "outputs": [
        {
          "output_type": "stream",
          "name": "stdout",
          "text": [
            "0    114\n",
            "1    147\n",
            "2    209\n",
            "3    170\n",
            "4     53\n",
            "5    132\n",
            "dtype: int64\n"
          ]
        }
      ]
    },
    {
      "cell_type": "code",
      "source": [
        "print(df.apply(np.sum, axis = 1))   # row wise, default value is 0"
      ],
      "metadata": {
        "colab": {
          "base_uri": "https://localhost:8080/"
        },
        "id": "WDkVjGTZQgWv",
        "outputId": "ea732ed2-a0c4-4c0f-ff11-374b57717248"
      },
      "execution_count": null,
      "outputs": [
        {
          "output_type": "stream",
          "name": "stdout",
          "text": [
            "0    275\n",
            "1    271\n",
            "2    279\n",
            "dtype: int64\n"
          ]
        }
      ]
    },
    {
      "cell_type": "code",
      "source": [
        "data = [[30,10,45,67,33,90],[70,63,78,13,9,38],[14,74,86,90,11,4]]\n",
        "df = pd.DataFrame(data)\n",
        "print(df)"
      ],
      "metadata": {
        "colab": {
          "base_uri": "https://localhost:8080/"
        },
        "id": "x85iG-aQQmLj",
        "outputId": "faf463d5-2dc5-428d-b3d3-9f3089062583"
      },
      "execution_count": null,
      "outputs": [
        {
          "output_type": "stream",
          "name": "stdout",
          "text": [
            "    0   1   2   3   4   5\n",
            "0  30  10  45  67  33  90\n",
            "1  70  63  78  13   9  38\n",
            "2  14  74  86  90  11   4\n"
          ]
        }
      ]
    },
    {
      "cell_type": "code",
      "source": [
        "def adder(a):\n",
        "    return a.sum()"
      ],
      "metadata": {
        "id": "8Vy0JDnpQyUQ"
      },
      "execution_count": null,
      "outputs": []
    },
    {
      "cell_type": "code",
      "source": [
        "print(df.apply(adder))  # colums wise"
      ],
      "metadata": {
        "colab": {
          "base_uri": "https://localhost:8080/"
        },
        "id": "qB8VA1XpQ2gS",
        "outputId": "b9f23d76-6ed4-4722-c24e-e6e272cf6d61"
      },
      "execution_count": null,
      "outputs": [
        {
          "output_type": "stream",
          "name": "stdout",
          "text": [
            "0    114\n",
            "1    147\n",
            "2    209\n",
            "3    170\n",
            "4     53\n",
            "5    132\n",
            "dtype: int64\n"
          ]
        }
      ]
    },
    {
      "cell_type": "code",
      "source": [
        "print(df.apply(adder, axis = 1))    # row wise, default is 0"
      ],
      "metadata": {
        "colab": {
          "base_uri": "https://localhost:8080/"
        },
        "id": "xqmySRaaQ5iW",
        "outputId": "28d095f6-d866-4053-f19a-a6f467d4aa35"
      },
      "execution_count": null,
      "outputs": [
        {
          "output_type": "stream",
          "name": "stdout",
          "text": [
            "0    275\n",
            "1    271\n",
            "2    279\n",
            "dtype: int64\n"
          ]
        }
      ]
    },
    {
      "cell_type": "code",
      "source": [
        "data = [[30,10,45,67,33,90],[70,63,78,13,9,38],[14,74,86,90,11,4]]\n",
        "df = pd.DataFrame(data)\n",
        "print(df)"
      ],
      "metadata": {
        "colab": {
          "base_uri": "https://localhost:8080/"
        },
        "id": "e8eUrUayQ-e-",
        "outputId": "470a1924-a4f1-43a1-f89a-f8c2580f3840"
      },
      "execution_count": null,
      "outputs": [
        {
          "output_type": "stream",
          "name": "stdout",
          "text": [
            "    0   1   2   3   4   5\n",
            "0  30  10  45  67  33  90\n",
            "1  70  63  78  13   9  38\n",
            "2  14  74  86  90  11   4\n"
          ]
        }
      ]
    },
    {
      "cell_type": "code",
      "source": [
        "print(df.apply(lambda x: x.max() - x.min()))    # column wise"
      ],
      "metadata": {
        "colab": {
          "base_uri": "https://localhost:8080/"
        },
        "id": "XjR56aNJTIcS",
        "outputId": "5fb96d4d-9fe8-411a-e570-7c43eede6c0f"
      },
      "execution_count": null,
      "outputs": [
        {
          "output_type": "stream",
          "name": "stdout",
          "text": [
            "0    56\n",
            "1    64\n",
            "2    41\n",
            "3    77\n",
            "4    24\n",
            "5    86\n",
            "dtype: int64\n"
          ]
        }
      ]
    },
    {
      "cell_type": "code",
      "source": [
        "print(df.apply(lambda x: x.max() - x.min(), axis = 1))  # row wise, default is 0"
      ],
      "metadata": {
        "colab": {
          "base_uri": "https://localhost:8080/"
        },
        "id": "e4JNfDQzTOba",
        "outputId": "fb97e5b0-596b-470d-ce1f-8e5a1d308480"
      },
      "execution_count": null,
      "outputs": [
        {
          "output_type": "stream",
          "name": "stdout",
          "text": [
            "0    80\n",
            "1    69\n",
            "2    86\n",
            "dtype: int64\n"
          ]
        }
      ]
    }
  ]
}