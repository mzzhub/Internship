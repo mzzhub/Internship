{
  "nbformat": 4,
  "nbformat_minor": 0,
  "metadata": {
    "colab": {
      "provenance": []
    },
    "kernelspec": {
      "name": "python3",
      "display_name": "Python 3"
    },
    "language_info": {
      "name": "python"
    }
  },
  "cells": [
    {
      "cell_type": "markdown",
      "source": [
        "# Pandas Time Series\n",
        "We can find out the data within a certain range of date and time by using pandas module named 'Time Series'\n",
        "* Equivalent to date time python package.\n",
        "* Used to deal with date time.\n",
        "* Complex operation on date time can be done.\n",
        "<br><br>\n",
        "TimeStamp<br>\n",
        "    * 21-Jan-2021\n",
        "    * 21-01-2021\n",
        "    * 21-01-21\n",
        "    * 21-01-2021 30:12:11"
      ],
      "metadata": {
        "id": "vW-6UM6rL0wR"
      }
    },
    {
      "cell_type": "code",
      "source": [
        "import pandas as pd"
      ],
      "metadata": {
        "id": "bBpAVGt1MicU"
      },
      "execution_count": null,
      "outputs": []
    },
    {
      "cell_type": "code",
      "execution_count": null,
      "metadata": {
        "id": "UT8rpC-WJeec"
      },
      "outputs": [],
      "source": [
        "data = '15-january-2023'"
      ]
    },
    {
      "cell_type": "code",
      "source": [
        "print(type(data))"
      ],
      "metadata": {
        "colab": {
          "base_uri": "https://localhost:8080/"
        },
        "id": "tPGuSum7Mdld",
        "outputId": "4c0a9e54-fc34-4a1a-c256-a8c40d0d7684"
      },
      "execution_count": null,
      "outputs": [
        {
          "output_type": "stream",
          "name": "stdout",
          "text": [
            "<class 'str'>\n"
          ]
        }
      ]
    },
    {
      "cell_type": "code",
      "source": [
        "dt = pd.to_datetime(data, format = '%d-%B-%Y')"
      ],
      "metadata": {
        "id": "JIVKapNYMfbB"
      },
      "execution_count": null,
      "outputs": []
    },
    {
      "cell_type": "code",
      "source": [
        "print(dt)"
      ],
      "metadata": {
        "colab": {
          "base_uri": "https://localhost:8080/"
        },
        "id": "imy52WQ8MpVb",
        "outputId": "87ae3ac4-ac73-4a4e-8fd2-bdd1698e18bf"
      },
      "execution_count": null,
      "outputs": [
        {
          "output_type": "stream",
          "name": "stdout",
          "text": [
            "2023-01-15 00:00:00\n"
          ]
        }
      ]
    },
    {
      "cell_type": "markdown",
      "source": [
        "[pd.to_datetime?](https://docs.python.org/3/library/datetime.html#strftime-and-strptime-format-codes)"
      ],
      "metadata": {
        "id": "ZQtikU_WShIa"
      }
    },
    {
      "cell_type": "code",
      "source": [],
      "metadata": {
        "id": "mx2qf7XDSeh1"
      },
      "execution_count": null,
      "outputs": []
    },
    {
      "cell_type": "code",
      "source": [
        "dates = ['2020-11-25 2:30:00 PM', 'jan 5,2020 18:45:00', '01/11/2020', '2020.01.11', '2020/01/11', '20201105']"
      ],
      "metadata": {
        "id": "LBp2Pol4OtWe"
      },
      "execution_count": null,
      "outputs": []
    },
    {
      "cell_type": "code",
      "source": [
        "date_time = pd.to_datetime(dates)"
      ],
      "metadata": {
        "colab": {
          "base_uri": "https://localhost:8080/"
        },
        "id": "EZZFpLsdRNfv",
        "outputId": "3ea78c73-33b8-4bed-830d-780a8cbb6b5b"
      },
      "execution_count": null,
      "outputs": [
        {
          "output_type": "stream",
          "name": "stderr",
          "text": [
            "<ipython-input-56-f448fb8c476f>:1: UserWarning: Could not infer format, so each element will be parsed individually, falling back to `dateutil`. To ensure parsing is consistent and as-expected, please specify a format.\n",
            "  date_time = pd.to_datetime(dates)\n"
          ]
        }
      ]
    },
    {
      "cell_type": "code",
      "source": [
        "date_time"
      ],
      "metadata": {
        "colab": {
          "base_uri": "https://localhost:8080/"
        },
        "id": "pOa4sMFHRTPQ",
        "outputId": "e55ae84d-f636-4618-a4c5-f6a9254b7cad"
      },
      "execution_count": null,
      "outputs": [
        {
          "output_type": "execute_result",
          "data": {
            "text/plain": [
              "DatetimeIndex(['2020-11-25 14:30:00', '2020-01-05 18:45:00',\n",
              "               '2020-01-11 00:00:00', '2020-01-11 00:00:00',\n",
              "               '2020-01-11 00:00:00', '2020-11-05 00:00:00'],\n",
              "              dtype='datetime64[ns]', freq=None)"
            ]
          },
          "metadata": {},
          "execution_count": 57
        }
      ]
    },
    {
      "cell_type": "code",
      "source": [
        "date = '11-oct-20'\n",
        "date_time = pd.to_datetime(date)"
      ],
      "metadata": {
        "id": "WQz-3ekiRVjP"
      },
      "execution_count": null,
      "outputs": []
    },
    {
      "cell_type": "code",
      "source": [
        "print(date_time)"
      ],
      "metadata": {
        "colab": {
          "base_uri": "https://localhost:8080/"
        },
        "id": "DLE66-IqT8dk",
        "outputId": "e11413d2-3b7f-4d76-c796-59329d78c722"
      },
      "execution_count": null,
      "outputs": [
        {
          "output_type": "stream",
          "name": "stdout",
          "text": [
            "2020-10-11 00:00:00\n"
          ]
        }
      ]
    },
    {
      "cell_type": "code",
      "source": [
        "print(date_time.day)"
      ],
      "metadata": {
        "colab": {
          "base_uri": "https://localhost:8080/"
        },
        "id": "Gj-ES16rUFEu",
        "outputId": "9ef961b6-949b-4a44-a2a7-1c36fd64ab1f"
      },
      "execution_count": null,
      "outputs": [
        {
          "output_type": "stream",
          "name": "stdout",
          "text": [
            "11\n"
          ]
        }
      ]
    },
    {
      "cell_type": "code",
      "source": [
        "print(date_time.week)"
      ],
      "metadata": {
        "colab": {
          "base_uri": "https://localhost:8080/"
        },
        "id": "8yPjVE1lULyZ",
        "outputId": "efa1adf4-4ba1-4693-a45d-bfe6eaa37cc5"
      },
      "execution_count": null,
      "outputs": [
        {
          "output_type": "stream",
          "name": "stdout",
          "text": [
            "41\n"
          ]
        }
      ]
    },
    {
      "cell_type": "code",
      "source": [
        "print(date_time.day_of_week)"
      ],
      "metadata": {
        "colab": {
          "base_uri": "https://localhost:8080/"
        },
        "id": "oJqNPiGpUNpc",
        "outputId": "b19d2270-2362-4453-8587-b4b583cd9cfe"
      },
      "execution_count": null,
      "outputs": [
        {
          "output_type": "stream",
          "name": "stdout",
          "text": [
            "6\n"
          ]
        }
      ]
    },
    {
      "cell_type": "code",
      "source": [
        "print(date_time.day_of_year)"
      ],
      "metadata": {
        "colab": {
          "base_uri": "https://localhost:8080/"
        },
        "id": "gtnWoxdAUQup",
        "outputId": "d14ec5a1-4b7c-449c-b2dd-6bcda6de3e7a"
      },
      "execution_count": null,
      "outputs": [
        {
          "output_type": "stream",
          "name": "stdout",
          "text": [
            "285\n"
          ]
        }
      ]
    },
    {
      "cell_type": "code",
      "source": [
        "print(date_time.minute)"
      ],
      "metadata": {
        "colab": {
          "base_uri": "https://localhost:8080/"
        },
        "id": "IuYddJxrUUBD",
        "outputId": "3461718f-d8d9-4238-fdca-8d70fb1f9af0"
      },
      "execution_count": null,
      "outputs": [
        {
          "output_type": "stream",
          "name": "stdout",
          "text": [
            "0\n"
          ]
        }
      ]
    },
    {
      "cell_type": "code",
      "source": [
        "print(date_time.is_leap_year)"
      ],
      "metadata": {
        "colab": {
          "base_uri": "https://localhost:8080/"
        },
        "id": "BhBKxQACUYGv",
        "outputId": "8219034c-fead-45ef-c73d-fdc137ac0a51"
      },
      "execution_count": null,
      "outputs": [
        {
          "output_type": "stream",
          "name": "stdout",
          "text": [
            "True\n"
          ]
        }
      ]
    },
    {
      "cell_type": "code",
      "source": [
        "print(date_time.is_month_end)"
      ],
      "metadata": {
        "colab": {
          "base_uri": "https://localhost:8080/"
        },
        "id": "TLuMuEW8UayU",
        "outputId": "3b985e65-7571-405e-d4b5-30cc0720609b"
      },
      "execution_count": null,
      "outputs": [
        {
          "output_type": "stream",
          "name": "stdout",
          "text": [
            "False\n"
          ]
        }
      ]
    },
    {
      "cell_type": "code",
      "source": [
        "print(date_time.is_month_start)"
      ],
      "metadata": {
        "colab": {
          "base_uri": "https://localhost:8080/"
        },
        "id": "ZVZDtrVCUdyT",
        "outputId": "db5da59e-296c-480d-e4b3-b8b3c343774c"
      },
      "execution_count": null,
      "outputs": [
        {
          "output_type": "stream",
          "name": "stdout",
          "text": [
            "False\n"
          ]
        }
      ]
    },
    {
      "cell_type": "code",
      "source": [
        "print(date_time.month)"
      ],
      "metadata": {
        "colab": {
          "base_uri": "https://localhost:8080/"
        },
        "id": "U1qPP2CtUgbd",
        "outputId": "21bb1cb5-0fc1-49dc-93b2-8f14049d4f40"
      },
      "execution_count": null,
      "outputs": [
        {
          "output_type": "stream",
          "name": "stdout",
          "text": [
            "10\n"
          ]
        }
      ]
    },
    {
      "cell_type": "code",
      "source": [
        "print(date_time.quarter)"
      ],
      "metadata": {
        "colab": {
          "base_uri": "https://localhost:8080/"
        },
        "id": "DPnQ6081Uib8",
        "outputId": "8fdff122-46ce-493e-ae05-e3458ef9b983"
      },
      "execution_count": null,
      "outputs": [
        {
          "output_type": "stream",
          "name": "stdout",
          "text": [
            "4\n"
          ]
        }
      ]
    },
    {
      "cell_type": "code",
      "source": [],
      "metadata": {
        "id": "P-kgKldjUkYE"
      },
      "execution_count": null,
      "outputs": []
    }
  ]
}