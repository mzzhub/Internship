{
  "nbformat": 4,
  "nbformat_minor": 0,
  "metadata": {
    "colab": {
      "provenance": []
    },
    "kernelspec": {
      "name": "python3",
      "display_name": "Python 3"
    },
    "language_info": {
      "name": "python"
    }
  },
  "cells": [
    {
      "cell_type": "markdown",
      "source": [
        "# 1. Create a 1D NumPy array containing numbers from 1 to 10\n",
        "* Question: Use NumPy to create an array with numbers from 1 to 10. Perform the following operations:\n",
        "    * Find the sum of all elements.\n",
        "    * Find the mean of the elements.\n",
        "    * Find the standard deviation of the elements."
      ],
      "metadata": {
        "id": "2DbrtDjcZGEr"
      }
    },
    {
      "cell_type": "code",
      "execution_count": 23,
      "metadata": {
        "id": "CVu-pPm9Y5qO"
      },
      "outputs": [],
      "source": [
        "import numpy as np"
      ]
    },
    {
      "cell_type": "code",
      "source": [
        "a = np.arange(1,11)\n",
        "print(a)"
      ],
      "metadata": {
        "colab": {
          "base_uri": "https://localhost:8080/"
        },
        "id": "d_PWvzKBcjr2",
        "outputId": "72523826-8913-42c4-a20a-40ae72791a0e"
      },
      "execution_count": 24,
      "outputs": [
        {
          "output_type": "stream",
          "name": "stdout",
          "text": [
            "[ 1  2  3  4  5  6  7  8  9 10]\n"
          ]
        }
      ]
    },
    {
      "cell_type": "code",
      "source": [
        "sum_a = np.sum(a)\n",
        "print(sum_a)"
      ],
      "metadata": {
        "colab": {
          "base_uri": "https://localhost:8080/"
        },
        "id": "nLDnk_aAcqLw",
        "outputId": "909a5e3a-53a4-46df-e7a8-0626d3349e75"
      },
      "execution_count": 25,
      "outputs": [
        {
          "output_type": "stream",
          "name": "stdout",
          "text": [
            "55\n"
          ]
        }
      ]
    },
    {
      "cell_type": "code",
      "source": [
        "mean_a = np.mean(a)\n",
        "print(mean_a)"
      ],
      "metadata": {
        "colab": {
          "base_uri": "https://localhost:8080/"
        },
        "id": "3gER5wszc5eA",
        "outputId": "eab65ecb-cd59-4e26-9f23-ea0b11d68345"
      },
      "execution_count": 26,
      "outputs": [
        {
          "output_type": "stream",
          "name": "stdout",
          "text": [
            "5.5\n"
          ]
        }
      ]
    },
    {
      "cell_type": "code",
      "source": [
        "std_a = np.std(a)\n",
        "print(std_a)"
      ],
      "metadata": {
        "colab": {
          "base_uri": "https://localhost:8080/"
        },
        "id": "Mjp0MhC5dBgy",
        "outputId": "189b520e-edc8-41cd-c40d-b15d676552f0"
      },
      "execution_count": 27,
      "outputs": [
        {
          "output_type": "stream",
          "name": "stdout",
          "text": [
            "2.8722813232690143\n"
          ]
        }
      ]
    },
    {
      "cell_type": "markdown",
      "source": [
        "# 2. Indexing in 1D arrays.\n",
        "* Question: Given the array arr = np.array( [10, 20, 30, 40, 50, 60] ) , perform the following operations:\n",
        "    * Extract the second and fourth elements.\n",
        "    * Extract all elements from the third element onwards.\n",
        "    * Reverse the array using slicing."
      ],
      "metadata": {
        "id": "zHAGuFo_daGv"
      }
    },
    {
      "cell_type": "code",
      "source": [
        "arr = np.array([10,20,30,40,50,60])"
      ],
      "metadata": {
        "id": "Xn-XIWLmdH1F"
      },
      "execution_count": 28,
      "outputs": []
    },
    {
      "cell_type": "code",
      "source": [
        "# second element\n",
        "print(arr[1])"
      ],
      "metadata": {
        "colab": {
          "base_uri": "https://localhost:8080/"
        },
        "id": "ZHmDE3EGdwbf",
        "outputId": "510cb7f8-43b7-4b3e-a288-4fe8f348328a"
      },
      "execution_count": 29,
      "outputs": [
        {
          "output_type": "stream",
          "name": "stdout",
          "text": [
            "20\n"
          ]
        }
      ]
    },
    {
      "cell_type": "code",
      "source": [
        "# fourth element\n",
        "print(arr[3])"
      ],
      "metadata": {
        "colab": {
          "base_uri": "https://localhost:8080/"
        },
        "id": "gvfnedVmd2j2",
        "outputId": "fc9f2429-8a7e-4489-b62b-7514a936d6df"
      },
      "execution_count": 30,
      "outputs": [
        {
          "output_type": "stream",
          "name": "stdout",
          "text": [
            "40\n"
          ]
        }
      ]
    },
    {
      "cell_type": "code",
      "source": [
        "# from third element\n",
        "print(arr[2:])"
      ],
      "metadata": {
        "colab": {
          "base_uri": "https://localhost:8080/"
        },
        "id": "7m5-CKjid6IC",
        "outputId": "8d950c62-f48c-4435-ea76-dad819eb092e"
      },
      "execution_count": 31,
      "outputs": [
        {
          "output_type": "stream",
          "name": "stdout",
          "text": [
            "[30 40 50 60]\n"
          ]
        }
      ]
    },
    {
      "cell_type": "code",
      "source": [
        "# reverse\n",
        "print(arr[::-1])"
      ],
      "metadata": {
        "colab": {
          "base_uri": "https://localhost:8080/"
        },
        "id": "AI8usR0geD1c",
        "outputId": "cac79f6e-1553-4998-f679-e1c593686573"
      },
      "execution_count": 32,
      "outputs": [
        {
          "output_type": "stream",
          "name": "stdout",
          "text": [
            "[60 50 40 30 20 10]\n"
          ]
        }
      ]
    },
    {
      "cell_type": "markdown",
      "source": [
        "# 3. Reshape a 1D array into a 2D array\n",
        "* Question: Create a 1D array with 12 elements, ranging from 1 to 12. Reshape it into a 3x4 array.\n"
      ],
      "metadata": {
        "id": "p_FUdwlif12G"
      }
    },
    {
      "cell_type": "code",
      "source": [
        "arr_1d = np.arange(1,13)\n",
        "print(arr_1d)"
      ],
      "metadata": {
        "colab": {
          "base_uri": "https://localhost:8080/"
        },
        "id": "IQiOCbekeIAr",
        "outputId": "8f253cf5-59d1-481f-cae0-4210db6e4d2f"
      },
      "execution_count": 33,
      "outputs": [
        {
          "output_type": "stream",
          "name": "stdout",
          "text": [
            "[ 1  2  3  4  5  6  7  8  9 10 11 12]\n"
          ]
        }
      ]
    },
    {
      "cell_type": "code",
      "source": [
        "arr_2d = arr_1d.reshape(3,4)\n",
        "print(arr_2d)"
      ],
      "metadata": {
        "colab": {
          "base_uri": "https://localhost:8080/"
        },
        "id": "Tg4diuEhgICk",
        "outputId": "8b4cdcfe-4d5b-48f2-c350-650436d229ba"
      },
      "execution_count": 34,
      "outputs": [
        {
          "output_type": "stream",
          "name": "stdout",
          "text": [
            "[[ 1  2  3  4]\n",
            " [ 5  6  7  8]\n",
            " [ 9 10 11 12]]\n"
          ]
        }
      ]
    },
    {
      "cell_type": "markdown",
      "source": [
        "# 4. Element - wise operations.\n",
        "* Question: Given two arrays A = np.array( [1, 2, 3] ) and B = np.array( [4, 5, 6] ), perform the following operations:\n",
        "    * Add the two arrays.\n",
        "    * Subtract the second array from the first.\n",
        "    * Multiply the two arrays element-wise.\n",
        "    * Divide the first array by the second"
      ],
      "metadata": {
        "id": "_QZwQeNggdXp"
      }
    },
    {
      "cell_type": "code",
      "source": [
        "A = np.array([1,2,3])\n",
        "B = np.array([4,5,6])"
      ],
      "metadata": {
        "id": "SDAqqoXTgXnn"
      },
      "execution_count": 35,
      "outputs": []
    },
    {
      "cell_type": "code",
      "source": [
        "# Adding.\n",
        "print(A+B)"
      ],
      "metadata": {
        "colab": {
          "base_uri": "https://localhost:8080/"
        },
        "id": "3R7h0Z5gg6qW",
        "outputId": "f45d3eb1-5de7-4757-ae90-aa8aaf146750"
      },
      "execution_count": 36,
      "outputs": [
        {
          "output_type": "stream",
          "name": "stdout",
          "text": [
            "[5 7 9]\n"
          ]
        }
      ]
    },
    {
      "cell_type": "code",
      "source": [
        "# Subtract.\n",
        "print(B-A)"
      ],
      "metadata": {
        "colab": {
          "base_uri": "https://localhost:8080/"
        },
        "id": "2cLQ2J8Zg8ti",
        "outputId": "6b6764ab-9666-4466-99c4-4d55d8a85a9c"
      },
      "execution_count": 37,
      "outputs": [
        {
          "output_type": "stream",
          "name": "stdout",
          "text": [
            "[3 3 3]\n"
          ]
        }
      ]
    },
    {
      "cell_type": "code",
      "source": [
        "# Multiply.\n",
        "print(A*B)"
      ],
      "metadata": {
        "colab": {
          "base_uri": "https://localhost:8080/"
        },
        "id": "B_7z5vjehHy-",
        "outputId": "957b5260-8e44-4a69-fc75-e53fdc1a79b5"
      },
      "execution_count": 38,
      "outputs": [
        {
          "output_type": "stream",
          "name": "stdout",
          "text": [
            "[ 4 10 18]\n"
          ]
        }
      ]
    },
    {
      "cell_type": "code",
      "source": [
        "# Divide.\n",
        "print(A/B)"
      ],
      "metadata": {
        "colab": {
          "base_uri": "https://localhost:8080/"
        },
        "id": "kmFyMgfBhKio",
        "outputId": "b953b6ab-6b53-4017-e0c0-34c68cf40d1b"
      },
      "execution_count": 39,
      "outputs": [
        {
          "output_type": "stream",
          "name": "stdout",
          "text": [
            "[0.25 0.4  0.5 ]\n"
          ]
        }
      ]
    }
  ]
}