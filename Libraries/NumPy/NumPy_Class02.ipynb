{
  "nbformat": 4,
  "nbformat_minor": 0,
  "metadata": {
    "colab": {
      "provenance": []
    },
    "kernelspec": {
      "name": "python3",
      "display_name": "Python 3"
    },
    "language_info": {
      "name": "python"
    }
  },
  "cells": [
    {
      "cell_type": "markdown",
      "source": [
        "# floor, ceil, round, rint"
      ],
      "metadata": {
        "id": "r1PLi5Yey-ay"
      }
    },
    {
      "cell_type": "code",
      "source": [
        "import numpy as np\n",
        "a = np.array([[3,4,26,89,23],[3.4,1.1,5.9,10,0.0001]])\n",
        "print(np.floor(a))"
      ],
      "metadata": {
        "colab": {
          "base_uri": "https://localhost:8080/"
        },
        "id": "AFzRgTCtyu2X",
        "outputId": "2c0ef99c-9cef-4ce8-c955-6176165b8bc6"
      },
      "execution_count": null,
      "outputs": [
        {
          "output_type": "stream",
          "name": "stdout",
          "text": [
            "[[ 3.  4. 26. 89. 23.]\n",
            " [ 3.  1.  5. 10.  0.]]\n"
          ]
        }
      ]
    },
    {
      "cell_type": "code",
      "source": [
        "a = np.array([[3,4,26,89,23],[3.4,1.1,5.9,10,0.0001]])\n",
        "print(np.ceil(a))"
      ],
      "metadata": {
        "colab": {
          "base_uri": "https://localhost:8080/"
        },
        "id": "oakTEqG_zZNb",
        "outputId": "34a1a7c9-666a-4f67-c30e-c1cdb6849217"
      },
      "execution_count": null,
      "outputs": [
        {
          "output_type": "stream",
          "name": "stdout",
          "text": [
            "[[ 3.  4. 26. 89. 23.]\n",
            " [ 4.  2.  6. 10.  1.]]\n"
          ]
        }
      ]
    },
    {
      "cell_type": "code",
      "source": [
        "a = np.array([[3,4,26,89,23],[3.4,1.1,5.9,10,0.0001]])\n",
        "print(np.round(a))"
      ],
      "metadata": {
        "colab": {
          "base_uri": "https://localhost:8080/"
        },
        "id": "0wBEQnOVzxy2",
        "outputId": "ab610a37-73f4-4f2e-8048-8f1adc155ab6"
      },
      "execution_count": null,
      "outputs": [
        {
          "output_type": "stream",
          "name": "stdout",
          "text": [
            "[[ 3.  4. 26. 89. 23.]\n",
            " [ 3.  1.  6. 10.  0.]]\n"
          ]
        }
      ]
    },
    {
      "cell_type": "code",
      "source": [
        "a = np.array([[3,4,26,89,23],[3.4,1.1,5.9,10,0.0001]])\n",
        "print(np.rint(a))"
      ],
      "metadata": {
        "colab": {
          "base_uri": "https://localhost:8080/"
        },
        "id": "7p7c2ZGw0O8m",
        "outputId": "ead07bf1-de9d-4f59-8f95-c9316353738b"
      },
      "execution_count": null,
      "outputs": [
        {
          "output_type": "stream",
          "name": "stdout",
          "text": [
            "[[ 3.  4. 26. 89. 23.]\n",
            " [ 3.  1.  6. 10.  0.]]\n"
          ]
        }
      ]
    },
    {
      "cell_type": "markdown",
      "source": [
        "# Data Types"
      ],
      "metadata": {
        "id": "S7MN-tip1ZNz"
      }
    },
    {
      "cell_type": "code",
      "source": [
        "a = np.array([[3,4,26,89,23],[3.4,1.1,5.9,10,0.0001]])\n",
        "print(a)\n",
        "print(type(a))"
      ],
      "metadata": {
        "colab": {
          "base_uri": "https://localhost:8080/"
        },
        "id": "mJPdxtc80Vgg",
        "outputId": "79033f78-3376-4f8b-cb64-3edb72826a5d"
      },
      "execution_count": null,
      "outputs": [
        {
          "output_type": "stream",
          "name": "stdout",
          "text": [
            "[[3.0e+00 4.0e+00 2.6e+01 8.9e+01 2.3e+01]\n",
            " [3.4e+00 1.1e+00 5.9e+00 1.0e+01 1.0e-04]]\n",
            "<class 'numpy.ndarray'>\n"
          ]
        }
      ]
    },
    {
      "cell_type": "code",
      "source": [
        "a = np.array([[3,4,26,89,23],[3.4,1.1,5.9,10,0.0001]])\n",
        "print(a)\n",
        "print(a.dtype)"
      ],
      "metadata": {
        "colab": {
          "base_uri": "https://localhost:8080/"
        },
        "id": "JHtj3reC0Y80",
        "outputId": "b2d7fc17-dbf6-4a0c-8bd2-85688c374fb1"
      },
      "execution_count": null,
      "outputs": [
        {
          "output_type": "stream",
          "name": "stdout",
          "text": [
            "[[3.0e+00 4.0e+00 2.6e+01 8.9e+01 2.3e+01]\n",
            " [3.4e+00 1.1e+00 5.9e+00 1.0e+01 1.0e-04]]\n",
            "float64\n"
          ]
        }
      ]
    },
    {
      "cell_type": "code",
      "source": [
        "a = np.array([[3,4,'26',89,23],[3.4,1.1,5.9,10,0.0001]])\n",
        "print(a)\n",
        "print(a.dtype)"
      ],
      "metadata": {
        "colab": {
          "base_uri": "https://localhost:8080/"
        },
        "id": "WG2HRdOy1qI8",
        "outputId": "afa9d65f-39cc-4ece-e7ea-656bcda857e7"
      },
      "execution_count": null,
      "outputs": [
        {
          "output_type": "stream",
          "name": "stdout",
          "text": [
            "[['3' '4' '26' '89' '23']\n",
            " ['3.4' '1.1' '5.9' '10' '0.0001']]\n",
            "<U32\n"
          ]
        }
      ]
    },
    {
      "cell_type": "code",
      "source": [
        "A = a.astype(float)\n",
        "print(A)\n",
        "print(A.dtype)"
      ],
      "metadata": {
        "colab": {
          "base_uri": "https://localhost:8080/"
        },
        "id": "WwQCCq3x1r-O",
        "outputId": "eb50e12f-a3e4-442b-fa06-d88b07cb6dec"
      },
      "execution_count": null,
      "outputs": [
        {
          "output_type": "stream",
          "name": "stdout",
          "text": [
            "[[3.0e+00 4.0e+00 2.6e+01 8.9e+01 2.3e+01]\n",
            " [3.4e+00 1.1e+00 5.9e+00 1.0e+01 1.0e-04]]\n",
            "float64\n"
          ]
        }
      ]
    },
    {
      "cell_type": "markdown",
      "source": [
        "# Dimentional indexing"
      ],
      "metadata": {
        "id": "ZixbC81q3SFL"
      }
    },
    {
      "cell_type": "markdown",
      "source": [
        "## One Dimentional indexing"
      ],
      "metadata": {
        "id": "-ZaHtGUK3Ven"
      }
    },
    {
      "cell_type": "code",
      "source": [
        "a = np.array([3.4,1.1,5.9,10,0.0001])\n",
        "print(a[3])"
      ],
      "metadata": {
        "colab": {
          "base_uri": "https://localhost:8080/"
        },
        "id": "LMxhH0kM2DKk",
        "outputId": "d00756d3-a1ed-4b5e-8070-d38eee106c5a"
      },
      "execution_count": null,
      "outputs": [
        {
          "output_type": "stream",
          "name": "stdout",
          "text": [
            "10.0\n"
          ]
        }
      ]
    },
    {
      "cell_type": "markdown",
      "source": [
        "## Two Dimentional indexing"
      ],
      "metadata": {
        "id": "RBEx4T-H3imf"
      }
    },
    {
      "cell_type": "code",
      "source": [
        "a = np.array([[3,4,'26',89,23],[3.4,1.1,5.9,10,0.0001]])"
      ],
      "metadata": {
        "id": "MtYwHuXK3gxM"
      },
      "execution_count": null,
      "outputs": []
    },
    {
      "cell_type": "code",
      "source": [
        "print(a[0,2])"
      ],
      "metadata": {
        "colab": {
          "base_uri": "https://localhost:8080/"
        },
        "id": "Em8ksoGr7Gnc",
        "outputId": "2e04bf0b-3c36-4566-c7c4-4aa9d86f488a"
      },
      "execution_count": null,
      "outputs": [
        {
          "output_type": "stream",
          "name": "stdout",
          "text": [
            "26\n"
          ]
        }
      ]
    },
    {
      "cell_type": "code",
      "source": [
        "print(a[1,4])"
      ],
      "metadata": {
        "colab": {
          "base_uri": "https://localhost:8080/"
        },
        "id": "ODKfvqkc3ocI",
        "outputId": "153a9ee8-eead-4460-ca93-910769840656"
      },
      "execution_count": null,
      "outputs": [
        {
          "output_type": "stream",
          "name": "stdout",
          "text": [
            "0.0001\n"
          ]
        }
      ]
    },
    {
      "cell_type": "markdown",
      "source": [
        "## Three Dimentional indexing"
      ],
      "metadata": {
        "id": "QmyBbcRe3t_6"
      }
    },
    {
      "cell_type": "code",
      "source": [
        "a = np.array([[[\"Marcelo\",\"Benzema\",\"Cristiano\",\"Ozil\"],[5,10,7,11]],[[3,4,'26',89],[1.1,5.9,10,0.0001]]])"
      ],
      "metadata": {
        "id": "vyrCRglr3sPl"
      },
      "execution_count": null,
      "outputs": []
    },
    {
      "cell_type": "code",
      "source": [
        "print(a[0,0,2])"
      ],
      "metadata": {
        "colab": {
          "base_uri": "https://localhost:8080/"
        },
        "id": "ZP7e7SSv7LWg",
        "outputId": "16fcb13c-db80-4732-eb72-fbb0753d2335"
      },
      "execution_count": null,
      "outputs": [
        {
          "output_type": "stream",
          "name": "stdout",
          "text": [
            "Cristiano\n"
          ]
        }
      ]
    },
    {
      "cell_type": "code",
      "source": [
        "a[1,0,1]"
      ],
      "metadata": {
        "colab": {
          "base_uri": "https://localhost:8080/",
          "height": 35
        },
        "id": "FnR5tRm84I74",
        "outputId": "14a4eb71-b25e-46c6-db52-0eeca7a90c69"
      },
      "execution_count": null,
      "outputs": [
        {
          "output_type": "execute_result",
          "data": {
            "text/plain": [
              "'4'"
            ],
            "application/vnd.google.colaboratory.intrinsic+json": {
              "type": "string"
            }
          },
          "metadata": {},
          "execution_count": 43
        }
      ]
    },
    {
      "cell_type": "markdown",
      "source": [
        "# Slicing"
      ],
      "metadata": {
        "id": "eZh6myJk6t9D"
      }
    },
    {
      "cell_type": "markdown",
      "source": [
        "## One DImentional slicing"
      ],
      "metadata": {
        "id": "tfVBAFkV6y6L"
      }
    },
    {
      "cell_type": "code",
      "source": [
        "a = np.array([3.4,1.1,5.9,10,0.0001])"
      ],
      "metadata": {
        "id": "yO9NNj-W5fc6"
      },
      "execution_count": null,
      "outputs": []
    },
    {
      "cell_type": "code",
      "source": [
        "print(a[1:4])"
      ],
      "metadata": {
        "colab": {
          "base_uri": "https://localhost:8080/"
        },
        "id": "rvJrR_D-6-Y4",
        "outputId": "6707aed9-1bc2-4f7b-acc4-3b730da802a2"
      },
      "execution_count": null,
      "outputs": [
        {
          "output_type": "stream",
          "name": "stdout",
          "text": [
            "[ 1.1  5.9 10. ]\n"
          ]
        }
      ]
    },
    {
      "cell_type": "code",
      "source": [
        "print(a[:3])"
      ],
      "metadata": {
        "colab": {
          "base_uri": "https://localhost:8080/"
        },
        "id": "Ca9uKktg7DDI",
        "outputId": "8f5b1ba8-ba0e-484c-c837-9543555270f7"
      },
      "execution_count": null,
      "outputs": [
        {
          "output_type": "stream",
          "name": "stdout",
          "text": [
            "[3.4 1.1 5.9]\n"
          ]
        }
      ]
    },
    {
      "cell_type": "markdown",
      "source": [
        "## Two Dimentional slicing"
      ],
      "metadata": {
        "id": "dqiztYK27TnD"
      }
    },
    {
      "cell_type": "code",
      "source": [
        "a = np.array([[3,4,'26',89,23],[3.4,1.1,5.9,10,0.0001]])"
      ],
      "metadata": {
        "id": "iJnMAgQf7PhZ"
      },
      "execution_count": null,
      "outputs": []
    },
    {
      "cell_type": "code",
      "source": [
        "print(a[0:2,2:4])"
      ],
      "metadata": {
        "colab": {
          "base_uri": "https://localhost:8080/"
        },
        "id": "gJLyxLxG8TKA",
        "outputId": "4c158c2e-6a4c-4b0a-c344-68aec60e7d84"
      },
      "execution_count": null,
      "outputs": [
        {
          "output_type": "stream",
          "name": "stdout",
          "text": [
            "[['26' '89']\n",
            " ['5.9' '10']]\n"
          ]
        }
      ]
    },
    {
      "cell_type": "code",
      "source": [
        "print(a[:,2:])"
      ],
      "metadata": {
        "colab": {
          "base_uri": "https://localhost:8080/"
        },
        "id": "hbuMoSy-8d45",
        "outputId": "bb07e34b-527b-4b15-ac78-f4bc0000b7e5"
      },
      "execution_count": null,
      "outputs": [
        {
          "output_type": "stream",
          "name": "stdout",
          "text": [
            "[['26' '89' '23']\n",
            " ['5.9' '10' '0.0001']]\n"
          ]
        }
      ]
    },
    {
      "cell_type": "markdown",
      "source": [
        "## Third Dimentional slicing"
      ],
      "metadata": {
        "id": "2xl8_i_y-GCX"
      }
    },
    {
      "cell_type": "code",
      "source": [
        "a = np.array([[[\"Marcelo\",\"Benzema\",\"Cristiano\",\"Ozil\"],[5,10,7,11]],[[3,4,'26',89],[1.1,5.9,10,0.0001]]])"
      ],
      "metadata": {
        "id": "XTyBYDxM8t1W"
      },
      "execution_count": null,
      "outputs": []
    },
    {
      "cell_type": "code",
      "source": [
        "print(a[0:2,1,1:3])"
      ],
      "metadata": {
        "colab": {
          "base_uri": "https://localhost:8080/"
        },
        "id": "tfT8bOjF-JfZ",
        "outputId": "d22f9723-13c9-4b3a-fc3a-a90d365e70f4"
      },
      "execution_count": null,
      "outputs": [
        {
          "output_type": "stream",
          "name": "stdout",
          "text": [
            "[['10' '7']\n",
            " ['5.9' '10']]\n"
          ]
        }
      ]
    },
    {
      "cell_type": "code",
      "source": [
        "print(a[:,:,2:4])"
      ],
      "metadata": {
        "colab": {
          "base_uri": "https://localhost:8080/"
        },
        "id": "zaATg3Z7-R9B",
        "outputId": "9a867156-eb59-4c1b-f7da-c90d40befa8a"
      },
      "execution_count": null,
      "outputs": [
        {
          "output_type": "stream",
          "name": "stdout",
          "text": [
            "[[['Cristiano' 'Ozil']\n",
            "  ['7' '11']]\n",
            "\n",
            " [['26' '89']\n",
            "  ['10' '0.0001']]]\n"
          ]
        }
      ]
    },
    {
      "cell_type": "markdown",
      "source": [
        "# Boolean Indexing"
      ],
      "metadata": {
        "id": "opCehFcmA0Wy"
      }
    },
    {
      "cell_type": "code",
      "source": [
        "a = np.array([[3,4,26,89,23],[3.4,1.1,5.9,10,0.0001]])"
      ],
      "metadata": {
        "id": "ve5i1UDw-hcD"
      },
      "execution_count": null,
      "outputs": []
    },
    {
      "cell_type": "code",
      "source": [
        "print(a>15)"
      ],
      "metadata": {
        "colab": {
          "base_uri": "https://localhost:8080/"
        },
        "id": "1DX5k0K_A6QR",
        "outputId": "088c34e1-bdc8-420f-c4e0-b27f579c0ccd"
      },
      "execution_count": null,
      "outputs": [
        {
          "output_type": "stream",
          "name": "stdout",
          "text": [
            "[[False False  True  True  True]\n",
            " [False False False False False]]\n"
          ]
        }
      ]
    },
    {
      "cell_type": "code",
      "source": [
        "print(a<10)"
      ],
      "metadata": {
        "colab": {
          "base_uri": "https://localhost:8080/"
        },
        "id": "NaOpwFhsA8_8",
        "outputId": "89b71d7f-2b00-400e-81cb-9b090ae51ce9"
      },
      "execution_count": null,
      "outputs": [
        {
          "output_type": "stream",
          "name": "stdout",
          "text": [
            "[[ True  True False False False]\n",
            " [ True  True  True False  True]]\n"
          ]
        }
      ]
    },
    {
      "cell_type": "markdown",
      "source": [
        "# Fancy Indexing"
      ],
      "metadata": {
        "id": "gWTTeGo5CeRp"
      }
    },
    {
      "cell_type": "code",
      "source": [
        "a = np.array([[[\"Marcelo\",\"Benzema\",\"Cristiano\",\"Ozil\"],[5,10,7,11]],[[3,4,26,89],[1.1,5.9,10,0.0001]]])"
      ],
      "metadata": {
        "id": "uC9IXKD7BIe6"
      },
      "execution_count": null,
      "outputs": []
    },
    {
      "cell_type": "code",
      "source": [
        "print(a[[0],[0],[3]])"
      ],
      "metadata": {
        "colab": {
          "base_uri": "https://localhost:8080/"
        },
        "id": "djhr-aphCjFJ",
        "outputId": "49491e78-8092-458f-d9ac-8e455092830f"
      },
      "execution_count": null,
      "outputs": [
        {
          "output_type": "stream",
          "name": "stdout",
          "text": [
            "['Ozil']\n"
          ]
        }
      ]
    },
    {
      "cell_type": "code",
      "source": [
        "print(a[[0,1],[0,1],[3,1]])"
      ],
      "metadata": {
        "colab": {
          "base_uri": "https://localhost:8080/"
        },
        "id": "-XsxHuiQCqgP",
        "outputId": "953c6c57-8ca2-4098-b15d-f4d5760dcc5e"
      },
      "execution_count": null,
      "outputs": [
        {
          "output_type": "stream",
          "name": "stdout",
          "text": [
            "['Ozil' '5.9']\n"
          ]
        }
      ]
    },
    {
      "cell_type": "code",
      "source": [
        "print(a[[0,1,0],[0,1,0],[3,1,0]])"
      ],
      "metadata": {
        "colab": {
          "base_uri": "https://localhost:8080/"
        },
        "id": "wjKuzYiJC0X6",
        "outputId": "68c841e6-d267-46d1-d1d8-8eece5a91ef2"
      },
      "execution_count": null,
      "outputs": [
        {
          "output_type": "stream",
          "name": "stdout",
          "text": [
            "['Ozil' '5.9' 'Marcelo']\n"
          ]
        }
      ]
    }
  ]
}