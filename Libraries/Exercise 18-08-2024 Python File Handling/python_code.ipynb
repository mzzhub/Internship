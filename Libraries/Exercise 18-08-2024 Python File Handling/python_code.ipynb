{
  "nbformat": 4,
  "nbformat_minor": 0,
  "metadata": {
    "colab": {
      "provenance": []
    },
    "kernelspec": {
      "name": "python3",
      "display_name": "Python 3"
    },
    "language_info": {
      "name": "python"
    }
  },
  "cells": [
    {
      "cell_type": "markdown",
      "source": [
        "# 1. Write a program that reads a text file and counts the number of lines in the file."
      ],
      "metadata": {
        "id": "3t2TBoIo1lg-"
      }
    },
    {
      "cell_type": "code",
      "source": [
        "f = open(\"test.txt\", \"r\")\n",
        "count = 0\n",
        "for i in f:\n",
        "    count+=1\n",
        "f.close()\n",
        "\n",
        "print(\"Number of lines in the file is\",count)"
      ],
      "metadata": {
        "colab": {
          "base_uri": "https://localhost:8080/"
        },
        "id": "B1OHOUMc1kyu",
        "outputId": "e85a1118-eb58-4db1-c5d7-bd7c6fe4cef4"
      },
      "execution_count": 1,
      "outputs": [
        {
          "output_type": "stream",
          "name": "stdout",
          "text": [
            "Number of lines in the file is 10\n"
          ]
        }
      ]
    },
    {
      "cell_type": "markdown",
      "source": [
        "# 2. Write a program that reads a text file and prints the first n lines of the file, where n is a user- specified integer."
      ],
      "metadata": {
        "id": "MEqcu0rS2iPo"
      }
    },
    {
      "cell_type": "code",
      "execution_count": 2,
      "metadata": {
        "colab": {
          "base_uri": "https://localhost:8080/"
        },
        "id": "M3RmB5KY1PMV",
        "outputId": "dc488a1d-339d-493a-f7f1-9791e242d10f"
      },
      "outputs": [
        {
          "output_type": "stream",
          "name": "stdout",
          "text": [
            "Enter requried number of lines: 4\n",
            "\n",
            "This is a test file!\n",
            "With multiple lines of data...\n",
            "Third tine\n",
            "Fourth line\n"
          ]
        }
      ],
      "source": [
        "n = int(input(\"Enter requried number of lines: \"))\n",
        "f = open(\"test.txt\", \"r\")\n",
        "count = 0\n",
        "print(\"\")\n",
        "for i in f:\n",
        "    if count < n:\n",
        "        print(i, end=\"\")\n",
        "    count += 1\n",
        "\n",
        "f.close()"
      ]
    },
    {
      "cell_type": "markdown",
      "source": [
        "# 3. Write a program that reads a text file and prints the last n lines of the file, where n is a user-specified integer."
      ],
      "metadata": {
        "id": "jtucTxCv5yZA"
      }
    },
    {
      "cell_type": "code",
      "source": [
        "n = int(input(\"Enter requried number of lines: \"))\n",
        "f = open(\"test.txt\", \"r\")\n",
        "\n",
        "# counting the number of lines.\n",
        "count = 0           # line counter\n",
        "for i in f:\n",
        "    count += 1\n",
        "print(\"\")\n",
        "\n",
        "f.seek(0)           # reseting the index pointer to the begining.\n",
        "\n",
        "skip = count - n    # Calculating the number of line to skip.\n",
        "count = 0           # line counter.\n",
        "\n",
        "for i in f:\n",
        "    if count >= skip:\n",
        "        print(i, end=\"\")\n",
        "    count += 1\n",
        "\n",
        "f.close()"
      ],
      "metadata": {
        "id": "-_nqwlwG3-hU",
        "colab": {
          "base_uri": "https://localhost:8080/"
        },
        "outputId": "e650e225-7152-479b-a20f-0393485560d6"
      },
      "execution_count": 3,
      "outputs": [
        {
          "output_type": "stream",
          "name": "stdout",
          "text": [
            "Enter requried number of lines: 3\n",
            "\n",
            "Eighth line\n",
            "Ninth line\n",
            "Tenth line"
          ]
        }
      ]
    },
    {
      "cell_type": "markdown",
      "source": [
        "# 4. Write a program that reads a text file and removes all blank lines from the file."
      ],
      "metadata": {
        "id": "YV9WjGAv8nFq"
      }
    },
    {
      "cell_type": "code",
      "source": [
        "f = open(\"with blanks.txt\", \"r\")\n",
        "\n",
        "# creatiing a new file without blank lines.\n",
        "g = open(\"without blanks.txt\", \"w\")\n",
        "for i in f:\n",
        "    if i == \"\\n\":\n",
        "        continue\n",
        "    g.write(i)\n",
        "\n",
        "f.close()\n",
        "g.close()\n",
        "\n",
        "print(\"Check the files 'with blanks.txt' and 'without blanks.txt'\")"
      ],
      "metadata": {
        "id": "Sgqne_N26Q7i",
        "colab": {
          "base_uri": "https://localhost:8080/"
        },
        "outputId": "d19e0d73-d202-4068-a52a-914c39f20f11"
      },
      "execution_count": 4,
      "outputs": [
        {
          "output_type": "stream",
          "name": "stdout",
          "text": [
            "Check the files 'with blanks.txt' and 'without blanks.txt'\n"
          ]
        }
      ]
    },
    {
      "cell_type": "markdown",
      "source": [
        "# 5. Write a program that reads a text file and removes all lines that contain a specified string."
      ],
      "metadata": {
        "id": "pFMYrh70-qft"
      }
    },
    {
      "cell_type": "code",
      "source": [
        "f = open(\"repeating lines.txt\", \"r\")\n",
        "\n",
        "# Crating a file which removed all the lines with \"next\" as the string\n",
        "g = open(\"non repeating.txt\", \"w\")\n",
        "for i in f:\n",
        "    if i == \"next\\n\":\n",
        "        continue\n",
        "    g.write(i)\n",
        "\n",
        "f.close()\n",
        "g.close()\n",
        "\n",
        "print(\"Check the files 'repeating lines.txt' and 'non repeating.txt'\")"
      ],
      "metadata": {
        "id": "CeB4VlM4-fI4",
        "colab": {
          "base_uri": "https://localhost:8080/"
        },
        "outputId": "1a0a62db-5df0-46f6-85aa-2c26bf07a2ee"
      },
      "execution_count": 5,
      "outputs": [
        {
          "output_type": "stream",
          "name": "stdout",
          "text": [
            "Check the files 'repeating lines.txt' and 'non repeating.txt'\n"
          ]
        }
      ]
    },
    {
      "cell_type": "markdown",
      "source": [
        "# 6. Write a program that reads a text file and removes all punctuation from the text."
      ],
      "metadata": {
        "id": "Tbjsp-2gA-8_"
      }
    },
    {
      "cell_type": "code",
      "source": [
        "f = open(\"with punctuations.txt\", \"r\")\n",
        "#print(f.read(2),end=\"\")\n",
        "#print(f.read(3))\n",
        "\n",
        "\n",
        "# Creating a new file that will not contain any punctuations.\n",
        "g = open(\"without punctuations.txt\", \"w\")\n",
        "for i in f.read():\n",
        "    if i.isalnum() or i.isspace():\n",
        "        g.write(i)\n",
        "\n",
        "f.close()\n",
        "g.close()\n",
        "\n",
        "print(\"Check the files 'with punctuations.txt' and 'without punctuations.txt'\")"
      ],
      "metadata": {
        "colab": {
          "base_uri": "https://localhost:8080/"
        },
        "id": "TVIp2hVgAdeB",
        "outputId": "9c091576-714d-431f-b93b-2ee0c201081d"
      },
      "execution_count": 6,
      "outputs": [
        {
          "output_type": "stream",
          "name": "stdout",
          "text": [
            "Check the files 'with punctuations.txt' and 'without punctuations.txt'\n"
          ]
        }
      ]
    },
    {
      "cell_type": "markdown",
      "source": [
        "# 7. Write a program that reads a text file and capitalizes the first letter of each word."
      ],
      "metadata": {
        "id": "qNdFQkG6FdVN"
      }
    },
    {
      "cell_type": "code",
      "source": [
        "f = open(\"non title.txt\", \"r\")\n",
        "\n",
        "# Creating a new file with all words starting with capital letter.\n",
        "g = open(\"all title.txt\", \"w\")\n",
        "g.write(f.read().title())\n",
        "\n",
        "f.close()\n",
        "g.close()\n",
        "\n",
        "print(\"Check the files 'non title.txt' and 'all title.txt'\")"
      ],
      "metadata": {
        "colab": {
          "base_uri": "https://localhost:8080/"
        },
        "id": "-a-Mx05MCkQx",
        "outputId": "39d46b3d-bc31-47cf-a0cb-794d3a0a4b7d"
      },
      "execution_count": 7,
      "outputs": [
        {
          "output_type": "stream",
          "name": "stdout",
          "text": [
            "Check the files 'non title.txt' and 'all title.txt'\n"
          ]
        }
      ]
    },
    {
      "cell_type": "markdown",
      "source": [
        "# 8. Write a program that reads a text file and converts all the text to uppercase."
      ],
      "metadata": {
        "id": "zkpRZmEnKLQl"
      }
    },
    {
      "cell_type": "code",
      "source": [
        "f = open(\"non upper.txt\", \"r\")\n",
        "\n",
        "# Creating a file with all characters are capital letters.\n",
        "g = open(\"all upper.txt\", \"w\")\n",
        "g.write(f.read().upper())\n",
        "\n",
        "f.close()\n",
        "g.close()\n",
        "\n",
        "print(\"Check the files 'non upper.txt' and 'all upper.txt'\")"
      ],
      "metadata": {
        "colab": {
          "base_uri": "https://localhost:8080/"
        },
        "id": "OCTne1X4IcMo",
        "outputId": "0f71f6a8-f10b-4527-bf31-ccaa57bbbb6a"
      },
      "execution_count": 8,
      "outputs": [
        {
          "output_type": "stream",
          "name": "stdout",
          "text": [
            "Check the files 'non upper.txt' and 'all upper.txt'\n"
          ]
        }
      ]
    },
    {
      "cell_type": "markdown",
      "source": [
        "# 9. Writea program that reads a text file and convens all the text to lowercase."
      ],
      "metadata": {
        "id": "84LMKLQCLMO4"
      }
    },
    {
      "cell_type": "code",
      "source": [
        "f = open(\"non lower.txt\", \"r\")\n",
        "\n",
        "# Creating a new file with all characters are small letters.\n",
        "g = open(\"all lower.txt\", \"w\")\n",
        "g.write(f.read().lower())\n",
        "\n",
        "f.close()\n",
        "g.close()\n",
        "\n",
        "print(\"Check the files 'non lower.txt' and 'all lower.txt'\")"
      ],
      "metadata": {
        "colab": {
          "base_uri": "https://localhost:8080/"
        },
        "id": "KLEYp0n7LGbi",
        "outputId": "6b042202-22bc-400f-d0f3-9863acdf6041"
      },
      "execution_count": 9,
      "outputs": [
        {
          "output_type": "stream",
          "name": "stdout",
          "text": [
            "Check the files 'non lower.txt' and 'all lower.txt'\n"
          ]
        }
      ]
    },
    {
      "cell_type": "markdown",
      "source": [
        "# 10. Write a program that reads a text file and replaces all occurrences of one word with another word."
      ],
      "metadata": {
        "id": "shyBGFEIMT9O"
      }
    },
    {
      "cell_type": "code",
      "source": [
        "f = open(\"repeating names.txt\", \"r\")\n",
        "\n",
        "# Creating a new file by replacing \"John\" by \"Bruce\" and \"Sara\" by \"Keila\"\n",
        "g = open(\"replaced names.txt\", \"w\")\n",
        "g.write(f.read().replace(\"John\",\"Bruce\").replace(\"Sara\",\"Keila\"))\n",
        "\n",
        "f.close()\n",
        "g.close()\n",
        "\n",
        "print(\"Check the files 'repeating names.txt' and 'replaced names.txt'\")"
      ],
      "metadata": {
        "colab": {
          "base_uri": "https://localhost:8080/"
        },
        "id": "znSoNdJtNc4o",
        "outputId": "cd04e7f1-772c-4351-dd6a-94686b256372"
      },
      "execution_count": 11,
      "outputs": [
        {
          "output_type": "stream",
          "name": "stdout",
          "text": [
            "Check the files 'repeating names.txt' and 'replaced names.txt'\n"
          ]
        }
      ]
    }
  ]
}