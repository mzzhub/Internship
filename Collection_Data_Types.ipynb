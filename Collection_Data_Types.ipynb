{
  "cells": [
    {
      "cell_type": "markdown",
      "source": [
        "# SEQUENCE TYPE (COLLECTION OF DATA)"
      ],
      "metadata": {
        "id": "OtMQOdLgfy8G"
      }
    },
    {
      "cell_type": "markdown",
      "source": [
        "##List\n",
        "Lists are ordered (the order of elements matters).\n",
        "\n",
        "Lists can contain any arbitrary objects (e.g., numbers, strings, functions, classes).\n",
        "\n",
        "List elements can be accessed by index.\n",
        "\n",
        "Lists can be nested (contain other lists).\n",
        "\n",
        "Lists are mutable (you can modify their contents).\n",
        "\n",
        "Lists are dynamic (you can add or remove elements)."
      ],
      "metadata": {
        "id": "FMn0MAREf2eT"
      }
    },
    {
      "cell_type": "code",
      "source": [
        "a = ['foo', 'bar', 'baz', 'qux']\n",
        "print(a)  # Output: ['foo', 'bar', 'baz', 'qux']"
      ],
      "metadata": {
        "colab": {
          "base_uri": "https://localhost:8080/"
        },
        "id": "jJTxdGX4gMfR",
        "outputId": "205d135a-20e0-4c4f-e910-e1efbe219d40"
      },
      "execution_count": 1,
      "outputs": [
        {
          "output_type": "stream",
          "name": "stdout",
          "text": [
            "['foo', 'bar', 'baz', 'qux']\n"
          ]
        }
      ]
    },
    {
      "cell_type": "markdown",
      "source": [
        "##Tuple\n",
        "A tuple is an ordered, immutable collection of objects.\n",
        "\n",
        "Tuples are immutable (you cannot modify their contents after creation).\n",
        "\n",
        "Tuples can contain any assortment of objects (similar to lists).\n",
        "\n",
        "Tuple elements can be accessed by index.\n",
        "\n",
        "Tuples are often used for grouping related data.\n",
        "\n",
        "Infinite Length\n",
        "\n",
        "iterable\n",
        "\n",
        "Allows Duplicate members"
      ],
      "metadata": {
        "id": "YFnNs_rEgXY1"
      }
    },
    {
      "cell_type": "code",
      "source": [
        "t = (10, 'apple', 3.14)\n",
        "print(t)  # Output: (10, 'apple', 3.14)\n"
      ],
      "metadata": {
        "colab": {
          "base_uri": "https://localhost:8080/"
        },
        "id": "8htSYuB0glX2",
        "outputId": "bc21e4b0-991b-4d3c-a710-a339154a3cf8"
      },
      "execution_count": 2,
      "outputs": [
        {
          "output_type": "stream",
          "name": "stdout",
          "text": [
            "(10, 'apple', 3.14)\n"
          ]
        }
      ]
    },
    {
      "cell_type": "code",
      "source": [
        "t[1]"
      ],
      "metadata": {
        "colab": {
          "base_uri": "https://localhost:8080/",
          "height": 35
        },
        "id": "yCqwtotUg6L0",
        "outputId": "e070856f-53be-4cf9-ab09-9262bedcc65a"
      },
      "execution_count": 3,
      "outputs": [
        {
          "output_type": "execute_result",
          "data": {
            "text/plain": [
              "'apple'"
            ],
            "application/vnd.google.colaboratory.intrinsic+json": {
              "type": "string"
            }
          },
          "metadata": {},
          "execution_count": 3
        }
      ]
    },
    {
      "cell_type": "code",
      "source": [
        "t.append(33) #Tuples are immutable (you cannot modify their contents after creation)."
      ],
      "metadata": {
        "colab": {
          "base_uri": "https://localhost:8080/",
          "height": 141
        },
        "id": "-xXxxVBJhK85",
        "outputId": "1b4344c4-b9eb-4791-e57e-b945dae5228c"
      },
      "execution_count": 4,
      "outputs": [
        {
          "output_type": "error",
          "ename": "AttributeError",
          "evalue": "'tuple' object has no attribute 'append'",
          "traceback": [
            "\u001b[0;31m---------------------------------------------------------------------------\u001b[0m",
            "\u001b[0;31mAttributeError\u001b[0m                            Traceback (most recent call last)",
            "\u001b[0;32m<ipython-input-4-30249254fd32>\u001b[0m in \u001b[0;36m<cell line: 1>\u001b[0;34m()\u001b[0m\n\u001b[0;32m----> 1\u001b[0;31m \u001b[0mt\u001b[0m\u001b[0;34m.\u001b[0m\u001b[0mappend\u001b[0m\u001b[0;34m(\u001b[0m\u001b[0;36m33\u001b[0m\u001b[0;34m)\u001b[0m \u001b[0;31m#Tuples are immutable (you cannot modify their contents after creation).\u001b[0m\u001b[0;34m\u001b[0m\u001b[0;34m\u001b[0m\u001b[0m\n\u001b[0m",
            "\u001b[0;31mAttributeError\u001b[0m: 'tuple' object has no attribute 'append'"
          ]
        }
      ]
    },
    {
      "cell_type": "code",
      "source": [
        "t1=[\"apple\",\"banana\",\"cherry\"]\n",
        "t2=tuple(t1)\n",
        "print(type(t1))\n",
        "print(type(t2))\n",
        "t1[0]"
      ],
      "metadata": {
        "colab": {
          "base_uri": "https://localhost:8080/",
          "height": 70
        },
        "id": "QwGRH6Lu2NKQ",
        "outputId": "04b83f08-7241-45ae-d302-36fb04dd6fd6"
      },
      "execution_count": 5,
      "outputs": [
        {
          "output_type": "stream",
          "name": "stdout",
          "text": [
            "<class 'list'>\n",
            "<class 'tuple'>\n"
          ]
        },
        {
          "output_type": "execute_result",
          "data": {
            "text/plain": [
              "'apple'"
            ],
            "application/vnd.google.colaboratory.intrinsic+json": {
              "type": "string"
            }
          },
          "metadata": {},
          "execution_count": 5
        }
      ]
    },
    {
      "cell_type": "code",
      "source": [
        "tuple?"
      ],
      "metadata": {
        "id": "2r_yWrOI6qTF"
      },
      "execution_count": 6,
      "outputs": []
    },
    {
      "cell_type": "code",
      "source": [
        "t3=(\"jack\",\"john\",\"peter\",\"john\")\n",
        "t4=list(t3)\n",
        "print(t4)"
      ],
      "metadata": {
        "colab": {
          "base_uri": "https://localhost:8080/"
        },
        "id": "N6F9A5zs7Wf-",
        "outputId": "a918f465-0d38-4b07-f249-ce4cd5370218"
      },
      "execution_count": 7,
      "outputs": [
        {
          "output_type": "stream",
          "name": "stdout",
          "text": [
            "['jack', 'john', 'peter', 'john']\n"
          ]
        }
      ]
    },
    {
      "cell_type": "code",
      "source": [
        "t5=(12,23,21)\n",
        "print(t3.count(\"john\"))\n",
        "print(sum(t5))\n",
        "print(t5.index(23))\n",
        "print(min(t5))\n",
        "print(max(t5))"
      ],
      "metadata": {
        "colab": {
          "base_uri": "https://localhost:8080/"
        },
        "id": "kszLvhAj8vtF",
        "outputId": "495a6080-a815-4f8d-da58-3967ba18f949"
      },
      "execution_count": 8,
      "outputs": [
        {
          "output_type": "stream",
          "name": "stdout",
          "text": [
            "2\n",
            "56\n",
            "1\n",
            "12\n",
            "23\n"
          ]
        }
      ]
    },
    {
      "cell_type": "markdown",
      "source": [
        "##Range\n",
        "A range represents an immutable sequence of numbers.\n",
        "\n",
        "It is commonly used for looping and generating sequences of integers.\n",
        "\n",
        "Ranges are defined using the range() function."
      ],
      "metadata": {
        "id": "FCRjNh_cgpsV"
      }
    },
    {
      "cell_type": "code",
      "source": [
        "r1 = range(1, 10)  # Generates numbers from 1 to 9\n",
        "print(list(r1))  # Output: [1, 2, 3, 4, 5, 6, 7, 8, 9]"
      ],
      "metadata": {
        "colab": {
          "base_uri": "https://localhost:8080/"
        },
        "id": "G7_1iXXOgyzO",
        "outputId": "b324f3b5-8d3d-431f-ce49-4711cf4f43ce"
      },
      "execution_count": 9,
      "outputs": [
        {
          "output_type": "stream",
          "name": "stdout",
          "text": [
            "[1, 2, 3, 4, 5, 6, 7, 8, 9]\n"
          ]
        }
      ]
    },
    {
      "cell_type": "code",
      "source": [
        "r2 = range(1,20,3)\n",
        "\n",
        "print(r2)\n",
        "\n",
        "print(list(r2))\n",
        "\n",
        "for n in r2:\n",
        "  print(n)"
      ],
      "metadata": {
        "colab": {
          "base_uri": "https://localhost:8080/"
        },
        "id": "YSeFxQAR-apj",
        "outputId": "85d3725b-6816-464c-ce9c-c34221e87dd5"
      },
      "execution_count": 10,
      "outputs": [
        {
          "output_type": "stream",
          "name": "stdout",
          "text": [
            "range(1, 20, 3)\n",
            "[1, 4, 7, 10, 13, 16, 19]\n",
            "1\n",
            "4\n",
            "7\n",
            "10\n",
            "13\n",
            "16\n",
            "19\n"
          ]
        }
      ]
    },
    {
      "cell_type": "markdown",
      "source": [
        "#Mapping Types\n",
        "##Dictionary\n",
        "A dictionary is an ordered collection of unique values stored as key-value pairs.\n",
        "\n",
        "Each key in the dictionary maps to a corresponding value.\n",
        "\n",
        "Dictionaries are created using curly braces {} and contain comma-separated key-value pairs.\n",
        "\n",
        "ordered: Starting from Python 3.7, dictionaries maintain the order of insertion\n",
        "\n",
        "mutable: You can modify, add, or remove items from a dictionary after its creation.\n",
        "\n",
        "No Duplicates: Each key in a dictionary is unique; duplicate keys are not allowed.\n",
        "\n",
        "Access by Key: You can access values by using their corresponding keys.\n",
        "\n",
        "Flexible Data Types: Dictionary values can be of any data type (e.g., strings, integers, lists, other dictionaries).\n",
        "\n",
        "key of a dictionary can only be immutable objects. (eg: tuple, string, numbers(int,float,complex))\n",
        "\n",
        "list, dictionary, set these cannot be a key of a dictionary"
      ],
      "metadata": {
        "id": "TgoUi65eh3SS"
      }
    },
    {
      "cell_type": "code",
      "source": [
        "my_dict = {\"name\": \"Alice\", \"age\": 30, \"city\": \"New York\"}"
      ],
      "metadata": {
        "id": "aTLnbme0iXiW"
      },
      "execution_count": 11,
      "outputs": []
    },
    {
      "cell_type": "code",
      "source": [
        "#Accessing Values:\n",
        "#Retrieve values by using their keys\n",
        "print(my_dict[\"name\"])  # Output: \"Alice\""
      ],
      "metadata": {
        "colab": {
          "base_uri": "https://localhost:8080/"
        },
        "id": "FCqQXuATi7k2",
        "outputId": "1b1ea3b4-1da2-4356-eccd-c0c831d4741d"
      },
      "execution_count": 12,
      "outputs": [
        {
          "output_type": "stream",
          "name": "stdout",
          "text": [
            "Alice\n"
          ]
        }
      ]
    },
    {
      "cell_type": "code",
      "source": [
        "#Modify an existing value\n",
        "my_dict[\"age\"] = 31\n",
        "print(my_dict)"
      ],
      "metadata": {
        "colab": {
          "base_uri": "https://localhost:8080/"
        },
        "id": "3v1JIEsmjEAR",
        "outputId": "e04d28ef-f282-4a58-9678-077bbae2be2c"
      },
      "execution_count": 13,
      "outputs": [
        {
          "output_type": "stream",
          "name": "stdout",
          "text": [
            "{'name': 'Alice', 'age': 31, 'city': 'New York'}\n"
          ]
        }
      ]
    },
    {
      "cell_type": "code",
      "source": [
        "#Add a new key-value pair\n",
        "my_dict[\"gender\"] = \"Female\"\n",
        "print(my_dict)"
      ],
      "metadata": {
        "colab": {
          "base_uri": "https://localhost:8080/"
        },
        "id": "TX-9QZyOjZWD",
        "outputId": "c8f0dde0-f78d-49f5-cd10-e9c972e5f818"
      },
      "execution_count": 14,
      "outputs": [
        {
          "output_type": "stream",
          "name": "stdout",
          "text": [
            "{'name': 'Alice', 'age': 31, 'city': 'New York', 'gender': 'Female'}\n"
          ]
        }
      ]
    },
    {
      "cell_type": "code",
      "source": [
        "#Removing Items:\n",
        "#Use the del keyword to remove a key-value pair:\n",
        "del my_dict[\"city\"]\n",
        "print(my_dict)"
      ],
      "metadata": {
        "colab": {
          "base_uri": "https://localhost:8080/"
        },
        "id": "zGgv32StjhU-",
        "outputId": "561da607-e2cf-4f67-ccb5-e20e4f9f5066"
      },
      "execution_count": 15,
      "outputs": [
        {
          "output_type": "stream",
          "name": "stdout",
          "text": [
            "{'name': 'Alice', 'age': 31, 'gender': 'Female'}\n"
          ]
        }
      ]
    },
    {
      "cell_type": "code",
      "source": [
        "#Length of a Dictionary:\n",
        "#To find the number of key-value pairs in a dictionary, use the len() function\n",
        "print(len(my_dict))  # Output: 3"
      ],
      "metadata": {
        "colab": {
          "base_uri": "https://localhost:8080/"
        },
        "id": "jA_YS8W6jrPg",
        "outputId": "45f3d8eb-5cf0-4b40-97d1-d564aa62c7c9"
      },
      "execution_count": 16,
      "outputs": [
        {
          "output_type": "stream",
          "name": "stdout",
          "text": [
            "3\n"
          ]
        }
      ]
    },
    {
      "cell_type": "code",
      "source": [
        "dict1 = {\"name\" : \"Hadhi\", \"age\" : 21, \"sex\" : \"Male\"}"
      ],
      "metadata": {
        "id": "ITb8HUauPIYG"
      },
      "execution_count": 17,
      "outputs": []
    },
    {
      "cell_type": "code",
      "source": [
        "dict1[1] # Dictionary cannot be assesed with index numbers"
      ],
      "metadata": {
        "colab": {
          "base_uri": "https://localhost:8080/",
          "height": 141
        },
        "id": "rdUA45mhPqiv",
        "outputId": "85c68394-9dde-4bfb-bb03-a8f7b3ce67eb"
      },
      "execution_count": 18,
      "outputs": [
        {
          "output_type": "error",
          "ename": "KeyError",
          "evalue": "1",
          "traceback": [
            "\u001b[0;31m---------------------------------------------------------------------------\u001b[0m",
            "\u001b[0;31mKeyError\u001b[0m                                  Traceback (most recent call last)",
            "\u001b[0;32m<ipython-input-18-9023259693a3>\u001b[0m in \u001b[0;36m<cell line: 1>\u001b[0;34m()\u001b[0m\n\u001b[0;32m----> 1\u001b[0;31m \u001b[0mdict1\u001b[0m\u001b[0;34m[\u001b[0m\u001b[0;36m1\u001b[0m\u001b[0;34m]\u001b[0m \u001b[0;31m# Dictionary cannot be assesed with index numbers\u001b[0m\u001b[0;34m\u001b[0m\u001b[0;34m\u001b[0m\u001b[0m\n\u001b[0m",
            "\u001b[0;31mKeyError\u001b[0m: 1"
          ]
        }
      ]
    },
    {
      "cell_type": "code",
      "source": [
        "dict1[\"Age\"] #Case sensitive"
      ],
      "metadata": {
        "colab": {
          "base_uri": "https://localhost:8080/",
          "height": 141
        },
        "id": "vyAQ-Z8cQd0S",
        "outputId": "65f32515-0091-4958-80f4-39599c468484"
      },
      "execution_count": 19,
      "outputs": [
        {
          "output_type": "error",
          "ename": "KeyError",
          "evalue": "'Age'",
          "traceback": [
            "\u001b[0;31m---------------------------------------------------------------------------\u001b[0m",
            "\u001b[0;31mKeyError\u001b[0m                                  Traceback (most recent call last)",
            "\u001b[0;32m<ipython-input-19-477a8b6eaeaa>\u001b[0m in \u001b[0;36m<cell line: 1>\u001b[0;34m()\u001b[0m\n\u001b[0;32m----> 1\u001b[0;31m \u001b[0mdict1\u001b[0m\u001b[0;34m[\u001b[0m\u001b[0;34m\"Age\"\u001b[0m\u001b[0;34m]\u001b[0m \u001b[0;31m#Case sensitive\u001b[0m\u001b[0;34m\u001b[0m\u001b[0;34m\u001b[0m\u001b[0m\n\u001b[0m",
            "\u001b[0;31mKeyError\u001b[0m: 'Age'"
          ]
        }
      ]
    },
    {
      "cell_type": "code",
      "source": [
        "dict1[\"name\"]=\"Hadhi Mishab P K\""
      ],
      "metadata": {
        "id": "LwgMNXIWQ2xK"
      },
      "execution_count": 20,
      "outputs": []
    },
    {
      "cell_type": "code",
      "source": [
        "print(dict1)"
      ],
      "metadata": {
        "id": "U0b8aZKLRDpj",
        "colab": {
          "base_uri": "https://localhost:8080/"
        },
        "outputId": "3e7e2b41-8fb1-479a-d004-d65f39b2df67"
      },
      "execution_count": 21,
      "outputs": [
        {
          "output_type": "stream",
          "name": "stdout",
          "text": [
            "{'name': 'Hadhi Mishab P K', 'age': 21, 'sex': 'Male'}\n"
          ]
        }
      ]
    },
    {
      "cell_type": "code",
      "source": [
        "dict2={\"name\":\"Hunt\",\"age\":22,\"sex\":\"Male\",\"Occupation\":\"F1 Driver\"}\n",
        "print(dict2)\n",
        "print(dict2[\"Occupation\"])"
      ],
      "metadata": {
        "colab": {
          "base_uri": "https://localhost:8080/"
        },
        "id": "tjeEMsLlKsna",
        "outputId": "2e73e481-8e80-46d2-a7b0-7c234e4ee888"
      },
      "execution_count": 22,
      "outputs": [
        {
          "output_type": "stream",
          "name": "stdout",
          "text": [
            "{'name': 'Hunt', 'age': 22, 'sex': 'Male', 'Occupation': 'F1 Driver'}\n",
            "F1 Driver\n"
          ]
        }
      ]
    },
    {
      "cell_type": "markdown",
      "source": [
        "### Adding a data to dictionary"
      ],
      "metadata": {
        "id": "L4MSOoRpI2_B"
      }
    },
    {
      "cell_type": "code",
      "source": [
        "dict2[\"language\"]=\"english\""
      ],
      "metadata": {
        "id": "XvFFA47HI7ld"
      },
      "execution_count": 23,
      "outputs": []
    },
    {
      "cell_type": "code",
      "source": [
        "print(dict2)"
      ],
      "metadata": {
        "colab": {
          "base_uri": "https://localhost:8080/"
        },
        "id": "dob8qT9NJIjY",
        "outputId": "ba24b03a-29a4-4d45-b4cf-e137fd9e5245"
      },
      "execution_count": 25,
      "outputs": [
        {
          "output_type": "stream",
          "name": "stdout",
          "text": [
            "{'name': 'Hunt', 'age': 22, 'sex': 'Male', 'Occupation': 'F1 Driver', 'language': 'english'}\n"
          ]
        }
      ]
    },
    {
      "cell_type": "code",
      "source": [
        "dict2.update({\"age\":31})"
      ],
      "metadata": {
        "id": "05Iw4FH2J3j4"
      },
      "execution_count": 26,
      "outputs": []
    },
    {
      "cell_type": "code",
      "source": [
        "print(dict2)"
      ],
      "metadata": {
        "colab": {
          "base_uri": "https://localhost:8080/"
        },
        "id": "ee3B4qV7KLNq",
        "outputId": "5e7a8bdc-4623-42e2-94fc-9226efc42040"
      },
      "execution_count": 27,
      "outputs": [
        {
          "output_type": "stream",
          "name": "stdout",
          "text": [
            "{'name': 'Hunt', 'age': 31, 'sex': 'Male', 'Occupation': 'F1 Driver', 'language': 'english'}\n"
          ]
        }
      ]
    },
    {
      "cell_type": "code",
      "source": [
        "dict3={\"name\":\"Jack\",\"age\":22,\"sex\":\"Male\",\"Occupation\":\"F1 Driver\",\"language\":\"english\",\"car\":\"Maclaren\"}"
      ],
      "metadata": {
        "id": "JuOH2OSaMcBS"
      },
      "execution_count": 28,
      "outputs": []
    },
    {
      "cell_type": "code",
      "source": [
        "print(dict3)"
      ],
      "metadata": {
        "colab": {
          "base_uri": "https://localhost:8080/"
        },
        "id": "URa6gcR2OMJ7",
        "outputId": "eddd67b9-7fa8-4ee2-cfdd-15c382808546"
      },
      "execution_count": 29,
      "outputs": [
        {
          "output_type": "stream",
          "name": "stdout",
          "text": [
            "{'name': 'Jack', 'age': 22, 'sex': 'Male', 'Occupation': 'F1 Driver', 'language': 'english', 'car': 'Maclaren'}\n"
          ]
        }
      ]
    },
    {
      "cell_type": "code",
      "source": [
        "del dict3[\"sex\"]"
      ],
      "metadata": {
        "id": "sCgfMgY3Mf99"
      },
      "execution_count": 30,
      "outputs": []
    },
    {
      "cell_type": "code",
      "source": [
        "print(dict3)"
      ],
      "metadata": {
        "colab": {
          "base_uri": "https://localhost:8080/"
        },
        "id": "FuIbQ6ddMnAQ",
        "outputId": "51b124cc-f788-454c-ac06-36600d2d6b32"
      },
      "execution_count": 31,
      "outputs": [
        {
          "output_type": "stream",
          "name": "stdout",
          "text": [
            "{'name': 'Jack', 'age': 22, 'Occupation': 'F1 Driver', 'language': 'english', 'car': 'Maclaren'}\n"
          ]
        }
      ]
    },
    {
      "cell_type": "code",
      "source": [
        "dict3.pop(\"name\") # this will pop the indicated item"
      ],
      "metadata": {
        "colab": {
          "base_uri": "https://localhost:8080/",
          "height": 35
        },
        "id": "bWX0-LQfMsaF",
        "outputId": "3cbb16ef-bc5b-40b3-bedb-cf6957117c35"
      },
      "execution_count": 32,
      "outputs": [
        {
          "output_type": "execute_result",
          "data": {
            "text/plain": [
              "'Jack'"
            ],
            "application/vnd.google.colaboratory.intrinsic+json": {
              "type": "string"
            }
          },
          "metadata": {},
          "execution_count": 32
        }
      ]
    },
    {
      "cell_type": "code",
      "source": [
        "print(dict3)"
      ],
      "metadata": {
        "colab": {
          "base_uri": "https://localhost:8080/"
        },
        "id": "42evp_i5Mya6",
        "outputId": "743c07bc-5ffc-4243-d7f9-8acba58c449e"
      },
      "execution_count": 33,
      "outputs": [
        {
          "output_type": "stream",
          "name": "stdout",
          "text": [
            "{'age': 22, 'Occupation': 'F1 Driver', 'language': 'english', 'car': 'Maclaren'}\n"
          ]
        }
      ]
    },
    {
      "cell_type": "code",
      "source": [
        "dict3.popitem() # this will pop out the last item"
      ],
      "metadata": {
        "colab": {
          "base_uri": "https://localhost:8080/"
        },
        "id": "sMiAjS70NLbS",
        "outputId": "c4e60d93-4466-4b33-d30f-3ebfcf96ffbf"
      },
      "execution_count": 34,
      "outputs": [
        {
          "output_type": "execute_result",
          "data": {
            "text/plain": [
              "('car', 'Maclaren')"
            ]
          },
          "metadata": {},
          "execution_count": 34
        }
      ]
    },
    {
      "cell_type": "code",
      "source": [
        "print(dict3)"
      ],
      "metadata": {
        "colab": {
          "base_uri": "https://localhost:8080/"
        },
        "id": "FKXMZzpfNOdP",
        "outputId": "c7d6ac27-2bbd-4b3a-c322-a6571ed3dd11"
      },
      "execution_count": 35,
      "outputs": [
        {
          "output_type": "stream",
          "name": "stdout",
          "text": [
            "{'age': 22, 'Occupation': 'F1 Driver', 'language': 'english'}\n"
          ]
        }
      ]
    },
    {
      "cell_type": "code",
      "source": [
        "print(dict3[\"Occupation\"]) # this is like acessing the data. square brackeets. shows error if we input someting which is not a key"
      ],
      "metadata": {
        "colab": {
          "base_uri": "https://localhost:8080/"
        },
        "id": "wiFbeg8mNUAX",
        "outputId": "01dce417-5266-4af2-ab81-b150d3dd8dc8"
      },
      "execution_count": 36,
      "outputs": [
        {
          "output_type": "stream",
          "name": "stdout",
          "text": [
            "F1 Driver\n"
          ]
        }
      ]
    },
    {
      "cell_type": "code",
      "source": [
        "print(dict3.get(\"Occupatn\")) # this is like a search. round brackets, shows the result if the input is available as a key. if not, returns none"
      ],
      "metadata": {
        "colab": {
          "base_uri": "https://localhost:8080/"
        },
        "id": "_n7ZstyqNa6k",
        "outputId": "4e35fab1-6e4b-4cf7-bd79-ecf8710b8bd5"
      },
      "execution_count": 37,
      "outputs": [
        {
          "output_type": "stream",
          "name": "stdout",
          "text": [
            "None\n"
          ]
        }
      ]
    },
    {
      "cell_type": "code",
      "source": [
        "print(dict3.keys())"
      ],
      "metadata": {
        "colab": {
          "base_uri": "https://localhost:8080/"
        },
        "id": "h0Yt_8kxOcxv",
        "outputId": "c6bfdd1c-38f7-4c0d-a6a7-d5bdbe7093b4"
      },
      "execution_count": 38,
      "outputs": [
        {
          "output_type": "stream",
          "name": "stdout",
          "text": [
            "dict_keys(['age', 'Occupation', 'language'])\n"
          ]
        }
      ]
    },
    {
      "cell_type": "code",
      "source": [
        "print(dict3.values())"
      ],
      "metadata": {
        "colab": {
          "base_uri": "https://localhost:8080/"
        },
        "id": "aj-H1Y4dOg5s",
        "outputId": "dd3ca39e-fb6b-414b-812c-25fa6c56c2b3"
      },
      "execution_count": 39,
      "outputs": [
        {
          "output_type": "stream",
          "name": "stdout",
          "text": [
            "dict_values([22, 'F1 Driver', 'english'])\n"
          ]
        }
      ]
    },
    {
      "cell_type": "code",
      "source": [
        "type(dict3.keys())"
      ],
      "metadata": {
        "colab": {
          "base_uri": "https://localhost:8080/"
        },
        "id": "SQ4LygdnOnRi",
        "outputId": "bcc51914-281d-4cb1-ec3d-271dabe99fc4"
      },
      "execution_count": 40,
      "outputs": [
        {
          "output_type": "execute_result",
          "data": {
            "text/plain": [
              "dict_keys"
            ]
          },
          "metadata": {},
          "execution_count": 40
        }
      ]
    },
    {
      "cell_type": "code",
      "source": [
        "type(dict3.values())"
      ],
      "metadata": {
        "colab": {
          "base_uri": "https://localhost:8080/"
        },
        "id": "XtYV0H6cLHF4",
        "outputId": "796075e6-ee83-4f7f-ad8b-d61f1ffcad0f"
      },
      "execution_count": 41,
      "outputs": [
        {
          "output_type": "execute_result",
          "data": {
            "text/plain": [
              "dict_values"
            ]
          },
          "metadata": {},
          "execution_count": 41
        }
      ]
    },
    {
      "cell_type": "markdown",
      "source": [
        "# Set Types"
      ],
      "metadata": {
        "id": "kA-ggDVTk2QI"
      }
    },
    {
      "cell_type": "markdown",
      "source": [
        "## 1  Set\n",
        "A set is an unordered collection of unique elements.\n",
        "\n",
        "Sets are mutable, meaning you can add or remove elements.\n",
        "\n",
        "Sets do not allow duplicate values.\n",
        "\n",
        "Sets are represented by curly braces {} or by using the set() constructor.\n",
        "\n",
        "You can perform set operations like union, intersection, and difference"
      ],
      "metadata": {
        "id": "RhrAx-F7kVQV"
      }
    },
    {
      "cell_type": "code",
      "source": [
        "my_set = {1, 2, 3, 4}\n",
        "print(my_set)  # Output: {1, 2, 3, 4}\n"
      ],
      "metadata": {
        "colab": {
          "base_uri": "https://localhost:8080/"
        },
        "id": "mgoCXdzVkc9a",
        "outputId": "572f2e89-6eb1-475c-cc50-9b2f5b03e113"
      },
      "execution_count": 42,
      "outputs": [
        {
          "output_type": "stream",
          "name": "stdout",
          "text": [
            "{1, 2, 3, 4}\n"
          ]
        }
      ]
    },
    {
      "cell_type": "code",
      "source": [
        "names={\"peter\",\"john\",\"jack\"}\n",
        "print(names)\n",
        "names.add(\"jimi\")\n",
        "print(names)\n",
        "k=names.pop()\n",
        "print(k)\n",
        "names.remove(\"peter\")\n",
        "print(names)\n",
        "names.clear()\n",
        "print(names)"
      ],
      "metadata": {
        "colab": {
          "base_uri": "https://localhost:8080/"
        },
        "id": "nWDI6jZGBTJa",
        "outputId": "8a168f17-72a3-45cd-c6db-08bf94b1d71b"
      },
      "execution_count": 43,
      "outputs": [
        {
          "output_type": "stream",
          "name": "stdout",
          "text": [
            "{'john', 'jack', 'peter'}\n",
            "{'john', 'jack', 'jimi', 'peter'}\n",
            "john\n",
            "{'jack', 'jimi'}\n",
            "set()\n"
          ]
        }
      ]
    },
    {
      "cell_type": "code",
      "source": [
        "set1={\"cap\",\"shirt\",\"shoes\",\"pants\"}\n",
        "set2={\"cap\",\"shirt\",\"shoes\"}\n",
        "b=set1.intersection(set2)\n",
        "print(b)\n",
        "c=set1.union(set2) # is same as c=set.union(set1,set2)\n",
        "print(c)\n",
        "d=set1.difference(set2)\n",
        "print(d)\n",
        "b==set.intersection(set1,set2)\n",
        "f=c=set.union(set1,set2)\n",
        "print(f)"
      ],
      "metadata": {
        "colab": {
          "base_uri": "https://localhost:8080/"
        },
        "id": "5j0SQwQXHE2h",
        "outputId": "f88b24e1-2bc6-4d20-9b60-457e1fb5b4a9"
      },
      "execution_count": 44,
      "outputs": [
        {
          "output_type": "stream",
          "name": "stdout",
          "text": [
            "{'shoes', 'cap', 'shirt'}\n",
            "{'shoes', 'shirt', 'pants', 'cap'}\n",
            "{'pants'}\n",
            "{'shoes', 'shirt', 'pants', 'cap'}\n"
          ]
        }
      ]
    },
    {
      "cell_type": "code",
      "source": [
        "print(set.isdisjoint(set1,set2))"
      ],
      "metadata": {
        "colab": {
          "base_uri": "https://localhost:8080/"
        },
        "id": "0kV2nR-rI4y-",
        "outputId": "58a0d326-bdec-433b-f056-48183c54d26b"
      },
      "execution_count": 46,
      "outputs": [
        {
          "output_type": "stream",
          "name": "stdout",
          "text": [
            "False\n"
          ]
        }
      ]
    },
    {
      "cell_type": "code",
      "source": [
        "print(set1.isdisjoint(set2))"
      ],
      "metadata": {
        "colab": {
          "base_uri": "https://localhost:8080/"
        },
        "id": "A8EBZSmuJLb3",
        "outputId": "c75a3e69-9633-4192-8b0e-15c8e46ee42b"
      },
      "execution_count": 47,
      "outputs": [
        {
          "output_type": "stream",
          "name": "stdout",
          "text": [
            "False\n"
          ]
        }
      ]
    },
    {
      "cell_type": "markdown",
      "source": [
        "##Frozenset\n",
        "A frozenset is an immutable version of a set\n",
        "\n",
        "Frozensets cannot be modified after creation (no adding or removing elements).\n",
        "\n",
        "Frozensets are hashable, which means they can be used as dictionary keys or as elements of another set."
      ],
      "metadata": {
        "id": "eqpG7PaZkhGy"
      }
    },
    {
      "cell_type": "code",
      "source": [
        "my_frozenset = frozenset([10, 20, 30])\n",
        "print(my_frozenset)  # Output: frozenset({10, 20, 30})\n"
      ],
      "metadata": {
        "colab": {
          "base_uri": "https://localhost:8080/"
        },
        "id": "5NcpeZkIkquV",
        "outputId": "a4502e36-b84e-4bdc-9673-f4bca5eb8006"
      },
      "execution_count": 48,
      "outputs": [
        {
          "output_type": "stream",
          "name": "stdout",
          "text": [
            "frozenset({10, 20, 30})\n"
          ]
        }
      ]
    },
    {
      "cell_type": "code",
      "source": [
        "set3={1,2,3,4}\n",
        "set5=(11,22,33,44)\n",
        "set4=frozenset(set3)\n",
        "print(set4)\n",
        "print(type(set4))\n",
        "print(type(set3))\n",
        "set3.add(23)\n",
        "print(set3)\n",
        "print(set4.union(set5)) #the union of a frozen set with any other set is also a frozen set"
      ],
      "metadata": {
        "colab": {
          "base_uri": "https://localhost:8080/"
        },
        "id": "cyi8dZl4JdeP",
        "outputId": "7e7a5b57-966a-4893-9574-afcee719847f"
      },
      "execution_count": 49,
      "outputs": [
        {
          "output_type": "stream",
          "name": "stdout",
          "text": [
            "frozenset({1, 2, 3, 4})\n",
            "<class 'frozenset'>\n",
            "<class 'set'>\n",
            "{1, 2, 3, 4, 23}\n",
            "frozenset({1, 2, 3, 4, 33, 11, 44, 22})\n"
          ]
        }
      ]
    }
  ],
  "metadata": {
    "colab": {
      "provenance": []
    },
    "kernelspec": {
      "display_name": "Python 3",
      "name": "python3"
    },
    "language_info": {
      "name": "python"
    }
  },
  "nbformat": 4,
  "nbformat_minor": 0
}