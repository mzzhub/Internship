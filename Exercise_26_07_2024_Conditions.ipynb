{
  "nbformat": 4,
  "nbformat_minor": 0,
  "metadata": {
    "colab": {
      "provenance": []
    },
    "kernelspec": {
      "name": "python3",
      "display_name": "Python 3"
    },
    "language_info": {
      "name": "python"
    }
  },
  "cells": [
    {
      "cell_type": "markdown",
      "source": [
        "#1. Write a program that takes an integer as input and prints whether it's positive, negative, or zero."
      ],
      "metadata": {
        "id": "GDQlr5GXUPDY"
      }
    },
    {
      "cell_type": "code",
      "execution_count": null,
      "metadata": {
        "colab": {
          "base_uri": "https://localhost:8080/"
        },
        "id": "Z-zDfTfyUCW5",
        "outputId": "07608b87-cabf-4039-e133-ab56b7fd8c0b"
      },
      "outputs": [
        {
          "output_type": "stream",
          "name": "stdout",
          "text": [
            "Enter a number: -3\n",
            "-3 is negative.\n"
          ]
        }
      ],
      "source": [
        "n = int(input(\"Enter a number: \"))\n",
        "print(n,\"is positive.\") if n > 0 else print(n,\"is negative.\") if n < 0 else print(n,\"is zero\")"
      ]
    },
    {
      "cell_type": "markdown",
      "source": [
        "#2. Create a program that takes a student's score as input and prints their corresponding grade based on the following scale:\n",
        "\n",
        "90 or above: A\n",
        "\n",
        "80-89: B\n",
        "\n",
        "70-79: c\n",
        "\n",
        "60-69: D\n",
        "\n",
        "Below 60: F"
      ],
      "metadata": {
        "id": "FtB8ireJV_0o"
      }
    },
    {
      "cell_type": "code",
      "source": [
        "mark = int(input(\"Enter mark of the student: \"))\n",
        "if mark >= 90:\n",
        "    print(\"A Grade.\")\n",
        "elif (mark >= 80) and (mark <= 89):\n",
        "    print(\"B Grade.\")\n",
        "elif (mark >= 70) and (mark <= 79):\n",
        "    print(\"C Grade.\")\n",
        "elif (mark >= 60) and (mark <= 69):\n",
        "    print(\"D Grade.\")\n",
        "else:\n",
        "    print(\"F Grade\")"
      ],
      "metadata": {
        "colab": {
          "base_uri": "https://localhost:8080/"
        },
        "id": "_C7ZpJujVkLo",
        "outputId": "7cec894c-5a67-4303-f0a4-a0cf6cec3867"
      },
      "execution_count": null,
      "outputs": [
        {
          "output_type": "stream",
          "name": "stdout",
          "text": [
            "Enter mark of the student: 49\n",
            "F Grade\n"
          ]
        }
      ]
    },
    {
      "cell_type": "markdown",
      "source": [
        "#8. Create a program that takes a person's age as input and prints whether they are a child ( 0-12 ), teenager ( 13-19 ), adult ( 20-59 ), or senior ( 60 and above )."
      ],
      "metadata": {
        "id": "-8uoarZmZXIG"
      }
    },
    {
      "cell_type": "code",
      "source": [
        "age = int(input(\"Enter age: \"))\n",
        "if (age >= 0) and (age <=12):\n",
        "    print(\"Child\")\n",
        "elif (age >= 13) and (age <=19):\n",
        "    print(\"Teenager\")\n",
        "elif (age >= 20) and (age <=59):\n",
        "    print(\"Adult\")\n",
        "elif (age >=60):\n",
        "    print(\"Senior\")"
      ],
      "metadata": {
        "colab": {
          "base_uri": "https://localhost:8080/"
        },
        "id": "_SWeLtkkY9BW",
        "outputId": "cf8bb375-3af1-47a9-fd89-b428c2e6c14c"
      },
      "execution_count": null,
      "outputs": [
        {
          "output_type": "stream",
          "name": "stdout",
          "text": [
            "Enter age: 67\n",
            "Senior\n"
          ]
        }
      ]
    },
    {
      "cell_type": "markdown",
      "source": [
        "#9. Write a program that takes three integers as input and prints the largest number among them."
      ],
      "metadata": {
        "id": "3q_o9d1Qb6p8"
      }
    },
    {
      "cell_type": "code",
      "source": [
        "n1 = int(input(\"Enter first number: \"))\n",
        "n2 = int(input(\"Enter second number: \"))\n",
        "n3 = int(input(\"Enter third number: \"))\n",
        "larger = n1\n",
        "if n2 > larger:\n",
        "    larger = n2\n",
        "if n3 > larger:\n",
        "    larger = n3\n",
        "print(\"The largest among them is:\",larger)"
      ],
      "metadata": {
        "colab": {
          "base_uri": "https://localhost:8080/"
        },
        "id": "Nv5ebAFcbyf-",
        "outputId": "1d780f79-8dc3-467e-ded0-a2668ad6f0ce"
      },
      "execution_count": null,
      "outputs": [
        {
          "output_type": "stream",
          "name": "stdout",
          "text": [
            "Enter first number: 5\n",
            "Enter second number: 6\n",
            "Enter third number: 4\n",
            "The largest among them is: 6\n"
          ]
        }
      ]
    },
    {
      "cell_type": "markdown",
      "source": [
        "#10. Create a program that takes three sides of a triangle as input and determines if it's a valid triangle (sum of any two sides is greater than the third). Print \"Valid\" or \"Invalid\" accordingly."
      ],
      "metadata": {
        "id": "Gj8Sw7ZHdCzY"
      }
    },
    {
      "cell_type": "code",
      "source": [
        "while True:\n",
        "    s0 = float(input(\"Enetr the length of first side: \"))\n",
        "    s1 = float(input(\"Enetr the length of second side: \"))\n",
        "    s2 = float(input(\"Enetr the length of third side: \"))\n",
        "    if (s0<0) or (s1<0) or (s2<0):\n",
        "        print(\"\\nNegative numbers are not allowed.\\nTry again!\\n\")\n",
        "        continue\n",
        "    else:\n",
        "        break\n",
        "\n",
        "tri = [s0,s1,s2]\n",
        "b = 0\n",
        "for i in range(3):\n",
        "    for j in range(3):\n",
        "        if i == j:\n",
        "            continue\n",
        "        for k in range(3):\n",
        "            if (k == i) or (k == j):\n",
        "                continue\n",
        "            if ((tri[i] + tri[j]) > tri[k]):\n",
        "                result = \"\\nValid.\"\n",
        "            else:\n",
        "                result = \"\\nInvalid.\"\n",
        "                b = 1\n",
        "                break\n",
        "        if b == 1:\n",
        "            break\n",
        "    if b == 1:\n",
        "        break\n",
        "print(result)"
      ],
      "metadata": {
        "colab": {
          "base_uri": "https://localhost:8080/"
        },
        "id": "kn9BYzD7cZwB",
        "outputId": "714a5c4d-f710-4d5f-9cd8-20eb111f064b"
      },
      "execution_count": null,
      "outputs": [
        {
          "output_type": "stream",
          "name": "stdout",
          "text": [
            "Enetr the length of first side: 9\n",
            "Enetr the length of second side: 6\n",
            "Enetr the length of third side: 4\n",
            "\n",
            "Valid.\n"
          ]
        }
      ]
    },
    {
      "cell_type": "markdown",
      "source": [
        "#11. Write a program that takes the time in 24-hour format (e.g. 14:30) as input and converts it to 12-hour format (e.g., 2:30 PM) and prints the result."
      ],
      "metadata": {
        "id": "wlAhRlsXncZq"
      }
    },
    {
      "cell_type": "code",
      "source": [
        "time24 = input(\"Enter time in 24-hour format: \")\n",
        "timelist = time24.split(\":\")\n",
        "noon = \"\"\n",
        "hour = int(timelist[0])\n",
        "minute = int(timelist[1])\n",
        "if (hour < 0) or (hour > 23):\n",
        "    print(\"Hour is out of range.\")\n",
        "elif (minute < 0 ) or (minute > 59):\n",
        "    print(\"Minute is out of range.\")\n",
        "else:\n",
        "    if hour == 0:\n",
        "        timelist[0] = \"12\"\n",
        "        noon = \" AM\"\n",
        "    elif (hour >= 1) and (hour <= 11):\n",
        "        noon =\" AM\"\n",
        "    elif hour == 12:\n",
        "        noon = \" PM\"\n",
        "    elif (hour >= 13) and (hour <=23):\n",
        "        hour = hour - 12\n",
        "        timelist[0] = str(hour)\n",
        "        noon = \" PM\"\n",
        "    print(\"That time in 12-hour format is:\",timelist[0]+\":\"+timelist[1]+noon)"
      ],
      "metadata": {
        "colab": {
          "base_uri": "https://localhost:8080/"
        },
        "id": "P7YsGYhkkj1L",
        "outputId": "99cfa61e-85d3-46d1-bf6a-b4ea3a873cc7"
      },
      "execution_count": 19,
      "outputs": [
        {
          "output_type": "stream",
          "name": "stdout",
          "text": [
            "Enter time in 24-hour format: 15:36\n",
            "That time in 12-hour format is: 3:36 PM\n"
          ]
        }
      ]
    },
    {
      "cell_type": "markdown",
      "source": [
        "# 12. Write a program that takes a character as input and determines if it's a vowel, consonant, or neither. Print the appropriate message."
      ],
      "metadata": {
        "id": "iQ4wNkEaJGJe"
      }
    },
    {
      "cell_type": "code",
      "source": [
        "while True:\n",
        "    char = str(input(\"Enter a character: \"))\n",
        "    if len(char) == 1:\n",
        "        break\n",
        "    else:\n",
        "        print(\"Only one character allowed.\")\n",
        "vowel = \"aeiouAEIOU\"\n",
        "if char.isalpha():\n",
        "    if char in vowel:\n",
        "        print(char,\"is a vowel.\")\n",
        "    else:\n",
        "        print(char,\"is a consonant.\")\n",
        "else:\n",
        "    print(char,\"is neither vowel nor consonant.\")"
      ],
      "metadata": {
        "colab": {
          "base_uri": "https://localhost:8080/"
        },
        "id": "1h4PVw43nzZL",
        "outputId": "bd551c36-92e4-4fb0-8fb1-5a9966a2ead8"
      },
      "execution_count": null,
      "outputs": [
        {
          "output_type": "stream",
          "name": "stdout",
          "text": [
            "Enter a character: L\n",
            "L is a consonant.\n"
          ]
        }
      ]
    },
    {
      "cell_type": "markdown",
      "source": [
        "# 13. Write a Python program to find all pairs of integers in a given array, whose sum is equal to a given number."
      ],
      "metadata": {
        "id": "EICdPzlYMOdr"
      }
    },
    {
      "cell_type": "code",
      "source": [
        "numset = set({})\n",
        "pairlist = []\n",
        "sn = int(input(\"Enter no.of elements: \"))\n",
        "print(\"\\n\")\n",
        "for i in range(1,sn+1):\n",
        "    element = int(input(f\"Enter element no.{i}: \"))\n",
        "    numset.add(element)\n",
        "print(\"\\n\")\n",
        "sumnum = int(input(\"Enter sum number: \"))\n",
        "print(\"\\nSet containing elements inputed:\",numset)\n",
        "print(\"The sum number is:\",sumnum)\n",
        "\n",
        "numlist = list(numset)\n",
        "\n",
        "for i in numlist:\n",
        "    for k in numlist:\n",
        "        if (i + k) == sumnum:\n",
        "            pairlist.append((i,k))\n",
        "print(\"\\nThese are the pairs:\\n\",pairlist)\n",
        "\n",
        "\n",
        "for i in pairlist:\n",
        "    for k in pairlist:\n",
        "        if i == k:\n",
        "            continue\n",
        "        if (i[0] == k[1]) and (i[1] == k[0]):\n",
        "            pairlist.remove(k)\n",
        "            shouldBreak = True\n",
        "            continue\n",
        "print(\"\\nAfter removing repetition:\\n\",pairlist)\n",
        "print(f\"These are the pairs which the sum is {sumnum}\")\n"
      ],
      "metadata": {
        "id": "1Z31WepBv9wL",
        "colab": {
          "base_uri": "https://localhost:8080/"
        },
        "outputId": "a541f7a5-44e7-43ab-920b-5e1c0c9d044f"
      },
      "execution_count": 18,
      "outputs": [
        {
          "output_type": "stream",
          "name": "stdout",
          "text": [
            "Enter no.of elements: 10\n",
            "\n",
            "\n",
            "Enter element no.1: 1\n",
            "Enter element no.2: 2\n",
            "Enter element no.3: 3\n",
            "Enter element no.4: 4\n",
            "Enter element no.5: 5\n",
            "Enter element no.6: 6\n",
            "Enter element no.7: 7\n",
            "Enter element no.8: 8\n",
            "Enter element no.9: 9\n",
            "Enter element no.10: 10\n",
            "\n",
            "\n",
            "Enter sum number: 12\n",
            "\n",
            "Set containing elements inputed: {1, 2, 3, 4, 5, 6, 7, 8, 9, 10}\n",
            "The sum number is: 12\n",
            "\n",
            "These are the pairs:\n",
            " [(2, 10), (3, 9), (4, 8), (5, 7), (6, 6), (7, 5), (8, 4), (9, 3), (10, 2)]\n",
            "\n",
            "After removing repetition:\n",
            " [(2, 10), (3, 9), (4, 8), (5, 7), (6, 6)]\n",
            "These are the pairs which the sum is 12\n"
          ]
        }
      ]
    },
    {
      "cell_type": "markdown",
      "source": [
        "# 14. Write a Python program to find the largest product of any three elements in a given array of integers."
      ],
      "metadata": {
        "id": "z9ukttyRRH25"
      }
    },
    {
      "cell_type": "code",
      "source": [
        "n = int(input(\"Enter the no.of elements: \"))\n",
        "if n<3:\n",
        "    print(\"\\nAtleast three elements requried.\")\n",
        "else:\n",
        "    elementlist = []\n",
        "    print(\"\\n\")\n",
        "    for i in range(1,n+1):\n",
        "        element = float(input(f\"Enter element no.{i}: \"))\n",
        "        elementlist.append(element)\n",
        "    elementlist = list(set(elementlist))\n",
        "    print(\"\\nList of given elements (by removing repetition):\",elementlist)\n",
        "    elementlist.sort()\n",
        "    k = len(elementlist)\n",
        "    larger = elementlist[k-1] * elementlist[k-2] * elementlist[k-3]\n",
        "    print(\"\\nThe largest product is\",larger,\"\\nWhich is got by the product of\",elementlist[k-1],\",\",elementlist[k-2],\"and\",elementlist[k-3])"
      ],
      "metadata": {
        "colab": {
          "base_uri": "https://localhost:8080/"
        },
        "id": "Q0dDcJ0DnY5s",
        "outputId": "3f01b539-9d1a-4563-e246-27e92f801b52"
      },
      "execution_count": 16,
      "outputs": [
        {
          "output_type": "stream",
          "name": "stdout",
          "text": [
            "Enter the no.of elements: 7\n",
            "\n",
            "\n",
            "Enter element no.1: 34\n",
            "Enter element no.2: 12\n",
            "Enter element no.3: 6\n",
            "Enter element no.4: 89\n",
            "Enter element no.5: -3\n",
            "Enter element no.6: 2\n",
            "Enter element no.7: 55\n",
            "\n",
            "List of given elements (by removing repetition): [34.0, 2.0, 6.0, 12.0, 55.0, 89.0, -3.0]\n",
            "\n",
            "The largest product is 166430.0 \n",
            "Which is got by the product of 89.0 , 55.0 and 34.0\n"
          ]
        }
      ]
    },
    {
      "cell_type": "code",
      "source": [
        "n = int(input(\"Enter the no.of elements: \"))\n",
        "if n<3:\n",
        "    print(\"\\nAtleast three elements requried.\")\n",
        "else:\n",
        "    elementlist = []\n",
        "    print(\"\\n\")\n",
        "    for i in range(1,n+1):\n",
        "        element = float(input(f\"Enter element no.{i}: \"))\n",
        "        elementlist.append(element)\n",
        "    elementlist = list(set(elementlist))\n",
        "    print(\"\\nList of given elements:\",elementlist)\n",
        "    larger = 0.0\n",
        "    for i in range(len(elementlist)):\n",
        "        for j in range(len(elementlist)):\n",
        "            if i == j:\n",
        "                continue\n",
        "            for k in range(len(elementlist)):\n",
        "                if (k == i) or (k == j):\n",
        "                    continue\n",
        "                else:\n",
        "                    product = elementlist[i] * elementlist[j] * elementlist[k]\n",
        "                    if product > larger:\n",
        "                        larger = product\n",
        "                        index = [i,j,k]\n",
        "    print(\"\\nThe largest product is\",larger,\"\\nWhich is got by the product of\",elementlist[index[0]],\",\",elementlist[index[1]],\"and\",elementlist[index[2]])"
      ],
      "metadata": {
        "id": "M3P6WouTaylW",
        "colab": {
          "base_uri": "https://localhost:8080/"
        },
        "outputId": "9a3770ee-0bed-4bbb-8201-0d0814533eed"
      },
      "execution_count": 17,
      "outputs": [
        {
          "output_type": "stream",
          "name": "stdout",
          "text": [
            "Enter the no.of elements: 7\n",
            "\n",
            "\n",
            "Enter element no.1: 34\n",
            "Enter element no.2: 12\n",
            "Enter element no.3: 6\n",
            "Enter element no.4: 89\n",
            "Enter element no.5: -3\n",
            "Enter element no.6: 2\n",
            "Enter element no.7: 55\n",
            "\n",
            "List of given elements: [34.0, 2.0, 6.0, 12.0, 55.0, 89.0, -3.0]\n",
            "\n",
            "The largest product is 166430.0 \n",
            "Which is got by the product of 34.0 , 55.0 and 89.0\n"
          ]
        }
      ]
    }
  ]
}