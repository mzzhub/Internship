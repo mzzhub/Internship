{
  "nbformat": 4,
  "nbformat_minor": 0,
  "metadata": {
    "colab": {
      "provenance": []
    },
    "kernelspec": {
      "name": "python3",
      "display_name": "Python 3"
    },
    "language_info": {
      "name": "python"
    }
  },
  "cells": [
    {
      "cell_type": "markdown",
      "source": [
        "# Operator Overloading\n"
      ],
      "metadata": {
        "id": "W_9JZmqsFc08"
      }
    },
    {
      "cell_type": "code",
      "source": [
        "class Point:\n",
        "    def __init__(self,x,y):\n",
        "        self.x = x\n",
        "        self.y = y\n",
        "    def  __add__(self,other):\n",
        "        x = self.x + other.x\n",
        "        y = self.y + other.y\n",
        "        return Point(x,y)"
      ],
      "metadata": {
        "id": "wuMFjj2lFfFl"
      },
      "execution_count": null,
      "outputs": []
    },
    {
      "cell_type": "code",
      "source": [
        "p1 = Point(3,4)\n",
        "p2 = Point(8,6)\n",
        "print(p1+p2)"
      ],
      "metadata": {
        "colab": {
          "base_uri": "https://localhost:8080/"
        },
        "id": "V9XQEma1F-I-",
        "outputId": "e1d20224-39a0-4505-d544-3e77f1fea33f"
      },
      "execution_count": null,
      "outputs": [
        {
          "output_type": "stream",
          "name": "stdout",
          "text": [
            "<__main__.Point object at 0x79706f541ab0>\n"
          ]
        }
      ]
    },
    {
      "cell_type": "code",
      "source": [
        "class Point:\n",
        "    def __init__(self,x,y):\n",
        "        self.x = x\n",
        "        self.y = y\n",
        "    def  __add__(self,other):\n",
        "        x = self.x + other.x\n",
        "        y = self.y + other.y\n",
        "        return Point(x,y)\n",
        "    def __str__(self):\n",
        "        return \"({0},{1})\".format(self.x,self.y)"
      ],
      "metadata": {
        "id": "3e5Oa27mGHIJ"
      },
      "execution_count": null,
      "outputs": []
    },
    {
      "cell_type": "code",
      "source": [
        "p1 = Point(3,4)\n",
        "p2 = Point(8,6)\n",
        "print(p1+p2)"
      ],
      "metadata": {
        "colab": {
          "base_uri": "https://localhost:8080/"
        },
        "id": "u4wOyDuCGbNT",
        "outputId": "00a39cde-e338-4f9f-9a53-206c86ea1b60"
      },
      "execution_count": null,
      "outputs": [
        {
          "output_type": "stream",
          "name": "stdout",
          "text": [
            "(11,10)\n"
          ]
        }
      ]
    },
    {
      "cell_type": "markdown",
      "source": [
        "# Over Riding"
      ],
      "metadata": {
        "id": "36sJZw_vGnVQ"
      }
    },
    {
      "cell_type": "code",
      "source": [
        "class Collage:\n",
        "  def mymethod(self):\n",
        "    print('calling parent method')\n",
        "\n",
        "class School(Collage):\n",
        "  def mymethod(self):\n",
        "    print('calling child method')\n",
        "\n",
        "obj = School()\n",
        "obj.mymethod()"
      ],
      "metadata": {
        "colab": {
          "base_uri": "https://localhost:8080/"
        },
        "id": "S4uh265xGbtN",
        "outputId": "e4d6d2f6-a740-42b5-f19c-49771cdce35e"
      },
      "execution_count": null,
      "outputs": [
        {
          "output_type": "stream",
          "name": "stdout",
          "text": [
            "calling child method\n"
          ]
        }
      ]
    },
    {
      "cell_type": "markdown",
      "source": [
        "# Super Fnction\n",
        "* Python also has a super() function that will make the child class inherit all the method and its functions from its parent."
      ],
      "metadata": {
        "id": "w4G2cfsCHov6"
      }
    },
    {
      "cell_type": "code",
      "source": [
        "# creating a parent class\n",
        "class FirstClass:\n",
        "    def __init__(self,v1,v2):\n",
        "        self.v1 = v1\n",
        "        self.v2 = v2\n",
        "        print(\"I am in FirstClass init method.\")\n",
        "    def printValue(self):\n",
        "        print(\"values are\",self.v1,\"and\",self.v2)"
      ],
      "metadata": {
        "id": "TE1fU6twGx4-"
      },
      "execution_count": null,
      "outputs": []
    },
    {
      "cell_type": "code",
      "source": [
        "# SccondClass inheriting from FirstClass\n",
        "class SecondClass(FirstClass):\n",
        "    def __init__(self,v1,v2,v3):\n",
        "        self.v3 = v3\n",
        "        super().__init__(v1,v2)\n",
        "    def printValue(self):\n",
        "        print(\"I am in SecondClass first-printValue method.\")\n",
        "    def printValue(self):\n",
        "        print(\"I am in SecondClass second-printVlaue method.\")"
      ],
      "metadata": {
        "id": "GE5jPQw-IQbQ"
      },
      "execution_count": null,
      "outputs": []
    },
    {
      "cell_type": "code",
      "source": [
        "obj = SecondClass(83,22,100)\n",
        "obj.printValue()"
      ],
      "metadata": {
        "colab": {
          "base_uri": "https://localhost:8080/"
        },
        "id": "7L2zdRTGJDQd",
        "outputId": "40b0f30c-3cde-4610-854c-336c786066b6"
      },
      "execution_count": null,
      "outputs": [
        {
          "output_type": "stream",
          "name": "stdout",
          "text": [
            "I am in FirstClass init method.\n",
            "I am in SecondClass second-printVlaue method.\n"
          ]
        }
      ]
    },
    {
      "cell_type": "markdown",
      "source": [
        "# Encapsulation\n",
        "* Encapsulation binds together data and functions that manipulate data, keeping it safe from interference and misuse.\n",
        "* Encapsulation is one of the fundamental concepts in OOPS.\n",
        "* It describes the idea of wrapping data and methods that work on data within one unit.\n",
        "* This puts restrictions on accessing variables and methods directly and can prevent the accidental modifications of data.\n",
        "* To prevent accidental change, an objects variable can only be changed by an objects method. Those types of variables are knows as private variables."
      ],
      "metadata": {
        "id": "q9Ofk34-Jmar"
      }
    },
    {
      "cell_type": "markdown",
      "source": [
        "self.name       => public\n",
        "\n",
        "self._name      => protected-private\n",
        "\n",
        "self.__name     => stronly-private"
      ],
      "metadata": {
        "id": "8Pds3ocFMYfc"
      }
    },
    {
      "cell_type": "code",
      "source": [
        "class Encap:\n",
        "    def __init__(self,a,b,c):\n",
        "        self.a = a\n",
        "        self._b = b\n",
        "        self.__c = c\n",
        "    def getValue(self):\n",
        "        print(self.__c)"
      ],
      "metadata": {
        "id": "Ufos4NwkJLtn"
      },
      "execution_count": null,
      "outputs": []
    },
    {
      "cell_type": "code",
      "source": [
        "x = Encap(23,80,11)"
      ],
      "metadata": {
        "id": "LAn158IzM3zv"
      },
      "execution_count": null,
      "outputs": []
    },
    {
      "cell_type": "code",
      "source": [
        "x.a"
      ],
      "metadata": {
        "colab": {
          "base_uri": "https://localhost:8080/"
        },
        "id": "GCwJQYpvM9Wj",
        "outputId": "f7c957ad-27e2-4d22-9178-0598bbf4ca65"
      },
      "execution_count": null,
      "outputs": [
        {
          "output_type": "execute_result",
          "data": {
            "text/plain": [
              "23"
            ]
          },
          "metadata": {},
          "execution_count": 21
        }
      ]
    },
    {
      "cell_type": "code",
      "source": [
        "x._b"
      ],
      "metadata": {
        "colab": {
          "base_uri": "https://localhost:8080/"
        },
        "id": "u3XQSTMVM-QZ",
        "outputId": "1d9d14f4-7e00-41ac-e522-e081a0d89119"
      },
      "execution_count": null,
      "outputs": [
        {
          "output_type": "execute_result",
          "data": {
            "text/plain": [
              "80"
            ]
          },
          "metadata": {},
          "execution_count": 23
        }
      ]
    },
    {
      "cell_type": "code",
      "source": [
        "x.__c"
      ],
      "metadata": {
        "colab": {
          "base_uri": "https://localhost:8080/",
          "height": 141
        },
        "id": "05T7DzuNNAAv",
        "outputId": "4c75c894-180a-43eb-a3f4-f16478e34ed8"
      },
      "execution_count": null,
      "outputs": [
        {
          "output_type": "error",
          "ename": "AttributeError",
          "evalue": "'Encap' object has no attribute '__c'",
          "traceback": [
            "\u001b[0;31m---------------------------------------------------------------------------\u001b[0m",
            "\u001b[0;31mAttributeError\u001b[0m                            Traceback (most recent call last)",
            "\u001b[0;32m<ipython-input-32-e6062adf4540>\u001b[0m in \u001b[0;36m<cell line: 1>\u001b[0;34m()\u001b[0m\n\u001b[0;32m----> 1\u001b[0;31m \u001b[0mx\u001b[0m\u001b[0;34m.\u001b[0m\u001b[0m__c\u001b[0m\u001b[0;34m\u001b[0m\u001b[0;34m\u001b[0m\u001b[0m\n\u001b[0m",
            "\u001b[0;31mAttributeError\u001b[0m: 'Encap' object has no attribute '__c'"
          ]
        }
      ]
    },
    {
      "cell_type": "code",
      "source": [
        "x.getValue()"
      ],
      "metadata": {
        "colab": {
          "base_uri": "https://localhost:8080/"
        },
        "id": "g4LFJI1WNEA7",
        "outputId": "e89a186a-db4a-451b-9d40-29b924e1eed8"
      },
      "execution_count": null,
      "outputs": [
        {
          "output_type": "stream",
          "name": "stdout",
          "text": [
            "11\n"
          ]
        }
      ]
    },
    {
      "cell_type": "markdown",
      "source": [
        "# Static Variables (class variables) and static functions\n",
        "* All Objects share class or static variables. An instance or non static variables are different for different objects\n",
        "* Features Of static variables.\n",
        "    * Static variables are allocated memory ones when the object for the class is created for the first time.\n",
        "    * Static variables are created outside of methods but inside a class.\n",
        "    * Static variables can be accessed through a class but not directly with an instance.\n",
        "    * Static variables behaviour doesnt change for every object."
      ],
      "metadata": {
        "id": "zCfg-155uPQd"
      }
    },
    {
      "cell_type": "code",
      "source": [
        "class Student:\n",
        "    studentcount = 0 # class variable\n",
        "    def __init__(self,r,n):\n",
        "        self.rollno = r\n",
        "        self.name = n\n",
        "        Student.studentcount += 1\n",
        "    def displaycount():             # if we give self here.....\n",
        "        print(\"Total strength of class is\",Student.studentcount)\n",
        "    def display(self):\n",
        "        print(\"Roll no. :\",self.rollno,\"\\nName : \",self.name)"
      ],
      "metadata": {
        "id": "jLR-IrJlNL2B"
      },
      "execution_count": null,
      "outputs": []
    },
    {
      "cell_type": "code",
      "source": [
        "s1 = Student(100,\"Butcher\")\n",
        "s2 = Student(101,\"MM\")\n",
        "s3 = Student(102,\"Kimiko\")\n",
        "s4 = Student(103,\"Home Lander\")"
      ],
      "metadata": {
        "id": "NNQuucKSwYUn"
      },
      "execution_count": null,
      "outputs": []
    },
    {
      "cell_type": "code",
      "source": [
        "s1.name"
      ],
      "metadata": {
        "colab": {
          "base_uri": "https://localhost:8080/",
          "height": 35
        },
        "id": "tG29OENJwgdI",
        "outputId": "260bf44c-c3fd-4ec5-8496-dd26d2198de5"
      },
      "execution_count": null,
      "outputs": [
        {
          "output_type": "execute_result",
          "data": {
            "text/plain": [
              "'Butcher'"
            ],
            "application/vnd.google.colaboratory.intrinsic+json": {
              "type": "string"
            }
          },
          "metadata": {},
          "execution_count": 31
        }
      ]
    },
    {
      "cell_type": "code",
      "source": [
        "s1.rollno"
      ],
      "metadata": {
        "colab": {
          "base_uri": "https://localhost:8080/"
        },
        "id": "ITemtQ5Zwhcx",
        "outputId": "bcea4ace-8272-45ec-ef92-a14dfd9478ff"
      },
      "execution_count": null,
      "outputs": [
        {
          "output_type": "execute_result",
          "data": {
            "text/plain": [
              "100"
            ]
          },
          "metadata": {},
          "execution_count": 32
        }
      ]
    },
    {
      "cell_type": "code",
      "source": [
        "Student.studentcount"
      ],
      "metadata": {
        "colab": {
          "base_uri": "https://localhost:8080/"
        },
        "id": "AKYmDzgMwi-U",
        "outputId": "63f900da-20c5-4c05-f79e-53574b4b8379"
      },
      "execution_count": null,
      "outputs": [
        {
          "output_type": "execute_result",
          "data": {
            "text/plain": [
              "4"
            ]
          },
          "metadata": {},
          "execution_count": 33
        }
      ]
    },
    {
      "cell_type": "code",
      "source": [
        "s2.studentcount"
      ],
      "metadata": {
        "colab": {
          "base_uri": "https://localhost:8080/"
        },
        "id": "i0r8qBCiw4U5",
        "outputId": "d845ee33-8bee-43ef-813c-5efb70e00e10"
      },
      "execution_count": null,
      "outputs": [
        {
          "output_type": "execute_result",
          "data": {
            "text/plain": [
              "4"
            ]
          },
          "metadata": {},
          "execution_count": 34
        }
      ]
    },
    {
      "cell_type": "code",
      "source": [
        "Student.displaycount()"
      ],
      "metadata": {
        "colab": {
          "base_uri": "https://localhost:8080/"
        },
        "id": "tNnICqtOw88q",
        "outputId": "6e3c02fa-e0ff-4885-d742-f2a982e0c55b"
      },
      "execution_count": null,
      "outputs": [
        {
          "output_type": "stream",
          "name": "stdout",
          "text": [
            "Total strength of class is 4\n"
          ]
        }
      ]
    },
    {
      "cell_type": "code",
      "source": [
        "s3.displaycount()"
      ],
      "metadata": {
        "colab": {
          "base_uri": "https://localhost:8080/",
          "height": 141
        },
        "id": "df3SHUJ1xL6R",
        "outputId": "3e74271e-60e4-4ba8-f7b5-9a913af872ce"
      },
      "execution_count": null,
      "outputs": [
        {
          "output_type": "error",
          "ename": "TypeError",
          "evalue": "Student.displaycount() takes 0 positional arguments but 1 was given",
          "traceback": [
            "\u001b[0;31m---------------------------------------------------------------------------\u001b[0m",
            "\u001b[0;31mTypeError\u001b[0m                                 Traceback (most recent call last)",
            "\u001b[0;32m<ipython-input-36-6dc7656b50dc>\u001b[0m in \u001b[0;36m<cell line: 1>\u001b[0;34m()\u001b[0m\n\u001b[0;32m----> 1\u001b[0;31m \u001b[0ms3\u001b[0m\u001b[0;34m.\u001b[0m\u001b[0mdisplaycount\u001b[0m\u001b[0;34m(\u001b[0m\u001b[0;34m)\u001b[0m\u001b[0;34m\u001b[0m\u001b[0;34m\u001b[0m\u001b[0m\n\u001b[0m",
            "\u001b[0;31mTypeError\u001b[0m: Student.displaycount() takes 0 positional arguments but 1 was given"
          ]
        }
      ]
    },
    {
      "cell_type": "markdown",
      "source": [
        "# Abstraction\n",
        "* Abstraction is used to hide the internal functionality of the function from the users.\n",
        "* The users only interact with the basic implementation of the function, but inner working is hidden."
      ],
      "metadata": {
        "id": "TUoJE0H4x6gi"
      }
    },
    {
      "cell_type": "code",
      "source": [
        "from abc import ABC,abstractmethod\n",
        "\n",
        "class Mail(ABC):\n",
        "    @abstractmethod\n",
        "    def mileage(self):\n",
        "        print(\"100\")\n",
        "    def tempfun(self):\n",
        "        print(\"Temporary.\")\n",
        "\n",
        "class Child(Mail):\n",
        "    def mysum(self):\n",
        "        print(\"sum.\")\n",
        "    def mileage(self):\n",
        "        print(\"300\")"
      ],
      "metadata": {
        "id": "tR1GaLXUxO9Q"
      },
      "execution_count": null,
      "outputs": []
    },
    {
      "cell_type": "code",
      "source": [
        "a = Child()"
      ],
      "metadata": {
        "id": "aFrt6Hn23lno"
      },
      "execution_count": null,
      "outputs": []
    },
    {
      "cell_type": "code",
      "source": [
        "a.mileage()"
      ],
      "metadata": {
        "colab": {
          "base_uri": "https://localhost:8080/"
        },
        "id": "CoJyJol63pDD",
        "outputId": "c7ed7fe2-d29b-4a7a-d930-af1b664fdd3a"
      },
      "execution_count": null,
      "outputs": [
        {
          "output_type": "stream",
          "name": "stdout",
          "text": [
            "300\n"
          ]
        }
      ]
    },
    {
      "cell_type": "code",
      "source": [],
      "metadata": {
        "id": "ehUW-3Pr3tGU"
      },
      "execution_count": null,
      "outputs": []
    }
  ]
}