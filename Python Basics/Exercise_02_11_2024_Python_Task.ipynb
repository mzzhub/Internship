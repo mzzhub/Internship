{
  "nbformat": 4,
  "nbformat_minor": 0,
  "metadata": {
    "colab": {
      "provenance": []
    },
    "kernelspec": {
      "name": "python3",
      "display_name": "Python 3"
    },
    "language_info": {
      "name": "python"
    }
  },
  "cells": [
    {
      "cell_type": "markdown",
      "source": [
        "# 1. Write a Python function that takes a string as input and returns a dictionary where the keys are unique characters in the string, and the values are the frequency of each character. Ignore spaces and consider both uppercase and lowercase letters as the same (e.g., 'A' and 'a' should be counted together)."
      ],
      "metadata": {
        "id": "xtpjQiS0s6o6"
      }
    },
    {
      "cell_type": "code",
      "execution_count": 178,
      "metadata": {
        "id": "DBUH7tDGsqG2"
      },
      "outputs": [],
      "source": [
        "def frequency(string):\n",
        "    string = string.upper()\n",
        "    output = dict()\n",
        "    for i in string:\n",
        "        if i == \" \":\n",
        "            continue\n",
        "        if i in output:\n",
        "            output[i] += 1\n",
        "        else:\n",
        "            output[i] = 1\n",
        "    return output"
      ]
    },
    {
      "cell_type": "code",
      "source": [
        "frequency(\"Jack And jill\")"
      ],
      "metadata": {
        "colab": {
          "base_uri": "https://localhost:8080/"
        },
        "id": "lzVeqO33ttIX",
        "outputId": "2cb30135-d33b-4cf9-9129-99fba8345599"
      },
      "execution_count": 179,
      "outputs": [
        {
          "output_type": "execute_result",
          "data": {
            "text/plain": [
              "{'J': 2, 'A': 2, 'C': 1, 'K': 1, 'N': 1, 'D': 1, 'I': 1, 'L': 2}"
            ]
          },
          "metadata": {},
          "execution_count": 179
        }
      ]
    },
    {
      "cell_type": "code",
      "source": [
        "frequency(\"Data Science And Machine Learning\")"
      ],
      "metadata": {
        "colab": {
          "base_uri": "https://localhost:8080/"
        },
        "id": "h0WKffhwt0HK",
        "outputId": "eabad165-fe54-481f-f155-322a3a249c3e"
      },
      "execution_count": 180,
      "outputs": [
        {
          "output_type": "execute_result",
          "data": {
            "text/plain": [
              "{'D': 2,\n",
              " 'A': 5,\n",
              " 'T': 1,\n",
              " 'S': 1,\n",
              " 'C': 3,\n",
              " 'I': 3,\n",
              " 'E': 4,\n",
              " 'N': 5,\n",
              " 'M': 1,\n",
              " 'H': 1,\n",
              " 'L': 1,\n",
              " 'R': 1,\n",
              " 'G': 1}"
            ]
          },
          "metadata": {},
          "execution_count": 180
        }
      ]
    },
    {
      "cell_type": "code",
      "source": [
        "frequency(\"Mississippi\")"
      ],
      "metadata": {
        "colab": {
          "base_uri": "https://localhost:8080/"
        },
        "id": "vzHSD9n4u9RG",
        "outputId": "e8d9902e-a985-4a4a-c1e5-b4953c310696"
      },
      "execution_count": 181,
      "outputs": [
        {
          "output_type": "execute_result",
          "data": {
            "text/plain": [
              "{'M': 1, 'I': 4, 'S': 4, 'P': 2}"
            ]
          },
          "metadata": {},
          "execution_count": 181
        }
      ]
    },
    {
      "cell_type": "markdown",
      "source": [
        "# 2. Write a Python function that takes two lists of integers as input and returns a sorted list of integers that are common to both lists, without any duplicates. If there are no common elements, return an empty list."
      ],
      "metadata": {
        "id": "GjYJwpzrvmqa"
      }
    },
    {
      "cell_type": "code",
      "source": [
        "def common_sorted(list01, list02):\n",
        "    set01 = set(list01)\n",
        "    set02 = set(list02)\n",
        "    output = list(set01 & set02)\n",
        "    output.sort()\n",
        "    return output"
      ],
      "metadata": {
        "id": "VfPwfMFevYJ6"
      },
      "execution_count": 182,
      "outputs": []
    },
    {
      "cell_type": "code",
      "source": [
        "list1 = [1, 2, 3, 4, 5]\n",
        "list2 = [4, 5, 6, 7, 8]\n",
        "# Expected output: [4, 5]\n",
        "\n",
        "common_sorted(list1, list2)"
      ],
      "metadata": {
        "colab": {
          "base_uri": "https://localhost:8080/"
        },
        "id": "qJ_28T4FxHzP",
        "outputId": "8db877bd-0c1f-47f9-c500-5b36a05a7508"
      },
      "execution_count": 183,
      "outputs": [
        {
          "output_type": "execute_result",
          "data": {
            "text/plain": [
              "[4, 5]"
            ]
          },
          "metadata": {},
          "execution_count": 183
        }
      ]
    },
    {
      "cell_type": "code",
      "source": [
        "list1 = [10, 20, 30]\n",
        "list2 = [40, 50, 60]\n",
        "# Expected output: []\n",
        "\n",
        "common_sorted(list1, list2)"
      ],
      "metadata": {
        "colab": {
          "base_uri": "https://localhost:8080/"
        },
        "id": "1S-uB8pmxjyC",
        "outputId": "84a8f4d5-5e30-4c55-a21c-61369abb59c6"
      },
      "execution_count": 184,
      "outputs": [
        {
          "output_type": "execute_result",
          "data": {
            "text/plain": [
              "[]"
            ]
          },
          "metadata": {},
          "execution_count": 184
        }
      ]
    },
    {
      "cell_type": "code",
      "source": [
        "list1 = [7, 8, 9]\n",
        "list2 = [9, 7, 8]\n",
        "# Expected output: [7, 8, 9]\n",
        "\n",
        "common_sorted(list1, list2)"
      ],
      "metadata": {
        "colab": {
          "base_uri": "https://localhost:8080/"
        },
        "id": "cICYhlxNxxnX",
        "outputId": "b48d878f-60cd-47d4-eeff-f7eede209200"
      },
      "execution_count": 185,
      "outputs": [
        {
          "output_type": "execute_result",
          "data": {
            "text/plain": [
              "[7, 8, 9]"
            ]
          },
          "metadata": {},
          "execution_count": 185
        }
      ]
    },
    {
      "cell_type": "code",
      "source": [
        "list1 = [1, 2, 2, 3, 4]\n",
        "list2 = [2, 2, 4, 4, 5]\n",
        "# Expected output: [2, 4]\n",
        "\n",
        "common_sorted(list1, list2)"
      ],
      "metadata": {
        "colab": {
          "base_uri": "https://localhost:8080/"
        },
        "id": "u8bbMIyKxx89",
        "outputId": "2283c6b0-d6e1-41b7-d548-12a8e10a7755"
      },
      "execution_count": 186,
      "outputs": [
        {
          "output_type": "execute_result",
          "data": {
            "text/plain": [
              "[2, 4]"
            ]
          },
          "metadata": {},
          "execution_count": 186
        }
      ]
    },
    {
      "cell_type": "code",
      "source": [
        "list1 = []\n",
        "list2 = [1, 2, 3]\n",
        "# Expected output: []\n",
        "\n",
        "common_sorted(list1, list2)"
      ],
      "metadata": {
        "colab": {
          "base_uri": "https://localhost:8080/"
        },
        "id": "wEBiqmvkx2a6",
        "outputId": "e5247926-910e-4941-9e09-db1300098705"
      },
      "execution_count": 187,
      "outputs": [
        {
          "output_type": "execute_result",
          "data": {
            "text/plain": [
              "[]"
            ]
          },
          "metadata": {},
          "execution_count": 187
        }
      ]
    },
    {
      "cell_type": "code",
      "source": [
        "list1 = [1, 3, 5, 7, 9, 11]\n",
        "list2 = [2, 3, 5, 7, 10, 12]\n",
        "# Expected output: [3, 5, 7]\n",
        "\n",
        "common_sorted(list1, list2)"
      ],
      "metadata": {
        "colab": {
          "base_uri": "https://localhost:8080/"
        },
        "id": "GfiW9wt7x4PQ",
        "outputId": "de3009a7-ce6a-48ea-955b-328eca85af04"
      },
      "execution_count": 188,
      "outputs": [
        {
          "output_type": "execute_result",
          "data": {
            "text/plain": [
              "[3, 5, 7]"
            ]
          },
          "metadata": {},
          "execution_count": 188
        }
      ]
    },
    {
      "cell_type": "code",
      "source": [
        "list1 = [-3, -2, -1, 0, 1, 2]\n",
        "list2 = [0, 1, 2, 3, 4]\n",
        "# Expected output: [0, 1, 2]\n",
        "\n",
        "common_sorted(list1, list2)"
      ],
      "metadata": {
        "colab": {
          "base_uri": "https://localhost:8080/"
        },
        "id": "CyvGr0mdx6Cg",
        "outputId": "33c3354f-50aa-4fcb-94d8-4c6603a353de"
      },
      "execution_count": 189,
      "outputs": [
        {
          "output_type": "execute_result",
          "data": {
            "text/plain": [
              "[0, 1, 2]"
            ]
          },
          "metadata": {},
          "execution_count": 189
        }
      ]
    },
    {
      "cell_type": "markdown",
      "source": [
        "# 3. Write a Python function that takes a list of integers and returns the second-largest unique number. If the list has fewer than two unique elements, return None.\n"
      ],
      "metadata": {
        "id": "1V_sonBfyv-N"
      }
    },
    {
      "cell_type": "code",
      "source": [
        "def second_largest(list01):\n",
        "    list01 = list(set(list01))\n",
        "    list01.sort()\n",
        "    if len(list01) < 2:\n",
        "        print(None)\n",
        "        return None\n",
        "    else:\n",
        "        return list01[-2]"
      ],
      "metadata": {
        "id": "5rHl_KWMx7dI"
      },
      "execution_count": 190,
      "outputs": []
    },
    {
      "cell_type": "code",
      "source": [
        "lst = [5, 1, 3, 9, 7]\n",
        "# Expected output: 7\n",
        "\n",
        "second_largest(lst)"
      ],
      "metadata": {
        "colab": {
          "base_uri": "https://localhost:8080/"
        },
        "id": "BJ-Wh7p2zm2R",
        "outputId": "cea76885-deb5-4669-91a8-698040a4bcb6"
      },
      "execution_count": 191,
      "outputs": [
        {
          "output_type": "execute_result",
          "data": {
            "text/plain": [
              "7"
            ]
          },
          "metadata": {},
          "execution_count": 191
        }
      ]
    },
    {
      "cell_type": "code",
      "source": [
        "lst = [10, 10, 10]\n",
        "# Expected output: None\n",
        "\n",
        "second_largest(lst)"
      ],
      "metadata": {
        "colab": {
          "base_uri": "https://localhost:8080/"
        },
        "id": "KmUyVncbznfH",
        "outputId": "73807366-60b5-414d-bfda-6bc777ac7388"
      },
      "execution_count": 192,
      "outputs": [
        {
          "output_type": "stream",
          "name": "stdout",
          "text": [
            "None\n"
          ]
        }
      ]
    },
    {
      "cell_type": "code",
      "source": [
        "lst = [8, 8, 3, 3, 8]\n",
        "# Expected output: 3\n",
        "\n",
        "second_largest(lst)"
      ],
      "metadata": {
        "colab": {
          "base_uri": "https://localhost:8080/"
        },
        "id": "j4K_bSZDzpql",
        "outputId": "7c671cba-6882-43dc-b24e-99f30bf7756d"
      },
      "execution_count": 193,
      "outputs": [
        {
          "output_type": "execute_result",
          "data": {
            "text/plain": [
              "3"
            ]
          },
          "metadata": {},
          "execution_count": 193
        }
      ]
    },
    {
      "cell_type": "code",
      "source": [
        "lst = [-5, -2, -3, -5, -8, -2, -1]\n",
        "# Expected output: -2\n",
        "\n",
        "second_largest(lst)"
      ],
      "metadata": {
        "colab": {
          "base_uri": "https://localhost:8080/"
        },
        "id": "tuUilrVIzrK4",
        "outputId": "3ff0eaa5-0cd0-40b9-ed09-ee163a21e478"
      },
      "execution_count": 194,
      "outputs": [
        {
          "output_type": "execute_result",
          "data": {
            "text/plain": [
              "-2"
            ]
          },
          "metadata": {},
          "execution_count": 194
        }
      ]
    },
    {
      "cell_type": "code",
      "source": [
        "lst = [4, 4, 4, 4]\n",
        "# Expected output: None\n",
        "\n",
        "second_largest(lst)"
      ],
      "metadata": {
        "colab": {
          "base_uri": "https://localhost:8080/"
        },
        "id": "3LFw52pgztAz",
        "outputId": "a9a680b1-28a5-4e72-b300-4f95e34b46d2"
      },
      "execution_count": 195,
      "outputs": [
        {
          "output_type": "stream",
          "name": "stdout",
          "text": [
            "None\n"
          ]
        }
      ]
    },
    {
      "cell_type": "code",
      "source": [
        "lst = [1, 2, 3, 4, 5]\n",
        "# Expected output: 4\n",
        "\n",
        "second_largest(lst)"
      ],
      "metadata": {
        "colab": {
          "base_uri": "https://localhost:8080/"
        },
        "id": "Rv93_Dk_zurT",
        "outputId": "e3dc568d-4271-40fa-d969-28a2f1effbc5"
      },
      "execution_count": 196,
      "outputs": [
        {
          "output_type": "execute_result",
          "data": {
            "text/plain": [
              "4"
            ]
          },
          "metadata": {},
          "execution_count": 196
        }
      ]
    },
    {
      "cell_type": "code",
      "source": [
        "lst = [7]\n",
        "# Expected output: None\n",
        "\n",
        "second_largest(lst)"
      ],
      "metadata": {
        "colab": {
          "base_uri": "https://localhost:8080/"
        },
        "id": "vjZMByFxzwQz",
        "outputId": "9eccee04-5bdd-4c70-a9cd-329f34bef196"
      },
      "execution_count": 197,
      "outputs": [
        {
          "output_type": "stream",
          "name": "stdout",
          "text": [
            "None\n"
          ]
        }
      ]
    },
    {
      "cell_type": "code",
      "source": [
        "lst = [10, -1, -1, 9, 8, 10]\n",
        "# Expected output: 9\n",
        "\n",
        "second_largest(lst)"
      ],
      "metadata": {
        "colab": {
          "base_uri": "https://localhost:8080/"
        },
        "id": "DJg6zWYuzxtD",
        "outputId": "c5ef9b62-75c2-47c1-bf20-983ae354c219"
      },
      "execution_count": 198,
      "outputs": [
        {
          "output_type": "execute_result",
          "data": {
            "text/plain": [
              "9"
            ]
          },
          "metadata": {},
          "execution_count": 198
        }
      ]
    },
    {
      "cell_type": "markdown",
      "source": [
        "# 4. Write a Python function that checks if a given string has balanced parentheses. The function should return True if the parentheses (( ), { }, [ ]) are balanced, and False otherwise."
      ],
      "metadata": {
        "id": "4-j3gv8l0P3e"
      }
    },
    {
      "cell_type": "code",
      "source": [
        "def parentheses(string):\n",
        "    temp = list()\n",
        "    for i in string:\n",
        "        if i in \"(){}[]\":\n",
        "            temp.append(i)\n",
        "    change = {\"(\" : \")\", \")\" : \"(\", \"[\" : \"]\", \"]\" : \"[\", \"{\" : \"}\", \"}\" : \"{\"}\n",
        "    mapped = [change[i] for i in temp]\n",
        "    mapped = mapped[::-1]\n",
        "    return True if temp == mapped else False"
      ],
      "metadata": {
        "id": "hYkfk69Tzy_d"
      },
      "execution_count": 199,
      "outputs": []
    },
    {
      "cell_type": "code",
      "source": [
        "s = \"({[]})\"\n",
        "# Expected output: True\n",
        "\n",
        "parentheses(s)"
      ],
      "metadata": {
        "colab": {
          "base_uri": "https://localhost:8080/"
        },
        "id": "A8cFRgJG2ERM",
        "outputId": "ecae5f0d-3126-48b6-f403-5eee9a664ae5"
      },
      "execution_count": 200,
      "outputs": [
        {
          "output_type": "execute_result",
          "data": {
            "text/plain": [
              "True"
            ]
          },
          "metadata": {},
          "execution_count": 200
        }
      ]
    },
    {
      "cell_type": "code",
      "source": [
        "s = \"({[})]\"\n",
        "# Expected output: False\n",
        "\n",
        "parentheses(s)"
      ],
      "metadata": {
        "colab": {
          "base_uri": "https://localhost:8080/"
        },
        "id": "Pm1cUj0F4fMv",
        "outputId": "5f0fc8ff-fe64-4d01-98b3-47bd75f19b88"
      },
      "execution_count": 201,
      "outputs": [
        {
          "output_type": "execute_result",
          "data": {
            "text/plain": [
              "False"
            ]
          },
          "metadata": {},
          "execution_count": 201
        }
      ]
    },
    {
      "cell_type": "code",
      "source": [
        "s = \"[{({[()]})}]\"\n",
        "# Expected output: True\n",
        "\n",
        "parentheses(s)"
      ],
      "metadata": {
        "colab": {
          "base_uri": "https://localhost:8080/"
        },
        "id": "M-wFxpDv61rR",
        "outputId": "855d3e08-143d-4ffc-bd96-eb0cd1f3ede4"
      },
      "execution_count": 202,
      "outputs": [
        {
          "output_type": "execute_result",
          "data": {
            "text/plain": [
              "True"
            ]
          },
          "metadata": {},
          "execution_count": 202
        }
      ]
    },
    {
      "cell_type": "code",
      "source": [
        "s = \"{[(\"\n",
        "# Expected output: False\n",
        "\n",
        "parentheses(s)"
      ],
      "metadata": {
        "colab": {
          "base_uri": "https://localhost:8080/"
        },
        "id": "5CWqSqn-63Cs",
        "outputId": "ac44b6a0-5ee7-43bc-bef9-34f2cade61dd"
      },
      "execution_count": 203,
      "outputs": [
        {
          "output_type": "execute_result",
          "data": {
            "text/plain": [
              "False"
            ]
          },
          "metadata": {},
          "execution_count": 203
        }
      ]
    },
    {
      "cell_type": "code",
      "source": [
        "s = \"{[])}\"\n",
        "# Expected output: False\n",
        "\n",
        "parentheses(s)"
      ],
      "metadata": {
        "colab": {
          "base_uri": "https://localhost:8080/"
        },
        "id": "W3-z3fNc64zw",
        "outputId": "ee3c7795-7fff-440d-b1f3-635dbd87b643"
      },
      "execution_count": 204,
      "outputs": [
        {
          "output_type": "execute_result",
          "data": {
            "text/plain": [
              "False"
            ]
          },
          "metadata": {},
          "execution_count": 204
        }
      ]
    },
    {
      "cell_type": "code",
      "source": [
        "s = \"\"\n",
        "# Expected output: True\n",
        "\n",
        "parentheses(s)"
      ],
      "metadata": {
        "colab": {
          "base_uri": "https://localhost:8080/"
        },
        "id": "nnM2Wh3L66Vj",
        "outputId": "e0c273d9-db7f-4b12-93c0-dc4beb3e1b65"
      },
      "execution_count": 205,
      "outputs": [
        {
          "output_type": "execute_result",
          "data": {
            "text/plain": [
              "True"
            ]
          },
          "metadata": {},
          "execution_count": 205
        }
      ]
    },
    {
      "cell_type": "code",
      "source": [
        "s = \"((((\"\n",
        "# Expected output: False\n",
        "\n",
        "parentheses(s)"
      ],
      "metadata": {
        "colab": {
          "base_uri": "https://localhost:8080/"
        },
        "id": "Oo6yoKmk67ry",
        "outputId": "37895cc3-31d9-48d0-facf-6acfa174133d"
      },
      "execution_count": 206,
      "outputs": [
        {
          "output_type": "execute_result",
          "data": {
            "text/plain": [
              "False"
            ]
          },
          "metadata": {},
          "execution_count": 206
        }
      ]
    },
    {
      "cell_type": "code",
      "source": [
        "s = \"))))\"\n",
        "# Expected output: False\n",
        "\n",
        "parentheses(s)"
      ],
      "metadata": {
        "colab": {
          "base_uri": "https://localhost:8080/"
        },
        "id": "RO5zm6DH69UO",
        "outputId": "5f596f3b-8439-4309-cef5-4dfb5fb19bd0"
      },
      "execution_count": 207,
      "outputs": [
        {
          "output_type": "execute_result",
          "data": {
            "text/plain": [
              "False"
            ]
          },
          "metadata": {},
          "execution_count": 207
        }
      ]
    },
    {
      "cell_type": "code",
      "source": [
        "s = \"a(b{c[d]e}f)g\"\n",
        "# Expected output: True\n",
        "\n",
        "parentheses(s)"
      ],
      "metadata": {
        "colab": {
          "base_uri": "https://localhost:8080/"
        },
        "id": "2E2MoB_v7A0F",
        "outputId": "5099d9c5-738d-46b6-b0d8-cf1a622d8adb"
      },
      "execution_count": 208,
      "outputs": [
        {
          "output_type": "execute_result",
          "data": {
            "text/plain": [
              "True"
            ]
          },
          "metadata": {},
          "execution_count": 208
        }
      ]
    },
    {
      "cell_type": "code",
      "source": [
        "s = \"(a[b{c}d]e\"\n",
        "# Expected output: False\n",
        "\n",
        "parentheses(s)"
      ],
      "metadata": {
        "colab": {
          "base_uri": "https://localhost:8080/"
        },
        "id": "gpY_h7W57VGe",
        "outputId": "44ee7341-652c-4b1a-815e-f0c47ad8fa62"
      },
      "execution_count": 209,
      "outputs": [
        {
          "output_type": "execute_result",
          "data": {
            "text/plain": [
              "False"
            ]
          },
          "metadata": {},
          "execution_count": 209
        }
      ]
    },
    {
      "cell_type": "code",
      "source": [
        "s = \"((a + b) * (c - d))\"\n",
        "# Expected output: True\n",
        "\n",
        "parentheses(s)"
      ],
      "metadata": {
        "colab": {
          "base_uri": "https://localhost:8080/"
        },
        "id": "Sne7bSLH7WXG",
        "outputId": "3b7bc11a-18b3-4eb0-d013-0b5446d97691"
      },
      "execution_count": 210,
      "outputs": [
        {
          "output_type": "execute_result",
          "data": {
            "text/plain": [
              "True"
            ]
          },
          "metadata": {},
          "execution_count": 210
        }
      ]
    },
    {
      "cell_type": "code",
      "source": [
        "s = \"((a + b) * (c - d)\"\n",
        "# Expected output: False\n",
        "\n",
        "parentheses(s)"
      ],
      "metadata": {
        "colab": {
          "base_uri": "https://localhost:8080/"
        },
        "id": "qXp6bucM7XYf",
        "outputId": "d78c9fe5-9ab7-4451-c999-583562a55021"
      },
      "execution_count": 211,
      "outputs": [
        {
          "output_type": "execute_result",
          "data": {
            "text/plain": [
              "False"
            ]
          },
          "metadata": {},
          "execution_count": 211
        }
      ]
    },
    {
      "cell_type": "code",
      "source": [
        "s = \"{[a(b + c)]}\"\n",
        "# Expected output: True\n",
        "\n",
        "parentheses(s)"
      ],
      "metadata": {
        "colab": {
          "base_uri": "https://localhost:8080/"
        },
        "id": "KogLDu5O7Z-l",
        "outputId": "0956a810-84d7-410b-d0b2-d582549e0570"
      },
      "execution_count": 212,
      "outputs": [
        {
          "output_type": "execute_result",
          "data": {
            "text/plain": [
              "True"
            ]
          },
          "metadata": {},
          "execution_count": 212
        }
      ]
    },
    {
      "cell_type": "code",
      "source": [
        "s = \"((a + b))}\"\n",
        "# Expected output: False\n",
        "\n",
        "parentheses(s)"
      ],
      "metadata": {
        "colab": {
          "base_uri": "https://localhost:8080/"
        },
        "id": "YyFaGAmT7cvW",
        "outputId": "d36c31ea-dc63-4a27-9adc-39082245b424"
      },
      "execution_count": 213,
      "outputs": [
        {
          "output_type": "execute_result",
          "data": {
            "text/plain": [
              "False"
            ]
          },
          "metadata": {},
          "execution_count": 213
        }
      ]
    },
    {
      "cell_type": "code",
      "source": [
        "s = \"\"\n",
        "# Expected output: True\n",
        "\n",
        "parentheses(s)"
      ],
      "metadata": {
        "colab": {
          "base_uri": "https://localhost:8080/"
        },
        "id": "B7WJyWKB7dxa",
        "outputId": "cc2d7843-05d0-4fa4-eb0c-77b5053e26b3"
      },
      "execution_count": 214,
      "outputs": [
        {
          "output_type": "execute_result",
          "data": {
            "text/plain": [
              "True"
            ]
          },
          "metadata": {},
          "execution_count": 214
        }
      ]
    },
    {
      "cell_type": "code",
      "source": [
        "s = \"(a b {c d [e f] g} h)\"\n",
        "# Expected output: True\n",
        "\n",
        "parentheses(s)"
      ],
      "metadata": {
        "colab": {
          "base_uri": "https://localhost:8080/"
        },
        "id": "q_zzrwj97ek7",
        "outputId": "4a8f3173-64ea-4d28-a945-1c2643077469"
      },
      "execution_count": 215,
      "outputs": [
        {
          "output_type": "execute_result",
          "data": {
            "text/plain": [
              "True"
            ]
          },
          "metadata": {},
          "execution_count": 215
        }
      ]
    },
    {
      "cell_type": "code",
      "source": [
        "s = \"(a b {c d [e f] g} h)\"\n",
        "# Expected output: True\n",
        "\n",
        "parentheses(s)"
      ],
      "metadata": {
        "colab": {
          "base_uri": "https://localhost:8080/"
        },
        "id": "8cFigEjb7fdK",
        "outputId": "2704d31e-f8fa-4a02-f8d6-a6f04f7ab62f"
      },
      "execution_count": 216,
      "outputs": [
        {
          "output_type": "execute_result",
          "data": {
            "text/plain": [
              "True"
            ]
          },
          "metadata": {},
          "execution_count": 216
        }
      ]
    },
    {
      "cell_type": "code",
      "source": [
        "s = \"[{(a + b) * (c - d)}\"\n",
        "# Expected output: False\n",
        "\n",
        "parentheses(s)"
      ],
      "metadata": {
        "colab": {
          "base_uri": "https://localhost:8080/"
        },
        "id": "ykU8pzrc7gxX",
        "outputId": "fd460a58-ee80-4365-8763-2c10c7cf526f"
      },
      "execution_count": 217,
      "outputs": [
        {
          "output_type": "execute_result",
          "data": {
            "text/plain": [
              "False"
            ]
          },
          "metadata": {},
          "execution_count": 217
        }
      ]
    },
    {
      "cell_type": "code",
      "source": [
        "s = \"(a + b] * {c - d}\"\n",
        "# Expected output: False\n",
        "\n",
        "parentheses(s)"
      ],
      "metadata": {
        "colab": {
          "base_uri": "https://localhost:8080/"
        },
        "id": "NDd2TVMp7iFc",
        "outputId": "0cdf617e-8c47-4a2e-94e4-120a246a2ec6"
      },
      "execution_count": 218,
      "outputs": [
        {
          "output_type": "execute_result",
          "data": {
            "text/plain": [
              "False"
            ]
          },
          "metadata": {},
          "execution_count": 218
        }
      ]
    },
    {
      "cell_type": "markdown",
      "source": [
        "# 5. Write a Python function that takes an integer n as input and returns the sum of all even Fibonacci numbers less than or equal to n. Ensure the function handles large values of n efficiently."
      ],
      "metadata": {
        "id": "zD-sRHDt0btJ"
      }
    },
    {
      "cell_type": "code",
      "source": [
        "def sumOfEvenFibonacci(n):\n",
        "    fibonacci = [0,1]\n",
        "    for i in range(n):\n",
        "        if (fibonacci[-1] + fibonacci[-2]) > n:\n",
        "            break\n",
        "        fibonacci.append(fibonacci[-1] + fibonacci[-2])\n",
        "    evens = list()\n",
        "    for i in fibonacci:\n",
        "        if i % 2 == 0:\n",
        "            evens.append(i)\n",
        "    return sum(evens)"
      ],
      "metadata": {
        "id": "paETkbI67i-u"
      },
      "execution_count": 219,
      "outputs": []
    },
    {
      "cell_type": "code",
      "source": [
        "n = 10\n",
        "# Fibonacci sequence up to 10: [0, 1, 1, 2, 3, 5, 8]\n",
        "# Even Fibonacci numbers: [0, 2, 8]\n",
        "# Expected output: 10 (0 + 2 + 8)\n",
        "\n",
        "sumOfEvenFibonacci(n)"
      ],
      "metadata": {
        "colab": {
          "base_uri": "https://localhost:8080/"
        },
        "id": "4ml14xqs02pG",
        "outputId": "2183e665-6c2b-4fee-cb2f-7694dc63afeb"
      },
      "execution_count": 220,
      "outputs": [
        {
          "output_type": "execute_result",
          "data": {
            "text/plain": [
              "10"
            ]
          },
          "metadata": {},
          "execution_count": 220
        }
      ]
    },
    {
      "cell_type": "code",
      "source": [
        "n = 1\n",
        "# Fibonacci sequence up to 1: [0, 1, 1]\n",
        "# Even Fibonacci numbers: [0]\n",
        "# Expected output: 0\n",
        "\n",
        "sumOfEvenFibonacci(n)"
      ],
      "metadata": {
        "colab": {
          "base_uri": "https://localhost:8080/"
        },
        "id": "VYoyK-ic1Aqt",
        "outputId": "52754874-04b5-4f6a-addd-3a72cea0519c"
      },
      "execution_count": 221,
      "outputs": [
        {
          "output_type": "execute_result",
          "data": {
            "text/plain": [
              "0"
            ]
          },
          "metadata": {},
          "execution_count": 221
        }
      ]
    },
    {
      "cell_type": "code",
      "source": [
        "n = 34\n",
        "# Fibonacci sequence up to 34: [0, 1, 1, 2, 3, 5, 8, 13, 21, 34]\n",
        "# Even Fibonacci numbers: [0, 2, 8, 34]\n",
        "# Expected output: 44 (0 + 2 + 8 + 34)\n",
        "\n",
        "sumOfEvenFibonacci(n)"
      ],
      "metadata": {
        "colab": {
          "base_uri": "https://localhost:8080/"
        },
        "id": "a3Pbmy0l5Nmx",
        "outputId": "5f33577c-2dc3-461a-da89-dc52edba1a91"
      },
      "execution_count": 222,
      "outputs": [
        {
          "output_type": "execute_result",
          "data": {
            "text/plain": [
              "44"
            ]
          },
          "metadata": {},
          "execution_count": 222
        }
      ]
    },
    {
      "cell_type": "code",
      "source": [
        "n = 100\n",
        "# Fibonacci sequence up to 100: [0, 1, 1, 2, 3, 5, 8, 13, 21, 34, 55, 89]\n",
        "# Even Fibonacci numbers: [0, 2, 8, 34]\n",
        "# Expected output: 44 (0 + 2 + 8 + 34)\n",
        "\n",
        "sumOfEvenFibonacci(n)"
      ],
      "metadata": {
        "colab": {
          "base_uri": "https://localhost:8080/"
        },
        "id": "sSJ3CasU5PVV",
        "outputId": "71ea5770-98f7-4725-c1df-e75e5519efd2"
      },
      "execution_count": 223,
      "outputs": [
        {
          "output_type": "execute_result",
          "data": {
            "text/plain": [
              "44"
            ]
          },
          "metadata": {},
          "execution_count": 223
        }
      ]
    },
    {
      "cell_type": "code",
      "source": [
        "n = 4000000\n",
        "# This test ensures the function handles large values efficiently.\n",
        "# Expected output: 4613732 (sum of even Fibonacci numbers up to 4 million)\n",
        "\n",
        "sumOfEvenFibonacci(n)"
      ],
      "metadata": {
        "colab": {
          "base_uri": "https://localhost:8080/"
        },
        "id": "EfyTzqS95RVV",
        "outputId": "54926810-d1cd-40b5-df84-9310d2d9ea5f"
      },
      "execution_count": 224,
      "outputs": [
        {
          "output_type": "execute_result",
          "data": {
            "text/plain": [
              "4613732"
            ]
          },
          "metadata": {},
          "execution_count": 224
        }
      ]
    },
    {
      "cell_type": "code",
      "source": [
        "n = 2\n",
        "# Fibonacci sequence up to 2: [0, 1, 1, 2]\n",
        "# Even Fibonacci numbers: [0, 2]\n",
        "# Expected output: 2 (0 + 2)\n",
        "\n",
        "sumOfEvenFibonacci(n)"
      ],
      "metadata": {
        "colab": {
          "base_uri": "https://localhost:8080/"
        },
        "id": "_ejhpdt95SmB",
        "outputId": "cc7b7afc-804b-45e9-9638-ed8b8df767c4"
      },
      "execution_count": 225,
      "outputs": [
        {
          "output_type": "execute_result",
          "data": {
            "text/plain": [
              "2"
            ]
          },
          "metadata": {},
          "execution_count": 225
        }
      ]
    }
  ]
}