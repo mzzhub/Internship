{
  "nbformat": 4,
  "nbformat_minor": 0,
  "metadata": {
    "colab": {
      "provenance": []
    },
    "kernelspec": {
      "name": "python3",
      "display_name": "Python 3"
    },
    "language_info": {
      "name": "python"
    }
  },
  "cells": [
    {
      "cell_type": "markdown",
      "source": [
        "Object-Oriented programming\n",
        "* OOP is a programming paradigm that uses objects\n",
        "and classes in programming.\n",
        "\n",
        "* It aims to implement real-world entities like\n",
        "inheritance, polymorphism, encapsulation, abstraction etc.\n",
        "\n",
        "* In the programming, the main\n",
        "concept of OOPS is to bind the data and the function that work on that\n",
        "together as a single unit so that no other part of the code can access this\n",
        "data."
      ],
      "metadata": {
        "id": "-cRnjZX7y6jv"
      }
    },
    {
      "cell_type": "markdown",
      "source": [
        "Python is a multiparadigm language - procedural, functional, object oriented"
      ],
      "metadata": {
        "id": "Rw9wqkeIzdkZ"
      }
    },
    {
      "cell_type": "markdown",
      "source": [
        "Concept of OOP\n",
        "\n",
        "\n",
        "*   Inheritance\n",
        "*   Encapsulation\n",
        "*   Polymorphism\n",
        "*   Abstraction\n",
        "\n",
        "\n",
        "\n",
        "\n",
        "\n",
        "\n"
      ],
      "metadata": {
        "id": "u0lcZ2Bwzmzg"
      }
    },
    {
      "cell_type": "markdown",
      "source": [
        "Class Attribute\n",
        "* Class is a blueprint or template\n",
        "* Blue print for objects\n",
        "* Functions related to classes are methods\n",
        "* Defined using 'class' keyword\n",
        "* Class identifier follows class keyword\n",
        "* Conventionally class identifier starts with Capital Character\n",
        "* Book as class name."
      ],
      "metadata": {
        "id": "_7uS34T70uJs"
      }
    },
    {
      "cell_type": "markdown",
      "source": [
        "Self\n",
        "* Self represents the instance of the class\n",
        "* By using the \"self\" we can access the attributes and methods of the class in\n",
        "python.\n",
        "* Self is parameter in function and user can use another parameter name in\n",
        "place of it\n",
        "* But it is advisable to use self because it increases the readability of code"
      ],
      "metadata": {
        "id": "NXcNNO9H4uI5"
      }
    },
    {
      "cell_type": "code",
      "execution_count": 4,
      "metadata": {
        "colab": {
          "base_uri": "https://localhost:8080/"
        },
        "id": "GsCoUf24uV4R",
        "outputId": "b8202ca5-64df-463f-c98e-419131d023d3"
      },
      "outputs": [
        {
          "output_type": "stream",
          "name": "stdout",
          "text": [
            " person is reading\n",
            " person is writing\n",
            "<class '__main__.Person'>\n"
          ]
        }
      ],
      "source": [
        "#class creation\n",
        "class Person:\n",
        "    def read(self):\n",
        "        print(' person is reading')\n",
        "    def write(self):\n",
        "        print(' person is writing')\n",
        "\n",
        "#object creation\n",
        "obj = Person()\n",
        "obj.read()\n",
        "obj.write()\n",
        "print(type(obj))"
      ]
    },
    {
      "cell_type": "code",
      "source": [
        "print('my name is %s and age is %d' %(\"hgf\",31))"
      ],
      "metadata": {
        "colab": {
          "base_uri": "https://localhost:8080/"
        },
        "id": "5A5snnI95_Mb",
        "outputId": "c64289d2-a58f-4c78-c93f-83204fce563e"
      },
      "execution_count": 8,
      "outputs": [
        {
          "output_type": "stream",
          "name": "stdout",
          "text": [
            "my name is hgf and age is 31\n"
          ]
        }
      ]
    },
    {
      "cell_type": "code",
      "source": [
        "class House:\n",
        "    def home(self,name,colour,floor_material,roof_colour):\n",
        "            self.name = name\n",
        "            self.colour = colour\n",
        "            self.floor_material = floor_material\n",
        "            self.roof_colour = roof_colour\n",
        "    def myhome(self):\n",
        "        print(\"The home of %s is of %s colour, %s is used as the floor material, and the roof colour is %s\"%(self.name,self.colour,self.floor_material,self.roof_colour))"
      ],
      "metadata": {
        "id": "rIrWtHkJ96TA"
      },
      "execution_count": 16,
      "outputs": []
    },
    {
      "cell_type": "code",
      "source": [
        "tempman = House()\n",
        "tempman.home(\"Jhon\",\"Grey\",\"Granite\",\"White\")\n",
        "tempman.myhome()"
      ],
      "metadata": {
        "colab": {
          "base_uri": "https://localhost:8080/"
        },
        "id": "2fDCCHy4ABtV",
        "outputId": "948ffae4-83dd-46c3-c3f7-dc2ad58a3eed"
      },
      "execution_count": 17,
      "outputs": [
        {
          "output_type": "stream",
          "name": "stdout",
          "text": [
            "The home of Jhon is of Grey colour, Granite is used as the floor material, and the roof colour is White\n"
          ]
        }
      ]
    },
    {
      "cell_type": "code",
      "source": [
        "class House:\n",
        "    def __init__(self, name, color, floor_materiat, roof_color) :\n",
        "        name = input(\"Enter the name: \")\n",
        "        color = input('Enter the color: ')\n",
        "        floor_material = input('Enter the floor_material: ')\n",
        "        roof_color = input('Enter the roof_color')\n",
        "\n",
        "        self.name = name\n",
        "        self.color = color\n",
        "        self.floor_material = floor_material\n",
        "        self.roof_color = roof_color\n",
        "\n",
        "    def myhome(self):\n",
        "        print(\"The home of %s is of %s colour, %s is used as the floor material, and the roof colour is %s\"%(self.name,self.color,self.floor_material,self.roof_color))"
      ],
      "metadata": {
        "id": "FNMMHWdJAScX"
      },
      "execution_count": 20,
      "outputs": []
    },
    {
      "cell_type": "code",
      "source": [
        "n = int(input('Enter how much person YOU want to add'))\n",
        "for i in range(n):\n",
        "    raju = House(\"Raju\",'white' ,'tiles' ,\"GREEN\")\n",
        "    raju.myhome()"
      ],
      "metadata": {
        "colab": {
          "base_uri": "https://localhost:8080/"
        },
        "id": "Zzd1GmK_FWhm",
        "outputId": "77bf2813-9c4c-48d2-854a-714a0fafb33a"
      },
      "execution_count": 24,
      "outputs": [
        {
          "output_type": "stream",
          "name": "stdout",
          "text": [
            "Enter how much person YOU want to add3\n",
            "Enter the name: balan\n",
            "Enter the color: sop\n",
            "Enter the floor_material: marble\n",
            " Enter the roof_color34\n",
            "The home of balan is of sop colour, marble is used as the floor material, and the roof colour is 34\n",
            "Enter the name: becky\n",
            "Enter the color: green\n",
            "Enter the floor_material: tiles\n",
            " Enter the roof_colorblack\n",
            "The home of becky is of green colour, tiles is used as the floor material, and the roof colour is black\n",
            "Enter the name: tommy\n",
            "Enter the color: brown\n",
            "Enter the floor_material: granite\n",
            " Enter the roof_colormatte\n",
            "The home of tommy is of brown colour, granite is used as the floor material, and the roof colour is matte\n"
          ]
        }
      ]
    }
  ]
}