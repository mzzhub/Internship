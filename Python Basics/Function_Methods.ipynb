{
  "nbformat": 4,
  "nbformat_minor": 0,
  "metadata": {
    "colab": {
      "provenance": []
    },
    "kernelspec": {
      "name": "python3",
      "display_name": "Python 3"
    },
    "language_info": {
      "name": "python"
    }
  },
  "cells": [
    {
      "cell_type": "markdown",
      "source": [
        "# Lambda Function\n",
        "Lambda Functions are similar to user defined functions but without a name.\n",
        "\n",
        "They're commonly referred to as anonymous functions.\n",
        "\n",
        "Syntax:\n",
        "\n",
        "lambda arguments:expression\n",
        "\n",
        "\n",
        "lambda is a keyword in Python for defining the anonymous function.\n",
        "\n",
        "arguments is a placeholder, that is a variable that will be used to hold the\n",
        "value you want to pass into the function expression.\n",
        "\n",
        "A lambda function can have multiple variables depending on what you want to acheive.\n",
        "\n",
        "expression is the code you want to execute in the lambda function."
      ],
      "metadata": {
        "id": "H2j51dkRKKoY"
      }
    },
    {
      "cell_type": "code",
      "source": [
        "# by saving the function to a variable\n",
        "y = lambda a:a+5"
      ],
      "metadata": {
        "id": "B_1gGgiRG3k6"
      },
      "execution_count": null,
      "outputs": []
    },
    {
      "cell_type": "code",
      "source": [
        "y(3)"
      ],
      "metadata": {
        "colab": {
          "base_uri": "https://localhost:8080/"
        },
        "id": "2YVP3JNRIKw3",
        "outputId": "2fe09a9b-3e6c-440c-fb39-24933589ba7b"
      },
      "execution_count": null,
      "outputs": [
        {
          "output_type": "execute_result",
          "data": {
            "text/plain": [
              "8"
            ]
          },
          "metadata": {},
          "execution_count": 20
        }
      ]
    },
    {
      "cell_type": "code",
      "source": [
        "# by calling it directly\n",
        "print((lambda k:k**2)(4))"
      ],
      "metadata": {
        "colab": {
          "base_uri": "https://localhost:8080/"
        },
        "id": "rs7JFaT8Kydb",
        "outputId": "aaf6fd01-7a29-4d61-bf92-42b204b314d0"
      },
      "execution_count": null,
      "outputs": [
        {
          "output_type": "stream",
          "name": "stdout",
          "text": [
            "16\n"
          ]
        }
      ]
    },
    {
      "cell_type": "code",
      "source": [
        "# multiple variable\n",
        "x = lambda a,b,c : a*b*c"
      ],
      "metadata": {
        "id": "aawEo9IdLDLi"
      },
      "execution_count": null,
      "outputs": []
    },
    {
      "cell_type": "code",
      "source": [
        "print(x(3,4,2))"
      ],
      "metadata": {
        "colab": {
          "base_uri": "https://localhost:8080/"
        },
        "id": "0uDJborZLVap",
        "outputId": "a728071d-a7e5-4c18-afd8-9e4595594111"
      },
      "execution_count": null,
      "outputs": [
        {
          "output_type": "stream",
          "name": "stdout",
          "text": [
            "24\n"
          ]
        }
      ]
    },
    {
      "cell_type": "code",
      "source": [
        "s = lambda h : h[::-1].upper()"
      ],
      "metadata": {
        "id": "FrSXPLNPLYsn"
      },
      "execution_count": null,
      "outputs": []
    },
    {
      "cell_type": "code",
      "source": [
        "s(\"jack\")"
      ],
      "metadata": {
        "colab": {
          "base_uri": "https://localhost:8080/",
          "height": 35
        },
        "id": "aDGS7SOKNMu5",
        "outputId": "d0a47cff-ca6e-4aae-a5a5-e7703a9c80a5"
      },
      "execution_count": null,
      "outputs": [
        {
          "output_type": "execute_result",
          "data": {
            "text/plain": [
              "'KCAJ'"
            ],
            "application/vnd.google.colaboratory.intrinsic+json": {
              "type": "string"
            }
          },
          "metadata": {},
          "execution_count": 26
        }
      ]
    },
    {
      "cell_type": "code",
      "source": [
        "q = lambda x,y : x-y if x>y else y-x"
      ],
      "metadata": {
        "id": "hLjA6HsBNO0p"
      },
      "execution_count": null,
      "outputs": []
    },
    {
      "cell_type": "code",
      "source": [
        "q(4,5)"
      ],
      "metadata": {
        "colab": {
          "base_uri": "https://localhost:8080/"
        },
        "id": "Pg32rQpdPo9D",
        "outputId": "1a87da17-28c4-4252-f8c8-e46ab66d9436"
      },
      "execution_count": null,
      "outputs": [
        {
          "output_type": "execute_result",
          "data": {
            "text/plain": [
              "1"
            ]
          },
          "metadata": {},
          "execution_count": 28
        }
      ]
    },
    {
      "cell_type": "code",
      "source": [
        "oe = lambda n : \"odd\" if n%2 == 1 else \"even\""
      ],
      "metadata": {
        "id": "EMfX9hRSPqlE"
      },
      "execution_count": null,
      "outputs": []
    },
    {
      "cell_type": "code",
      "source": [
        "oe(76)"
      ],
      "metadata": {
        "colab": {
          "base_uri": "https://localhost:8080/",
          "height": 35
        },
        "id": "S1wiXZjrQIW6",
        "outputId": "f58237ea-cc18-4129-d142-a37dfa2d1fc6"
      },
      "execution_count": null,
      "outputs": [
        {
          "output_type": "execute_result",
          "data": {
            "text/plain": [
              "'even'"
            ],
            "application/vnd.google.colaboratory.intrinsic+json": {
              "type": "string"
            }
          },
          "metadata": {},
          "execution_count": 31
        }
      ]
    },
    {
      "cell_type": "markdown",
      "source": [
        "# Filter function\n",
        "The filer function operates on a list and returns a subset of that list after\n",
        "applying the filter rule.\n",
        "\n",
        "The function filter( f, l ) needs a function f as it arguments.\n",
        "\n",
        "f returns a Boolean value. ie either true or false.\n",
        "\n",
        "this function will be applied to every element of the list l.\n",
        "\n",
        "only if f returns True will element of the list I.\n",
        "\n",
        "only if f returns True will the element of the list be included in the result list"
      ],
      "metadata": {
        "id": "70omsdDnSURM"
      }
    },
    {
      "cell_type": "code",
      "source": [
        "l1 = [33,44,56,21,80,2,5,7,4,1,0,765,100]"
      ],
      "metadata": {
        "id": "tyc0JV1aQJxj"
      },
      "execution_count": null,
      "outputs": []
    },
    {
      "cell_type": "code",
      "source": [
        "w = filter(lambda x : x%2==0, l1)"
      ],
      "metadata": {
        "id": "T901Jq3pS6qS"
      },
      "execution_count": null,
      "outputs": []
    },
    {
      "cell_type": "code",
      "source": [
        "print(w)"
      ],
      "metadata": {
        "colab": {
          "base_uri": "https://localhost:8080/"
        },
        "id": "gyGUMamPTI-9",
        "outputId": "b09ea020-09a4-49d3-aa01-86b784c4955f"
      },
      "execution_count": null,
      "outputs": [
        {
          "output_type": "stream",
          "name": "stdout",
          "text": [
            "<filter object at 0x7e63ff19bb50>\n"
          ]
        }
      ]
    },
    {
      "cell_type": "code",
      "source": [
        "print(list(w))"
      ],
      "metadata": {
        "colab": {
          "base_uri": "https://localhost:8080/"
        },
        "id": "Ze25_wVcTKKj",
        "outputId": "5664aa54-5cf5-4953-f88a-4f81d3d07d7c"
      },
      "execution_count": null,
      "outputs": [
        {
          "output_type": "stream",
          "name": "stdout",
          "text": [
            "[44, 56, 80, 2, 4, 0, 100]\n"
          ]
        }
      ]
    },
    {
      "cell_type": "code",
      "source": [
        "names =['bolu' 'arun','raju', 'ramu', 'dolu','rema']\n",
        "e = filter(lambda x : x[0]=='r',names)"
      ],
      "metadata": {
        "id": "TNU9WNSWTUc2"
      },
      "execution_count": null,
      "outputs": []
    },
    {
      "cell_type": "code",
      "source": [
        "print(list(e))"
      ],
      "metadata": {
        "colab": {
          "base_uri": "https://localhost:8080/"
        },
        "id": "vdMAkKW7Us-Y",
        "outputId": "a0ce386e-c537-4cb6-9a8a-8b26e7b2b405"
      },
      "execution_count": null,
      "outputs": [
        {
          "output_type": "stream",
          "name": "stdout",
          "text": [
            "['raju', 'ramu', 'rema']\n"
          ]
        }
      ]
    },
    {
      "cell_type": "markdown",
      "source": [
        "# Map Function\n",
        "The map() transforms a given list in to a new list by transforming each element using a rule, it is used to apply a function to each element of a list or any other iterable.\n",
        "\n",
        "This is very useful when we do vector mathematics.\n",
        "\n",
        "The map() function will take multiple list operates on then and return the output list.\n",
        "\n",
        "One thing to note is that all the list should be of the same size. because map() applies the function to corresponding elements in those lists.\n",
        "\n",
        "You use the map() function whenever you want to modify every value in interable"
      ],
      "metadata": {
        "id": "LVIIYlj5WMMA"
      }
    },
    {
      "cell_type": "code",
      "source": [
        "list1 = [2,3,4,5]\n",
        "print(list(map(lambda x:x**2, list1)))"
      ],
      "metadata": {
        "id": "khsD7FxOVFhk",
        "colab": {
          "base_uri": "https://localhost:8080/"
        },
        "outputId": "43fc7993-1880-43f0-b9d2-4d6ae452ba11"
      },
      "execution_count": null,
      "outputs": [
        {
          "output_type": "stream",
          "name": "stdout",
          "text": [
            "[4, 9, 16, 25]\n"
          ]
        }
      ]
    },
    {
      "cell_type": "code",
      "source": [
        "list2 = ['raju','ramu', 'dolu', 'bolu','rema']\n",
        "print(list(map(lambda x: x.startswith(\"r\") ,list2)))"
      ],
      "metadata": {
        "id": "5geFQfzXQuW8",
        "colab": {
          "base_uri": "https://localhost:8080/"
        },
        "outputId": "b22ea0d8-e8db-4e04-de76-53ec7a8397ef"
      },
      "execution_count": null,
      "outputs": [
        {
          "output_type": "stream",
          "name": "stdout",
          "text": [
            "[True, True, False, False, True]\n"
          ]
        }
      ]
    },
    {
      "cell_type": "markdown",
      "source": [
        "# Zip Function\n",
        "The zip() function take iterables (can be zero or more) makes iterator that aggregates elements based on the iterables passed, and returns an iterator or tuples\n",
        "\n",
        "syntax:\n",
        "\n",
        "zip(*iterables)"
      ],
      "metadata": {
        "id": "SmFdVYFLmVWL"
      }
    },
    {
      "cell_type": "code",
      "source": [
        "#[2,3,4],[3,2,3] = ((2,3),(3,2),(4,3))\n",
        "#[2,3,4], [3,2,3], [2,1,4,5] =((2,3,2), (3,4,1), (4,3,4))\n",
        "#[2,3,4], ['raju','bolu', 'dolu'] = ((2, 'raju')), (3, 'dolu'), (4, 'bolu'))"
      ],
      "metadata": {
        "id": "GZdvYIlFh8i8"
      },
      "execution_count": null,
      "outputs": []
    },
    {
      "cell_type": "code",
      "source": [
        "name = ['raju', 'bolu', 'dolu']\n",
        "rn = [3,4,5]\n",
        "data = dict(zip(rn,name))\n",
        "print(data)"
      ],
      "metadata": {
        "colab": {
          "base_uri": "https://localhost:8080/"
        },
        "id": "9gE2722PnIdh",
        "outputId": "fec17cad-41b0-452c-84d0-9ca3cb5a8d51"
      },
      "execution_count": 1,
      "outputs": [
        {
          "output_type": "stream",
          "name": "stdout",
          "text": [
            "{3: 'raju', 4: 'bolu', 5: 'dolu'}\n"
          ]
        }
      ]
    },
    {
      "cell_type": "code",
      "source": [
        "name = [\"Jack\",\"Rose\",\"Jill\"]\n",
        "age = [23,2]\n",
        "next1 = list(zip(name,age))\n",
        "print(next1)\n",
        "# here Jill has no corresponding value."
      ],
      "metadata": {
        "colab": {
          "base_uri": "https://localhost:8080/"
        },
        "id": "nhMFdUgbbD4u",
        "outputId": "9dd2dacd-5749-4ccc-e9f4-8607a666f625"
      },
      "execution_count": 5,
      "outputs": [
        {
          "output_type": "stream",
          "name": "stdout",
          "text": [
            "[('Jack', 23), ('Rose', 2)]\n"
          ]
        }
      ]
    },
    {
      "cell_type": "code",
      "source": [
        "doing = [\"character\", \"flower\", \"cartoon\"]\n",
        "age.append(55)\n",
        "next2 = list(zip(name,doing,age))\n",
        "print(next2)"
      ],
      "metadata": {
        "colab": {
          "base_uri": "https://localhost:8080/"
        },
        "id": "LoX6ny4tbkut",
        "outputId": "9f3b51cd-b6e1-4895-ca84-e50061c90834"
      },
      "execution_count": 9,
      "outputs": [
        {
          "output_type": "stream",
          "name": "stdout",
          "text": [
            "[('Jack', 'character', 23), ('Rose', 'flower', 2), ('Jill', 'cartoon', 55)]\n"
          ]
        }
      ]
    },
    {
      "cell_type": "markdown",
      "source": [
        "# Exception Handling"
      ],
      "metadata": {
        "id": "HSZkGeOIa4Ni"
      }
    },
    {
      "cell_type": "code",
      "execution_count": null,
      "metadata": {
        "colab": {
          "base_uri": "https://localhost:8080/"
        },
        "id": "fxH4_EQkziwV",
        "outputId": "ee444037-aa14-4dcc-8eb3-b98b9fba9dae"
      },
      "outputs": [
        {
          "output_type": "stream",
          "name": "stdout",
          "text": [
            "Num1: 10\n",
            "Num2: 2\n",
            "5.0\n"
          ]
        }
      ],
      "source": [
        "num1 = int(input(\"Num1: \"))\n",
        "num2 = int(input(\"Num2: \"))\n",
        "num3 = num1/num2\n",
        "print(num3)"
      ]
    },
    {
      "cell_type": "code",
      "source": [
        "# no problem on above event\n",
        "# here we have a problem\n",
        "# error : division by zero\n",
        "num1 = int(input(\"Num1: \"))\n",
        "num2 = int(input(\"Num2: \"))\n",
        "num3 = num1/num2\n",
        "print(num3)"
      ],
      "metadata": {
        "colab": {
          "base_uri": "https://localhost:8080/",
          "height": 228
        },
        "id": "uFnA4vyp1Lsj",
        "outputId": "8f4fc592-2476-46d7-d1fe-4969f770bc53"
      },
      "execution_count": null,
      "outputs": [
        {
          "name": "stdout",
          "output_type": "stream",
          "text": [
            "Num1: 10\n",
            "Num2: 0\n"
          ]
        },
        {
          "output_type": "error",
          "ename": "ZeroDivisionError",
          "evalue": "division by zero",
          "traceback": [
            "\u001b[0;31m---------------------------------------------------------------------------\u001b[0m",
            "\u001b[0;31mZeroDivisionError\u001b[0m                         Traceback (most recent call last)",
            "\u001b[0;32m<ipython-input-3-3659a31b49ba>\u001b[0m in \u001b[0;36m<cell line: 5>\u001b[0;34m()\u001b[0m\n\u001b[1;32m      3\u001b[0m \u001b[0mnum1\u001b[0m \u001b[0;34m=\u001b[0m \u001b[0mint\u001b[0m\u001b[0;34m(\u001b[0m\u001b[0minput\u001b[0m\u001b[0;34m(\u001b[0m\u001b[0;34m\"Num1: \"\u001b[0m\u001b[0;34m)\u001b[0m\u001b[0;34m)\u001b[0m\u001b[0;34m\u001b[0m\u001b[0;34m\u001b[0m\u001b[0m\n\u001b[1;32m      4\u001b[0m \u001b[0mnum2\u001b[0m \u001b[0;34m=\u001b[0m \u001b[0mint\u001b[0m\u001b[0;34m(\u001b[0m\u001b[0minput\u001b[0m\u001b[0;34m(\u001b[0m\u001b[0;34m\"Num2: \"\u001b[0m\u001b[0;34m)\u001b[0m\u001b[0;34m)\u001b[0m\u001b[0;34m\u001b[0m\u001b[0;34m\u001b[0m\u001b[0m\n\u001b[0;32m----> 5\u001b[0;31m \u001b[0mnum3\u001b[0m \u001b[0;34m=\u001b[0m \u001b[0mnum1\u001b[0m\u001b[0;34m/\u001b[0m\u001b[0mnum2\u001b[0m\u001b[0;34m\u001b[0m\u001b[0;34m\u001b[0m\u001b[0m\n\u001b[0m\u001b[1;32m      6\u001b[0m \u001b[0mprint\u001b[0m\u001b[0;34m(\u001b[0m\u001b[0mnum3\u001b[0m\u001b[0;34m)\u001b[0m\u001b[0;34m\u001b[0m\u001b[0;34m\u001b[0m\u001b[0m\n",
            "\u001b[0;31mZeroDivisionError\u001b[0m: division by zero"
          ]
        }
      ]
    },
    {
      "cell_type": "code",
      "source": [
        "# to solve that\n",
        "num1 = int(input(\"Num1: \"))\n",
        "num2 = int(input(\"Num2: \"))\n",
        "try:\n",
        "    num3 = num1/num2\n",
        "    print(num3)\n",
        "except:\n",
        "    print(\"An error exists.\")"
      ],
      "metadata": {
        "colab": {
          "base_uri": "https://localhost:8080/"
        },
        "id": "PJvqs4Jb1m6e",
        "outputId": "8d7ecf5a-57f4-4974-9167-8a73500fc415"
      },
      "execution_count": null,
      "outputs": [
        {
          "output_type": "stream",
          "name": "stdout",
          "text": [
            "Num1: 10\n",
            "Num2: 0\n",
            "An error exists.\n"
          ]
        }
      ]
    },
    {
      "cell_type": "code",
      "source": [
        "# num1 only take int.\n",
        "# if we give a string there.\n",
        "num1 = int(input(\"Num1: \"))\n",
        "num2 = int(input(\"Num2: \"))\n",
        "try:\n",
        "    num3 = num1/num2\n",
        "    print(num3)\n",
        "except:\n",
        "    print(\"An error exists.\")"
      ],
      "metadata": {
        "colab": {
          "base_uri": "https://localhost:8080/",
          "height": 228
        },
        "id": "_k4jl9qXV8JI",
        "outputId": "393d96b0-6790-4b94-8a4a-48b78748f2df"
      },
      "execution_count": null,
      "outputs": [
        {
          "name": "stdout",
          "output_type": "stream",
          "text": [
            "Num1: f\n"
          ]
        },
        {
          "output_type": "error",
          "ename": "ValueError",
          "evalue": "invalid literal for int() with base 10: 'f'",
          "traceback": [
            "\u001b[0;31m---------------------------------------------------------------------------\u001b[0m",
            "\u001b[0;31mValueError\u001b[0m                                Traceback (most recent call last)",
            "\u001b[0;32m<ipython-input-5-e04388fcc4df>\u001b[0m in \u001b[0;36m<cell line: 3>\u001b[0;34m()\u001b[0m\n\u001b[1;32m      1\u001b[0m \u001b[0;31m# num1 only take int.\u001b[0m\u001b[0;34m\u001b[0m\u001b[0;34m\u001b[0m\u001b[0m\n\u001b[1;32m      2\u001b[0m \u001b[0;31m# if we give a string there.\u001b[0m\u001b[0;34m\u001b[0m\u001b[0;34m\u001b[0m\u001b[0m\n\u001b[0;32m----> 3\u001b[0;31m \u001b[0mnum1\u001b[0m \u001b[0;34m=\u001b[0m \u001b[0mint\u001b[0m\u001b[0;34m(\u001b[0m\u001b[0minput\u001b[0m\u001b[0;34m(\u001b[0m\u001b[0;34m\"Num1: \"\u001b[0m\u001b[0;34m)\u001b[0m\u001b[0;34m)\u001b[0m\u001b[0;34m\u001b[0m\u001b[0;34m\u001b[0m\u001b[0m\n\u001b[0m\u001b[1;32m      4\u001b[0m \u001b[0mnum2\u001b[0m \u001b[0;34m=\u001b[0m \u001b[0mint\u001b[0m\u001b[0;34m(\u001b[0m\u001b[0minput\u001b[0m\u001b[0;34m(\u001b[0m\u001b[0;34m\"Num2: \"\u001b[0m\u001b[0;34m)\u001b[0m\u001b[0;34m)\u001b[0m\u001b[0;34m\u001b[0m\u001b[0;34m\u001b[0m\u001b[0m\n\u001b[1;32m      5\u001b[0m \u001b[0;32mtry\u001b[0m\u001b[0;34m:\u001b[0m\u001b[0;34m\u001b[0m\u001b[0;34m\u001b[0m\u001b[0m\n",
            "\u001b[0;31mValueError\u001b[0m: invalid literal for int() with base 10: 'f'"
          ]
        }
      ]
    },
    {
      "cell_type": "code",
      "source": [
        "# to solve that.\n",
        "try:\n",
        "    num1 = int(input(\"Num1: \"))\n",
        "    num2 = int(input(\"Num2: \"))\n",
        "    num3 = num1/num2\n",
        "    print(num3)\n",
        "except:\n",
        "    print(\"An error exists.\")"
      ],
      "metadata": {
        "colab": {
          "base_uri": "https://localhost:8080/"
        },
        "id": "s9GqaEH7WTtm",
        "outputId": "b6c9153e-46c2-4d63-c001-5ec1e8740719"
      },
      "execution_count": null,
      "outputs": [
        {
          "output_type": "stream",
          "name": "stdout",
          "text": [
            "Num1: f\n",
            "An error exists.\n"
          ]
        }
      ]
    },
    {
      "cell_type": "code",
      "source": [
        "# therefore if some error is occured at any moment inside the (try:) it will stop the executution there, and jump to the (except:) part."
      ],
      "metadata": {
        "id": "Lp_487AdWeO7"
      },
      "execution_count": null,
      "outputs": []
    },
    {
      "cell_type": "code",
      "source": [
        "# to automatically print the type of error\n",
        "try:\n",
        "    num1 = int(input(\"Num1: \"))\n",
        "    num2 = int(input(\"Num2: \"))\n",
        "    num3 = num1/num2\n",
        "    print(num3)\n",
        "except Exception as s: # note the Exception\n",
        "    print(s)"
      ],
      "metadata": {
        "colab": {
          "base_uri": "https://localhost:8080/"
        },
        "id": "PiAf-nmIWyqC",
        "outputId": "f55cf712-7f2c-46ed-9c89-fe462701a929"
      },
      "execution_count": null,
      "outputs": [
        {
          "output_type": "stream",
          "name": "stdout",
          "text": [
            "Num1: 10\n",
            "Num2: 0\n",
            "division by zero\n"
          ]
        }
      ]
    },
    {
      "cell_type": "code",
      "source": [
        "# same above program\n",
        "try:\n",
        "    num1 = int(input(\"Num1: \"))\n",
        "    num2 = int(input(\"Num2: \"))\n",
        "    num3 = num1/num2\n",
        "    print(num3)\n",
        "except Exception as s: # note the Exception\n",
        "    print(s)"
      ],
      "metadata": {
        "colab": {
          "base_uri": "https://localhost:8080/"
        },
        "id": "KlH4TGmqXBXf",
        "outputId": "9272d2e0-d546-4215-91ee-9c0795ba24b9"
      },
      "execution_count": null,
      "outputs": [
        {
          "output_type": "stream",
          "name": "stdout",
          "text": [
            "Num1: f\n",
            "invalid literal for int() with base 10: 'f'\n"
          ]
        }
      ]
    },
    {
      "cell_type": "code",
      "source": [
        "# to check for a perticular type of error.\n",
        "# give the keyword for the error instered of Exception\n",
        "try:\n",
        "    num1 = int(input(\"Num1: \"))\n",
        "    num2 = int(input(\"Num2: \"))\n",
        "    num3 = num1/num2\n",
        "    print(num3)\n",
        "except ZeroDivisionError as z:\n",
        "    print(z)"
      ],
      "metadata": {
        "colab": {
          "base_uri": "https://localhost:8080/"
        },
        "id": "4pYQLSpgXI9p",
        "outputId": "2b51eadc-cc7e-4eaa-93a6-e1eb71fd577a"
      },
      "execution_count": null,
      "outputs": [
        {
          "output_type": "stream",
          "name": "stdout",
          "text": [
            "Num1: 10\n",
            "Num2: 0\n",
            "division by zero\n"
          ]
        }
      ]
    },
    {
      "cell_type": "code",
      "source": [
        "# it cannot dectet any other error other than (division by zero) error\n",
        "try:\n",
        "    num1 = int(input(\"Num1: \"))\n",
        "    num2 = int(input(\"Num2: \"))\n",
        "    num3 = num1/num2\n",
        "    print(num3)\n",
        "except ZeroDivisionError as z:\n",
        "    print(z)"
      ],
      "metadata": {
        "colab": {
          "base_uri": "https://localhost:8080/",
          "height": 228
        },
        "id": "I705sAVvXtQj",
        "outputId": "29fd31fd-2e1a-4c7f-9291-cb7698ba061d"
      },
      "execution_count": null,
      "outputs": [
        {
          "name": "stdout",
          "output_type": "stream",
          "text": [
            "Num1: f\n"
          ]
        },
        {
          "output_type": "error",
          "ename": "ValueError",
          "evalue": "invalid literal for int() with base 10: 'f'",
          "traceback": [
            "\u001b[0;31m---------------------------------------------------------------------------\u001b[0m",
            "\u001b[0;31mValueError\u001b[0m                                Traceback (most recent call last)",
            "\u001b[0;32m<ipython-input-15-7d9e4b8bd438>\u001b[0m in \u001b[0;36m<cell line: 2>\u001b[0;34m()\u001b[0m\n\u001b[1;32m      1\u001b[0m \u001b[0;31m# it cannot dectet any other error other than (division by zero) error\u001b[0m\u001b[0;34m\u001b[0m\u001b[0;34m\u001b[0m\u001b[0m\n\u001b[1;32m      2\u001b[0m \u001b[0;32mtry\u001b[0m\u001b[0;34m:\u001b[0m\u001b[0;34m\u001b[0m\u001b[0;34m\u001b[0m\u001b[0m\n\u001b[0;32m----> 3\u001b[0;31m     \u001b[0mnum1\u001b[0m \u001b[0;34m=\u001b[0m \u001b[0mint\u001b[0m\u001b[0;34m(\u001b[0m\u001b[0minput\u001b[0m\u001b[0;34m(\u001b[0m\u001b[0;34m\"Num1: \"\u001b[0m\u001b[0;34m)\u001b[0m\u001b[0;34m)\u001b[0m\u001b[0;34m\u001b[0m\u001b[0;34m\u001b[0m\u001b[0m\n\u001b[0m\u001b[1;32m      4\u001b[0m     \u001b[0mnum2\u001b[0m \u001b[0;34m=\u001b[0m \u001b[0mint\u001b[0m\u001b[0;34m(\u001b[0m\u001b[0minput\u001b[0m\u001b[0;34m(\u001b[0m\u001b[0;34m\"Num2: \"\u001b[0m\u001b[0;34m)\u001b[0m\u001b[0;34m)\u001b[0m\u001b[0;34m\u001b[0m\u001b[0;34m\u001b[0m\u001b[0m\n\u001b[1;32m      5\u001b[0m     \u001b[0mnum3\u001b[0m \u001b[0;34m=\u001b[0m \u001b[0mnum1\u001b[0m\u001b[0;34m/\u001b[0m\u001b[0mnum2\u001b[0m\u001b[0;34m\u001b[0m\u001b[0;34m\u001b[0m\u001b[0m\n",
            "\u001b[0;31mValueError\u001b[0m: invalid literal for int() with base 10: 'f'"
          ]
        }
      ]
    },
    {
      "cell_type": "code",
      "source": [
        "# checking multiple, specific errors\n",
        "# this code can dectect both (ValueError) and (ZeroDivisionError)\n",
        "# but no other errors\n",
        "try:\n",
        "    num1 = int(input(\"Num1: \"))\n",
        "    num2 = int(input(\"Num2: \"))\n",
        "    num3 = num1/num2\n",
        "    print(num3)\n",
        "except ZeroDivisionError as z:\n",
        "    print(z)\n",
        "except ValueError as v:\n",
        "    print(v)"
      ],
      "metadata": {
        "colab": {
          "base_uri": "https://localhost:8080/"
        },
        "id": "Lmbb2dZyYEjo",
        "outputId": "4db87783-2ae4-47e5-95d5-c84dad41e460"
      },
      "execution_count": null,
      "outputs": [
        {
          "output_type": "stream",
          "name": "stdout",
          "text": [
            "Num1: f\n",
            "invalid literal for int() with base 10: 'f'\n"
          ]
        }
      ]
    },
    {
      "cell_type": "code",
      "source": [
        "# same above code\n",
        "try:\n",
        "    num1 = int(input(\"Num1: \"))\n",
        "    num2 = int(input(\"Num2: \"))\n",
        "    num3 = num1/num2\n",
        "    print(num3)\n",
        "except ZeroDivisionError as z:\n",
        "    print(z)\n",
        "except ValueError as v:\n",
        "    print(v)"
      ],
      "metadata": {
        "colab": {
          "base_uri": "https://localhost:8080/"
        },
        "id": "h9kyv2qBYNfP",
        "outputId": "6362a205-e139-4aed-fa94-ac158cd5138c"
      },
      "execution_count": null,
      "outputs": [
        {
          "output_type": "stream",
          "name": "stdout",
          "text": [
            "Num1: 1000\n",
            "Num2: 0\n",
            "division by zero\n"
          ]
        }
      ]
    },
    {
      "cell_type": "code",
      "source": [
        "# this code, when any error is happended inside the (try:), it will check if it is (ZeroDivisionError). if it is, then it will print \"division by zero\". if not, it will check if the error is (ValieError). if it is, then it will print \"invalid literal ......\".if not, then it will go to the (except:) and execute it.\n",
        "\n",
        "# here the actual error is (unsupported operand type(s) for /: 'str' and 'int'). but the code just execute the (except:)\n",
        "\n",
        "try:\n",
        "    num1 = (input(\"Num1: \"))\n",
        "    num2 = int(input(\"Num2: \"))\n",
        "    num3 = num1/num2\n",
        "    print(num3)\n",
        "except ZeroDivisionError as z:\n",
        "    print(z)\n",
        "except ValueError as v:\n",
        "    print(v)\n",
        "except:\n",
        "    print(\"Unknown error dectected.....................\")"
      ],
      "metadata": {
        "colab": {
          "base_uri": "https://localhost:8080/"
        },
        "id": "W3OOnAYGYw53",
        "outputId": "73e85c2e-d4be-4c95-a30f-37126b634089"
      },
      "execution_count": null,
      "outputs": [
        {
          "output_type": "stream",
          "name": "stdout",
          "text": [
            "Num1: f\n",
            "Num2: 10\n",
            "Unknown error dectected.....................\n"
          ]
        }
      ]
    }
  ]
}