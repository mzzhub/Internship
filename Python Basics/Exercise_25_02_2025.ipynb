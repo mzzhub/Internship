{
  "nbformat": 4,
  "nbformat_minor": 0,
  "metadata": {
    "colab": {
      "provenance": []
    },
    "kernelspec": {
      "name": "python3",
      "display_name": "Python 3"
    },
    "language_info": {
      "name": "python"
    }
  },
  "cells": [
    {
      "cell_type": "markdown",
      "source": [
        "# 1. How do you reverse a string in python?"
      ],
      "metadata": {
        "id": "dzyDToPvodoy"
      }
    },
    {
      "cell_type": "code",
      "execution_count": 1,
      "metadata": {
        "id": "IKpZrzqsoUef"
      },
      "outputs": [],
      "source": [
        "temp01 = \"This is a normal string.\""
      ]
    },
    {
      "cell_type": "code",
      "source": [
        "print(temp01[::-1])"
      ],
      "metadata": {
        "colab": {
          "base_uri": "https://localhost:8080/"
        },
        "id": "GNCRylgTooJK",
        "outputId": "917b633c-5b34-41b3-c858-3a7ffc697cec"
      },
      "execution_count": 2,
      "outputs": [
        {
          "output_type": "stream",
          "name": "stdout",
          "text": [
            ".gnirts lamron a si sihT\n"
          ]
        }
      ]
    },
    {
      "cell_type": "markdown",
      "source": [
        "# 2. How do you remove duplicates from a list?"
      ],
      "metadata": {
        "id": "RXDw3XXwowaw"
      }
    },
    {
      "cell_type": "code",
      "source": [
        "list01 = [34,55,34, \"hai\", 100, 65, \"jack\", \"hai\", 99]"
      ],
      "metadata": {
        "id": "e3ZrYfFnosWp"
      },
      "execution_count": 3,
      "outputs": []
    },
    {
      "cell_type": "code",
      "source": [
        "print(list(set(list01)))"
      ],
      "metadata": {
        "colab": {
          "base_uri": "https://localhost:8080/"
        },
        "id": "BHdDVUs3o_2q",
        "outputId": "95de6dd7-7a06-4bbd-b707-ef352d4f4e9b"
      },
      "execution_count": 4,
      "outputs": [
        {
          "output_type": "stream",
          "name": "stdout",
          "text": [
            "[65, 34, 99, 100, 'jack', 55, 'hai']\n"
          ]
        }
      ]
    },
    {
      "cell_type": "markdown",
      "source": [
        "# 4. How do you write a file in python?"
      ],
      "metadata": {
        "id": "9cjmAiRpsDSQ"
      }
    },
    {
      "cell_type": "code",
      "source": [
        "with open(\"sample_file.txt\", \"w\") as document:\n",
        "    document.write(\"This is a sample file.\\nThis is the second line.\")"
      ],
      "metadata": {
        "id": "uuGOhfsvsFKf"
      },
      "execution_count": 58,
      "outputs": []
    },
    {
      "cell_type": "markdown",
      "source": [
        "# 3. How do you read a file in python?"
      ],
      "metadata": {
        "id": "Mq_iSWQfpHMJ"
      }
    },
    {
      "cell_type": "code",
      "source": [
        "with open(\"sample_file.txt\", \"r\") as document:\n",
        "    data = document.read()\n",
        "    print(data)"
      ],
      "metadata": {
        "colab": {
          "base_uri": "https://localhost:8080/"
        },
        "id": "3Xs79gqapD8j",
        "outputId": "d8b5a41a-5387-4f24-82f3-e6a89467342e"
      },
      "execution_count": 59,
      "outputs": [
        {
          "output_type": "stream",
          "name": "stdout",
          "text": [
            "This is a sample file.\n",
            "This is the second line.\n"
          ]
        }
      ]
    },
    {
      "cell_type": "markdown",
      "source": [
        "# 5. How do you create a virtual env?\n",
        "`python -m venv my_env`"
      ],
      "metadata": {
        "id": "k9Z2HFQksbBm"
      }
    },
    {
      "cell_type": "markdown",
      "source": [
        "# 6. What is zip() used for?"
      ],
      "metadata": {
        "id": "oBn8fnVgtlvi"
      }
    },
    {
      "cell_type": "code",
      "source": [
        "names = [\"Jack\", \"Peter\", \"Tom\", \"Hope\"]\n",
        "marks = [40, 50, 45, 49]"
      ],
      "metadata": {
        "id": "sj4M_qLztmrM"
      },
      "execution_count": 23,
      "outputs": []
    },
    {
      "cell_type": "code",
      "source": [
        "mark_sheet = zip(names, marks)"
      ],
      "metadata": {
        "id": "hW5y-XjwuLwY"
      },
      "execution_count": 24,
      "outputs": []
    },
    {
      "cell_type": "code",
      "source": [
        "print(list(mark_sheet))"
      ],
      "metadata": {
        "colab": {
          "base_uri": "https://localhost:8080/"
        },
        "id": "N7H1OtLmuMEj",
        "outputId": "46b3edf4-feb9-467b-a90d-7a42b065bb35"
      },
      "execution_count": 28,
      "outputs": [
        {
          "output_type": "stream",
          "name": "stdout",
          "text": [
            "[('Jack', 40), ('Peter', 50), ('Tom', 45), ('Hope', 49)]\n"
          ]
        }
      ]
    },
    {
      "cell_type": "markdown",
      "source": [
        "# 7. Write a python program to find factorial of a number?"
      ],
      "metadata": {
        "id": "vJ-vrnOCueLf"
      }
    },
    {
      "cell_type": "code",
      "source": [
        "n = int(input(\"Enter any whole number : \"))\n",
        "\n",
        "factorial = 1\n",
        "for i in range(1, n+1):\n",
        "    factorial *= i\n",
        "\n",
        "print(str(n) + \"! =\", factorial)"
      ],
      "metadata": {
        "colab": {
          "base_uri": "https://localhost:8080/"
        },
        "id": "azXpxPBiuNwa",
        "outputId": "acea5ac1-3d36-424a-a9c5-a1de763f3c96"
      },
      "execution_count": 40,
      "outputs": [
        {
          "output_type": "stream",
          "name": "stdout",
          "text": [
            "Enter any whole number : 5\n",
            "5! = 120\n"
          ]
        }
      ]
    },
    {
      "cell_type": "markdown",
      "source": [
        "# 8. Write a python program to check a number is odd or even?"
      ],
      "metadata": {
        "id": "kFuI2SIovwTV"
      }
    },
    {
      "cell_type": "code",
      "source": [
        "n = int(input(\"Enter a number : \"))\n",
        "print(n, \"is odd\") if n & 1 else print(n, \"is even\")"
      ],
      "metadata": {
        "colab": {
          "base_uri": "https://localhost:8080/"
        },
        "id": "BZKBLWXevE3-",
        "outputId": "f6f77ada-e124-4139-cead-d759894f8d09"
      },
      "execution_count": 46,
      "outputs": [
        {
          "output_type": "stream",
          "name": "stdout",
          "text": [
            "Enter a number : 99\n",
            "99 is odd\n"
          ]
        }
      ]
    },
    {
      "cell_type": "markdown",
      "source": [
        "# 9. Convert a list to string"
      ],
      "metadata": {
        "id": "_m9yod7gwi13"
      }
    },
    {
      "cell_type": "code",
      "source": [
        "list02 = [\"This\", \"is\", \"a\", \"python\", \"code\"]"
      ],
      "metadata": {
        "id": "1EQiawByv-q6"
      },
      "execution_count": 47,
      "outputs": []
    },
    {
      "cell_type": "code",
      "source": [
        "print(\" \".join(list02))"
      ],
      "metadata": {
        "colab": {
          "base_uri": "https://localhost:8080/"
        },
        "id": "-55yl1wlwvul",
        "outputId": "a28c569c-21d8-4d2a-b7be-42c320816e3f"
      },
      "execution_count": 48,
      "outputs": [
        {
          "output_type": "stream",
          "name": "stdout",
          "text": [
            "This is a python code\n"
          ]
        }
      ]
    },
    {
      "cell_type": "markdown",
      "source": [
        "# 10. Print a pyramid star pattern"
      ],
      "metadata": {
        "id": "_b6L5Kz5w2h6"
      }
    },
    {
      "cell_type": "code",
      "source": [
        "n = int(input(\"Enter number of lines for the pyramid : \"))\n",
        "for i in range(1, n + 1):\n",
        "    print(\"*\" * i)"
      ],
      "metadata": {
        "colab": {
          "base_uri": "https://localhost:8080/"
        },
        "id": "8pozcEfvwyq0",
        "outputId": "2bb4058b-4c5f-40ef-d970-0e8cd5593075"
      },
      "execution_count": 57,
      "outputs": [
        {
          "output_type": "stream",
          "name": "stdout",
          "text": [
            "Enter number of lines for the pyramid : 6\n",
            "*\n",
            "**\n",
            "***\n",
            "****\n",
            "*****\n",
            "******\n"
          ]
        }
      ]
    }
  ]
}