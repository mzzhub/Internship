{
  "nbformat": 4,
  "nbformat_minor": 0,
  "metadata": {
    "colab": {
      "provenance": []
    },
    "kernelspec": {
      "name": "python3",
      "display_name": "Python 3"
    },
    "language_info": {
      "name": "python"
    }
  },
  "cells": [
    {
      "cell_type": "markdown",
      "source": [
        "# 1. Write a python program to check whether a year is leap year or not."
      ],
      "metadata": {
        "id": "fWv_bU9Rnq60"
      }
    },
    {
      "cell_type": "code",
      "execution_count": 10,
      "metadata": {
        "colab": {
          "base_uri": "https://localhost:8080/"
        },
        "id": "FrSVxInNnhu4",
        "outputId": "9614fc9a-3b49-4e56-f385-9e36e89e25fa"
      },
      "outputs": [
        {
          "output_type": "stream",
          "name": "stdout",
          "text": [
            "Enter year : 2100\n",
            "2100 is not a leap year.\n"
          ]
        }
      ],
      "source": [
        "year = int(input(\"Enter year : \"))\n",
        "\n",
        "yes = \"{} is a leap year.\".format(year)\n",
        "no = \"{} is not a leap year.\".format(year)\n",
        "\n",
        "if year % 100 == 0:\n",
        "    if year % 400 == 0:\n",
        "        print(yes)\n",
        "    else:\n",
        "        print(no)\n",
        "elif year % 4 == 0:\n",
        "    print(yes)"
      ]
    },
    {
      "cell_type": "markdown",
      "source": [
        "# 2. Print list in reverse order using a loop."
      ],
      "metadata": {
        "id": "O4hlGC4-qVTo"
      }
    },
    {
      "cell_type": "code",
      "source": [
        "data_types = [\n",
        "    42,                             # Integer\n",
        "    3.14,                           # Float\n",
        "    \"Hello, World!\",                # String\n",
        "    True,                           # Boolean\n",
        "    [1, 2, 3],                      # List\n",
        "    (4, 5, 6),                      # Tuple\n",
        "    {\"name\": \"Alice\", \"age\": 30},   # Dictionary\n",
        "    {7, 8, 9}                       # Set\n",
        "]"
      ],
      "metadata": {
        "id": "GZ9ur9B8pU3N"
      },
      "execution_count": 11,
      "outputs": []
    },
    {
      "cell_type": "code",
      "source": [
        "for item in data_types[::-1]:\n",
        "    print(item)"
      ],
      "metadata": {
        "colab": {
          "base_uri": "https://localhost:8080/"
        },
        "id": "hesgM47FqptB",
        "outputId": "b8ad3f0f-fdc9-4cc4-cae3-5a5aa6dad2fe"
      },
      "execution_count": 12,
      "outputs": [
        {
          "output_type": "stream",
          "name": "stdout",
          "text": [
            "{8, 9, 7}\n",
            "{'name': 'Alice', 'age': 30}\n",
            "(4, 5, 6)\n",
            "[1, 2, 3]\n",
            "True\n",
            "Hello, World!\n",
            "3.14\n",
            "42\n"
          ]
        }
      ]
    },
    {
      "cell_type": "markdown",
      "source": [
        "# 3. Get a string from a given string where all occurrences of its first character have been changed to \"\\$\", except the first char itself.\n",
        "eg: input = \"restart\"\n",
        "\n",
        "output = \"resta$t\""
      ],
      "metadata": {
        "id": "v2CcFTrLrfGo"
      }
    },
    {
      "cell_type": "code",
      "source": [
        "str01 = input(\"Enter a string: \")\n",
        "head = str01[0]\n",
        "output = head\n",
        "for i in str01[1:]:\n",
        "    if i == head:\n",
        "        i = \"$\"\n",
        "    output += i\n",
        "print(output)"
      ],
      "metadata": {
        "colab": {
          "base_uri": "https://localhost:8080/"
        },
        "id": "OFqvsl0frQqU",
        "outputId": "75e02607-85cc-4d0c-91be-51e8819cfa3e"
      },
      "execution_count": 16,
      "outputs": [
        {
          "output_type": "stream",
          "name": "stdout",
          "text": [
            "Enter a string: mammal\n",
            "ma$$al\n"
          ]
        }
      ]
    },
    {
      "cell_type": "markdown",
      "source": [
        "# 4. Find the numbers which are divisible by 7 and multiples of 5, between 100 and 500 (both included)."
      ],
      "metadata": {
        "id": "xvqSJi5UuOCp"
      }
    },
    {
      "cell_type": "code",
      "source": [
        "for i in range(100,501):\n",
        "    if (i % 7 == 0) and (i % 5 == 0):\n",
        "        print(i)"
      ],
      "metadata": {
        "colab": {
          "base_uri": "https://localhost:8080/"
        },
        "id": "n_YVYvnktacq",
        "outputId": "1b2ba121-dea7-4dd5-d672-4363af40fb1b"
      },
      "execution_count": 17,
      "outputs": [
        {
          "output_type": "stream",
          "name": "stdout",
          "text": [
            "105\n",
            "140\n",
            "175\n",
            "210\n",
            "245\n",
            "280\n",
            "315\n",
            "350\n",
            "385\n",
            "420\n",
            "455\n",
            "490\n"
          ]
        }
      ]
    }
  ]
}