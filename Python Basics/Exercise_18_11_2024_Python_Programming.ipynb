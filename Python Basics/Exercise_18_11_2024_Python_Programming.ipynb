{
  "nbformat": 4,
  "nbformat_minor": 0,
  "metadata": {
    "colab": {
      "provenance": []
    },
    "kernelspec": {
      "name": "python3",
      "display_name": "Python 3"
    },
    "language_info": {
      "name": "python"
    }
  },
  "cells": [
    {
      "cell_type": "markdown",
      "source": [
        "# 1. Write a Python function to check if a given string is a palindrome. A palindrome is a word, phrase, or sequence that reads the same backward as forward, ignoring spaces, punctuation, and case."
      ],
      "metadata": {
        "id": "nz8zmSLIkHxP"
      }
    },
    {
      "cell_type": "code",
      "execution_count": 42,
      "metadata": {
        "id": "Y_PNglEDj8KM"
      },
      "outputs": [],
      "source": [
        "def palindrome(string):\n",
        "    input = string\n",
        "    string = string.strip().lower()\n",
        "    temp = \"\"\n",
        "    exclude = ' !,'\n",
        "    for i in string:\n",
        "        if i.isalnum():\n",
        "            temp += i\n",
        "    if temp == temp[::-1]:\n",
        "        print('\"' + input+ '\"', \"is a palindrome\")\n",
        "    else:\n",
        "        print('\"' + input+ '\"', \"is not a palindrome\")"
      ]
    },
    {
      "cell_type": "code",
      "source": [
        "palindrome(\"Racecar\")"
      ],
      "metadata": {
        "colab": {
          "base_uri": "https://localhost:8080/"
        },
        "id": "at0hbCdblg1v",
        "outputId": "0c3b6214-2c4d-409f-ce79-a383687fa1ad"
      },
      "execution_count": 43,
      "outputs": [
        {
          "output_type": "stream",
          "name": "stdout",
          "text": [
            "\"Racecar\" is a palindrome\n"
          ]
        }
      ]
    },
    {
      "cell_type": "code",
      "source": [
        "palindrome(\"A man, a plan, a canal, Panama\")"
      ],
      "metadata": {
        "colab": {
          "base_uri": "https://localhost:8080/"
        },
        "id": "ge6r8ptFliqi",
        "outputId": "7c478d31-7583-4423-d5ae-8e05b7cf6a50"
      },
      "execution_count": 44,
      "outputs": [
        {
          "output_type": "stream",
          "name": "stdout",
          "text": [
            "\"A man, a plan, a canal, Panama\" is a palindrome\n"
          ]
        }
      ]
    },
    {
      "cell_type": "code",
      "source": [
        "palindrome(\"Madam, in Eden, I’m Adam\")"
      ],
      "metadata": {
        "colab": {
          "base_uri": "https://localhost:8080/"
        },
        "id": "e74V1H1cmAV8",
        "outputId": "bc890033-5596-48b4-9aa7-96783c36b5e8"
      },
      "execution_count": 45,
      "outputs": [
        {
          "output_type": "stream",
          "name": "stdout",
          "text": [
            "\"Madam, in Eden, I’m Adam\" is a palindrome\n"
          ]
        }
      ]
    },
    {
      "cell_type": "code",
      "source": [
        "palindrome(\"Python Programming\")"
      ],
      "metadata": {
        "colab": {
          "base_uri": "https://localhost:8080/"
        },
        "id": "7qYe5WXNm41i",
        "outputId": "bea56897-5ada-4bfc-a584-9519a30fc3ed"
      },
      "execution_count": 46,
      "outputs": [
        {
          "output_type": "stream",
          "name": "stdout",
          "text": [
            "\"Python Programming\" is not a palindrome\n"
          ]
        }
      ]
    },
    {
      "cell_type": "code",
      "source": [
        "palindrome(\"Was it a car or a cat I saw?\")"
      ],
      "metadata": {
        "colab": {
          "base_uri": "https://localhost:8080/"
        },
        "id": "-A29kzjkmtUL",
        "outputId": "fc8b6acd-29ed-4dbe-ad6a-a93c7493b6ec"
      },
      "execution_count": 47,
      "outputs": [
        {
          "output_type": "stream",
          "name": "stdout",
          "text": [
            "\"Was it a car or a cat I saw?\" is a palindrome\n"
          ]
        }
      ]
    },
    {
      "cell_type": "code",
      "source": [
        "palindrome(\"45654\")"
      ],
      "metadata": {
        "colab": {
          "base_uri": "https://localhost:8080/"
        },
        "id": "ffJtN4VXmytZ",
        "outputId": "788aa661-7c9b-468a-cddb-3f044203def5"
      },
      "execution_count": 48,
      "outputs": [
        {
          "output_type": "stream",
          "name": "stdout",
          "text": [
            "\"45654\" is a palindrome\n"
          ]
        }
      ]
    },
    {
      "cell_type": "markdown",
      "source": [
        "# 2. Write a Python function to count the occurrences of a given character in a string."
      ],
      "metadata": {
        "id": "9gjtWSq6nHKs"
      }
    },
    {
      "cell_type": "code",
      "source": [
        "# Irrespective of cases.\n",
        "\n",
        "def count_occurences(string, character):\n",
        "    string = string.strip().lower()\n",
        "    character = character.strip().lower()\n",
        "    count = 0\n",
        "    for i in string:\n",
        "        if i == character:\n",
        "            count += 1\n",
        "    print(\"'\" + character + \"'\", \"is occured\", count, \"time(s)\")"
      ],
      "metadata": {
        "id": "B2wv2NWQm2y0"
      },
      "execution_count": 49,
      "outputs": []
    },
    {
      "cell_type": "code",
      "source": [
        "count_occurences(\"Python programming is quite simple\", \"p\")"
      ],
      "metadata": {
        "colab": {
          "base_uri": "https://localhost:8080/"
        },
        "id": "Jr-3BcwI8jRz",
        "outputId": "9fd5fc4e-ad2e-426d-b183-670eb37a6b23"
      },
      "execution_count": 50,
      "outputs": [
        {
          "output_type": "stream",
          "name": "stdout",
          "text": [
            "'p' is occured 3 time(s)\n"
          ]
        }
      ]
    },
    {
      "cell_type": "markdown",
      "source": [
        "# 3. Write a Python function to find the factorial of a given number using recursion."
      ],
      "metadata": {
        "id": "XnKgOEVY92Pl"
      }
    },
    {
      "cell_type": "code",
      "source": [
        "def factorial(n):\n",
        "    if n < 0:\n",
        "        print(\"No factorial for negative numbers.\")\n",
        "        return\n",
        "    if n == 0:\n",
        "        print(\"0! = 1\")\n",
        "    else:\n",
        "        result = 1\n",
        "        for i in range(1, n+1)[::-1]:\n",
        "            result *= i\n",
        "        print(str(n)+\"! =\", result)\n"
      ],
      "metadata": {
        "id": "_LqT9DAO8oeE"
      },
      "execution_count": 57,
      "outputs": []
    },
    {
      "cell_type": "code",
      "source": [
        "factorial(5)"
      ],
      "metadata": {
        "colab": {
          "base_uri": "https://localhost:8080/"
        },
        "id": "VwGXegdv_AID",
        "outputId": "b8f9d22b-e34b-4135-d4d3-9f82ec77b4f3"
      },
      "execution_count": 58,
      "outputs": [
        {
          "output_type": "stream",
          "name": "stdout",
          "text": [
            "5! = 120\n"
          ]
        }
      ]
    },
    {
      "cell_type": "code",
      "source": [
        "factorial(0)"
      ],
      "metadata": {
        "colab": {
          "base_uri": "https://localhost:8080/"
        },
        "id": "aW68sty0_CVl",
        "outputId": "aa346e5a-e684-443d-d87a-31138780fd3f"
      },
      "execution_count": 59,
      "outputs": [
        {
          "output_type": "stream",
          "name": "stdout",
          "text": [
            "0! = 1\n"
          ]
        }
      ]
    },
    {
      "cell_type": "code",
      "source": [
        "factorial(-4)"
      ],
      "metadata": {
        "colab": {
          "base_uri": "https://localhost:8080/"
        },
        "id": "EKAtGUN3_h9P",
        "outputId": "3389e886-c2bc-411c-8b1f-76068eeb7d19"
      },
      "execution_count": 60,
      "outputs": [
        {
          "output_type": "stream",
          "name": "stdout",
          "text": [
            "No factorial for negative numbers.\n"
          ]
        }
      ]
    }
  ]
}