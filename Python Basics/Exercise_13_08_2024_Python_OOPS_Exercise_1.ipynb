{
  "nbformat": 4,
  "nbformat_minor": 0,
  "metadata": {
    "colab": {
      "provenance": []
    },
    "kernelspec": {
      "name": "python3",
      "display_name": "Python 3"
    },
    "language_info": {
      "name": "python"
    }
  },
  "cells": [
    {
      "cell_type": "markdown",
      "source": [
        "# 1. Create a class called Rectangle with attributes width and height. The class should prevent the width and height attributes from being set to negative values. Add methods to calculate the area and perimeter of the rectangle.\n"
      ],
      "metadata": {
        "id": "LRoaOQVlN4Bg"
      }
    },
    {
      "cell_type": "code",
      "execution_count": null,
      "metadata": {
        "id": "JFxPYkTdNjUq"
      },
      "outputs": [],
      "source": [
        "class Rectangle:\n",
        "    def __init__(self,w,h):\n",
        "        if ( w < 0 ) or ( h < 0 ):\n",
        "            print(\"Negative values are not allowed.\")\n",
        "            return\n",
        "        self.width = w\n",
        "        self.height = h\n",
        "    def area(self):\n",
        "        return self.width * self.height\n",
        "    def perimeter(self):\n",
        "        return ( 2 * self.width ) + ( 2 * self.height )"
      ]
    },
    {
      "cell_type": "code",
      "source": [
        "shape1 = Rectangle(3,5)"
      ],
      "metadata": {
        "id": "UL4Obj_8O-Wu"
      },
      "execution_count": null,
      "outputs": []
    },
    {
      "cell_type": "code",
      "source": [
        "shape1.area()"
      ],
      "metadata": {
        "colab": {
          "base_uri": "https://localhost:8080/"
        },
        "id": "jRDh10IwPDxR",
        "outputId": "7f23dbcf-5497-49d2-be49-5e398b09d886"
      },
      "execution_count": null,
      "outputs": [
        {
          "output_type": "execute_result",
          "data": {
            "text/plain": [
              "15"
            ]
          },
          "metadata": {},
          "execution_count": 85
        }
      ]
    },
    {
      "cell_type": "code",
      "source": [
        "shape1.perimeter()"
      ],
      "metadata": {
        "colab": {
          "base_uri": "https://localhost:8080/"
        },
        "id": "oA3cRUJ-PF-6",
        "outputId": "55c357b8-37d8-4117-b875-c230d5408781"
      },
      "execution_count": null,
      "outputs": [
        {
          "output_type": "execute_result",
          "data": {
            "text/plain": [
              "16"
            ]
          },
          "metadata": {},
          "execution_count": 86
        }
      ]
    },
    {
      "cell_type": "code",
      "source": [
        "shape2 = Rectangle(2,-4)"
      ],
      "metadata": {
        "colab": {
          "base_uri": "https://localhost:8080/"
        },
        "id": "sycWsKMhPIO-",
        "outputId": "58acb1ef-aee0-4ad2-e2ad-c0b236bd636e"
      },
      "execution_count": null,
      "outputs": [
        {
          "output_type": "stream",
          "name": "stdout",
          "text": [
            "Negative values are not allowed.\n"
          ]
        }
      ]
    },
    {
      "cell_type": "markdown",
      "source": [
        "# 2. Create a class called Employee with attributes name, age, position and salary. Add methods to give the employee a raise, and to print out their information in a formatted way."
      ],
      "metadata": {
        "id": "9zxSidEbPtFa"
      }
    },
    {
      "cell_type": "code",
      "source": [
        "class Employee:\n",
        "    def __init__(self,name,age,position,salary):\n",
        "        self.name = name\n",
        "        self.age = age\n",
        "        self.position = position\n",
        "        self.salary = salary\n",
        "    def empRaise(self,amount):\n",
        "        self.salary += amount\n",
        "    def showDetails(self):\n",
        "        print(\"Name\\t:\",self.name,\"\\nAge\\t:\",self.age,\"\\nPosition:\",self.position,\"\\nSalary\\t:\",self.salary)"
      ],
      "metadata": {
        "id": "FeXvuy3WPZAb"
      },
      "execution_count": null,
      "outputs": []
    },
    {
      "cell_type": "code",
      "source": [
        "man1 = Employee(\"jack\",33,\"teacher\",30000)\n",
        "man2 = Employee(\"John\",12,\"student\",4000)"
      ],
      "metadata": {
        "id": "ECb1zTWZR2OH"
      },
      "execution_count": null,
      "outputs": []
    },
    {
      "cell_type": "code",
      "source": [
        "man1.showDetails()"
      ],
      "metadata": {
        "id": "DXHaypxiUYaX",
        "colab": {
          "base_uri": "https://localhost:8080/"
        },
        "outputId": "1e55ec9f-67f7-43da-d49b-d06e9f2aa746"
      },
      "execution_count": null,
      "outputs": [
        {
          "output_type": "stream",
          "name": "stdout",
          "text": [
            "Name\t: jack \n",
            "Age\t: 33 \n",
            "Position: teacher \n",
            "Salary\t: 30000\n"
          ]
        }
      ]
    },
    {
      "cell_type": "code",
      "source": [
        "man2.showDetails()"
      ],
      "metadata": {
        "colab": {
          "base_uri": "https://localhost:8080/"
        },
        "id": "Yw3DoJI581IY",
        "outputId": "bcbbc507-0c1c-43a1-e1c2-b1f480c9f4ce"
      },
      "execution_count": null,
      "outputs": [
        {
          "output_type": "stream",
          "name": "stdout",
          "text": [
            "Name\t: John \n",
            "Age\t: 12 \n",
            "Position: student \n",
            "Salary\t: 4000\n"
          ]
        }
      ]
    },
    {
      "cell_type": "code",
      "source": [
        "man1.empRaise(500)\n",
        "man2.empRaise(999)"
      ],
      "metadata": {
        "id": "rKAyMtiAR8Oi"
      },
      "execution_count": null,
      "outputs": []
    },
    {
      "cell_type": "code",
      "source": [
        "man1.showDetails()"
      ],
      "metadata": {
        "colab": {
          "base_uri": "https://localhost:8080/"
        },
        "id": "5q0Q93QfrHjQ",
        "outputId": "3f367070-1c1f-4d6b-85f2-ea90facdeed6"
      },
      "execution_count": null,
      "outputs": [
        {
          "output_type": "stream",
          "name": "stdout",
          "text": [
            "Name\t: jack \n",
            "Age\t: 33 \n",
            "Position: teacher \n",
            "Salary\t: 30500\n"
          ]
        }
      ]
    },
    {
      "cell_type": "code",
      "source": [
        "man2.showDetails()"
      ],
      "metadata": {
        "colab": {
          "base_uri": "https://localhost:8080/"
        },
        "id": "FWTfIkO_rLqd",
        "outputId": "e9498110-51b9-408e-fec5-dad97bc445b2"
      },
      "execution_count": null,
      "outputs": [
        {
          "output_type": "stream",
          "name": "stdout",
          "text": [
            "Name\t: John \n",
            "Age\t: 12 \n",
            "Position: student \n",
            "Salary\t: 4999\n"
          ]
        }
      ]
    },
    {
      "cell_type": "markdown",
      "source": [
        "# 3. Create a class called Fraction with attributes numerator and denominator. Add methods to add, subtract, multiply and divide two fractions. Also, add a method to simplify the fraction to its lowest terms."
      ],
      "metadata": {
        "id": "Ox1ty4TIUsHY"
      }
    },
    {
      "cell_type": "code",
      "source": [
        "class Fraction:\n",
        "    def __init__(self,numerator,denominator):\n",
        "        if denominator == 0:\n",
        "            print(\"Denominator cannot be zero.\")\n",
        "            return\n",
        "        self.n = numerator\n",
        "        self.d = denominator\n",
        "    def __add__(self,other):\n",
        "        sumNumerator = ((self.n)*(other.d)) + ((other.n)*(self.d))\n",
        "        sumDenominator = self.d * other.d\n",
        "        print(\"{}/{} + {}/{} = {}/{}\".format(self.n,self.d,other.n,other.d,sumNumerator,sumDenominator))\n",
        "        return\n",
        "    def __sub__(self,other):\n",
        "        subNumerator = ((self.n)*(other.d)) - ((other.n)*(self.d))\n",
        "        subDenominator = self.d * other.d\n",
        "        print(\"{}/{} - {}/{} = {}/{}\".format(self.n,self.d,other.n,other.d,subNumerator,subDenominator))\n",
        "        return\n",
        "    def __mul__(self,other):\n",
        "        mulNumerator = (self.n) * (other.n)\n",
        "        mulDenominator = (self.d) * (other.d)\n",
        "        print(\"{}/{} X {}/{} = {}/{}\".format(self.n,self.d,other.n,other.d,mulNumerator,mulDenominator))\n",
        "        return\n",
        "    def __truediv__(self,other):\n",
        "        divNumerator = (self.n) * (other.d)\n",
        "        divDenominator = (self.d) * (other.n)\n",
        "        print(\"{}/{} ÷ {}/{} = {}/{}\".format(self.n,self.d,other.n,other.d,divNumerator,divDenominator))\n",
        "        return\n",
        "    def simplify(numerator,denominator):\n",
        "        n = numerator\n",
        "        d = denominator\n",
        "        def gcd(n,d):\n",
        "            while d != 0:\n",
        "                (n), (d) = (d), (n % d)\n",
        "            return n\n",
        "        simpleNumerator = numerator//gcd(numerator,denominator)\n",
        "        simpleDenominator = denominator//gcd(numerator,denominator)\n",
        "        print(\"simplified value of {}/{} is {}/{}\".format(numerator,denominator,simpleNumerator,simpleDenominator))"
      ],
      "metadata": {
        "id": "TKoh__jTUhqr"
      },
      "execution_count": null,
      "outputs": []
    },
    {
      "cell_type": "code",
      "source": [
        "value1 = Fraction(-3,1)"
      ],
      "metadata": {
        "id": "-6SBPhQjU02s"
      },
      "execution_count": null,
      "outputs": []
    },
    {
      "cell_type": "code",
      "source": [
        "value2 = Fraction(5,8)"
      ],
      "metadata": {
        "id": "zJOpsbZysVzE"
      },
      "execution_count": null,
      "outputs": []
    },
    {
      "cell_type": "code",
      "source": [
        "value1 + value2"
      ],
      "metadata": {
        "colab": {
          "base_uri": "https://localhost:8080/"
        },
        "id": "4OPq2Ym805sE",
        "outputId": "59cfe97e-3ae0-40ec-b401-b07f513fd10c"
      },
      "execution_count": null,
      "outputs": [
        {
          "output_type": "stream",
          "name": "stdout",
          "text": [
            "-3/1 + 5/8 = -19/8\n"
          ]
        }
      ]
    },
    {
      "cell_type": "code",
      "source": [
        "Fraction.simplify(55,80)"
      ],
      "metadata": {
        "colab": {
          "base_uri": "https://localhost:8080/"
        },
        "id": "FDR2ISvW6mhm",
        "outputId": "77691470-6838-4c34-9a69-85249d9a980a"
      },
      "execution_count": null,
      "outputs": [
        {
          "output_type": "stream",
          "name": "stdout",
          "text": [
            "simplified value of 55/80 is 11/16\n"
          ]
        }
      ]
    },
    {
      "cell_type": "markdown",
      "source": [
        "# 4. Create a class called Person with attributes name and age. Add a method to calculate the age difference between two people."
      ],
      "metadata": {
        "id": "M57OBa9p93Jy"
      }
    },
    {
      "cell_type": "code",
      "source": [
        "class Person:\n",
        "    def __init__(self,name,age):\n",
        "        self.name = name\n",
        "        self.age = age\n",
        "    def __sub__(self,other):\n",
        "        ageDifference = self.age - other.age\n",
        "        if ageDifference < 0:\n",
        "            ageDifference = ageDifference * -1\n",
        "        print(\"{} and {} has an age difference of {} years.\".format(self.name,other.name,ageDifference))"
      ],
      "metadata": {
        "id": "_JSJem2n9w1F"
      },
      "execution_count": null,
      "outputs": []
    },
    {
      "cell_type": "code",
      "source": [
        "man1 = Person(\"Ramu\",20)\n",
        "man2 = Person(\"Danu\",40)\n",
        "man3 = Person(\"Sreeju\",15)"
      ],
      "metadata": {
        "id": "ghEOSVoR_AfN"
      },
      "execution_count": null,
      "outputs": []
    },
    {
      "cell_type": "code",
      "source": [
        "man1-man2"
      ],
      "metadata": {
        "colab": {
          "base_uri": "https://localhost:8080/"
        },
        "id": "fdxacbXzA16x",
        "outputId": "5b93a73e-6837-4e58-a6fa-641785ec5710"
      },
      "execution_count": null,
      "outputs": [
        {
          "output_type": "stream",
          "name": "stdout",
          "text": [
            "Ramu and Danu has an age difference of 20 years.\n"
          ]
        }
      ]
    },
    {
      "cell_type": "code",
      "source": [
        "man2-man3"
      ],
      "metadata": {
        "colab": {
          "base_uri": "https://localhost:8080/"
        },
        "id": "1VahteFfA7vo",
        "outputId": "a0f6a168-1a03-41b6-d2c1-41e342cb4ddc"
      },
      "execution_count": null,
      "outputs": [
        {
          "output_type": "stream",
          "name": "stdout",
          "text": [
            "Danu and Sreeju has an age difference of 25 years.\n"
          ]
        }
      ]
    },
    {
      "cell_type": "code",
      "source": [
        "man3-man1"
      ],
      "metadata": {
        "colab": {
          "base_uri": "https://localhost:8080/"
        },
        "id": "xufArNrUBVnF",
        "outputId": "4e01aea6-e16f-469a-a2e1-8b3c7a90ce91"
      },
      "execution_count": null,
      "outputs": [
        {
          "output_type": "stream",
          "name": "stdout",
          "text": [
            "Sreeju and Ramu has an age difference of 5 years.\n"
          ]
        }
      ]
    },
    {
      "cell_type": "markdown",
      "source": [
        "# 5. Create a class called Playlist with a list of songs as an attribute. Add methods to add and remove songs from the playlist, and to shuffle the playlist."
      ],
      "metadata": {
        "id": "t244BJgeBkkK"
      }
    },
    {
      "cell_type": "code",
      "source": [
        "import random\n",
        "\n",
        "class Playlist:\n",
        "    def __init__(self,songs):\n",
        "        self.songs = songs\n",
        "        for i in self.songs:\n",
        "            print(i)\n",
        "    def add(self,song):\n",
        "        self.songs.append(song)\n",
        "        for i in self.songs:\n",
        "            print(i)\n",
        "    def remove(self,song):\n",
        "        self.songs.remove(song)\n",
        "        for i in self.songs:\n",
        "            print(i)\n",
        "    def shuffle(self):\n",
        "        random.shuffle(self.songs)\n",
        "        for i in self.songs:\n",
        "            print(i)"
      ],
      "metadata": {
        "id": "cCgdR5mgBdQE"
      },
      "execution_count": null,
      "outputs": []
    },
    {
      "cell_type": "code",
      "source": [
        "bit1 = Playlist([\"Bohemian Rhapsody\", \"Hotel California\", \"Stairway to Heaven\", \"Imagine\", \"Hey Jude\", \"Smells Like Teen Spirit\"])"
      ],
      "metadata": {
        "colab": {
          "base_uri": "https://localhost:8080/"
        },
        "id": "du0hajEeMKct",
        "outputId": "f87c855c-618b-41ec-c226-3b433c222fc0"
      },
      "execution_count": null,
      "outputs": [
        {
          "output_type": "stream",
          "name": "stdout",
          "text": [
            "Bohemian Rhapsody\n",
            "Hotel California\n",
            "Stairway to Heaven\n",
            "Imagine\n",
            "Hey Jude\n",
            "Smells Like Teen Spirit\n"
          ]
        }
      ]
    },
    {
      "cell_type": "code",
      "source": [
        "bit1.remove(\"Hey Jude\")"
      ],
      "metadata": {
        "colab": {
          "base_uri": "https://localhost:8080/"
        },
        "id": "9xYrzpH9MRzR",
        "outputId": "d259bd90-0174-4ce7-8718-9bfe5fd31163"
      },
      "execution_count": null,
      "outputs": [
        {
          "output_type": "stream",
          "name": "stdout",
          "text": [
            "Bohemian Rhapsody\n",
            "Hotel California\n",
            "Stairway to Heaven\n",
            "Imagine\n",
            "Smells Like Teen Spirit\n"
          ]
        }
      ]
    },
    {
      "cell_type": "code",
      "source": [
        "bit1.add(\"Economy\")"
      ],
      "metadata": {
        "colab": {
          "base_uri": "https://localhost:8080/"
        },
        "id": "hSJZaLrNMbde",
        "outputId": "d5b17648-ea69-48f0-853f-7d2e9b72e618"
      },
      "execution_count": null,
      "outputs": [
        {
          "output_type": "stream",
          "name": "stdout",
          "text": [
            "Bohemian Rhapsody\n",
            "Hotel California\n",
            "Stairway to Heaven\n",
            "Imagine\n",
            "Smells Like Teen Spirit\n",
            "Economy\n"
          ]
        }
      ]
    },
    {
      "cell_type": "code",
      "source": [
        "bit1.shuffle()"
      ],
      "metadata": {
        "colab": {
          "base_uri": "https://localhost:8080/"
        },
        "id": "qjdWf2k1MmYy",
        "outputId": "3a2cf7c0-9b32-44fc-882e-c89ba3d56acd"
      },
      "execution_count": null,
      "outputs": [
        {
          "output_type": "stream",
          "name": "stdout",
          "text": [
            "Hotel California\n",
            "Smells Like Teen Spirit\n",
            "Imagine\n",
            "Stairway to Heaven\n",
            "Economy\n",
            "Bohemian Rhapsody\n"
          ]
        }
      ]
    },
    {
      "cell_type": "markdown",
      "source": [
        "# 6. Create a class called BankAccount with attributes balance and account_number. Add methods to transfer money between accounts and to print out the transaction history of the account."
      ],
      "metadata": {
        "id": "0XtgRhkFNDA6"
      }
    },
    {
      "cell_type": "code",
      "source": [
        "class BankAccount:\n",
        "    def __init__(self,account_number,balance):\n",
        "        self.passbook = list()\n",
        "        self.a = account_number\n",
        "        self.b = balance\n",
        "        self.passbook.append([\"Account Opening\",\"Cash Deposit\",self.a,self.b,self.b])\n",
        "\n",
        "    def transfer(self,other,amount):\n",
        "        self.b = self.b - amount\n",
        "        other.b += amount\n",
        "        self.passbook.append([\"Debit\",self.a,other.a,amount,self.b])\n",
        "        other.passbook.append([\"Credit\",self.a,other.a,amount,other.b])\n",
        "\n",
        "    def history(self):\n",
        "        count = 0\n",
        "        print(\"Transcation history of acc no.\",self.a)\n",
        "        print(\"_\"*33,\"\\n\\n\")\n",
        "        for i in self.passbook:\n",
        "            count += 1\n",
        "            print(\"Transcation Type:\",i[0],\"\\nFrom acc\\t:\",i[1],\"\\nTo acc\\t\\t:\",i[2],\"\\nAmount\\t\\t:\",i[3],\"\\nBalance\\t\\t:\",i[4])\n",
        "            if count != len(self.passbook):\n",
        "                print(\"\\n\"+\"-\"*50,\"\\n\")"
      ],
      "metadata": {
        "id": "-ZL9cwgPkDu2"
      },
      "execution_count": null,
      "outputs": []
    },
    {
      "cell_type": "code",
      "source": [
        "man1 = BankAccount(11,10000)"
      ],
      "metadata": {
        "id": "KcvSkNvmnj1I"
      },
      "execution_count": null,
      "outputs": []
    },
    {
      "cell_type": "code",
      "source": [
        "man2 = BankAccount(22,15000)"
      ],
      "metadata": {
        "id": "Q5RfDPr5nlls"
      },
      "execution_count": null,
      "outputs": []
    },
    {
      "cell_type": "code",
      "source": [
        "man1.transfer(man2,3000)"
      ],
      "metadata": {
        "id": "pUoSUgxSoFwQ"
      },
      "execution_count": null,
      "outputs": []
    },
    {
      "cell_type": "code",
      "source": [
        "man1.history()"
      ],
      "metadata": {
        "colab": {
          "base_uri": "https://localhost:8080/"
        },
        "id": "qGUlQHU06NU3",
        "outputId": "39201391-054d-4904-a7a9-b6813da6f5a0"
      },
      "execution_count": null,
      "outputs": [
        {
          "output_type": "stream",
          "name": "stdout",
          "text": [
            "Transcation history of acc no. 11\n",
            "_________________________________ \n",
            "\n",
            "\n",
            "Transcation Type: Account Opening \n",
            "From acc\t: Cash Deposit \n",
            "To acc\t\t: 11 \n",
            "Amount\t\t: 10000 \n",
            "Balance\t\t: 10000\n",
            "\n",
            "-------------------------------------------------- \n",
            "\n",
            "Transcation Type: Debit \n",
            "From acc\t: 11 \n",
            "To acc\t\t: 22 \n",
            "Amount\t\t: 3000 \n",
            "Balance\t\t: 7000\n"
          ]
        }
      ]
    },
    {
      "cell_type": "code",
      "source": [
        "man2.history()"
      ],
      "metadata": {
        "colab": {
          "base_uri": "https://localhost:8080/"
        },
        "id": "WiuSGBwU6Vi6",
        "outputId": "6f3bcf2d-912f-4695-a417-136104a2037e"
      },
      "execution_count": null,
      "outputs": [
        {
          "output_type": "stream",
          "name": "stdout",
          "text": [
            "Transcation history of acc no. 22\n",
            "_________________________________ \n",
            "\n",
            "\n",
            "Transcation Type: Account Opening \n",
            "From acc\t: Cash Deposit \n",
            "To acc\t\t: 22 \n",
            "Amount\t\t: 15000 \n",
            "Balance\t\t: 15000\n",
            "\n",
            "-------------------------------------------------- \n",
            "\n",
            "Transcation Type: Credit \n",
            "From acc\t: 11 \n",
            "To acc\t\t: 22 \n",
            "Amount\t\t: 3000 \n",
            "Balance\t\t: 18000\n"
          ]
        }
      ]
    },
    {
      "cell_type": "code",
      "source": [
        "man2.transfer(man1,50)"
      ],
      "metadata": {
        "id": "qDS1kUvz6VFL"
      },
      "execution_count": null,
      "outputs": []
    },
    {
      "cell_type": "code",
      "source": [
        "man1.history()"
      ],
      "metadata": {
        "colab": {
          "base_uri": "https://localhost:8080/"
        },
        "id": "qsJs3s1F9QQs",
        "outputId": "e5256e08-e53b-489b-c9a2-a95c5666313d"
      },
      "execution_count": null,
      "outputs": [
        {
          "output_type": "stream",
          "name": "stdout",
          "text": [
            "Transcation history of acc no. 11\n",
            "_________________________________ \n",
            "\n",
            "\n",
            "Transcation Type: Account Opening \n",
            "From acc\t: Cash Deposit \n",
            "To acc\t\t: 11 \n",
            "Amount\t\t: 10000 \n",
            "Balance\t\t: 10000\n",
            "\n",
            "-------------------------------------------------- \n",
            "\n",
            "Transcation Type: Debit \n",
            "From acc\t: 11 \n",
            "To acc\t\t: 22 \n",
            "Amount\t\t: 3000 \n",
            "Balance\t\t: 7000\n",
            "\n",
            "-------------------------------------------------- \n",
            "\n",
            "Transcation Type: Credit \n",
            "From acc\t: 22 \n",
            "To acc\t\t: 11 \n",
            "Amount\t\t: 50 \n",
            "Balance\t\t: 7050\n"
          ]
        }
      ]
    },
    {
      "cell_type": "code",
      "source": [
        "man2.history()"
      ],
      "metadata": {
        "colab": {
          "base_uri": "https://localhost:8080/"
        },
        "id": "iybscSIN9W1x",
        "outputId": "a223e9a7-6360-4ad4-d6d0-bd5e6063f280"
      },
      "execution_count": null,
      "outputs": [
        {
          "output_type": "stream",
          "name": "stdout",
          "text": [
            "Transcation history of acc no. 22\n",
            "_________________________________ \n",
            "\n",
            "\n",
            "Transcation Type: Account Opening \n",
            "From acc\t: Cash Deposit \n",
            "To acc\t\t: 22 \n",
            "Amount\t\t: 15000 \n",
            "Balance\t\t: 15000\n",
            "\n",
            "-------------------------------------------------- \n",
            "\n",
            "Transcation Type: Credit \n",
            "From acc\t: 11 \n",
            "To acc\t\t: 22 \n",
            "Amount\t\t: 3000 \n",
            "Balance\t\t: 18000\n",
            "\n",
            "-------------------------------------------------- \n",
            "\n",
            "Transcation Type: Debit \n",
            "From acc\t: 22 \n",
            "To acc\t\t: 11 \n",
            "Amount\t\t: 50 \n",
            "Balance\t\t: 17950\n"
          ]
        }
      ]
    },
    {
      "cell_type": "markdown",
      "source": [
        "# 7. Create a class called Deck with a list of cards as an attribute. Add methods to shuffle the deck, draw a card from the deck, and add a card to the deck."
      ],
      "metadata": {
        "id": "1UBRPkjjEtlM"
      }
    },
    {
      "cell_type": "code",
      "source": [
        "import random\n",
        "\n",
        "class Deck:\n",
        "    def __init__(self,cards:list):\n",
        "        self.cards = cards\n",
        "        print(\"Available cards are,\\n\",self.cards)\n",
        "    def shuffle(self):\n",
        "        random.shuffle(self.cards)\n",
        "        print(\"Shuffled order,\\n\",self.cards)\n",
        "    def draw(self):\n",
        "        idx = random.randint(0,len(self.cards)-1)\n",
        "        print(\"Drawn card is\",self.cards[idx])\n",
        "    def add(self,new_card):\n",
        "        if not isinstance(new_card,tuple):\n",
        "            print(\"Input as a tuple.\")\n",
        "            return\n",
        "        self.new = new_card\n",
        "        self.cards.append(self.new)\n",
        "        print(self.cards)"
      ],
      "metadata": {
        "id": "a449b3ocoTlP"
      },
      "execution_count": null,
      "outputs": []
    },
    {
      "cell_type": "code",
      "source": [
        "mycards = Deck([('hearts', 2),\n",
        " ('spades', 7),\n",
        " ('diamonds', 5),\n",
        " ('clubs', 7),\n",
        " ('hearts', 8),\n",
        " ('hearts', 10),\n",
        " ('spades', 9)])"
      ],
      "metadata": {
        "colab": {
          "base_uri": "https://localhost:8080/"
        },
        "id": "yuOM1SmZHJkn",
        "outputId": "d15b704a-c786-4da1-bde0-1e02b1098126"
      },
      "execution_count": null,
      "outputs": [
        {
          "output_type": "stream",
          "name": "stdout",
          "text": [
            "Available cards are,\n",
            " [('hearts', 2), ('spades', 7), ('diamonds', 5), ('clubs', 7), ('hearts', 8), ('hearts', 10), ('spades', 9)]\n"
          ]
        }
      ]
    },
    {
      "cell_type": "code",
      "source": [
        "mycards.shuffle()"
      ],
      "metadata": {
        "colab": {
          "base_uri": "https://localhost:8080/"
        },
        "id": "sQjOyF0pHP65",
        "outputId": "8302bd5a-da6f-49fe-f2d9-db26d3bec2ae"
      },
      "execution_count": null,
      "outputs": [
        {
          "output_type": "stream",
          "name": "stdout",
          "text": [
            "Shuffled order,\n",
            " [('clubs', 7), ('hearts', 2), ('diamonds', 5), ('hearts', 8), ('hearts', 10), ('spades', 7), ('spades', 9)]\n"
          ]
        }
      ]
    },
    {
      "cell_type": "code",
      "source": [
        "mycards.draw()"
      ],
      "metadata": {
        "colab": {
          "base_uri": "https://localhost:8080/"
        },
        "id": "Qh8GS7KyNDh3",
        "outputId": "20cbb4cd-c81d-476e-d65c-45d902f3298f"
      },
      "execution_count": null,
      "outputs": [
        {
          "output_type": "stream",
          "name": "stdout",
          "text": [
            "Drawn card is ('spades', 9)\n"
          ]
        }
      ]
    },
    {
      "cell_type": "code",
      "source": [
        "mycards.add((\"heart\",\"king\"))"
      ],
      "metadata": {
        "colab": {
          "base_uri": "https://localhost:8080/"
        },
        "id": "QNcMvo95ODHK",
        "outputId": "2528289e-95ac-4865-a31f-5e889b4fe8f6"
      },
      "execution_count": null,
      "outputs": [
        {
          "output_type": "stream",
          "name": "stdout",
          "text": [
            "[('clubs', 7), ('hearts', 2), ('diamonds', 5), ('hearts', 8), ('hearts', 10), ('spades', 7), ('spades', 9), ('heart', 'king')]\n"
          ]
        }
      ]
    },
    {
      "cell_type": "markdown",
      "source": [
        "# 8. Create a class called Animal with the properties name, species, and sound. Create a method called make_sound that prints the sound of the animal."
      ],
      "metadata": {
        "id": "9WOpXxUHQvoq"
      }
    },
    {
      "cell_type": "code",
      "source": [
        "class Animal:\n",
        "    def __init__(self,name,species,sound):\n",
        "        self.name = name\n",
        "        self.species = species\n",
        "        self.sound = sound\n",
        "    def make_sound(self):\n",
        "        print(self.sound)"
      ],
      "metadata": {
        "id": "eFwXhtpZPdvP"
      },
      "execution_count": null,
      "outputs": []
    },
    {
      "cell_type": "code",
      "source": [
        "eg1 = Animal(\"Lion\",\"Panthera leo\",\"Roar\")"
      ],
      "metadata": {
        "id": "2Vi5WgSyRSGE"
      },
      "execution_count": null,
      "outputs": []
    },
    {
      "cell_type": "code",
      "source": [
        "eg1.make_sound()"
      ],
      "metadata": {
        "colab": {
          "base_uri": "https://localhost:8080/"
        },
        "id": "QQGaz9tmRbAV",
        "outputId": "4c511ec4-7509-4ec0-c730-f2a2775f6b89"
      },
      "execution_count": null,
      "outputs": [
        {
          "output_type": "stream",
          "name": "stdout",
          "text": [
            "Roar\n"
          ]
        }
      ]
    },
    {
      "cell_type": "markdown",
      "source": [
        "# 9. Create a subclass of Animal called Dog. The Dog class should have an additional property called breed. Override the make_sound method to print \"Woof!\"."
      ],
      "metadata": {
        "id": "UbCpWcHDRhO0"
      }
    },
    {
      "cell_type": "code",
      "source": [
        "class Dog(Animal):\n",
        "    def __init__(self,name,species,breed):\n",
        "        super().__init__(name,species,sound = \"Woof!\")\n",
        "        self.breed = breed\n",
        "    def make_sound(self):\n",
        "        print(self.sound)"
      ],
      "metadata": {
        "id": "oEFFwFBoRcoE"
      },
      "execution_count": null,
      "outputs": []
    },
    {
      "cell_type": "code",
      "source": [
        "dog1 = Dog(\"Dog\",\"Canis lupus\",\"Labrador Retriever\")"
      ],
      "metadata": {
        "id": "-0JOALOcR3Az"
      },
      "execution_count": null,
      "outputs": []
    },
    {
      "cell_type": "code",
      "source": [
        "dog1.make_sound()"
      ],
      "metadata": {
        "colab": {
          "base_uri": "https://localhost:8080/"
        },
        "id": "yk1Ow8jEShPK",
        "outputId": "b98fc3b9-ba68-4e89-f286-fea2553efbdf"
      },
      "execution_count": null,
      "outputs": [
        {
          "output_type": "stream",
          "name": "stdout",
          "text": [
            "Woof!\n"
          ]
        }
      ]
    },
    {
      "cell_type": "markdown",
      "source": [
        "# 10. Create another subclass of Animal called Cat. The Cat class should have an additional property called color. Override the make_sound method to print \"Meow!\""
      ],
      "metadata": {
        "id": "KgV__2IQUQrA"
      }
    },
    {
      "cell_type": "code",
      "source": [
        "class Cat(Animal):\n",
        "    def __init__(self,name,species,color):\n",
        "        super().__init__(name,species,sound = \"Meow!\")\n",
        "        self.color = color\n",
        "    def make_sound(self):\n",
        "        print(self.sound)"
      ],
      "metadata": {
        "id": "NZPU9pvfTWYg"
      },
      "execution_count": null,
      "outputs": []
    },
    {
      "cell_type": "code",
      "source": [
        "cat1 = Cat(\"Cat\",\"Felis catus\",\"Siamese\")"
      ],
      "metadata": {
        "id": "3dT4ZUxZUyzQ"
      },
      "execution_count": null,
      "outputs": []
    },
    {
      "cell_type": "code",
      "source": [
        "cat1.make_sound()"
      ],
      "metadata": {
        "colab": {
          "base_uri": "https://localhost:8080/"
        },
        "id": "1oBaf902U1S_",
        "outputId": "f979a172-69c5-4272-ce0a-ce503aa14b25"
      },
      "execution_count": null,
      "outputs": [
        {
          "output_type": "stream",
          "name": "stdout",
          "text": [
            "Meow!\n"
          ]
        }
      ]
    },
    {
      "cell_type": "markdown",
      "source": [
        "# 11. Create a class called Zoo with a property animals that is a list of Animal objects. Create a method called add_animal that adds an animal to the list. Create a method called list_animals that prints the name and species of each animal in the list."
      ],
      "metadata": {
        "id": "9qbdarOJOldV"
      }
    },
    {
      "cell_type": "code",
      "source": [
        "class Zoo:\n",
        "    def __init__(self):\n",
        "        self.animals = list()\n",
        "    def add_animal(self,animal):\n",
        "        self.animals.append(animal)\n",
        "    def list_animals(self):\n",
        "        for i in self.animals:\n",
        "            print(\"Name: {}\\tSpecies: {}\".format(i.name,i.species))"
      ],
      "metadata": {
        "id": "eXEJTGTBU-tV"
      },
      "execution_count": null,
      "outputs": []
    },
    {
      "cell_type": "markdown",
      "source": [
        "# 12. Create an instance of Zoo. Add an instance of Dog and an instance of Cat to the Zoo. Call the list_animals method to print the information of all the animals in the zoo."
      ],
      "metadata": {
        "id": "uGNXAQ8nXyvo"
      }
    },
    {
      "cell_type": "code",
      "source": [
        "zoo1 = Zoo()"
      ],
      "metadata": {
        "id": "oKcdN-0bTbUM"
      },
      "execution_count": null,
      "outputs": []
    },
    {
      "cell_type": "code",
      "source": [
        "zoo1.add_animal(cat1)\n",
        "zoo1.add_animal(dog1)"
      ],
      "metadata": {
        "id": "BA25XY0EXWwp"
      },
      "execution_count": null,
      "outputs": []
    },
    {
      "cell_type": "code",
      "source": [
        "zoo1.list_animals()"
      ],
      "metadata": {
        "colab": {
          "base_uri": "https://localhost:8080/"
        },
        "id": "ptKh9S5KXkgC",
        "outputId": "ee963801-b206-45a7-ad75-3a57dcc3a8fe"
      },
      "execution_count": null,
      "outputs": [
        {
          "output_type": "stream",
          "name": "stdout",
          "text": [
            "Name: Cat\tSpecies: Felis catus\n",
            "Name: Dog\tSpecies: Canis lupus\n"
          ]
        }
      ]
    },
    {
      "cell_type": "markdown",
      "source": [
        "# 13. Create a subclass of Dog called GuideDog. The GuideDog class should have an additional property called trained_for. Override the make_sound method to print \"Bark!\"."
      ],
      "metadata": {
        "id": "8bR7y0ZqX54S"
      }
    },
    {
      "cell_type": "code",
      "source": [
        "class GuideDog(Dog):\n",
        "    def __init__(self,name,species,breed,trained_for):\n",
        "        super().__init__(name,species,breed)\n",
        "        self.trained_for = trained_for\n",
        "    def make_sound(self):\n",
        "        print(self.sound)"
      ],
      "metadata": {
        "id": "7KSPWyUkXqVV"
      },
      "execution_count": null,
      "outputs": []
    },
    {
      "cell_type": "code",
      "source": [
        "dog2 = GuideDog(\"Max\",\"temp\",\"Labrador\",\"assistance\")"
      ],
      "metadata": {
        "id": "g8kY37d4x6X4"
      },
      "execution_count": null,
      "outputs": []
    },
    {
      "cell_type": "code",
      "source": [
        "dog2.make_sound()"
      ],
      "metadata": {
        "colab": {
          "base_uri": "https://localhost:8080/"
        },
        "id": "OHjbG7LX2Wzt",
        "outputId": "efe7f4c0-004a-4b19-9a66-9fb43a1999ce"
      },
      "execution_count": null,
      "outputs": [
        {
          "output_type": "stream",
          "name": "stdout",
          "text": [
            "Woof!\n"
          ]
        }
      ]
    }
  ]
}