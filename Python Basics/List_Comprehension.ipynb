{
  "nbformat": 4,
  "nbformat_minor": 0,
  "metadata": {
    "colab": {
      "provenance": []
    },
    "kernelspec": {
      "name": "python3",
      "display_name": "Python 3"
    },
    "language_info": {
      "name": "python"
    }
  },
  "cells": [
    {
      "cell_type": "markdown",
      "source": [
        "List Comprehension offers a shorter syntax when you want to create a new list\n",
        "based on the values of an existing list"
      ],
      "metadata": {
        "id": "PlbH_daEyxvF"
      }
    },
    {
      "cell_type": "code",
      "source": [
        "# old method\n",
        "list1 = range(0,50)\n",
        "even1 = []\n",
        "for i in list1:\n",
        "    if i%2==0:\n",
        "        even1.append(i)\n",
        "print(even1)"
      ],
      "metadata": {
        "colab": {
          "base_uri": "https://localhost:8080/"
        },
        "id": "Uucgw2WQzcAQ",
        "outputId": "6152a487-3997-4a95-fd4f-29398684cf09"
      },
      "execution_count": null,
      "outputs": [
        {
          "output_type": "stream",
          "name": "stdout",
          "text": [
            "[0, 2, 4, 6, 8, 10, 12, 14, 16, 18, 20, 22, 24, 26, 28, 30, 32, 34, 36, 38, 40, 42, 44, 46, 48]\n"
          ]
        }
      ]
    },
    {
      "cell_type": "code",
      "source": [
        "# using list comprehension\n",
        "list2 = range(0,50)\n",
        "even2 = [i for i in list2 if i%2==0]\n",
        "print(even2)"
      ],
      "metadata": {
        "colab": {
          "base_uri": "https://localhost:8080/"
        },
        "id": "-sDZ1axe0nqu",
        "outputId": "614c6bbd-e24e-4427-d53a-62842c03062a"
      },
      "execution_count": null,
      "outputs": [
        {
          "output_type": "stream",
          "name": "stdout",
          "text": [
            "[0, 2, 4, 6, 8, 10, 12, 14, 16, 18, 20, 22, 24, 26, 28, 30, 32, 34, 36, 38, 40, 42, 44, 46, 48]\n"
          ]
        }
      ]
    },
    {
      "cell_type": "code",
      "execution_count": null,
      "metadata": {
        "colab": {
          "base_uri": "https://localhost:8080/"
        },
        "id": "DRVem0-6yaPH",
        "outputId": "48a0befc-9f0b-4c46-ffcc-6d10bd4a781d"
      },
      "outputs": [
        {
          "output_type": "stream",
          "name": "stdout",
          "text": [
            "['anu', 'tini']\n"
          ]
        }
      ],
      "source": [
        "employees = [\n",
        "    {\"id\":1000,\"name\":\"hari\",\"dept\":\"devop\",\"salary\":34000},\n",
        "    {\"id\":1001,\"name\":\"ravi\",\"dept\":\"devop\",\"salary\":24000},\n",
        "    {\"id\":1002,\"name\":\"ram\",\"dept\":\"qa\",\"salary\":37000},\n",
        "    {\"id\":1003,\"name\":\"ajay\",\"dept\":\"ga\",\"salary\":14000},\n",
        "    {\"id\":1004,\"name\":\"anu\",\"dept\":\"ba\",\"salary\":54000},\n",
        "    {\"id\":1005,\"name\":\"tini\",\"dept\":\"qa\",\"salary\":64000},]\n",
        "\n",
        "more50 = [i[\"name\"] for i in employees if i[\"salary\"]>50000]\n",
        "print(more50)"
      ]
    },
    {
      "cell_type": "code",
      "source": [
        "list3 = ['apple' , 'banana' , 'cherry' , \"kiwi\", 'orange' , 'mango']\n",
        "\n",
        "cont_a = [i.upper() for i in list3 if \"a\" in i]\n",
        "print(cont_a)"
      ],
      "metadata": {
        "colab": {
          "base_uri": "https://localhost:8080/"
        },
        "id": "ezhOjXzxzaDf",
        "outputId": "268c1044-232b-49e6-a403-62a8e872a1fd"
      },
      "execution_count": null,
      "outputs": [
        {
          "output_type": "stream",
          "name": "stdout",
          "text": [
            "['APPLE', 'BANANA', 'ORANGE', 'MANGO']\n"
          ]
        }
      ]
    }
  ]
}