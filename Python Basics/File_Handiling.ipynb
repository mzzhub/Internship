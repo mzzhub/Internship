{
  "nbformat": 4,
  "nbformat_minor": 0,
  "metadata": {
    "colab": {
      "provenance": []
    },
    "kernelspec": {
      "name": "python3",
      "display_name": "Python 3"
    },
    "language_info": {
      "name": "python"
    }
  },
  "cells": [
    {
      "cell_type": "markdown",
      "source": [
        "* Create File\n",
        "* Open File\n",
        "* Write File\n",
        "* Read File\n",
        "* Closing\n",
        "File Handling is an important part Of any web application.\n",
        "\n",
        "Python has several functions for creating, reading, updating and deleting files\n",
        "\n",
        "The key function for working with files in Python is the open( ) function.\n",
        "\n",
        "The open( ) function takes two parameters\n",
        "* filename\n",
        "* mode\n",
        "\n",
        "There are different methods (modes) for opening a file:\n",
        "* 'r' - Read - Default value. Opens file for reading, error if  file does not exist.\n",
        "* 'w' - Write - This Mode opens file for writing. lf file does not exist, it creates a new file. If file exists, it truncates the file.\n",
        "* 'x' - Create - Creates a new file, If file already exists, the operation fails.\n",
        "* 'a' - Open file in append mode. If file does not exist, it creates a new file.\n",
        "* 't' - This is the default mode. It opens in text mode\n",
        "* 'b' - This opens in binary mode.\n",
        "* '+' - This will open a file for reading and writing (updating).\n",
        "\n",
        "How to Create a Text file.\n",
        "* Create the file with open( )\n",
        "* Syntax, variable_name = open(\"filename\",\"mode\")\n",
        "    * f = open(\"demo.txt\",\"w+\")\n",
        "    * 'w' letter in our argurnent indicates write and will create a file if it does not exist in library.\n",
        "    * '+' sign indicates both read and write."
      ],
      "metadata": {
        "id": "4FKl6MTj63Lr"
      }
    },
    {
      "cell_type": "code",
      "execution_count": null,
      "metadata": {
        "id": "iiwDiU5i4WRv"
      },
      "outputs": [],
      "source": [
        "a = open(\"new_file1.txt\",\"x\")"
      ]
    },
    {
      "cell_type": "code",
      "source": [
        "b = open(\"new_file2.txt\",\"w+\")"
      ],
      "metadata": {
        "id": "8rSvTas0_bxo"
      },
      "execution_count": null,
      "outputs": []
    },
    {
      "cell_type": "code",
      "source": [
        "# simply creating a file\n",
        "f = open(\"demo_file1.txt\",\"w+\")\n",
        "f.write(\"Hello World\")\n",
        "\n",
        "for i in range(5):\n",
        "    f.write(\"\\nThis is line %d\"%(i+1))\n",
        "f.close()\n",
        "\n",
        "# appending to an existing file.\n",
        "f = open(\"demo_file1.txt\",\"a+\")\n",
        "for i in range(3):\n",
        "    f.write(\"\\nThis is appended line %d\"%(i+1))\n",
        "f.close\n",
        "\n",
        "\n",
        "# reading a file\n",
        "f = open(\"demo_file1.txt\",\"r\")\n",
        "data = f.read()\n",
        "print(data)\n",
        "\n",
        "# reading upto specified index\n",
        "f = open(\"demo_file1.txt\",\"r\")\n",
        "data = f.read(7)\n",
        "print(data)\n",
        "\n",
        "# reading the first line only\n",
        "f = open(\"demo_file1.txt\",\"r\")\n",
        "data = f.readline()\n",
        "print(data)\n",
        "\n",
        "\n",
        "# about index pointer.\n",
        "f = open(\"demo_file1.txt\",\"r\")\n",
        "print(f.tell()) # to print the index pointer position\n",
        "data1 = f.read(9)\n",
        "print(data1)\n",
        "print(f.tell())\n",
        "    # now the pointer is at 9th index.\n",
        "\n",
        "    # so now, it will print from 9th to (9+12)th index.\n",
        "data2 = f.read(12)\n",
        "print(data2)\n",
        "print(f.tell())\n",
        "\n",
        "# f.seek(offset, from_what)\n",
        "f.seek(0)       # to take the index pointer to index zero\n",
        "print(f.tell())\n",
        "\n",
        "f.seek(4)       # to take the index pointer to index four\n",
        "print(f.tell())\n",
        "\n",
        "\n"
      ],
      "metadata": {
        "colab": {
          "base_uri": "https://localhost:8080/"
        },
        "id": "gXh-Kr6IcJUY",
        "outputId": "0b9b0f4e-e051-49af-f056-6da015030754"
      },
      "execution_count": 3,
      "outputs": [
        {
          "output_type": "stream",
          "name": "stdout",
          "text": [
            "Hello World\n",
            "This is line 1\n",
            "This is line 2\n",
            "This is line 3\n",
            "This is line 4\n",
            "This is line 5\n",
            "This is appended line 1\n",
            "This is appended line 2\n",
            "This is appended line 3\n",
            "Hello W\n",
            "Hello World\n",
            "\n",
            "0\n",
            "Hello Wor\n",
            "9\n",
            "ld\n",
            "This is l\n",
            "21\n",
            "0\n",
            "4\n"
          ]
        }
      ]
    }
  ]
}