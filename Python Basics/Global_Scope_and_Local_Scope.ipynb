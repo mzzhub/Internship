{
  "nbformat": 4,
  "nbformat_minor": 0,
  "metadata": {
    "colab": {
      "provenance": []
    },
    "kernelspec": {
      "name": "python3",
      "display_name": "Python 3"
    },
    "language_info": {
      "name": "python"
    }
  },
  "cells": [
    {
      "cell_type": "markdown",
      "source": [
        "# Global Scope and Local Scope\n",
        "A variable is only available from inside the region it is created. This is called scope\n",
        "## Local Scope\n",
        "A variable created inside a function belongs to the local scope of that function, and can only be used inside that function."
      ],
      "metadata": {
        "id": "KTuZQwt55Ywk"
      }
    },
    {
      "cell_type": "code",
      "source": [
        "# defining a simple function.\n",
        "def tempfun():\n",
        "    x = 101\n",
        "    print(x)"
      ],
      "metadata": {
        "id": "_Wp-FMC34hEw"
      },
      "execution_count": null,
      "outputs": []
    },
    {
      "cell_type": "code",
      "source": [
        "# calling it.\n",
        "tempfun()"
      ],
      "metadata": {
        "colab": {
          "base_uri": "https://localhost:8080/"
        },
        "id": "Bg7yuPof7F1-",
        "outputId": "23ccece2-3f9b-44fb-f6fc-a26f595b1d78"
      },
      "execution_count": null,
      "outputs": [
        {
          "output_type": "stream",
          "name": "stdout",
          "text": [
            "101\n"
          ]
        }
      ]
    },
    {
      "cell_type": "code",
      "source": [
        "# trying to acess the variable x, which is defined inside the function.\n",
        "print(x)"
      ],
      "metadata": {
        "colab": {
          "base_uri": "https://localhost:8080/",
          "height": 141
        },
        "id": "6aIHBNjO7ciQ",
        "outputId": "5a9155bc-8133-40d6-ac12-488cb9fdc5c9"
      },
      "execution_count": null,
      "outputs": [
        {
          "output_type": "error",
          "ename": "NameError",
          "evalue": "name 'x' is not defined",
          "traceback": [
            "\u001b[0;31m---------------------------------------------------------------------------\u001b[0m",
            "\u001b[0;31mNameError\u001b[0m                                 Traceback (most recent call last)",
            "\u001b[0;32m<ipython-input-4-fc17d851ef81>\u001b[0m in \u001b[0;36m<cell line: 1>\u001b[0;34m()\u001b[0m\n\u001b[0;32m----> 1\u001b[0;31m \u001b[0mprint\u001b[0m\u001b[0;34m(\u001b[0m\u001b[0mx\u001b[0m\u001b[0;34m)\u001b[0m\u001b[0;34m\u001b[0m\u001b[0;34m\u001b[0m\u001b[0m\n\u001b[0m",
            "\u001b[0;31mNameError\u001b[0m: name 'x' is not defined"
          ]
        }
      ]
    },
    {
      "cell_type": "code",
      "source": [
        "def tempfun2():\n",
        "    x = 200\n",
        "    def innerfun():\n",
        "        print(x*1.5)\n",
        "    innerfun()\n",
        "# here the variable x is acessible to the inner function.\n",
        "# however it cannot acess in outer most level."
      ],
      "metadata": {
        "id": "j2if0gWa7hbH"
      },
      "execution_count": null,
      "outputs": []
    },
    {
      "cell_type": "code",
      "source": [
        "# trying to call a function inner(), which is defined inside another function.\n",
        "innerfun()"
      ],
      "metadata": {
        "colab": {
          "base_uri": "https://localhost:8080/",
          "height": 141
        },
        "id": "0B_tfXhE7s9w",
        "outputId": "4c6de46c-1a6a-4af0-fb38-070813d3768f"
      },
      "execution_count": null,
      "outputs": [
        {
          "output_type": "error",
          "ename": "NameError",
          "evalue": "name 'innerfun' is not defined",
          "traceback": [
            "\u001b[0;31m---------------------------------------------------------------------------\u001b[0m",
            "\u001b[0;31mNameError\u001b[0m                                 Traceback (most recent call last)",
            "\u001b[0;32m<ipython-input-20-5cde8b718f24>\u001b[0m in \u001b[0;36m<cell line: 1>\u001b[0;34m()\u001b[0m\n\u001b[0;32m----> 1\u001b[0;31m \u001b[0minnerfun\u001b[0m\u001b[0;34m(\u001b[0m\u001b[0;34m)\u001b[0m\u001b[0;34m\u001b[0m\u001b[0;34m\u001b[0m\u001b[0m\n\u001b[0m",
            "\u001b[0;31mNameError\u001b[0m: name 'innerfun' is not defined"
          ]
        }
      ]
    },
    {
      "cell_type": "code",
      "source": [
        "tempfun2()"
      ],
      "metadata": {
        "colab": {
          "base_uri": "https://localhost:8080/"
        },
        "id": "nrozAoPH7vPs",
        "outputId": "ca0b3848-b180-487c-eae2-d38cd35d771d"
      },
      "execution_count": null,
      "outputs": [
        {
          "output_type": "stream",
          "name": "stdout",
          "text": [
            "300.0\n"
          ]
        }
      ]
    },
    {
      "cell_type": "code",
      "source": [],
      "metadata": {
        "id": "WhBalbJh7yCq"
      },
      "execution_count": null,
      "outputs": []
    },
    {
      "cell_type": "markdown",
      "source": [
        "# Global Scope\n",
        "A variable created in the main body of the Python code is a global variable and belongs to the global scope.\n",
        "\n",
        "Global variables are available from within any scope, global and local.\n",
        "\n",
        "A variable created outside of a function is global and can be used by anyone."
      ],
      "metadata": {
        "id": "t1RaQx_7-ibK"
      }
    },
    {
      "cell_type": "code",
      "source": [
        "y = 222\n",
        "def tempfunc1():\n",
        "    print(y)"
      ],
      "metadata": {
        "id": "FvPeGn0_-j5z"
      },
      "execution_count": null,
      "outputs": []
    },
    {
      "cell_type": "code",
      "source": [
        "# so the global variable is acessible inside a function\n",
        "tempfunc1()"
      ],
      "metadata": {
        "colab": {
          "base_uri": "https://localhost:8080/"
        },
        "id": "-EtNTQGA_zoz",
        "outputId": "989dba69-2af5-4948-fd82-cea339fef444"
      },
      "execution_count": null,
      "outputs": [
        {
          "output_type": "stream",
          "name": "stdout",
          "text": [
            "222\n"
          ]
        }
      ]
    },
    {
      "cell_type": "code",
      "source": [
        "y = 333\n",
        "def tempfunc2(y):\n",
        "    print(y)"
      ],
      "metadata": {
        "id": "hsmuuTi__16n"
      },
      "execution_count": null,
      "outputs": []
    },
    {
      "cell_type": "code",
      "source": [
        "tempfunc2(444)"
      ],
      "metadata": {
        "colab": {
          "base_uri": "https://localhost:8080/"
        },
        "id": "9SF7bietACbE",
        "outputId": "d6a3ccdc-57fd-4b0f-dde1-42a39ad72090"
      },
      "execution_count": null,
      "outputs": [
        {
          "output_type": "stream",
          "name": "stdout",
          "text": [
            "444\n"
          ]
        }
      ]
    },
    {
      "cell_type": "markdown",
      "source": [
        "#Global Keyword\n",
        "if you need to create a global variable, but are stuck in the local scope, you can use the global keyword.\n",
        "\n",
        "The global keyword makes the variable global."
      ],
      "metadata": {
        "id": "hb8LitJ1ARbu"
      }
    },
    {
      "cell_type": "code",
      "source": [
        "def tempfunc3():\n",
        "    global p\n",
        "    p = 3"
      ],
      "metadata": {
        "id": "aSiI9tkzAFAn"
      },
      "execution_count": null,
      "outputs": []
    },
    {
      "cell_type": "code",
      "source": [
        "# cannot acess directly\n",
        "print(p)"
      ],
      "metadata": {
        "colab": {
          "base_uri": "https://localhost:8080/",
          "height": 141
        },
        "id": "FHt5TpnoAh7a",
        "outputId": "eb536cf9-3d9f-4ed3-80e7-03caad87c6ac"
      },
      "execution_count": null,
      "outputs": [
        {
          "output_type": "error",
          "ename": "NameError",
          "evalue": "name 'p' is not defined",
          "traceback": [
            "\u001b[0;31m---------------------------------------------------------------------------\u001b[0m",
            "\u001b[0;31mNameError\u001b[0m                                 Traceback (most recent call last)",
            "\u001b[0;32m<ipython-input-46-c7efc66e9b10>\u001b[0m in \u001b[0;36m<cell line: 1>\u001b[0;34m()\u001b[0m\n\u001b[0;32m----> 1\u001b[0;31m \u001b[0mprint\u001b[0m\u001b[0;34m(\u001b[0m\u001b[0mp\u001b[0m\u001b[0;34m)\u001b[0m\u001b[0;34m\u001b[0m\u001b[0;34m\u001b[0m\u001b[0m\n\u001b[0m",
            "\u001b[0;31mNameError\u001b[0m: name 'p' is not defined"
          ]
        }
      ]
    },
    {
      "cell_type": "code",
      "source": [
        "# need to call the function.\n",
        "tempfunc3()\n",
        "print(p)"
      ],
      "metadata": {
        "colab": {
          "base_uri": "https://localhost:8080/"
        },
        "id": "3A1jT9oHAmzl",
        "outputId": "b0880b43-695c-4031-df72-91fa42dba9c7"
      },
      "execution_count": null,
      "outputs": [
        {
          "output_type": "stream",
          "name": "stdout",
          "text": [
            "3\n"
          ]
        }
      ]
    },
    {
      "cell_type": "code",
      "source": [
        "# changing a global variable inside a function\n",
        "\n",
        "q = 55\n",
        "def tempfunc4():\n",
        "    q = 44"
      ],
      "metadata": {
        "id": "wy_TznJKBwzM"
      },
      "execution_count": null,
      "outputs": []
    },
    {
      "cell_type": "code",
      "source": [
        "# doesnt work\n",
        "print(q)"
      ],
      "metadata": {
        "colab": {
          "base_uri": "https://localhost:8080/"
        },
        "id": "FtGaumwJCD4b",
        "outputId": "02631bd0-6250-4ec5-f4b5-e0d2992fd56a"
      },
      "execution_count": null,
      "outputs": [
        {
          "output_type": "stream",
          "name": "stdout",
          "text": [
            "55\n"
          ]
        }
      ]
    },
    {
      "cell_type": "code",
      "source": [
        "# still doesnt work\n",
        "tempfunc4()\n",
        "print(q)"
      ],
      "metadata": {
        "colab": {
          "base_uri": "https://localhost:8080/"
        },
        "id": "Os-T7FDhCFI-",
        "outputId": "3974fdd9-5425-4805-cfe1-fcfac268a3e1"
      },
      "execution_count": null,
      "outputs": [
        {
          "output_type": "stream",
          "name": "stdout",
          "text": [
            "55\n"
          ]
        }
      ]
    },
    {
      "cell_type": "code",
      "source": [
        "q = 55\n",
        "def tempfunc4():\n",
        "    global q\n",
        "    q = 44"
      ],
      "metadata": {
        "id": "WgykZRMOCREB"
      },
      "execution_count": null,
      "outputs": []
    },
    {
      "cell_type": "code",
      "source": [
        "# dont forget to call the fun.\n",
        "# now works\n",
        "tempfunc4()\n",
        "print(q)"
      ],
      "metadata": {
        "colab": {
          "base_uri": "https://localhost:8080/"
        },
        "id": "TWj76qjHCaXi",
        "outputId": "3b7b824b-8792-46d6-d54a-ca968728d5d5"
      },
      "execution_count": null,
      "outputs": [
        {
          "output_type": "stream",
          "name": "stdout",
          "text": [
            "44\n"
          ]
        }
      ]
    }
  ]
}