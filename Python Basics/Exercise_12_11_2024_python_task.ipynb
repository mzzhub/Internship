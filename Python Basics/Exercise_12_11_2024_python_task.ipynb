{
  "nbformat": 4,
  "nbformat_minor": 0,
  "metadata": {
    "colab": {
      "provenance": []
    },
    "kernelspec": {
      "name": "python3",
      "display_name": "Python 3"
    },
    "language_info": {
      "name": "python"
    }
  },
  "cells": [
    {
      "cell_type": "markdown",
      "source": [
        "# 1. Write a Python program to remove duplicates from a list."
      ],
      "metadata": {
        "id": "JSzwE5ZKQy32"
      }
    },
    {
      "cell_type": "code",
      "execution_count": 1,
      "metadata": {
        "colab": {
          "base_uri": "https://localhost:8080/"
        },
        "id": "tsXJKLhGQo7N",
        "outputId": "1ba95021-6ed9-4d88-b676-97c98bb26845"
      },
      "outputs": [
        {
          "output_type": "stream",
          "name": "stdout",
          "text": [
            "[1, 2, 3, 4, 5]\n"
          ]
        }
      ],
      "source": [
        "test_list = [1, 2, 2, 3, 4, 4, 5]\n",
        "\n",
        "final_list = list()\n",
        "\n",
        "for i in test_list:\n",
        "    if i in final_list:\n",
        "        continue\n",
        "    else:\n",
        "        final_list.append(i)\n",
        "\n",
        "print(final_list)"
      ]
    },
    {
      "cell_type": "markdown",
      "source": [
        "# 2. Write a Python program to find the common elements between two lists."
      ],
      "metadata": {
        "id": "ffYOsf0ASGGZ"
      }
    },
    {
      "cell_type": "code",
      "source": [
        "list1 = [1, 2, 3, 4, 5]\n",
        "list2 = [4, 5, 6, 7, 8]\n",
        "\n",
        "common_elements = list()\n",
        "\n",
        "for i in list1:\n",
        "    if i in list2:\n",
        "        common_elements.append(i)\n",
        "\n",
        "print(common_elements)"
      ],
      "metadata": {
        "colab": {
          "base_uri": "https://localhost:8080/"
        },
        "id": "vt0d03A4SBuH",
        "outputId": "c9f96080-3c30-494f-a3c8-c115f1ee0f0e"
      },
      "execution_count": 2,
      "outputs": [
        {
          "output_type": "stream",
          "name": "stdout",
          "text": [
            "[4, 5]\n"
          ]
        }
      ]
    },
    {
      "cell_type": "markdown",
      "source": [
        "# 3. Write a Python program to count the frequency of each element in a list.\n"
      ],
      "metadata": {
        "id": "RJqwhRk1SuvM"
      }
    },
    {
      "cell_type": "code",
      "source": [
        "test_list = [1, 2, 2, 2, 3, 3, 4, 4, 4, 5]\n",
        "\n",
        "frequency = dict()\n",
        "for i in test_list:\n",
        "    if i not in frequency:\n",
        "        frequency[i] = 1\n",
        "    else:\n",
        "        frequency[i] += 1\n",
        "print(frequency)"
      ],
      "metadata": {
        "colab": {
          "base_uri": "https://localhost:8080/"
        },
        "id": "7-xr8p_BSqK1",
        "outputId": "2c5766f7-4d65-4b8e-eab9-ebc5e32bf391"
      },
      "execution_count": 5,
      "outputs": [
        {
          "output_type": "stream",
          "name": "stdout",
          "text": [
            "{1: 1, 2: 3, 3: 2, 4: 3, 5: 1}\n"
          ]
        }
      ]
    },
    {
      "cell_type": "markdown",
      "source": [
        "# 4. Find the Middle Element in a List"
      ],
      "metadata": {
        "id": "wOc_YvvkUnrO"
      }
    },
    {
      "cell_type": "code",
      "source": [
        "test_list = [1, 2, 3, 4, 5, 3, 0, True, 5, 6, 7, 8, 6, 5]\n",
        "\n",
        "if len(test_list) % 2 == 0:\n",
        "    print(test_list[int(len(test_list)/2) - 1], \"and\", test_list[int(len(test_list)/2)])\n",
        "else:\n",
        "    print(test_list[len(test_list)//2])"
      ],
      "metadata": {
        "colab": {
          "base_uri": "https://localhost:8080/"
        },
        "id": "5zsW5km9UUID",
        "outputId": "315d6571-3e45-408b-e9c1-6dc0912ae033"
      },
      "execution_count": 15,
      "outputs": [
        {
          "output_type": "stream",
          "name": "stdout",
          "text": [
            "0 and True\n"
          ]
        }
      ]
    }
  ]
}