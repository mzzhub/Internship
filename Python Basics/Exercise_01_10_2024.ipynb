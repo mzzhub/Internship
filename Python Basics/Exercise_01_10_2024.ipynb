{
  "nbformat": 4,
  "nbformat_minor": 0,
  "metadata": {
    "colab": {
      "provenance": []
    },
    "kernelspec": {
      "name": "python3",
      "display_name": "Python 3"
    },
    "language_info": {
      "name": "python"
    }
  },
  "cells": [
    {
      "cell_type": "markdown",
      "source": [
        "# 1. Print  list in reverse order using a loop."
      ],
      "metadata": {
        "id": "rbW_1qcQOG-N"
      }
    },
    {
      "cell_type": "code",
      "execution_count": 2,
      "metadata": {
        "id": "2adOUeD4OAbP"
      },
      "outputs": [],
      "source": [
        "data_types = [\n",
        "    42,                             # Integer\n",
        "    3.14,                           # Float\n",
        "    \"Hello, World!\",                # String\n",
        "    True,                           # Boolean\n",
        "    [1, 2, 3],                      # List\n",
        "    (4, 5, 6),                      # Tuple\n",
        "    {\"name\": \"Alice\", \"age\": 30},   # Dictionary\n",
        "    {7, 8, 9}                       # Set\n",
        "]"
      ]
    },
    {
      "cell_type": "code",
      "source": [
        "for i in data_types[::-1]:\n",
        "    print(i)"
      ],
      "metadata": {
        "colab": {
          "base_uri": "https://localhost:8080/"
        },
        "id": "Eobr_ePPOoVz",
        "outputId": "83b4e60f-b00f-4f7c-ea36-cb28646de3c1"
      },
      "execution_count": 4,
      "outputs": [
        {
          "output_type": "stream",
          "name": "stdout",
          "text": [
            "{8, 9, 7}\n",
            "{'name': 'Alice', 'age': 30}\n",
            "(4, 5, 6)\n",
            "[1, 2, 3]\n",
            "True\n",
            "Hello, World!\n",
            "3.14\n",
            "42\n"
          ]
        }
      ]
    },
    {
      "cell_type": "markdown",
      "source": [
        "# 2. Use a loop to display elements from a given list present at an odd index position."
      ],
      "metadata": {
        "id": "5UlmGiPOOS9X"
      }
    },
    {
      "cell_type": "code",
      "source": [
        "data_types = [\n",
        "    42,                             # Integer\n",
        "    3.14,                           # Float\n",
        "    \"Hello, World!\",                # String\n",
        "    True,                           # Boolean\n",
        "    [1, 2, 3],                      # List\n",
        "    (4, 5, 6),                      # Tuple\n",
        "    {\"name\": \"Alice\", \"age\": 30},   # Dictionary\n",
        "    {7, 8, 9}                       # Set\n",
        "]"
      ],
      "metadata": {
        "id": "_SNOghslOTmV"
      },
      "execution_count": 8,
      "outputs": []
    },
    {
      "cell_type": "code",
      "source": [
        "count = 0\n",
        "for i in data_types:\n",
        "    count = count + 1\n",
        "    if count % 2 == 0:\n",
        "        continue\n",
        "    print(i)"
      ],
      "metadata": {
        "colab": {
          "base_uri": "https://localhost:8080/"
        },
        "id": "zUoTHPHNPN7r",
        "outputId": "f15b0901-d1ca-431a-dc1d-adcb671a0162"
      },
      "execution_count": 15,
      "outputs": [
        {
          "output_type": "stream",
          "name": "stdout",
          "text": [
            "42\n",
            "Hello, World!\n",
            "[1, 2, 3]\n",
            "{'name': 'Alice', 'age': 30}\n"
          ]
        }
      ]
    }
  ]
}