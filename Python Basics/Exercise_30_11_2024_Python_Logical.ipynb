{
  "nbformat": 4,
  "nbformat_minor": 0,
  "metadata": {
    "colab": {
      "provenance": []
    },
    "kernelspec": {
      "name": "python3",
      "display_name": "Python 3"
    },
    "language_info": {
      "name": "python"
    }
  },
  "cells": [
    {
      "cell_type": "markdown",
      "source": [
        "# 1. Write a Python function that removes duplicate elements from a list."
      ],
      "metadata": {
        "id": "ocXeMeW_70cL"
      }
    },
    {
      "cell_type": "code",
      "execution_count": 6,
      "metadata": {
        "id": "WX983-ke7riz"
      },
      "outputs": [],
      "source": [
        "def remove_duplicates(list01):\n",
        "    return list(set(list01))"
      ]
    },
    {
      "cell_type": "code",
      "source": [
        "remove_duplicates([3,5,4,3,1,2,6,7,3,4,5,9])"
      ],
      "metadata": {
        "colab": {
          "base_uri": "https://localhost:8080/"
        },
        "id": "acKp3x0h-cln",
        "outputId": "5d02e772-fced-4e92-c8de-2609890c0e36"
      },
      "execution_count": 7,
      "outputs": [
        {
          "output_type": "execute_result",
          "data": {
            "text/plain": [
              "[1, 2, 3, 4, 5, 6, 7, 9]"
            ]
          },
          "metadata": {},
          "execution_count": 7
        }
      ]
    },
    {
      "cell_type": "markdown",
      "source": [
        "# 2. Write a function that takes a string as input and returns its reverse."
      ],
      "metadata": {
        "id": "1qcsi72I8EXv"
      }
    },
    {
      "cell_type": "code",
      "source": [
        "def reverse(string):\n",
        "    return string[::-1]"
      ],
      "metadata": {
        "id": "Cspfcylr8HJs"
      },
      "execution_count": 8,
      "outputs": []
    },
    {
      "cell_type": "code",
      "source": [
        "reverse(\"2. Write a function that takes a string as input and returns its reverse.\")"
      ],
      "metadata": {
        "colab": {
          "base_uri": "https://localhost:8080/",
          "height": 35
        },
        "id": "p-Mfmoot-jn3",
        "outputId": "512698d0-4a33-406e-af2d-33d0112a675b"
      },
      "execution_count": 9,
      "outputs": [
        {
          "output_type": "execute_result",
          "data": {
            "text/plain": [
              "'.esrever sti snruter dna tupni sa gnirts a sekat taht noitcnuf a etirW .2'"
            ],
            "application/vnd.google.colaboratory.intrinsic+json": {
              "type": "string"
            }
          },
          "metadata": {},
          "execution_count": 9
        }
      ]
    },
    {
      "cell_type": "markdown",
      "source": [
        "# 3. Write a Python program that checks whether a given substring exists in a string."
      ],
      "metadata": {
        "id": "8tv5piUR8Qld"
      }
    },
    {
      "cell_type": "code",
      "source": [
        "def check_for_substing_existance(main_string, check_string):\n",
        "    return check_string in main_string"
      ],
      "metadata": {
        "id": "OYOc5ECp8TOx"
      },
      "execution_count": 10,
      "outputs": []
    },
    {
      "cell_type": "code",
      "source": [
        "string01 = \"Write a Python program that checks whether a given substring exists in a string.\"\n",
        "string02 = \"Python program\"\n",
        "\n",
        "check_for_substing_existance(string01, string02)"
      ],
      "metadata": {
        "colab": {
          "base_uri": "https://localhost:8080/"
        },
        "id": "EAtQ-cYp-orc",
        "outputId": "61bb9ac9-b824-4ab5-d95b-a3d2154dd3b8"
      },
      "execution_count": 11,
      "outputs": [
        {
          "output_type": "execute_result",
          "data": {
            "text/plain": [
              "True"
            ]
          },
          "metadata": {},
          "execution_count": 11
        }
      ]
    },
    {
      "cell_type": "markdown",
      "source": [
        "# 4. Write a function that calculates the sum of all even numbers between two given integers."
      ],
      "metadata": {
        "id": "WPS-bffr8k0O"
      }
    },
    {
      "cell_type": "code",
      "source": [
        "def sum_even_bw(lower_limit, upper_limit):\n",
        "    l = lower_limit\n",
        "    u = upper_limit\n",
        "    sum = 0\n",
        "    for i in range(l + 1, u):\n",
        "        if i % 2 == 0:\n",
        "            sum += i\n",
        "    return sum"
      ],
      "metadata": {
        "id": "30NEVRHU8oBn"
      },
      "execution_count": 12,
      "outputs": []
    },
    {
      "cell_type": "code",
      "source": [
        "sum_even_bw(10, 45)"
      ],
      "metadata": {
        "colab": {
          "base_uri": "https://localhost:8080/"
        },
        "id": "c7CtFVDL-2sR",
        "outputId": "13f5e043-016e-4b12-bf37-7e67b1560aec"
      },
      "execution_count": 13,
      "outputs": [
        {
          "output_type": "execute_result",
          "data": {
            "text/plain": [
              "476"
            ]
          },
          "metadata": {},
          "execution_count": 13
        }
      ]
    },
    {
      "cell_type": "markdown",
      "source": [
        "# 5. Write a program to generate and display the multiplication table for a given number."
      ],
      "metadata": {
        "id": "NAsgId_u9k5p"
      }
    },
    {
      "cell_type": "code",
      "source": [
        "def multiplication_table(number):\n",
        "    for i in range(1, 11):\n",
        "        print(i, \"X\", number, \"=\", number * i)"
      ],
      "metadata": {
        "id": "ajuf4K2D9mVQ"
      },
      "execution_count": 1,
      "outputs": []
    },
    {
      "cell_type": "code",
      "source": [
        "multiplication_table(7)"
      ],
      "metadata": {
        "id": "xZwg1TKI-8sf",
        "outputId": "dde64815-85ff-4816-d234-6ef4d4c79577",
        "colab": {
          "base_uri": "https://localhost:8080/"
        }
      },
      "execution_count": 14,
      "outputs": [
        {
          "output_type": "stream",
          "name": "stdout",
          "text": [
            "1 X 7 = 7\n",
            "2 X 7 = 14\n",
            "3 X 7 = 21\n",
            "4 X 7 = 28\n",
            "5 X 7 = 35\n",
            "6 X 7 = 42\n",
            "7 X 7 = 49\n",
            "8 X 7 = 56\n",
            "9 X 7 = 63\n",
            "10 X 7 = 70\n"
          ]
        }
      ]
    },
    {
      "cell_type": "markdown",
      "source": [
        "# 6. Write a Python program that takes three integers as input and prints the largest among them."
      ],
      "metadata": {
        "id": "2JBLYjGf-ApJ"
      }
    },
    {
      "cell_type": "code",
      "source": [
        "def largest(a, b, c):\n",
        "    temp = [a, b, c]\n",
        "    print(max(temp))"
      ],
      "metadata": {
        "id": "MXRCnXYm977t"
      },
      "execution_count": 4,
      "outputs": []
    },
    {
      "cell_type": "code",
      "source": [
        "largest(3,4,1)"
      ],
      "metadata": {
        "colab": {
          "base_uri": "https://localhost:8080/"
        },
        "id": "9adBX9ED-Sbm",
        "outputId": "fd8b627e-eab1-4458-966c-b1fea4b2c928"
      },
      "execution_count": 5,
      "outputs": [
        {
          "output_type": "stream",
          "name": "stdout",
          "text": [
            "4\n"
          ]
        }
      ]
    }
  ]
}