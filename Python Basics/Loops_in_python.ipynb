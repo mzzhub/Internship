{
  "nbformat": 4,
  "nbformat_minor": 0,
  "metadata": {
    "colab": {
      "provenance": []
    },
    "kernelspec": {
      "name": "python3",
      "display_name": "Python 3"
    },
    "language_info": {
      "name": "python"
    }
  },
  "cells": [
    {
      "cell_type": "markdown",
      "source": [
        "#Loops\n",
        "Same part of of code is executed again and again"
      ],
      "metadata": {
        "id": "W7E5G5QcwX0H"
      }
    },
    {
      "cell_type": "markdown",
      "source": [
        "\n",
        "##for Loop"
      ],
      "metadata": {
        "id": "QCaff8OzwmrS"
      }
    },
    {
      "cell_type": "code",
      "execution_count": null,
      "metadata": {
        "colab": {
          "base_uri": "https://localhost:8080/"
        },
        "id": "GTdYOv-uuMeE",
        "outputId": "6af9fad5-6b06-4e5c-c08d-905a8dc9338b"
      },
      "outputs": [
        {
          "output_type": "stream",
          "name": "stdout",
          "text": [
            "Hai Python\n",
            "Hai Python\n",
            "Hai Python\n",
            "Hai Python\n"
          ]
        }
      ],
      "source": [
        "for i in [2,3,4,5]:\n",
        "  print(\"Hai Python\")"
      ]
    },
    {
      "cell_type": "code",
      "source": [
        "for i in [21,212,2,3]:\n",
        "  print(\"Hai Python\")\n",
        "  print(i)\n",
        "print(\"Out side loop\")"
      ],
      "metadata": {
        "colab": {
          "base_uri": "https://localhost:8080/"
        },
        "id": "HRTN-_dYwud-",
        "outputId": "58c84388-ef8e-4094-a4a0-6988fefd1050"
      },
      "execution_count": null,
      "outputs": [
        {
          "output_type": "stream",
          "name": "stdout",
          "text": [
            "Hai Python\n",
            "21\n",
            "Hai Python\n",
            "212\n",
            "Hai Python\n",
            "2\n",
            "Hai Python\n",
            "3\n",
            "Out side loop\n"
          ]
        }
      ]
    },
    {
      "cell_type": "code",
      "source": [
        "a = (20,10,13,21)\n",
        "for i in a:\n",
        "  print(i)"
      ],
      "metadata": {
        "colab": {
          "base_uri": "https://localhost:8080/"
        },
        "id": "0yTbJ23Ww1S-",
        "outputId": "2879ff79-b6a8-4f2a-c58c-79b4efd0f59e"
      },
      "execution_count": null,
      "outputs": [
        {
          "output_type": "stream",
          "name": "stdout",
          "text": [
            "20\n",
            "10\n",
            "13\n",
            "21\n"
          ]
        }
      ]
    },
    {
      "cell_type": "code",
      "source": [
        "for i in range(100,1000,90):\n",
        "  print(i)"
      ],
      "metadata": {
        "colab": {
          "base_uri": "https://localhost:8080/"
        },
        "id": "T-LiYP1XxROo",
        "outputId": "b4eeea61-d6cb-4765-8c87-28f535f586a2"
      },
      "execution_count": null,
      "outputs": [
        {
          "output_type": "stream",
          "name": "stdout",
          "text": [
            "100\n",
            "190\n",
            "280\n",
            "370\n",
            "460\n",
            "550\n",
            "640\n",
            "730\n",
            "820\n",
            "910\n"
          ]
        }
      ]
    },
    {
      "cell_type": "code",
      "source": [
        "for i in range(100,70,-8):\n",
        "  print(i,end=\", \")"
      ],
      "metadata": {
        "colab": {
          "base_uri": "https://localhost:8080/"
        },
        "id": "5Dc-iREcxh0x",
        "outputId": "96dd0e9b-7023-4ee1-93a4-c9876c946b72"
      },
      "execution_count": null,
      "outputs": [
        {
          "output_type": "stream",
          "name": "stdout",
          "text": [
            "100, 92, 84, 76, "
          ]
        }
      ]
    },
    {
      "cell_type": "code",
      "source": [
        "num = []\n",
        "odd = []\n",
        "even = []\n",
        "for i in range(100,501):\n",
        "  num.append(i)\n",
        "  if i%2==0:\n",
        "    even.append(i)\n",
        "  else:\n",
        "    odd.append(i)\n",
        "print(\"The number list:\\n\",num)\n",
        "print(\"The even list:\\n\",even)\n",
        "print(\"The odd list:\\n\",odd)"
      ],
      "metadata": {
        "colab": {
          "base_uri": "https://localhost:8080/"
        },
        "id": "7mE6AE7Iy1ny",
        "outputId": "933b8a48-2156-4a4a-d0e3-01875d79056c"
      },
      "execution_count": null,
      "outputs": [
        {
          "output_type": "stream",
          "name": "stdout",
          "text": [
            "The number list:\n",
            " [100, 101, 102, 103, 104, 105, 106, 107, 108, 109, 110, 111, 112, 113, 114, 115, 116, 117, 118, 119, 120, 121, 122, 123, 124, 125, 126, 127, 128, 129, 130, 131, 132, 133, 134, 135, 136, 137, 138, 139, 140, 141, 142, 143, 144, 145, 146, 147, 148, 149, 150, 151, 152, 153, 154, 155, 156, 157, 158, 159, 160, 161, 162, 163, 164, 165, 166, 167, 168, 169, 170, 171, 172, 173, 174, 175, 176, 177, 178, 179, 180, 181, 182, 183, 184, 185, 186, 187, 188, 189, 190, 191, 192, 193, 194, 195, 196, 197, 198, 199, 200, 201, 202, 203, 204, 205, 206, 207, 208, 209, 210, 211, 212, 213, 214, 215, 216, 217, 218, 219, 220, 221, 222, 223, 224, 225, 226, 227, 228, 229, 230, 231, 232, 233, 234, 235, 236, 237, 238, 239, 240, 241, 242, 243, 244, 245, 246, 247, 248, 249, 250, 251, 252, 253, 254, 255, 256, 257, 258, 259, 260, 261, 262, 263, 264, 265, 266, 267, 268, 269, 270, 271, 272, 273, 274, 275, 276, 277, 278, 279, 280, 281, 282, 283, 284, 285, 286, 287, 288, 289, 290, 291, 292, 293, 294, 295, 296, 297, 298, 299, 300, 301, 302, 303, 304, 305, 306, 307, 308, 309, 310, 311, 312, 313, 314, 315, 316, 317, 318, 319, 320, 321, 322, 323, 324, 325, 326, 327, 328, 329, 330, 331, 332, 333, 334, 335, 336, 337, 338, 339, 340, 341, 342, 343, 344, 345, 346, 347, 348, 349, 350, 351, 352, 353, 354, 355, 356, 357, 358, 359, 360, 361, 362, 363, 364, 365, 366, 367, 368, 369, 370, 371, 372, 373, 374, 375, 376, 377, 378, 379, 380, 381, 382, 383, 384, 385, 386, 387, 388, 389, 390, 391, 392, 393, 394, 395, 396, 397, 398, 399, 400, 401, 402, 403, 404, 405, 406, 407, 408, 409, 410, 411, 412, 413, 414, 415, 416, 417, 418, 419, 420, 421, 422, 423, 424, 425, 426, 427, 428, 429, 430, 431, 432, 433, 434, 435, 436, 437, 438, 439, 440, 441, 442, 443, 444, 445, 446, 447, 448, 449, 450, 451, 452, 453, 454, 455, 456, 457, 458, 459, 460, 461, 462, 463, 464, 465, 466, 467, 468, 469, 470, 471, 472, 473, 474, 475, 476, 477, 478, 479, 480, 481, 482, 483, 484, 485, 486, 487, 488, 489, 490, 491, 492, 493, 494, 495, 496, 497, 498, 499, 500]\n",
            "The even list:\n",
            " [100, 102, 104, 106, 108, 110, 112, 114, 116, 118, 120, 122, 124, 126, 128, 130, 132, 134, 136, 138, 140, 142, 144, 146, 148, 150, 152, 154, 156, 158, 160, 162, 164, 166, 168, 170, 172, 174, 176, 178, 180, 182, 184, 186, 188, 190, 192, 194, 196, 198, 200, 202, 204, 206, 208, 210, 212, 214, 216, 218, 220, 222, 224, 226, 228, 230, 232, 234, 236, 238, 240, 242, 244, 246, 248, 250, 252, 254, 256, 258, 260, 262, 264, 266, 268, 270, 272, 274, 276, 278, 280, 282, 284, 286, 288, 290, 292, 294, 296, 298, 300, 302, 304, 306, 308, 310, 312, 314, 316, 318, 320, 322, 324, 326, 328, 330, 332, 334, 336, 338, 340, 342, 344, 346, 348, 350, 352, 354, 356, 358, 360, 362, 364, 366, 368, 370, 372, 374, 376, 378, 380, 382, 384, 386, 388, 390, 392, 394, 396, 398, 400, 402, 404, 406, 408, 410, 412, 414, 416, 418, 420, 422, 424, 426, 428, 430, 432, 434, 436, 438, 440, 442, 444, 446, 448, 450, 452, 454, 456, 458, 460, 462, 464, 466, 468, 470, 472, 474, 476, 478, 480, 482, 484, 486, 488, 490, 492, 494, 496, 498, 500]\n",
            "The odd list:\n",
            " [101, 103, 105, 107, 109, 111, 113, 115, 117, 119, 121, 123, 125, 127, 129, 131, 133, 135, 137, 139, 141, 143, 145, 147, 149, 151, 153, 155, 157, 159, 161, 163, 165, 167, 169, 171, 173, 175, 177, 179, 181, 183, 185, 187, 189, 191, 193, 195, 197, 199, 201, 203, 205, 207, 209, 211, 213, 215, 217, 219, 221, 223, 225, 227, 229, 231, 233, 235, 237, 239, 241, 243, 245, 247, 249, 251, 253, 255, 257, 259, 261, 263, 265, 267, 269, 271, 273, 275, 277, 279, 281, 283, 285, 287, 289, 291, 293, 295, 297, 299, 301, 303, 305, 307, 309, 311, 313, 315, 317, 319, 321, 323, 325, 327, 329, 331, 333, 335, 337, 339, 341, 343, 345, 347, 349, 351, 353, 355, 357, 359, 361, 363, 365, 367, 369, 371, 373, 375, 377, 379, 381, 383, 385, 387, 389, 391, 393, 395, 397, 399, 401, 403, 405, 407, 409, 411, 413, 415, 417, 419, 421, 423, 425, 427, 429, 431, 433, 435, 437, 439, 441, 443, 445, 447, 449, 451, 453, 455, 457, 459, 461, 463, 465, 467, 469, 471, 473, 475, 477, 479, 481, 483, 485, 487, 489, 491, 493, 495, 497, 499]\n"
          ]
        }
      ]
    },
    {
      "cell_type": "code",
      "source": [
        "for i in range(1,6):\n",
        "  for i in range(1,i+1):\n",
        "    print(i,end=\" \")\n",
        "  print(\"\\n\")"
      ],
      "metadata": {
        "colab": {
          "base_uri": "https://localhost:8080/"
        },
        "id": "AW6zw1cw0xPZ",
        "outputId": "f5621f5c-2d5c-4afd-e96c-11c4569ab07d"
      },
      "execution_count": null,
      "outputs": [
        {
          "output_type": "stream",
          "name": "stdout",
          "text": [
            "1 \n",
            "\n",
            "1 2 \n",
            "\n",
            "1 2 3 \n",
            "\n",
            "1 2 3 4 \n",
            "\n",
            "1 2 3 4 5 \n",
            "\n"
          ]
        }
      ]
    },
    {
      "cell_type": "code",
      "source": [
        "for i in range(1,6):\n",
        "  for i in range(i,0,-1):\n",
        "    print(i,end=\" \")\n",
        "  print(\"\\n\")"
      ],
      "metadata": {
        "colab": {
          "base_uri": "https://localhost:8080/"
        },
        "id": "BfTlsfM93G2c",
        "outputId": "20ca3dc7-5039-4bf9-9fed-a24f5c96229a"
      },
      "execution_count": null,
      "outputs": [
        {
          "output_type": "stream",
          "name": "stdout",
          "text": [
            "1 \n",
            "\n",
            "2 1 \n",
            "\n",
            "3 2 1 \n",
            "\n",
            "4 3 2 1 \n",
            "\n",
            "5 4 3 2 1 \n",
            "\n"
          ]
        }
      ]
    },
    {
      "cell_type": "code",
      "source": [
        "details = {\"Name\":\"James\",\"Age\":21,\"Gender\":\"Male\"}\n",
        "for i in details:\n",
        "  print(details[i])\n",
        "print(\"\\n\")\n",
        "for i in details:\n",
        "  print(i)"
      ],
      "metadata": {
        "colab": {
          "base_uri": "https://localhost:8080/"
        },
        "id": "5lv4ekCq3mWg",
        "outputId": "175e9013-3c6c-4b0d-b453-98ae1523c822"
      },
      "execution_count": null,
      "outputs": [
        {
          "output_type": "stream",
          "name": "stdout",
          "text": [
            "James\n",
            "21\n",
            "Male\n",
            "\n",
            "\n",
            "Name\n",
            "Age\n",
            "Gender\n"
          ]
        }
      ]
    },
    {
      "cell_type": "code",
      "source": [
        "# 17/07/2024"
      ],
      "metadata": {
        "id": "4Qa1l0SW7Y7V"
      },
      "execution_count": null,
      "outputs": []
    },
    {
      "cell_type": "code",
      "source": [
        "employees = [\n",
        "    {\"id\":1000,\"name\":\"hari\",\"dept\":\"devop\",\"salary\":34000},\n",
        "    {\"id\":1001,\"name\":\"ravi\",\"dept\":\"devop\",\"salary\":24000},\n",
        "    {\"id\":1002,\"name\":\"ram\",\"dept\":\"qa\",\"salary\":37000},\n",
        "    {\"id\":1003,\"name\":\"ajay\",\"dept\":\"ga\",\"salary\":14000},\n",
        "    {\"id\":1004,\"name\":\"anu\",\"dept\":\"ba\",\"salary\":54000},\n",
        "    {\"id\":1005,\"name\":\"tini\",\"dept\":\"qa\",\"salary\":64000},]"
      ],
      "metadata": {
        "id": "W5cv7avZ4-wD"
      },
      "execution_count": null,
      "outputs": []
    },
    {
      "cell_type": "code",
      "source": [
        "for i in employees:\n",
        "  if i[\"salary\"]<25000:\n",
        "    print(i[\"name\"])"
      ],
      "metadata": {
        "colab": {
          "base_uri": "https://localhost:8080/"
        },
        "id": "zQyrvkfk5BVE",
        "outputId": "0cd0fb96-455e-4529-c8bd-e34f84ca615c"
      },
      "execution_count": null,
      "outputs": [
        {
          "output_type": "stream",
          "name": "stdout",
          "text": [
            "ravi\n",
            "ajay\n"
          ]
        }
      ]
    },
    {
      "cell_type": "code",
      "source": [
        "for i in employees:\n",
        "  if i[\"dept\"]==\"devop\":\n",
        "    print(i[\"name\"])"
      ],
      "metadata": {
        "colab": {
          "base_uri": "https://localhost:8080/"
        },
        "id": "tsNgT-Ne6Eip",
        "outputId": "f55f0e81-73d3-4af4-8bbf-a905e2d8ed2d"
      },
      "execution_count": null,
      "outputs": [
        {
          "output_type": "stream",
          "name": "stdout",
          "text": [
            "hari\n",
            "ravi\n"
          ]
        }
      ]
    },
    {
      "cell_type": "code",
      "source": [
        "allNnumber = []\n",
        "odd = []\n",
        "even = []\n",
        "d = {}\n",
        "n = int(input(\"Enter how many numbers are inputing: \"))\n",
        "print(\"\\n\")\n",
        "for i in range(n):\n",
        "  num = int(input(\"Enter the number: \"))\n",
        "  allNnumber.append(num)\n",
        "print(\"\\nInputed numbers are:\",allNnumber)\n",
        "for i in allNnumber:\n",
        "  if i%2 == 0:\n",
        "    even.append(i)\n",
        "  else:\n",
        "    odd.append(i)\n",
        "print(\"Odd numbers are:\",odd)\n",
        "print(\"Even numbers are:\",even)\n",
        "\n",
        "for i in allNnumber:\n",
        "  d[i] = allNnumber.count(i)\n",
        "print(\"The dictionary is:\",d)"
      ],
      "metadata": {
        "colab": {
          "base_uri": "https://localhost:8080/"
        },
        "id": "E4S4pFUe8RTY",
        "outputId": "7951fb63-33ea-4056-e55a-4944d3476d5e"
      },
      "execution_count": null,
      "outputs": [
        {
          "output_type": "stream",
          "name": "stdout",
          "text": [
            "Enter how many numbers are inputing: 10\n",
            "\n",
            "\n",
            "Enter the number: 1\n",
            "Enter the number: 2\n",
            "Enter the number: 5\n",
            "Enter the number: 2\n",
            "Enter the number: 6\n",
            "Enter the number: 1\n",
            "Enter the number: 1\n",
            "Enter the number: 7\n",
            "Enter the number: 3\n",
            "Enter the number: 2\n",
            "\n",
            "Inputed numbers are: [1, 2, 5, 2, 6, 1, 1, 7, 3, 2]\n",
            "Odd numbers are: [1, 5, 1, 1, 7, 3]\n",
            "Even numbers are: [2, 2, 6, 2]\n",
            "The dictionary is: {1: 3, 2: 3, 5: 1, 6: 1, 7: 1, 3: 1}\n"
          ]
        }
      ]
    },
    {
      "cell_type": "code",
      "source": [
        "for i in d:\n",
        "  if i not in d:\n",
        "    d[i]=1\n",
        "  else:\n",
        "    d[i]=d[i]+1\n",
        "print(d)"
      ],
      "metadata": {
        "colab": {
          "base_uri": "https://localhost:8080/"
        },
        "id": "2gRhCogsCjj_",
        "outputId": "2163cb2f-a2a9-431b-9509-01a1313eee51"
      },
      "execution_count": null,
      "outputs": [
        {
          "output_type": "stream",
          "name": "stdout",
          "text": [
            "{1: 4, 2: 4, 5: 2, 6: 2, 7: 2, 3: 2}\n"
          ]
        }
      ]
    },
    {
      "cell_type": "code",
      "source": [],
      "metadata": {
        "id": "YDRqwZLcJBdh"
      },
      "execution_count": null,
      "outputs": []
    }
  ]
}