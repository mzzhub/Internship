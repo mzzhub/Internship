{
  "nbformat": 4,
  "nbformat_minor": 0,
  "metadata": {
    "colab": {
      "provenance": []
    },
    "kernelspec": {
      "name": "python3",
      "display_name": "Python 3"
    },
    "language_info": {
      "name": "python"
    }
  },
  "cells": [
    {
      "cell_type": "markdown",
      "source": [
        "# Create a function that validates whether three given integers form a **Pythagorean triplet**.\n",
        "* The sum of the squares of the two smallest integers must equal the square of the largest number to be validated.\n",
        "* Eg:\n",
        "    * input\n",
        "            is_triplet(3, 4, 5)\n",
        "    * output        \n",
        "            True\n",
        "    * since,\n",
        "\\begin{align*}\n",
        "3^2 + 4^2 &= 25 \\\\\n",
        "5^2 &= 25\n",
        "\\end{align*}\n",
        "\n"
      ],
      "metadata": {
        "id": "322RIdY2drbT"
      }
    },
    {
      "cell_type": "markdown",
      "source": [
        "# **Solution**"
      ],
      "metadata": {
        "id": "2vP0h4Bsewxj"
      }
    },
    {
      "cell_type": "code",
      "execution_count": 12,
      "metadata": {
        "id": "-Eecc6FjdcBL"
      },
      "outputs": [],
      "source": [
        "def is_triplet(a, b, c):\n",
        "    list01 = [a, b, c]\n",
        "    list01.sort()\n",
        "    condition = (list01[0]**2) + (list01[1]**2) == (list01[2]**2)\n",
        "    return condition"
      ]
    },
    {
      "cell_type": "code",
      "source": [
        "test_cases = [\n",
        "    (3, 4, 5),    # True\n",
        "    (5, 12, 13),  # True\n",
        "    (25, 7, 24),  # True, unsorted\n",
        "    (17, 15, 8),  # True, unsorted\n",
        "    (41, 9, 40),  # True, unsorted\n",
        "    (4, 3, 2),    # False, unsorted\n",
        "    (12, 10, 15), # False, unsorted\n",
        "    (12, 7, 10),  # False, unsorted\n",
        "    (18, 11, 14), # False, unsorted\n",
        "    (6, 8, 7)     # False, unsorted\n",
        "]"
      ],
      "metadata": {
        "id": "S5emCttIfgkB"
      },
      "execution_count": 13,
      "outputs": []
    },
    {
      "cell_type": "code",
      "source": [
        "for a, b, c in test_cases:\n",
        "    result = is_triplet(a, b, c)\n",
        "    print(f\"is_triplet({a}, {b}, {c}) -> {result}\")"
      ],
      "metadata": {
        "colab": {
          "base_uri": "https://localhost:8080/"
        },
        "id": "bNwog7VVgms-",
        "outputId": "8f83c884-191c-46d1-ad64-f4f00d4130d0"
      },
      "execution_count": 14,
      "outputs": [
        {
          "output_type": "stream",
          "name": "stdout",
          "text": [
            "is_triplet(3, 4, 5) -> True\n",
            "is_triplet(5, 12, 13) -> True\n",
            "is_triplet(25, 7, 24) -> True\n",
            "is_triplet(17, 15, 8) -> True\n",
            "is_triplet(41, 9, 40) -> True\n",
            "is_triplet(4, 3, 2) -> False\n",
            "is_triplet(12, 10, 15) -> False\n",
            "is_triplet(12, 7, 10) -> False\n",
            "is_triplet(18, 11, 14) -> False\n",
            "is_triplet(6, 8, 7) -> False\n"
          ]
        }
      ]
    }
  ]
}