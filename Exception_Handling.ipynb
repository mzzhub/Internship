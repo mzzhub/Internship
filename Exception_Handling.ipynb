{
  "nbformat": 4,
  "nbformat_minor": 0,
  "metadata": {
    "colab": {
      "provenance": []
    },
    "kernelspec": {
      "name": "python3",
      "display_name": "Python 3"
    },
    "language_info": {
      "name": "python"
    }
  },
  "cells": [
    {
      "cell_type": "markdown",
      "source": [
        "Exception handling allows you to separate error-handling code from normal code.\n",
        "\n",
        "'try:' and 'except:' statements are used to catch and handle exceptions in Python.\n",
        "\n",
        "Statements that can raise exceptions are kept inside the 'try:' cleuse and the statements that handle the exception are written inside 'except:' clause."
      ],
      "metadata": {
        "id": "zheth9Yjvv2D"
      }
    },
    {
      "cell_type": "code",
      "source": [
        "try:\n",
        "    # code that may cause exception.\n",
        "    pass\n",
        "except:\n",
        "    # code to run when exception occurs.\n",
        "    pass\n",
        "else:\n",
        "    # code to run when exception did not occour.\n",
        "    pass\n",
        "finally:\n",
        "    # code that will always excecute.\n",
        "    pass"
      ],
      "metadata": {
        "id": "eoz8zE_Gwcpm"
      },
      "execution_count": null,
      "outputs": []
    },
    {
      "cell_type": "code",
      "execution_count": null,
      "metadata": {
        "colab": {
          "base_uri": "https://localhost:8080/"
        },
        "id": "fxH4_EQkziwV",
        "outputId": "ee444037-aa14-4dcc-8eb3-b98b9fba9dae"
      },
      "outputs": [
        {
          "output_type": "stream",
          "name": "stdout",
          "text": [
            "Num1: 10\n",
            "Num2: 2\n",
            "5.0\n"
          ]
        }
      ],
      "source": [
        "num1 = int(input(\"Num1: \"))\n",
        "num2 = int(input(\"Num2: \"))\n",
        "num3 = num1/num2\n",
        "print(num3)"
      ]
    },
    {
      "cell_type": "code",
      "source": [
        "# no problem on above event\n",
        "# here we have a problem\n",
        "# error : division by zero\n",
        "num1 = int(input(\"Num1: \"))\n",
        "num2 = int(input(\"Num2: \"))\n",
        "num3 = num1/num2\n",
        "print(num3)"
      ],
      "metadata": {
        "colab": {
          "base_uri": "https://localhost:8080/",
          "height": 228
        },
        "id": "uFnA4vyp1Lsj",
        "outputId": "8f4fc592-2476-46d7-d1fe-4969f770bc53"
      },
      "execution_count": null,
      "outputs": [
        {
          "name": "stdout",
          "output_type": "stream",
          "text": [
            "Num1: 10\n",
            "Num2: 0\n"
          ]
        },
        {
          "output_type": "error",
          "ename": "ZeroDivisionError",
          "evalue": "division by zero",
          "traceback": [
            "\u001b[0;31m---------------------------------------------------------------------------\u001b[0m",
            "\u001b[0;31mZeroDivisionError\u001b[0m                         Traceback (most recent call last)",
            "\u001b[0;32m<ipython-input-3-3659a31b49ba>\u001b[0m in \u001b[0;36m<cell line: 5>\u001b[0;34m()\u001b[0m\n\u001b[1;32m      3\u001b[0m \u001b[0mnum1\u001b[0m \u001b[0;34m=\u001b[0m \u001b[0mint\u001b[0m\u001b[0;34m(\u001b[0m\u001b[0minput\u001b[0m\u001b[0;34m(\u001b[0m\u001b[0;34m\"Num1: \"\u001b[0m\u001b[0;34m)\u001b[0m\u001b[0;34m)\u001b[0m\u001b[0;34m\u001b[0m\u001b[0;34m\u001b[0m\u001b[0m\n\u001b[1;32m      4\u001b[0m \u001b[0mnum2\u001b[0m \u001b[0;34m=\u001b[0m \u001b[0mint\u001b[0m\u001b[0;34m(\u001b[0m\u001b[0minput\u001b[0m\u001b[0;34m(\u001b[0m\u001b[0;34m\"Num2: \"\u001b[0m\u001b[0;34m)\u001b[0m\u001b[0;34m)\u001b[0m\u001b[0;34m\u001b[0m\u001b[0;34m\u001b[0m\u001b[0m\n\u001b[0;32m----> 5\u001b[0;31m \u001b[0mnum3\u001b[0m \u001b[0;34m=\u001b[0m \u001b[0mnum1\u001b[0m\u001b[0;34m/\u001b[0m\u001b[0mnum2\u001b[0m\u001b[0;34m\u001b[0m\u001b[0;34m\u001b[0m\u001b[0m\n\u001b[0m\u001b[1;32m      6\u001b[0m \u001b[0mprint\u001b[0m\u001b[0;34m(\u001b[0m\u001b[0mnum3\u001b[0m\u001b[0;34m)\u001b[0m\u001b[0;34m\u001b[0m\u001b[0;34m\u001b[0m\u001b[0m\n",
            "\u001b[0;31mZeroDivisionError\u001b[0m: division by zero"
          ]
        }
      ]
    },
    {
      "cell_type": "code",
      "source": [
        "# to solve that\n",
        "num1 = int(input(\"Num1: \"))\n",
        "num2 = int(input(\"Num2: \"))\n",
        "try:\n",
        "    num3 = num1/num2\n",
        "    print(num3)\n",
        "except:\n",
        "    print(\"An error exists.\")"
      ],
      "metadata": {
        "colab": {
          "base_uri": "https://localhost:8080/"
        },
        "id": "PJvqs4Jb1m6e",
        "outputId": "8d7ecf5a-57f4-4974-9167-8a73500fc415"
      },
      "execution_count": null,
      "outputs": [
        {
          "output_type": "stream",
          "name": "stdout",
          "text": [
            "Num1: 10\n",
            "Num2: 0\n",
            "An error exists.\n"
          ]
        }
      ]
    },
    {
      "cell_type": "code",
      "source": [
        "# num1 only take int.\n",
        "# if we give a string there.\n",
        "num1 = int(input(\"Num1: \"))\n",
        "num2 = int(input(\"Num2: \"))\n",
        "try:\n",
        "    num3 = num1/num2\n",
        "    print(num3)\n",
        "except:\n",
        "    print(\"An error exists.\")"
      ],
      "metadata": {
        "colab": {
          "base_uri": "https://localhost:8080/",
          "height": 228
        },
        "id": "_k4jl9qXV8JI",
        "outputId": "393d96b0-6790-4b94-8a4a-48b78748f2df"
      },
      "execution_count": null,
      "outputs": [
        {
          "name": "stdout",
          "output_type": "stream",
          "text": [
            "Num1: f\n"
          ]
        },
        {
          "output_type": "error",
          "ename": "ValueError",
          "evalue": "invalid literal for int() with base 10: 'f'",
          "traceback": [
            "\u001b[0;31m---------------------------------------------------------------------------\u001b[0m",
            "\u001b[0;31mValueError\u001b[0m                                Traceback (most recent call last)",
            "\u001b[0;32m<ipython-input-5-e04388fcc4df>\u001b[0m in \u001b[0;36m<cell line: 3>\u001b[0;34m()\u001b[0m\n\u001b[1;32m      1\u001b[0m \u001b[0;31m# num1 only take int.\u001b[0m\u001b[0;34m\u001b[0m\u001b[0;34m\u001b[0m\u001b[0m\n\u001b[1;32m      2\u001b[0m \u001b[0;31m# if we give a string there.\u001b[0m\u001b[0;34m\u001b[0m\u001b[0;34m\u001b[0m\u001b[0m\n\u001b[0;32m----> 3\u001b[0;31m \u001b[0mnum1\u001b[0m \u001b[0;34m=\u001b[0m \u001b[0mint\u001b[0m\u001b[0;34m(\u001b[0m\u001b[0minput\u001b[0m\u001b[0;34m(\u001b[0m\u001b[0;34m\"Num1: \"\u001b[0m\u001b[0;34m)\u001b[0m\u001b[0;34m)\u001b[0m\u001b[0;34m\u001b[0m\u001b[0;34m\u001b[0m\u001b[0m\n\u001b[0m\u001b[1;32m      4\u001b[0m \u001b[0mnum2\u001b[0m \u001b[0;34m=\u001b[0m \u001b[0mint\u001b[0m\u001b[0;34m(\u001b[0m\u001b[0minput\u001b[0m\u001b[0;34m(\u001b[0m\u001b[0;34m\"Num2: \"\u001b[0m\u001b[0;34m)\u001b[0m\u001b[0;34m)\u001b[0m\u001b[0;34m\u001b[0m\u001b[0;34m\u001b[0m\u001b[0m\n\u001b[1;32m      5\u001b[0m \u001b[0;32mtry\u001b[0m\u001b[0;34m:\u001b[0m\u001b[0;34m\u001b[0m\u001b[0;34m\u001b[0m\u001b[0m\n",
            "\u001b[0;31mValueError\u001b[0m: invalid literal for int() with base 10: 'f'"
          ]
        }
      ]
    },
    {
      "cell_type": "code",
      "source": [
        "# to solve that.\n",
        "try:\n",
        "    num1 = int(input(\"Num1: \"))\n",
        "    num2 = int(input(\"Num2: \"))\n",
        "    num3 = num1/num2\n",
        "    print(num3)\n",
        "except:\n",
        "    print(\"An error exists.\")"
      ],
      "metadata": {
        "colab": {
          "base_uri": "https://localhost:8080/"
        },
        "id": "s9GqaEH7WTtm",
        "outputId": "b6c9153e-46c2-4d63-c001-5ec1e8740719"
      },
      "execution_count": null,
      "outputs": [
        {
          "output_type": "stream",
          "name": "stdout",
          "text": [
            "Num1: f\n",
            "An error exists.\n"
          ]
        }
      ]
    },
    {
      "cell_type": "code",
      "source": [
        "# therefore if some error is occured at any moment inside the (try:) it will stop the executution there, and jump to the (except:) part."
      ],
      "metadata": {
        "id": "Lp_487AdWeO7"
      },
      "execution_count": null,
      "outputs": []
    },
    {
      "cell_type": "code",
      "source": [
        "# to automatically print the type of error\n",
        "try:\n",
        "    num1 = int(input(\"Num1: \"))\n",
        "    num2 = int(input(\"Num2: \"))\n",
        "    num3 = num1/num2\n",
        "    print(num3)\n",
        "except Exception as s: # note the Exception\n",
        "    print(s)"
      ],
      "metadata": {
        "colab": {
          "base_uri": "https://localhost:8080/"
        },
        "id": "PiAf-nmIWyqC",
        "outputId": "f55cf712-7f2c-46ed-9c89-fe462701a929"
      },
      "execution_count": null,
      "outputs": [
        {
          "output_type": "stream",
          "name": "stdout",
          "text": [
            "Num1: 10\n",
            "Num2: 0\n",
            "division by zero\n"
          ]
        }
      ]
    },
    {
      "cell_type": "code",
      "source": [
        "# same above program\n",
        "try:\n",
        "    num1 = int(input(\"Num1: \"))\n",
        "    num2 = int(input(\"Num2: \"))\n",
        "    num3 = num1/num2\n",
        "    print(num3)\n",
        "except Exception as s: # note the Exception\n",
        "    print(s)"
      ],
      "metadata": {
        "colab": {
          "base_uri": "https://localhost:8080/"
        },
        "id": "KlH4TGmqXBXf",
        "outputId": "9272d2e0-d546-4215-91ee-9c0795ba24b9"
      },
      "execution_count": null,
      "outputs": [
        {
          "output_type": "stream",
          "name": "stdout",
          "text": [
            "Num1: f\n",
            "invalid literal for int() with base 10: 'f'\n"
          ]
        }
      ]
    },
    {
      "cell_type": "code",
      "source": [
        "# to check for a perticular type of error.\n",
        "# give the keyword for the error instered of Exception\n",
        "try:\n",
        "    num1 = int(input(\"Num1: \"))\n",
        "    num2 = int(input(\"Num2: \"))\n",
        "    num3 = num1/num2\n",
        "    print(num3)\n",
        "except ZeroDivisionError as z:\n",
        "    print(z)"
      ],
      "metadata": {
        "colab": {
          "base_uri": "https://localhost:8080/"
        },
        "id": "4pYQLSpgXI9p",
        "outputId": "2b51eadc-cc7e-4eaa-93a6-e1eb71fd577a"
      },
      "execution_count": null,
      "outputs": [
        {
          "output_type": "stream",
          "name": "stdout",
          "text": [
            "Num1: 10\n",
            "Num2: 0\n",
            "division by zero\n"
          ]
        }
      ]
    },
    {
      "cell_type": "code",
      "source": [
        "# it cannot dectet any other error other than (division by zero) error\n",
        "try:\n",
        "    num1 = int(input(\"Num1: \"))\n",
        "    num2 = int(input(\"Num2: \"))\n",
        "    num3 = num1/num2\n",
        "    print(num3)\n",
        "except ZeroDivisionError as z:\n",
        "    print(z)"
      ],
      "metadata": {
        "colab": {
          "base_uri": "https://localhost:8080/",
          "height": 228
        },
        "id": "I705sAVvXtQj",
        "outputId": "29fd31fd-2e1a-4c7f-9291-cb7698ba061d"
      },
      "execution_count": null,
      "outputs": [
        {
          "name": "stdout",
          "output_type": "stream",
          "text": [
            "Num1: f\n"
          ]
        },
        {
          "output_type": "error",
          "ename": "ValueError",
          "evalue": "invalid literal for int() with base 10: 'f'",
          "traceback": [
            "\u001b[0;31m---------------------------------------------------------------------------\u001b[0m",
            "\u001b[0;31mValueError\u001b[0m                                Traceback (most recent call last)",
            "\u001b[0;32m<ipython-input-15-7d9e4b8bd438>\u001b[0m in \u001b[0;36m<cell line: 2>\u001b[0;34m()\u001b[0m\n\u001b[1;32m      1\u001b[0m \u001b[0;31m# it cannot dectet any other error other than (division by zero) error\u001b[0m\u001b[0;34m\u001b[0m\u001b[0;34m\u001b[0m\u001b[0m\n\u001b[1;32m      2\u001b[0m \u001b[0;32mtry\u001b[0m\u001b[0;34m:\u001b[0m\u001b[0;34m\u001b[0m\u001b[0;34m\u001b[0m\u001b[0m\n\u001b[0;32m----> 3\u001b[0;31m     \u001b[0mnum1\u001b[0m \u001b[0;34m=\u001b[0m \u001b[0mint\u001b[0m\u001b[0;34m(\u001b[0m\u001b[0minput\u001b[0m\u001b[0;34m(\u001b[0m\u001b[0;34m\"Num1: \"\u001b[0m\u001b[0;34m)\u001b[0m\u001b[0;34m)\u001b[0m\u001b[0;34m\u001b[0m\u001b[0;34m\u001b[0m\u001b[0m\n\u001b[0m\u001b[1;32m      4\u001b[0m     \u001b[0mnum2\u001b[0m \u001b[0;34m=\u001b[0m \u001b[0mint\u001b[0m\u001b[0;34m(\u001b[0m\u001b[0minput\u001b[0m\u001b[0;34m(\u001b[0m\u001b[0;34m\"Num2: \"\u001b[0m\u001b[0;34m)\u001b[0m\u001b[0;34m)\u001b[0m\u001b[0;34m\u001b[0m\u001b[0;34m\u001b[0m\u001b[0m\n\u001b[1;32m      5\u001b[0m     \u001b[0mnum3\u001b[0m \u001b[0;34m=\u001b[0m \u001b[0mnum1\u001b[0m\u001b[0;34m/\u001b[0m\u001b[0mnum2\u001b[0m\u001b[0;34m\u001b[0m\u001b[0;34m\u001b[0m\u001b[0m\n",
            "\u001b[0;31mValueError\u001b[0m: invalid literal for int() with base 10: 'f'"
          ]
        }
      ]
    },
    {
      "cell_type": "code",
      "source": [
        "# checking multiple, specific errors\n",
        "# this code can dectect both (ValueError) and (ZeroDivisionError)\n",
        "# but no other errors\n",
        "try:\n",
        "    num1 = int(input(\"Num1: \"))\n",
        "    num2 = int(input(\"Num2: \"))\n",
        "    num3 = num1/num2\n",
        "    print(num3)\n",
        "except ZeroDivisionError as z:\n",
        "    print(z)\n",
        "except ValueError as v:\n",
        "    print(v)"
      ],
      "metadata": {
        "colab": {
          "base_uri": "https://localhost:8080/"
        },
        "id": "Lmbb2dZyYEjo",
        "outputId": "4db87783-2ae4-47e5-95d5-c84dad41e460"
      },
      "execution_count": null,
      "outputs": [
        {
          "output_type": "stream",
          "name": "stdout",
          "text": [
            "Num1: f\n",
            "invalid literal for int() with base 10: 'f'\n"
          ]
        }
      ]
    },
    {
      "cell_type": "code",
      "source": [
        "# same above code\n",
        "try:\n",
        "    num1 = int(input(\"Num1: \"))\n",
        "    num2 = int(input(\"Num2: \"))\n",
        "    num3 = num1/num2\n",
        "    print(num3)\n",
        "except ZeroDivisionError as z:\n",
        "    print(z)\n",
        "except ValueError as v:\n",
        "    print(v)"
      ],
      "metadata": {
        "colab": {
          "base_uri": "https://localhost:8080/"
        },
        "id": "h9kyv2qBYNfP",
        "outputId": "6362a205-e139-4aed-fa94-ac158cd5138c"
      },
      "execution_count": null,
      "outputs": [
        {
          "output_type": "stream",
          "name": "stdout",
          "text": [
            "Num1: 1000\n",
            "Num2: 0\n",
            "division by zero\n"
          ]
        }
      ]
    },
    {
      "cell_type": "code",
      "source": [
        "# this code, when any error is happended inside the (try:), it will check if it is (ZeroDivisionError). if it is, then it will print \"division by zero\". if not, it will check if the error is (ValieError). if it is, then it will print \"invalid literal ......\".if not, then it will go to the (except:) and execute it.\n",
        "\n",
        "# here the actual error is (unsupported operand type(s) for /: 'str' and 'int'). but the code just execute the (except:)\n",
        "\n",
        "try:\n",
        "    num1 = (input(\"Num1: \"))\n",
        "    num2 = int(input(\"Num2: \"))\n",
        "    num3 = num1/num2\n",
        "    print(num3)\n",
        "except ZeroDivisionError as z:\n",
        "    print(z)\n",
        "except ValueError as v:\n",
        "    print(v)\n",
        "except:\n",
        "    print(\"Unknown error dectected.....................\")"
      ],
      "metadata": {
        "colab": {
          "base_uri": "https://localhost:8080/"
        },
        "id": "W3OOnAYGYw53",
        "outputId": "73e85c2e-d4be-4c95-a30f-37126b634089"
      },
      "execution_count": null,
      "outputs": [
        {
          "output_type": "stream",
          "name": "stdout",
          "text": [
            "Num1: f\n",
            "Num2: 10\n",
            "Unknown error dectected.....................\n"
          ]
        }
      ]
    },
    {
      "cell_type": "code",
      "source": [
        "try:\n",
        "    num1 = int(input(\"Num1: \"))\n",
        "    num2 = int(input(\"Num2: \"))\n",
        "    num3 = num1/num2\n",
        "    print(num3)\n",
        "except Exception as s:\n",
        "    print(s)\n",
        "else:\n",
        "    print(\"No error.\")\n",
        "finally:\n",
        "    print(\"Completed\")"
      ],
      "metadata": {
        "colab": {
          "base_uri": "https://localhost:8080/"
        },
        "id": "ydXQKKsHxGWV",
        "outputId": "c5157b51-ed6c-4794-d6b6-e4d135d9fdf8"
      },
      "execution_count": null,
      "outputs": [
        {
          "output_type": "stream",
          "name": "stdout",
          "text": [
            "Num1: 10\n",
            "Num2: 5\n",
            "2.0\n",
            "No error.\n",
            "Completed\n"
          ]
        }
      ]
    },
    {
      "cell_type": "code",
      "source": [
        "try:\n",
        "    num1 = int(input(\"Num1: \"))\n",
        "    num2 = int(input(\"Num2: \"))\n",
        "    num3 = num1/num2\n",
        "    print(num3)\n",
        "except Exception as s:\n",
        "    print(s)\n",
        "else:\n",
        "    print(\"No error.\")\n",
        "finally:\n",
        "    print(\"Completed\")"
      ],
      "metadata": {
        "colab": {
          "base_uri": "https://localhost:8080/"
        },
        "id": "1b6mjJO1xS2V",
        "outputId": "899cfe34-ddc2-47ad-af4b-0249f1f1b866"
      },
      "execution_count": null,
      "outputs": [
        {
          "output_type": "stream",
          "name": "stdout",
          "text": [
            "Num1: 10\n",
            "Num2: 0\n",
            "division by zero\n",
            "Completed\n"
          ]
        }
      ]
    },
    {
      "cell_type": "code",
      "source": [
        "try:\n",
        "    num1 = int(input(\"Num1: \"))\n",
        "    num2 = int(input(\"Num2: \"))\n",
        "    num3 = num1/num2\n",
        "    print(num3)\n",
        "except Exception as s:\n",
        "    print(s)\n",
        "else:\n",
        "    print(\"No error.\")\n",
        "finally:\n",
        "    print(\"Completed\")"
      ],
      "metadata": {
        "colab": {
          "base_uri": "https://localhost:8080/"
        },
        "id": "eJrgsSwrxbvR",
        "outputId": "0356fe23-f375-417c-adaa-83827b50e4ad"
      },
      "execution_count": null,
      "outputs": [
        {
          "output_type": "stream",
          "name": "stdout",
          "text": [
            "Num1: 10\n",
            "Num2: f\n",
            "invalid literal for int() with base 10: 'f'\n",
            "Completed\n"
          ]
        }
      ]
    }
  ]
}