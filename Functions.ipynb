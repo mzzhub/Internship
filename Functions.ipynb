{
  "nbformat": 4,
  "nbformat_minor": 0,
  "metadata": {
    "colab": {
      "provenance": []
    },
    "kernelspec": {
      "name": "python3",
      "display_name": "Python 3"
    },
    "language_info": {
      "name": "python"
    }
  },
  "cells": [
    {
      "cell_type": "markdown",
      "source": [
        "*   A function is a block of code which only runs when it is called.\n",
        "*   You can pass data,known as parameters,into a function.\n",
        "*   A function can return data as a result."
      ],
      "metadata": {
        "id": "XkxdzyeLqvEw"
      }
    },
    {
      "cell_type": "code",
      "source": [
        "# with argument\n",
        "def functionName(parameter1,parameter2):\n",
        "  print(parameter1 + 3)\n",
        "  print(parameter2)\n",
        "  return parameter1"
      ],
      "metadata": {
        "id": "e8YT2Cmtpkcv"
      },
      "execution_count": 5,
      "outputs": []
    },
    {
      "cell_type": "code",
      "source": [
        "functionName(3,\"jack\")"
      ],
      "metadata": {
        "colab": {
          "base_uri": "https://localhost:8080/"
        },
        "id": "KR82EmxurlAa",
        "outputId": "071bbed0-e29f-4ba2-b0a8-27fb48c64c69"
      },
      "execution_count": 12,
      "outputs": [
        {
          "output_type": "stream",
          "name": "stdout",
          "text": [
            "6\n",
            "jack\n"
          ]
        },
        {
          "output_type": "execute_result",
          "data": {
            "text/plain": [
              "3"
            ]
          },
          "metadata": {},
          "execution_count": 12
        }
      ]
    },
    {
      "cell_type": "code",
      "source": [
        "# without argument\n",
        "\n",
        "def FunctionName2():\n",
        "  a = int(input(\"Enter number1: \"))\n",
        "  b = int(input(\"Enter number2: \"))\n",
        "  return a+b"
      ],
      "metadata": {
        "id": "SoDiLMKvro-M"
      },
      "execution_count": 7,
      "outputs": []
    },
    {
      "cell_type": "code",
      "source": [
        "FunctionName2()"
      ],
      "metadata": {
        "colab": {
          "base_uri": "https://localhost:8080/"
        },
        "id": "3Qe5pET2somJ",
        "outputId": "e743bd6e-875e-4080-df5e-7e0feb80cebf"
      },
      "execution_count": 8,
      "outputs": [
        {
          "name": "stdout",
          "output_type": "stream",
          "text": [
            "Enter number1: 3\n",
            "Enter number2: 5\n"
          ]
        },
        {
          "output_type": "execute_result",
          "data": {
            "text/plain": [
              "8"
            ]
          },
          "metadata": {},
          "execution_count": 8
        }
      ]
    },
    {
      "cell_type": "code",
      "source": [
        "# function without arguments and without return type\n",
        "def functionName3():\n",
        "  a = int(input('enter the numberl: '))\n",
        "  b = int(input('enter the number2: '))\n",
        "  sum = a + b\n",
        "  print(sum)\n",
        "\n",
        "print(functionName3())"
      ],
      "metadata": {
        "colab": {
          "base_uri": "https://localhost:8080/"
        },
        "id": "7Yw8M5husrRO",
        "outputId": "997b87ca-8878-4364-9b67-946bc21093b5"
      },
      "execution_count": 10,
      "outputs": [
        {
          "output_type": "stream",
          "name": "stdout",
          "text": [
            "enter the numberl: 3\n",
            "enter the number2: 6\n",
            "9\n",
            "None\n"
          ]
        }
      ]
    },
    {
      "cell_type": "code",
      "source": [
        "def subFunction():\n",
        "  a = int(input(\"Enter number1: \"))\n",
        "  b = int(input(\"Enter number2: \"))\n",
        "  sub = a - b\n",
        "  if sub < 0:\n",
        "    sub = sub * -1\n",
        "  print(sub)"
      ],
      "metadata": {
        "id": "eH8OFY3_ujAy"
      },
      "execution_count": 24,
      "outputs": []
    },
    {
      "cell_type": "code",
      "source": [
        "subFunction()"
      ],
      "metadata": {
        "colab": {
          "base_uri": "https://localhost:8080/"
        },
        "id": "WUr1GE40vTSE",
        "outputId": "ff77caf9-b9f9-42ee-bce2-53ddb5964a68"
      },
      "execution_count": 25,
      "outputs": [
        {
          "output_type": "stream",
          "name": "stdout",
          "text": [
            "Enter number1: 3\n",
            "Enter number2: 5\n",
            "2\n"
          ]
        }
      ]
    },
    {
      "cell_type": "code",
      "source": [
        "# non-defaul arguments cannot be added after default arguments while defigning a function\n",
        "def add(a,b,c = 50, d = 20):\n",
        "  add = a + b + c + d\n",
        "  return add"
      ],
      "metadata": {
        "id": "OxKElQpmvV-J"
      },
      "execution_count": 30,
      "outputs": []
    },
    {
      "cell_type": "code",
      "source": [
        "add(3,2,3)"
      ],
      "metadata": {
        "colab": {
          "base_uri": "https://localhost:8080/"
        },
        "id": "mGNfLWLgz5HR",
        "outputId": "915d9660-92bd-4f10-f110-83fe9eac349d"
      },
      "execution_count": 32,
      "outputs": [
        {
          "output_type": "execute_result",
          "data": {
            "text/plain": [
              "28"
            ]
          },
          "metadata": {},
          "execution_count": 32
        }
      ]
    },
    {
      "cell_type": "code",
      "source": [
        "def factorial(n):\n",
        "  f = 1\n",
        "  if n < 0:\n",
        "    print(\"Factorial does not exist for negative numbers.\")\n",
        "  elif n == 0:\n",
        "    print(\"0! = 1\")\n",
        "  else:\n",
        "    for i in range(1,n+1):\n",
        "      f = f*i\n",
        "    print(str(n)+'! =',f)"
      ],
      "metadata": {
        "id": "k42IoQk00Faj"
      },
      "execution_count": 59,
      "outputs": []
    },
    {
      "cell_type": "code",
      "source": [
        "factorial(5)"
      ],
      "metadata": {
        "colab": {
          "base_uri": "https://localhost:8080/"
        },
        "id": "rVY3NBcO1D13",
        "outputId": "049732bb-642a-4e03-952c-76dfdbb89704"
      },
      "execution_count": 63,
      "outputs": [
        {
          "output_type": "stream",
          "name": "stdout",
          "text": [
            "5! = 120\n"
          ]
        }
      ]
    }
  ]
}