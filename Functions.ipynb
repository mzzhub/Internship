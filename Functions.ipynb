{
  "nbformat": 4,
  "nbformat_minor": 0,
  "metadata": {
    "colab": {
      "provenance": []
    },
    "kernelspec": {
      "name": "python3",
      "display_name": "Python 3"
    },
    "language_info": {
      "name": "python"
    }
  },
  "cells": [
    {
      "cell_type": "markdown",
      "source": [
        "*   A function is a block of code which only runs when it is called.\n",
        "*   You can pass data, known as parameters, into a function.\n",
        "*   A function can return data as a result."
      ],
      "metadata": {
        "id": "XkxdzyeLqvEw"
      }
    },
    {
      "cell_type": "code",
      "source": [
        "# with argument\n",
        "def functionName(parameter1,parameter2):\n",
        "    print(parameter1 + 3)\n",
        "    print(parameter2)\n",
        "    return parameter1"
      ],
      "metadata": {
        "id": "e8YT2Cmtpkcv"
      },
      "execution_count": null,
      "outputs": []
    },
    {
      "cell_type": "code",
      "source": [
        "functionName(3,\"jack\")"
      ],
      "metadata": {
        "colab": {
          "base_uri": "https://localhost:8080/"
        },
        "id": "KR82EmxurlAa",
        "outputId": "071bbed0-e29f-4ba2-b0a8-27fb48c64c69"
      },
      "execution_count": null,
      "outputs": [
        {
          "output_type": "stream",
          "name": "stdout",
          "text": [
            "6\n",
            "jack\n"
          ]
        },
        {
          "output_type": "execute_result",
          "data": {
            "text/plain": [
              "3"
            ]
          },
          "metadata": {},
          "execution_count": 12
        }
      ]
    },
    {
      "cell_type": "code",
      "source": [
        "# without argument\n",
        "\n",
        "def FunctionName2():\n",
        "    a = int(input(\"Enter number1: \"))\n",
        "    b = int(input(\"Enter number2: \"))\n",
        "    return a+b"
      ],
      "metadata": {
        "id": "SoDiLMKvro-M"
      },
      "execution_count": null,
      "outputs": []
    },
    {
      "cell_type": "code",
      "source": [
        "FunctionName2()"
      ],
      "metadata": {
        "colab": {
          "base_uri": "https://localhost:8080/"
        },
        "id": "3Qe5pET2somJ",
        "outputId": "e743bd6e-875e-4080-df5e-7e0feb80cebf"
      },
      "execution_count": null,
      "outputs": [
        {
          "name": "stdout",
          "output_type": "stream",
          "text": [
            "Enter number1: 3\n",
            "Enter number2: 5\n"
          ]
        },
        {
          "output_type": "execute_result",
          "data": {
            "text/plain": [
              "8"
            ]
          },
          "metadata": {},
          "execution_count": 8
        }
      ]
    },
    {
      "cell_type": "code",
      "source": [
        "# function without arguments and without return type\n",
        "def functionName3():\n",
        "    a = int(input('enter the numberl: '))\n",
        "    b = int(input('enter the number2: '))\n",
        "    sum = a + b\n",
        "    print(sum)\n",
        "\n",
        "print(functionName3())"
      ],
      "metadata": {
        "colab": {
          "base_uri": "https://localhost:8080/"
        },
        "id": "7Yw8M5husrRO",
        "outputId": "997b87ca-8878-4364-9b67-946bc21093b5"
      },
      "execution_count": null,
      "outputs": [
        {
          "output_type": "stream",
          "name": "stdout",
          "text": [
            "enter the numberl: 3\n",
            "enter the number2: 6\n",
            "9\n",
            "None\n"
          ]
        }
      ]
    },
    {
      "cell_type": "code",
      "source": [
        "def subFunction():\n",
        "    a = int(input(\"Enter number1: \"))\n",
        "    b = int(input(\"Enter number2: \"))\n",
        "    sub = a - b\n",
        "    if sub < 0:\n",
        "        sub = sub * -1\n",
        "    print(sub)"
      ],
      "metadata": {
        "id": "eH8OFY3_ujAy"
      },
      "execution_count": null,
      "outputs": []
    },
    {
      "cell_type": "code",
      "source": [
        "subFunction()"
      ],
      "metadata": {
        "colab": {
          "base_uri": "https://localhost:8080/"
        },
        "id": "WUr1GE40vTSE",
        "outputId": "ff77caf9-b9f9-42ee-bce2-53ddb5964a68"
      },
      "execution_count": null,
      "outputs": [
        {
          "output_type": "stream",
          "name": "stdout",
          "text": [
            "Enter number1: 3\n",
            "Enter number2: 5\n",
            "2\n"
          ]
        }
      ]
    },
    {
      "cell_type": "code",
      "source": [
        "# non-default arguments cannot be added after default arguments while defigning a function\n",
        "def add(a,b,c = 50, d = 20):\n",
        "    add = a + b + c + d\n",
        "    return add"
      ],
      "metadata": {
        "id": "OxKElQpmvV-J"
      },
      "execution_count": null,
      "outputs": []
    },
    {
      "cell_type": "code",
      "source": [
        "add(3,2,3)"
      ],
      "metadata": {
        "colab": {
          "base_uri": "https://localhost:8080/"
        },
        "id": "mGNfLWLgz5HR",
        "outputId": "915d9660-92bd-4f10-f110-83fe9eac349d"
      },
      "execution_count": null,
      "outputs": [
        {
          "output_type": "execute_result",
          "data": {
            "text/plain": [
              "28"
            ]
          },
          "metadata": {},
          "execution_count": 32
        }
      ]
    },
    {
      "cell_type": "code",
      "source": [
        "def factorial(n):\n",
        "    f = 1\n",
        "    if n < 0:\n",
        "        print(\"Factorial does not exist for negative numbers.\")\n",
        "    elif n == 0:\n",
        "        print(\"0! = 1\")\n",
        "    else:\n",
        "        for i in range(1,n+1):\n",
        "            f = f*i\n",
        "        print(str(n)+'! =',f)"
      ],
      "metadata": {
        "id": "k42IoQk00Faj"
      },
      "execution_count": null,
      "outputs": []
    },
    {
      "cell_type": "code",
      "source": [
        "factorial(5)"
      ],
      "metadata": {
        "colab": {
          "base_uri": "https://localhost:8080/"
        },
        "id": "rVY3NBcO1D13",
        "outputId": "049732bb-642a-4e03-952c-76dfdbb89704"
      },
      "execution_count": null,
      "outputs": [
        {
          "output_type": "stream",
          "name": "stdout",
          "text": [
            "5! = 120\n"
          ]
        }
      ]
    },
    {
      "cell_type": "code",
      "source": [
        "def sum1(a,b):\n",
        "    sum = a+b\n",
        "    return sum"
      ],
      "metadata": {
        "id": "ah8Xr8CXBmBG"
      },
      "execution_count": null,
      "outputs": []
    },
    {
      "cell_type": "code",
      "source": [
        "sum1(50,60)"
      ],
      "metadata": {
        "colab": {
          "base_uri": "https://localhost:8080/"
        },
        "id": "IQeoa4cuB2su",
        "outputId": "db6f9df1-77b3-438c-ebfe-330b7e429368"
      },
      "execution_count": null,
      "outputs": [
        {
          "output_type": "execute_result",
          "data": {
            "text/plain": [
              "110"
            ]
          },
          "metadata": {},
          "execution_count": 70
        }
      ]
    },
    {
      "cell_type": "code",
      "source": [
        "def sum2(a,b,c):\n",
        "    sum = a + b + c\n",
        "    return sum"
      ],
      "metadata": {
        "id": "rsbAyJg7B5Gg"
      },
      "execution_count": null,
      "outputs": []
    },
    {
      "cell_type": "code",
      "source": [
        "sum2(50,60,53)"
      ],
      "metadata": {
        "colab": {
          "base_uri": "https://localhost:8080/"
        },
        "id": "2Ujas2kQCQLZ",
        "outputId": "85697bdb-6858-4aaf-c3a3-c085e6df5b3c"
      },
      "execution_count": null,
      "outputs": [
        {
          "output_type": "execute_result",
          "data": {
            "text/plain": [
              "163"
            ]
          },
          "metadata": {},
          "execution_count": 73
        }
      ]
    },
    {
      "cell_type": "code",
      "source": [
        "def sum3(*args):\n",
        "    sum = 0\n",
        "    for i in args:\n",
        "        sum = sum+i\n",
        "    return sum"
      ],
      "metadata": {
        "id": "mTaiMtNDCTub"
      },
      "execution_count": null,
      "outputs": []
    },
    {
      "cell_type": "code",
      "source": [
        "sum3(3,2,2)"
      ],
      "metadata": {
        "colab": {
          "base_uri": "https://localhost:8080/"
        },
        "id": "ErMSLtEZCgJ6",
        "outputId": "8e20dd2b-4baf-48d7-eace-50a1e2362a13"
      },
      "execution_count": null,
      "outputs": [
        {
          "output_type": "execute_result",
          "data": {
            "text/plain": [
              "7"
            ]
          },
          "metadata": {},
          "execution_count": 91
        }
      ]
    },
    {
      "cell_type": "code",
      "source": [
        "def novovel(word):\n",
        "    v = 'aeiouAEIOU'\n",
        "    for k in word:\n",
        "        if k in v:\n",
        "            word = word.replace(k,\"\")\n",
        "    return word"
      ],
      "metadata": {
        "id": "2Z7QeCydCh_T"
      },
      "execution_count": null,
      "outputs": []
    },
    {
      "cell_type": "code",
      "source": [
        "novovel('hadhi MISHAB')"
      ],
      "metadata": {
        "colab": {
          "base_uri": "https://localhost:8080/",
          "height": 35
        },
        "id": "Jc1xBqOUDyaX",
        "outputId": "040732cb-edaa-40b9-fe9a-e7c4e6f17595"
      },
      "execution_count": null,
      "outputs": [
        {
          "output_type": "execute_result",
          "data": {
            "text/plain": [
              "'hdh MSHB'"
            ],
            "application/vnd.google.colaboratory.intrinsic+json": {
              "type": "string"
            }
          },
          "metadata": {},
          "execution_count": 2
        }
      ]
    },
    {
      "cell_type": "markdown",
      "source": [
        "#24/07/2024"
      ],
      "metadata": {
        "id": "sATWCU34B98p"
      }
    },
    {
      "cell_type": "code",
      "source": [
        "def sub(a,b):\n",
        "    if a<b:\n",
        "        (a,b) = (b,a)\n",
        "    return (a-b)\n",
        "\n",
        "def div(a,b):\n",
        "    if a<b:\n",
        "        (a,b) = (b,a)\n",
        "    return (a/b)"
      ],
      "metadata": {
        "id": "KaT9CxOGCA0-"
      },
      "execution_count": null,
      "outputs": []
    },
    {
      "cell_type": "code",
      "source": [
        "sub(6,3)"
      ],
      "metadata": {
        "colab": {
          "base_uri": "https://localhost:8080/"
        },
        "id": "NGtowk-eCGnY",
        "outputId": "3aa18f16-a710-40a7-df58-a63eea05e340"
      },
      "execution_count": null,
      "outputs": [
        {
          "output_type": "execute_result",
          "data": {
            "text/plain": [
              "3"
            ]
          },
          "metadata": {},
          "execution_count": 8
        }
      ]
    },
    {
      "cell_type": "code",
      "source": [
        "div(2,10)"
      ],
      "metadata": {
        "colab": {
          "base_uri": "https://localhost:8080/"
        },
        "id": "UOxqekYsCY6M",
        "outputId": "e5344be4-e3d0-4f3f-baff-866ef7c18aaa"
      },
      "execution_count": null,
      "outputs": [
        {
          "output_type": "execute_result",
          "data": {
            "text/plain": [
              "5.0"
            ]
          },
          "metadata": {},
          "execution_count": 9
        }
      ]
    },
    {
      "cell_type": "markdown",
      "source": [
        "# Decorator Function"
      ],
      "metadata": {
        "id": "1hViZ5dVGCmy"
      }
    },
    {
      "cell_type": "code",
      "source": [
        "def swap_num(fn):\n",
        "    def wrapper(n1,n2):\n",
        "        if n1<=n2:\n",
        "            (n1,n2) = (n2,n1)\n",
        "        return fn(n1,n2)\n",
        "    return wrapper\n",
        "\n",
        "@swap_num\n",
        "def sub(n1,n2):\n",
        "    return n1-n2\n",
        "\n",
        "@swap_num\n",
        "def div(n1,n2):\n",
        "    return n1/n2"
      ],
      "metadata": {
        "id": "3o-85Bt7CwNn"
      },
      "execution_count": null,
      "outputs": []
    },
    {
      "cell_type": "code",
      "source": [
        "div(3,21)"
      ],
      "metadata": {
        "colab": {
          "base_uri": "https://localhost:8080/"
        },
        "id": "OIpBKfGjG07v",
        "outputId": "32e139af-ac61-47bb-a7f2-edf2c3ce27a6"
      },
      "execution_count": null,
      "outputs": [
        {
          "output_type": "execute_result",
          "data": {
            "text/plain": [
              "7.0"
            ]
          },
          "metadata": {},
          "execution_count": 14
        }
      ]
    },
    {
      "cell_type": "markdown",
      "source": [
        "# Lambda Function\n",
        "Lambda Functions are similar to user defined functions but without a name.\n",
        "\n",
        "They're commonly referred to as anonymous functions.\n",
        "\n",
        "Syntax:\n",
        "\n",
        "lambda arguments:expression\n",
        "\n",
        "\n",
        "lambda is a keyword in Python for defining the anonymous function.\n",
        "\n",
        "arguments is a placeholder, that is a variable that will be used to hold the\n",
        "value you want to pass into the function expression.\n",
        "\n",
        "A lambda function can have multiple variables depending on what you want to acheive.\n",
        "\n",
        "expression is the code you want to execute in the lambda function."
      ],
      "metadata": {
        "id": "H2j51dkRKKoY"
      }
    },
    {
      "cell_type": "code",
      "source": [
        "# by saving the function to a variable\n",
        "y = lambda a:a+5"
      ],
      "metadata": {
        "id": "B_1gGgiRG3k6"
      },
      "execution_count": null,
      "outputs": []
    },
    {
      "cell_type": "code",
      "source": [
        "y(3)"
      ],
      "metadata": {
        "colab": {
          "base_uri": "https://localhost:8080/"
        },
        "id": "2YVP3JNRIKw3",
        "outputId": "2fe09a9b-3e6c-440c-fb39-24933589ba7b"
      },
      "execution_count": null,
      "outputs": [
        {
          "output_type": "execute_result",
          "data": {
            "text/plain": [
              "8"
            ]
          },
          "metadata": {},
          "execution_count": 20
        }
      ]
    },
    {
      "cell_type": "code",
      "source": [
        "# by calling it directly\n",
        "print((lambda k:k**2)(4))"
      ],
      "metadata": {
        "colab": {
          "base_uri": "https://localhost:8080/"
        },
        "id": "rs7JFaT8Kydb",
        "outputId": "aaf6fd01-7a29-4d61-bf92-42b204b314d0"
      },
      "execution_count": null,
      "outputs": [
        {
          "output_type": "stream",
          "name": "stdout",
          "text": [
            "16\n"
          ]
        }
      ]
    },
    {
      "cell_type": "code",
      "source": [
        "# multiple variable\n",
        "x = lambda a,b,c : a*b*c"
      ],
      "metadata": {
        "id": "aawEo9IdLDLi"
      },
      "execution_count": null,
      "outputs": []
    },
    {
      "cell_type": "code",
      "source": [
        "print(x(3,4,2))"
      ],
      "metadata": {
        "colab": {
          "base_uri": "https://localhost:8080/"
        },
        "id": "0uDJborZLVap",
        "outputId": "a728071d-a7e5-4c18-afd8-9e4595594111"
      },
      "execution_count": null,
      "outputs": [
        {
          "output_type": "stream",
          "name": "stdout",
          "text": [
            "24\n"
          ]
        }
      ]
    },
    {
      "cell_type": "code",
      "source": [
        "s = lambda h : h[::-1].upper()"
      ],
      "metadata": {
        "id": "FrSXPLNPLYsn"
      },
      "execution_count": null,
      "outputs": []
    },
    {
      "cell_type": "code",
      "source": [
        "s(\"jack\")"
      ],
      "metadata": {
        "colab": {
          "base_uri": "https://localhost:8080/",
          "height": 35
        },
        "id": "aDGS7SOKNMu5",
        "outputId": "d0a47cff-ca6e-4aae-a5a5-e7703a9c80a5"
      },
      "execution_count": null,
      "outputs": [
        {
          "output_type": "execute_result",
          "data": {
            "text/plain": [
              "'KCAJ'"
            ],
            "application/vnd.google.colaboratory.intrinsic+json": {
              "type": "string"
            }
          },
          "metadata": {},
          "execution_count": 26
        }
      ]
    },
    {
      "cell_type": "code",
      "source": [
        "q = lambda x,y : x-y if x>y else y-x"
      ],
      "metadata": {
        "id": "hLjA6HsBNO0p"
      },
      "execution_count": null,
      "outputs": []
    },
    {
      "cell_type": "code",
      "source": [
        "q(4,5)"
      ],
      "metadata": {
        "colab": {
          "base_uri": "https://localhost:8080/"
        },
        "id": "Pg32rQpdPo9D",
        "outputId": "1a87da17-28c4-4252-f8c8-e46ab66d9436"
      },
      "execution_count": null,
      "outputs": [
        {
          "output_type": "execute_result",
          "data": {
            "text/plain": [
              "1"
            ]
          },
          "metadata": {},
          "execution_count": 28
        }
      ]
    },
    {
      "cell_type": "code",
      "source": [
        "oe = lambda n : \"odd\" if n%2 == 1 else \"even\""
      ],
      "metadata": {
        "id": "EMfX9hRSPqlE"
      },
      "execution_count": null,
      "outputs": []
    },
    {
      "cell_type": "code",
      "source": [
        "oe(76)"
      ],
      "metadata": {
        "colab": {
          "base_uri": "https://localhost:8080/",
          "height": 35
        },
        "id": "S1wiXZjrQIW6",
        "outputId": "f58237ea-cc18-4129-d142-a37dfa2d1fc6"
      },
      "execution_count": null,
      "outputs": [
        {
          "output_type": "execute_result",
          "data": {
            "text/plain": [
              "'even'"
            ],
            "application/vnd.google.colaboratory.intrinsic+json": {
              "type": "string"
            }
          },
          "metadata": {},
          "execution_count": 31
        }
      ]
    },
    {
      "cell_type": "markdown",
      "source": [
        "# Filter function\n",
        "The filer function operates on a list and returns a subset of that list after\n",
        "applying the filter rule.\n",
        "\n",
        "The function filter( f, l ) needs a function f as it arguments.\n",
        "\n",
        "f returns a Boolean value. ie either true or false.\n",
        "\n",
        "this function will be applied to every element of the list l.\n",
        "\n",
        "only if f returns True will element of the list I.\n",
        "\n",
        "only if f returns True will the element of the list be included in the result list"
      ],
      "metadata": {
        "id": "70omsdDnSURM"
      }
    },
    {
      "cell_type": "code",
      "source": [
        "l1 = [33,44,56,21,80,2,5,7,4,1,0,765,100]"
      ],
      "metadata": {
        "id": "tyc0JV1aQJxj"
      },
      "execution_count": null,
      "outputs": []
    },
    {
      "cell_type": "code",
      "source": [
        "w = filter(lambda x : x%2==0, l1)"
      ],
      "metadata": {
        "id": "T901Jq3pS6qS"
      },
      "execution_count": null,
      "outputs": []
    },
    {
      "cell_type": "code",
      "source": [
        "print(w)"
      ],
      "metadata": {
        "colab": {
          "base_uri": "https://localhost:8080/"
        },
        "id": "gyGUMamPTI-9",
        "outputId": "b09ea020-09a4-49d3-aa01-86b784c4955f"
      },
      "execution_count": null,
      "outputs": [
        {
          "output_type": "stream",
          "name": "stdout",
          "text": [
            "<filter object at 0x7e63ff19bb50>\n"
          ]
        }
      ]
    },
    {
      "cell_type": "code",
      "source": [
        "print(list(w))"
      ],
      "metadata": {
        "colab": {
          "base_uri": "https://localhost:8080/"
        },
        "id": "Ze25_wVcTKKj",
        "outputId": "5664aa54-5cf5-4953-f88a-4f81d3d07d7c"
      },
      "execution_count": null,
      "outputs": [
        {
          "output_type": "stream",
          "name": "stdout",
          "text": [
            "[44, 56, 80, 2, 4, 0, 100]\n"
          ]
        }
      ]
    },
    {
      "cell_type": "code",
      "source": [
        "names =['bolu' 'arun','raju', 'ramu', 'dolu','rema']\n",
        "e = filter(lambda x : x[0]=='r',names)"
      ],
      "metadata": {
        "id": "TNU9WNSWTUc2"
      },
      "execution_count": null,
      "outputs": []
    },
    {
      "cell_type": "code",
      "source": [
        "print(list(e))"
      ],
      "metadata": {
        "colab": {
          "base_uri": "https://localhost:8080/"
        },
        "id": "vdMAkKW7Us-Y",
        "outputId": "a0ce386e-c537-4cb6-9a8a-8b26e7b2b405"
      },
      "execution_count": null,
      "outputs": [
        {
          "output_type": "stream",
          "name": "stdout",
          "text": [
            "['raju', 'ramu', 'rema']\n"
          ]
        }
      ]
    },
    {
      "cell_type": "markdown",
      "source": [
        "# Map Function\n",
        "The map() transforms a given list in to a new list by transforming each element using a rule, it is used to apply a function to each element of a list or any other iterable.\n",
        "\n",
        "This is very useful when we do vector mathematics.\n",
        "\n",
        "The map() function will take multiple list operates on then and return the output list.\n",
        "\n",
        "One thing to note is that all the list should be of the same size. because map() applies the function to corresponding elements in those lists.\n",
        "\n",
        "You use the map() function whenever you want to modify every value in interable"
      ],
      "metadata": {
        "id": "LVIIYlj5WMMA"
      }
    },
    {
      "cell_type": "code",
      "source": [
        "list1 = [2,3,4,5]\n",
        "print(list(map(lambda x:x**2, list1)))"
      ],
      "metadata": {
        "id": "khsD7FxOVFhk",
        "colab": {
          "base_uri": "https://localhost:8080/"
        },
        "outputId": "43fc7993-1880-43f0-b9d2-4d6ae452ba11"
      },
      "execution_count": null,
      "outputs": [
        {
          "output_type": "stream",
          "name": "stdout",
          "text": [
            "[4, 9, 16, 25]\n"
          ]
        }
      ]
    },
    {
      "cell_type": "code",
      "source": [
        "list2 = ['raju','ramu', 'dolu', 'bolu','rema']\n",
        "print(list(map(lambda x: x.startswith(\"r\") ,list2)))"
      ],
      "metadata": {
        "id": "5geFQfzXQuW8",
        "colab": {
          "base_uri": "https://localhost:8080/"
        },
        "outputId": "b22ea0d8-e8db-4e04-de76-53ec7a8397ef"
      },
      "execution_count": null,
      "outputs": [
        {
          "output_type": "stream",
          "name": "stdout",
          "text": [
            "[True, True, False, False, True]\n"
          ]
        }
      ]
    },
    {
      "cell_type": "markdown",
      "source": [
        "# Zip Function\n",
        "The zip() function take iterables (can be zero or more) makes iterator that aggregates elements based on the iterables passed, and returns an iterator or tuples\n",
        "\n",
        "syntax:\n",
        "\n",
        "zip(*iterables)"
      ],
      "metadata": {
        "id": "SmFdVYFLmVWL"
      }
    },
    {
      "cell_type": "code",
      "source": [
        "#[2,3,4],[3,2,3] = ((2,3),(3,2),(4,3))\n",
        "#[2,3,4], [3,2,3], [2,1,4,5] =((2,3,2), (3,4,1), (4,3,4))\n",
        "#[2,3,4], ['raju','bolu', 'dolu'] = ((2, 'raju')), (3, 'dolu'), (4, 'bolu'))"
      ],
      "metadata": {
        "id": "GZdvYIlFh8i8"
      },
      "execution_count": null,
      "outputs": []
    },
    {
      "cell_type": "code",
      "source": [
        "name = ['raju', 'bolu', 'dolu']\n",
        "rn = [3,4,5]\n",
        "data = dict(zip(rn,name))\n",
        "print(data)"
      ],
      "metadata": {
        "colab": {
          "base_uri": "https://localhost:8080/"
        },
        "id": "9gE2722PnIdh",
        "outputId": "012d196e-2f52-4733-ceb1-2dea6d5b4375"
      },
      "execution_count": null,
      "outputs": [
        {
          "output_type": "stream",
          "name": "stdout",
          "text": [
            "{3: 'raju', 4: 'bolu', 5: 'dolu'}\n"
          ]
        }
      ]
    },
    {
      "cell_type": "code",
      "source": [
        "name = [\"Jack\",\"Rose\",\"Jill\"]\n",
        "age = [23,2]\n",
        "next1 = list(zip(name,age))\n",
        "print(next1)\n",
        "# here Jill has no corresponding value."
      ],
      "metadata": {
        "colab": {
          "base_uri": "https://localhost:8080/"
        },
        "id": "nhMFdUgbbD4u",
        "outputId": "09c1e2dd-23e8-4d9e-b870-f8fd20e86eea"
      },
      "execution_count": null,
      "outputs": [
        {
          "output_type": "stream",
          "name": "stdout",
          "text": [
            "[('Jack', 23), ('Rose', 2)]\n"
          ]
        }
      ]
    },
    {
      "cell_type": "code",
      "source": [
        "doing = [\"character\", \"flower\", \"cartoon\"]\n",
        "age.append(55)\n",
        "next2 = list(zip(name,doing,age))\n",
        "print(next2)"
      ],
      "metadata": {
        "colab": {
          "base_uri": "https://localhost:8080/"
        },
        "id": "LoX6ny4tbkut",
        "outputId": "1b1c402d-9765-47d4-9775-c3313b051674"
      },
      "execution_count": null,
      "outputs": [
        {
          "output_type": "stream",
          "name": "stdout",
          "text": [
            "[('Jack', 'character', 23), ('Rose', 'flower', 2), ('Jill', 'cartoon', 55)]\n"
          ]
        }
      ]
    },
    {
      "cell_type": "code",
      "source": [],
      "metadata": {
        "id": "lOgb0XqRcOQw"
      },
      "execution_count": null,
      "outputs": []
    }
  ]
}