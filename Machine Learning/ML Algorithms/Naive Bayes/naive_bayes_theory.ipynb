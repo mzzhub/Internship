{
  "nbformat": 4,
  "nbformat_minor": 0,
  "metadata": {
    "colab": {
      "provenance": []
    },
    "kernelspec": {
      "name": "python3",
      "display_name": "Python 3"
    },
    "language_info": {
      "name": "python"
    }
  },
  "cells": [
    {
      "cell_type": "markdown",
      "source": [
        "# **Types of Naive Bayes**\n",
        "Now lets discuss different types of Naive Bayes algorithm and which is used when. So, we have three types:\n",
        "1. **Gaussian Naive Bayes :**\n",
        "    * This type of Naive Bayes is used when variables are continuous in nature.\n",
        "    * It assumes that all the variables have a normal distribution.\n",
        "    * So if you have some variables which do not have this property, you might want to transform them to the features having distribution normal.\n",
        "    * The normal distribution has several key features alid properties that define it.\n",
        "        * First, its mean (average), median (midpoint), and mode (most frequent observation) are all equal to one another.\n",
        "        * Normal distribution, also known as the Gaussian distribution, is a probability distribution that is symmetric about the mean, showing that data near the mean are more frequent in occurrence than data far from the mean.\n",
        "        * In a normal distribution the mean is 0 and the standard deviation is 1.\n",
        "    * All kinds of variables in natural and social sciences are normally or approximately normally distributed.\n",
        "    * Height, birth weight, reading ability, job satisfaction, or SAT scores are just a few examples of such variables.\n",
        "2. **Multinomial Naive Bayes :**\n",
        "    * Suppose you have a text document and you extract all the unique words and create multiple features where each feature represents the count of the word in the document.\n",
        "    * In such a case, whave a frequency as a feature. In such a scenario, we use multinomial Naive Bayes.\n",
        "3. **Bernoulli Naive Bayes :**\n",
        "    * This is used when features are binary.\n",
        "    * So, instead of using the frequency of the word, if you have discrete features in 1s and 0s that represent the presence or absence of a feature.\n",
        "    * In that case, the features will be binary and we will use Bernoulli Naive Bayes.\n"
      ],
      "metadata": {
        "id": "yvwWoWNg3xrH"
      }
    }
  ]
}