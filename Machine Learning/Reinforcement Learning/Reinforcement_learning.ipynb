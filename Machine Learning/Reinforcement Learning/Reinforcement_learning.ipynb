{
  "nbformat": 4,
  "nbformat_minor": 0,
  "metadata": {
    "colab": {
      "provenance": []
    },
    "kernelspec": {
      "name": "python3",
      "display_name": "Python 3"
    },
    "language_info": {
      "name": "python"
    }
  },
  "cells": [
    {
      "cell_type": "markdown",
      "source": [
        "# **Reinforcement Learning.**\n",
        "* It is a type of machine learning method where the AI agent is trained to learn with time.\n",
        "* AI agent is developed in such a way that it iteratively interacts with the environment and performs some basic actions.\n",
        "* For every action, feedback is given to the AI Agent.\n",
        "* The feedback is in such a form, that\n",
        "    * the agent gets a positive reward for every positive action.\n",
        "    * it gets penalty as a feedback for every negative action.\n",
        "* The AI agent aim to perform those actions that lead to getting the maximum of the rewards (positive feedback) as an output.\n",
        "* In reinforcement learning (RL), the environment is a critical component that interacts with the agent.\n",
        "* It represents everything outside the agent that the agent can perceive and act upon.\n",
        "* The environment provides the agent with feedback in the form of states and rewards, which the agent\n",
        "uses to leam and improve its policy.\n",
        "\n",
        "* **NOTE**\n",
        "    1. Leaming from interaction with an environment to acheive some long term goal that is related to the state of the environment.\n",
        "    2. The goal is defined by reward signal, which must be maximized.\n",
        "    3. Agent must be able to partially/fully sense the environment state and take actions to influence the environment state.\n",
        "    4. Learning depending on the changes occuring in the environment.\n",
        "    5. It is employed by various softwares and machines to find the best possible behaviour or path it should take in a specific situation.\n",
        "    6. Goal: To acheive the best learning/Result."
      ],
      "metadata": {
        "id": "zZ8RkO6mReWy"
      }
    },
    {
      "cell_type": "markdown",
      "source": [
        "![](https://techvidvan.com/tutorials/wp-content/uploads/sites/2/2020/08/Reinforcement-Learning-in-ML-TV.jpg)"
      ],
      "metadata": {
        "id": "c93mhQKZVNQ3"
      }
    },
    {
      "cell_type": "markdown",
      "source": [
        "**Main Points in Reinforcemnet Learning:**\n",
        "* Input: The input should be an initial state from which the model will start.\n",
        "* Output: There are many possible outputs as they are a variety of solutions to a particular problem.\n",
        "* Training: The training is based upon the input. The model will retum a state and the user will decide to reward or punish the model based on its output.\n",
        "* The model keeps to continue to learn.\n",
        "* The best solution is decided based on the maximum reward.\n",
        "\n",
        "**Types of Reinforcement leaming:**\n",
        "1. Positive: Positive Reinforcement is defined as when an event occurs due to a particular behaviour, increases the strength and the frequency of the behaviour. In other words it has a positive effect on the behaviour.\n",
        "**Advantages:**\n",
        "* Maximizes Performance Sustain change for a long period of time.\n",
        "\n",
        "**Negative**\n",
        "* Negative Reinforcement is defined as strengthening of behaviour because a negative condition is stopped or avoided."
      ],
      "metadata": {
        "id": "yERz0fDYXAtf"
      }
    }
  ]
}