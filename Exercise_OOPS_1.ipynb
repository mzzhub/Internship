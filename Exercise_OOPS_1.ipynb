{
  "nbformat": 4,
  "nbformat_minor": 0,
  "metadata": {
    "colab": {
      "provenance": []
    },
    "kernelspec": {
      "name": "python3",
      "display_name": "Python 3"
    },
    "language_info": {
      "name": "python"
    }
  },
  "cells": [
    {
      "cell_type": "markdown",
      "source": [
        "# Define a book class with the following attribures: Title, Author name, price. Define a constructor used to initialize the attributes of the method with values entered by the user. Set the view method to display information for current book."
      ],
      "metadata": {
        "id": "-OI3ArLoN-Dl"
      }
    },
    {
      "cell_type": "code",
      "execution_count": 10,
      "metadata": {
        "id": "_LsU96iWN0O6"
      },
      "outputs": [],
      "source": [
        "class Book:\n",
        "    def __init__(self):\n",
        "        self.title = input(\"Eneter the title of the book: \")\n",
        "        self.name = input(\"Enter the the name of the authour: \")\n",
        "        self.price = input(\"Enter the price: \")\n",
        "\n",
        "    def view(self):\n",
        "        print(\"Title:\",self.title,\"\\nAuthour:\",self.name,\"\\nPrice:\",self.price)"
      ]
    },
    {
      "cell_type": "code",
      "source": [
        "book1 = Book()"
      ],
      "metadata": {
        "colab": {
          "base_uri": "https://localhost:8080/"
        },
        "id": "dFNKBkVMPtqQ",
        "outputId": "b480c172-7ea3-4d33-ca84-7020715976fa"
      },
      "execution_count": 11,
      "outputs": [
        {
          "name": "stdout",
          "output_type": "stream",
          "text": [
            "Eneter the title of the book: To Kill a Mockingbird\n",
            "Enter the the name of the authour: Harper Lee\n",
            "Enter the price: 340\n"
          ]
        }
      ]
    },
    {
      "cell_type": "code",
      "source": [
        "book2 = Book()"
      ],
      "metadata": {
        "colab": {
          "base_uri": "https://localhost:8080/"
        },
        "id": "KICumAthQPJE",
        "outputId": "c601a81a-ea42-442a-9f03-738cb8f6e38f"
      },
      "execution_count": 13,
      "outputs": [
        {
          "name": "stdout",
          "output_type": "stream",
          "text": [
            "Eneter the title of the book: 1984\n",
            "Enter the the name of the authour: George Orwell\n",
            "Enter the price: 129\n"
          ]
        }
      ]
    },
    {
      "cell_type": "code",
      "source": [
        "book3 = Book()"
      ],
      "metadata": {
        "colab": {
          "base_uri": "https://localhost:8080/"
        },
        "id": "BtrB5ws7QaOG",
        "outputId": "bf5426c3-9076-4c6a-914d-2101b9b580f6"
      },
      "execution_count": 14,
      "outputs": [
        {
          "name": "stdout",
          "output_type": "stream",
          "text": [
            "Eneter the title of the book: Pride and Prejudice\n",
            "Enter the the name of the authour: Jane Austen\n",
            "Enter the price: 500\n"
          ]
        }
      ]
    },
    {
      "cell_type": "code",
      "source": [
        "book1.view()"
      ],
      "metadata": {
        "colab": {
          "base_uri": "https://localhost:8080/"
        },
        "id": "xX4LrqVdRp-b",
        "outputId": "f4debf96-7b71-4c8c-e52a-3bd326014ced"
      },
      "execution_count": 16,
      "outputs": [
        {
          "output_type": "stream",
          "name": "stdout",
          "text": [
            "Title: To Kill a Mockingbird \n",
            "Authour: Harper Lee \n",
            "Price: 340\n"
          ]
        }
      ]
    },
    {
      "cell_type": "code",
      "source": [
        "book2.view()"
      ],
      "metadata": {
        "colab": {
          "base_uri": "https://localhost:8080/"
        },
        "id": "U_IwUvt6Ryo5",
        "outputId": "9f77e384-53bb-4d96-f6b4-aa70c52f5301"
      },
      "execution_count": 17,
      "outputs": [
        {
          "output_type": "stream",
          "name": "stdout",
          "text": [
            "Title: 1984 \n",
            "Authour: George Orwell \n",
            "Price: 129\n"
          ]
        }
      ]
    },
    {
      "cell_type": "code",
      "source": [
        "book3.view()"
      ],
      "metadata": {
        "colab": {
          "base_uri": "https://localhost:8080/"
        },
        "id": "jMb8wMi6R4rs",
        "outputId": "bcf940f3-1d2a-4bce-e22c-6104c8fcc280"
      },
      "execution_count": 18,
      "outputs": [
        {
          "output_type": "stream",
          "name": "stdout",
          "text": [
            "Title: Pride and Prejudice \n",
            "Authour: Jane Austen \n",
            "Price: 500\n"
          ]
        }
      ]
    }
  ]
}